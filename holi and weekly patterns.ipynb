{
 "cells": [
  {
   "cell_type": "code",
   "execution_count": 100,
   "metadata": {
    "collapsed": true
   },
   "outputs": [],
   "source": [
    "import pandas as pd\n",
    "import numpy as np\n",
    "import xgboost as xgb"
   ]
  },
  {
   "cell_type": "code",
   "execution_count": 8,
   "metadata": {
    "collapsed": true
   },
   "outputs": [],
   "source": [
    "train = pd.read_csv('last_train.csv')\n",
    "test = pd.read_csv('last_test.csv')"
   ]
  },
  {
   "cell_type": "code",
   "execution_count": 9,
   "metadata": {},
   "outputs": [],
   "source": [
    "train.drop('visitors_x',axis=1,inplace=True)\n",
    "test.drop('visitors_x',axis=1,inplace=True)\n",
    "train.rename(columns={'visitors_y':'visitors'},inplace=True)\n",
    "test.rename(columns={'visitors_y':'visitors'},inplace=True)"
   ]
  },
  {
   "cell_type": "code",
   "execution_count": 10,
   "metadata": {
    "collapsed": true
   },
   "outputs": [],
   "source": [
    "data = pd.concat([train,test],axis=0)"
   ]
  },
  {
   "cell_type": "code",
   "execution_count": 11,
   "metadata": {},
   "outputs": [
    {
     "data": {
      "text/plain": [
       "Index(['air_store_id', 'area', 'count_observations', 'date_int', 'dom',\n",
       "       'dom_pattern_train_x', 'doq', 'dow', 'dow_pattern_2016', 'doy',\n",
       "       'doy_pattern_2016', 'gen', 'genre_pop', 'holi', 'id', 'last_genre_pop',\n",
       "       'last_month_comp', 'last_quarter_comp', 'last_quarter_gen_pop',\n",
       "       'last_quarter_s_pop', 'lon_plus_lat', 'max_visitors', 'mean_visitors',\n",
       "       'median_visitors', 'min_visitors', 'month', 'quarter', 'rs1_x', 'rs1_y',\n",
       "       'rs2_x', 'rs2_y', 'rv1_x', 'rv1_y', 'rv2_x', 'rv2_y', 'store',\n",
       "       'store_genre_pop', 'store_pop', 'store_pop_monthly',\n",
       "       'total_reserv_dt_diff_mean', 'total_reserv_mean', 'total_reserv_sum',\n",
       "       'var_max_lat', 'var_max_long', 'visit_date', 'visitors', 'year'],\n",
       "      dtype='object')"
      ]
     },
     "execution_count": 11,
     "metadata": {},
     "output_type": "execute_result"
    }
   ],
   "source": [
    "data.columns"
   ]
  },
  {
   "cell_type": "code",
   "execution_count": 5,
   "metadata": {},
   "outputs": [
    {
     "data": {
      "text/plain": [
       "(282487, 48)"
      ]
     },
     "execution_count": 5,
     "metadata": {},
     "output_type": "execute_result"
    }
   ],
   "source": [
    "data.shape"
   ]
  },
  {
   "cell_type": "markdown",
   "metadata": {},
   "source": [
    "## holi features"
   ]
  },
  {
   "cell_type": "code",
   "execution_count": 25,
   "metadata": {},
   "outputs": [],
   "source": [
    "mean = data.groupby(['year','month','dow','store'],as_index=False\n",
    "                  )['visitors'].mean().rename(columns={'visitors':'dow_mean_monthly'})\n",
    "median = data.groupby(['year','month','dow','store'],as_index=False\n",
    "                     )['visitors'].median().rename(columns={'visitors':'dow_median_monthly'})\n",
    "maxx = data.groupby(['year','month','dow','store'],as_index=False\n",
    "                   )['visitors'].max().rename(columns={'visitors':'dow_max_monthly'})\n",
    "minn = data.groupby(['year','month','dow','store'],as_index=False\n",
    "                   )['visitors'].min().rename(columns={'visitors':'dow_min_monthly'})"
   ]
  },
  {
   "cell_type": "code",
   "execution_count": 26,
   "metadata": {},
   "outputs": [
    {
     "data": {
      "text/plain": [
       "((71505, 5), (71505, 5), (71505, 5), (71505, 5))"
      ]
     },
     "execution_count": 26,
     "metadata": {},
     "output_type": "execute_result"
    }
   ],
   "source": [
    "mean.shape,median.shape,maxx.shape,minn.shape"
   ]
  },
  {
   "cell_type": "code",
   "execution_count": 72,
   "metadata": {
    "collapsed": true
   },
   "outputs": [],
   "source": [
    "stats = pd.merge(mean,median,how='inner',on=['year','month','dow','store'])\n",
    "stats = pd.merge(stats,maxx,how='inner',on=['year','month','dow','store'])\n",
    "stats = pd.merge(stats,minn,how='inner',on=['year','month','dow','store'])"
   ]
  },
  {
   "cell_type": "code",
   "execution_count": 46,
   "metadata": {},
   "outputs": [
    {
     "data": {
      "text/plain": [
       "(71505, 8)"
      ]
     },
     "execution_count": 46,
     "metadata": {},
     "output_type": "execute_result"
    }
   ],
   "source": [
    "stats.shape"
   ]
  },
  {
   "cell_type": "code",
   "execution_count": 47,
   "metadata": {},
   "outputs": [
    {
     "data": {
      "text/html": [
       "<div>\n",
       "<style>\n",
       "    .dataframe thead tr:only-child th {\n",
       "        text-align: right;\n",
       "    }\n",
       "\n",
       "    .dataframe thead th {\n",
       "        text-align: left;\n",
       "    }\n",
       "\n",
       "    .dataframe tbody tr th {\n",
       "        vertical-align: top;\n",
       "    }\n",
       "</style>\n",
       "<table border=\"1\" class=\"dataframe\">\n",
       "  <thead>\n",
       "    <tr style=\"text-align: right;\">\n",
       "      <th></th>\n",
       "      <th>year</th>\n",
       "      <th>month</th>\n",
       "      <th>dow</th>\n",
       "      <th>store</th>\n",
       "      <th>dow_mean_monthly</th>\n",
       "      <th>dow_median_monthly</th>\n",
       "      <th>dow_max_monthly</th>\n",
       "      <th>dow_min_monthly</th>\n",
       "    </tr>\n",
       "  </thead>\n",
       "  <tbody>\n",
       "    <tr>\n",
       "      <th>0</th>\n",
       "      <td>0</td>\n",
       "      <td>0</td>\n",
       "      <td>0</td>\n",
       "      <td>3</td>\n",
       "      <td>33.666667</td>\n",
       "      <td>34.0</td>\n",
       "      <td>43</td>\n",
       "      <td>24</td>\n",
       "    </tr>\n",
       "    <tr>\n",
       "      <th>1</th>\n",
       "      <td>0</td>\n",
       "      <td>0</td>\n",
       "      <td>0</td>\n",
       "      <td>6</td>\n",
       "      <td>6.250000</td>\n",
       "      <td>6.0</td>\n",
       "      <td>11</td>\n",
       "      <td>2</td>\n",
       "    </tr>\n",
       "    <tr>\n",
       "      <th>2</th>\n",
       "      <td>0</td>\n",
       "      <td>0</td>\n",
       "      <td>0</td>\n",
       "      <td>8</td>\n",
       "      <td>10.000000</td>\n",
       "      <td>10.0</td>\n",
       "      <td>10</td>\n",
       "      <td>10</td>\n",
       "    </tr>\n",
       "    <tr>\n",
       "      <th>3</th>\n",
       "      <td>0</td>\n",
       "      <td>0</td>\n",
       "      <td>0</td>\n",
       "      <td>11</td>\n",
       "      <td>8.000000</td>\n",
       "      <td>8.0</td>\n",
       "      <td>8</td>\n",
       "      <td>8</td>\n",
       "    </tr>\n",
       "    <tr>\n",
       "      <th>4</th>\n",
       "      <td>0</td>\n",
       "      <td>0</td>\n",
       "      <td>0</td>\n",
       "      <td>12</td>\n",
       "      <td>24.000000</td>\n",
       "      <td>24.0</td>\n",
       "      <td>24</td>\n",
       "      <td>24</td>\n",
       "    </tr>\n",
       "  </tbody>\n",
       "</table>\n",
       "</div>"
      ],
      "text/plain": [
       "   year  month  dow  store  dow_mean_monthly  dow_median_monthly  \\\n",
       "0     0      0    0      3         33.666667                34.0   \n",
       "1     0      0    0      6          6.250000                 6.0   \n",
       "2     0      0    0      8         10.000000                10.0   \n",
       "3     0      0    0     11          8.000000                 8.0   \n",
       "4     0      0    0     12         24.000000                24.0   \n",
       "\n",
       "   dow_max_monthly  dow_min_monthly  \n",
       "0               43               24  \n",
       "1               11                2  \n",
       "2               10               10  \n",
       "3                8                8  \n",
       "4               24               24  "
      ]
     },
     "execution_count": 47,
     "metadata": {},
     "output_type": "execute_result"
    }
   ],
   "source": [
    "stats.head()"
   ]
  },
  {
   "cell_type": "code",
   "execution_count": 60,
   "metadata": {
    "collapsed": true
   },
   "outputs": [],
   "source": [
    "def get_median(data):\n",
    "    result = [0,0,0,0,0,0,0]\n",
    "    result[int(data.dow)] = data.dow_median_monthly\n",
    "    return pd.Series(result,index=['dow0_median','dow1_median','dow2_median','dow3_median',\n",
    "                                   'dow4_median','dow5_median','dow6_median'])\n",
    "def get_mean(data):\n",
    "    result = [0,0,0,0,0,0,0]\n",
    "    result[int(data.dow)] = data.dow_mean_monthly\n",
    "    return pd.Series(result,index=['dow0_mean','dow1_mean','dow2_mean','dow3_mean',\n",
    "                                   'dow4_mean','dow5_mean','dow6_mean'])\n",
    "def get_min(data):\n",
    "    result = [0,0,0,0,0,0,0]\n",
    "    result[int(data.dow)] = data.dow_min_monthly\n",
    "    return pd.Series(result,index=['dow0_min','dow1_min','dow2_minn','dow3_min',\n",
    "                                   'dow4_min','dow5_min','dow6_min'])\n",
    "def get_max(data):\n",
    "    result = [0,0,0,0,0,0,0]\n",
    "    result[int(data.dow)] = data.dow_max_monthly\n",
    "    return pd.Series(result,index=['dow0_max','dow1_max','dow2_max','dow3_max',\n",
    "                                   'dow4_max','dow5_max','dow6_max'])"
   ]
  },
  {
   "cell_type": "code",
   "execution_count": 61,
   "metadata": {},
   "outputs": [],
   "source": [
    "dow_median = stats.apply(get_median,axis=1)\n",
    "dow_mean = stats.apply(get_mean,axis=1)\n",
    "dow_min = stats.apply(get_min,axis=1)\n",
    "dow_max = stats.apply(get_max,axis=1)"
   ]
  },
  {
   "cell_type": "code",
   "execution_count": 62,
   "metadata": {},
   "outputs": [
    {
     "data": {
      "text/html": [
       "<div>\n",
       "<style>\n",
       "    .dataframe thead tr:only-child th {\n",
       "        text-align: right;\n",
       "    }\n",
       "\n",
       "    .dataframe thead th {\n",
       "        text-align: left;\n",
       "    }\n",
       "\n",
       "    .dataframe tbody tr th {\n",
       "        vertical-align: top;\n",
       "    }\n",
       "</style>\n",
       "<table border=\"1\" class=\"dataframe\">\n",
       "  <thead>\n",
       "    <tr style=\"text-align: right;\">\n",
       "      <th></th>\n",
       "      <th>dow0_median</th>\n",
       "      <th>dow1_median</th>\n",
       "      <th>dow2_median</th>\n",
       "      <th>dow3_median</th>\n",
       "      <th>dow4_median</th>\n",
       "      <th>dow5_median</th>\n",
       "      <th>dow6_median</th>\n",
       "    </tr>\n",
       "  </thead>\n",
       "  <tbody>\n",
       "    <tr>\n",
       "      <th>0</th>\n",
       "      <td>34.0</td>\n",
       "      <td>0.0</td>\n",
       "      <td>0.0</td>\n",
       "      <td>0.0</td>\n",
       "      <td>0.0</td>\n",
       "      <td>0.0</td>\n",
       "      <td>0.0</td>\n",
       "    </tr>\n",
       "    <tr>\n",
       "      <th>1</th>\n",
       "      <td>6.0</td>\n",
       "      <td>0.0</td>\n",
       "      <td>0.0</td>\n",
       "      <td>0.0</td>\n",
       "      <td>0.0</td>\n",
       "      <td>0.0</td>\n",
       "      <td>0.0</td>\n",
       "    </tr>\n",
       "    <tr>\n",
       "      <th>2</th>\n",
       "      <td>10.0</td>\n",
       "      <td>0.0</td>\n",
       "      <td>0.0</td>\n",
       "      <td>0.0</td>\n",
       "      <td>0.0</td>\n",
       "      <td>0.0</td>\n",
       "      <td>0.0</td>\n",
       "    </tr>\n",
       "    <tr>\n",
       "      <th>3</th>\n",
       "      <td>8.0</td>\n",
       "      <td>0.0</td>\n",
       "      <td>0.0</td>\n",
       "      <td>0.0</td>\n",
       "      <td>0.0</td>\n",
       "      <td>0.0</td>\n",
       "      <td>0.0</td>\n",
       "    </tr>\n",
       "    <tr>\n",
       "      <th>4</th>\n",
       "      <td>24.0</td>\n",
       "      <td>0.0</td>\n",
       "      <td>0.0</td>\n",
       "      <td>0.0</td>\n",
       "      <td>0.0</td>\n",
       "      <td>0.0</td>\n",
       "      <td>0.0</td>\n",
       "    </tr>\n",
       "  </tbody>\n",
       "</table>\n",
       "</div>"
      ],
      "text/plain": [
       "   dow0_median  dow1_median  dow2_median  dow3_median  dow4_median  \\\n",
       "0         34.0          0.0          0.0          0.0          0.0   \n",
       "1          6.0          0.0          0.0          0.0          0.0   \n",
       "2         10.0          0.0          0.0          0.0          0.0   \n",
       "3          8.0          0.0          0.0          0.0          0.0   \n",
       "4         24.0          0.0          0.0          0.0          0.0   \n",
       "\n",
       "   dow5_median  dow6_median  \n",
       "0          0.0          0.0  \n",
       "1          0.0          0.0  \n",
       "2          0.0          0.0  \n",
       "3          0.0          0.0  \n",
       "4          0.0          0.0  "
      ]
     },
     "execution_count": 62,
     "metadata": {},
     "output_type": "execute_result"
    }
   ],
   "source": [
    "dow_median.head()"
   ]
  },
  {
   "cell_type": "code",
   "execution_count": 73,
   "metadata": {
    "collapsed": true
   },
   "outputs": [],
   "source": [
    "stats = pd.concat([stats,dow_mean],axis=1)"
   ]
  },
  {
   "cell_type": "code",
   "execution_count": 74,
   "metadata": {},
   "outputs": [
    {
     "data": {
      "text/html": [
       "<div>\n",
       "<style>\n",
       "    .dataframe thead tr:only-child th {\n",
       "        text-align: right;\n",
       "    }\n",
       "\n",
       "    .dataframe thead th {\n",
       "        text-align: left;\n",
       "    }\n",
       "\n",
       "    .dataframe tbody tr th {\n",
       "        vertical-align: top;\n",
       "    }\n",
       "</style>\n",
       "<table border=\"1\" class=\"dataframe\">\n",
       "  <thead>\n",
       "    <tr style=\"text-align: right;\">\n",
       "      <th></th>\n",
       "      <th>year</th>\n",
       "      <th>month</th>\n",
       "      <th>dow</th>\n",
       "      <th>store</th>\n",
       "      <th>dow_mean_monthly</th>\n",
       "      <th>dow_median_monthly</th>\n",
       "      <th>dow_max_monthly</th>\n",
       "      <th>dow_min_monthly</th>\n",
       "      <th>dow0_mean</th>\n",
       "      <th>dow1_mean</th>\n",
       "      <th>dow2_mean</th>\n",
       "      <th>dow3_mean</th>\n",
       "      <th>dow4_mean</th>\n",
       "      <th>dow5_mean</th>\n",
       "      <th>dow6_mean</th>\n",
       "    </tr>\n",
       "  </thead>\n",
       "  <tbody>\n",
       "    <tr>\n",
       "      <th>0</th>\n",
       "      <td>0</td>\n",
       "      <td>0</td>\n",
       "      <td>0</td>\n",
       "      <td>3</td>\n",
       "      <td>33.666667</td>\n",
       "      <td>34.0</td>\n",
       "      <td>43</td>\n",
       "      <td>24</td>\n",
       "      <td>33.666667</td>\n",
       "      <td>0.0</td>\n",
       "      <td>0.0</td>\n",
       "      <td>0.0</td>\n",
       "      <td>0.0</td>\n",
       "      <td>0.0</td>\n",
       "      <td>0.0</td>\n",
       "    </tr>\n",
       "    <tr>\n",
       "      <th>1</th>\n",
       "      <td>0</td>\n",
       "      <td>0</td>\n",
       "      <td>0</td>\n",
       "      <td>6</td>\n",
       "      <td>6.250000</td>\n",
       "      <td>6.0</td>\n",
       "      <td>11</td>\n",
       "      <td>2</td>\n",
       "      <td>6.250000</td>\n",
       "      <td>0.0</td>\n",
       "      <td>0.0</td>\n",
       "      <td>0.0</td>\n",
       "      <td>0.0</td>\n",
       "      <td>0.0</td>\n",
       "      <td>0.0</td>\n",
       "    </tr>\n",
       "    <tr>\n",
       "      <th>2</th>\n",
       "      <td>0</td>\n",
       "      <td>0</td>\n",
       "      <td>0</td>\n",
       "      <td>8</td>\n",
       "      <td>10.000000</td>\n",
       "      <td>10.0</td>\n",
       "      <td>10</td>\n",
       "      <td>10</td>\n",
       "      <td>10.000000</td>\n",
       "      <td>0.0</td>\n",
       "      <td>0.0</td>\n",
       "      <td>0.0</td>\n",
       "      <td>0.0</td>\n",
       "      <td>0.0</td>\n",
       "      <td>0.0</td>\n",
       "    </tr>\n",
       "    <tr>\n",
       "      <th>3</th>\n",
       "      <td>0</td>\n",
       "      <td>0</td>\n",
       "      <td>0</td>\n",
       "      <td>11</td>\n",
       "      <td>8.000000</td>\n",
       "      <td>8.0</td>\n",
       "      <td>8</td>\n",
       "      <td>8</td>\n",
       "      <td>8.000000</td>\n",
       "      <td>0.0</td>\n",
       "      <td>0.0</td>\n",
       "      <td>0.0</td>\n",
       "      <td>0.0</td>\n",
       "      <td>0.0</td>\n",
       "      <td>0.0</td>\n",
       "    </tr>\n",
       "    <tr>\n",
       "      <th>4</th>\n",
       "      <td>0</td>\n",
       "      <td>0</td>\n",
       "      <td>0</td>\n",
       "      <td>12</td>\n",
       "      <td>24.000000</td>\n",
       "      <td>24.0</td>\n",
       "      <td>24</td>\n",
       "      <td>24</td>\n",
       "      <td>24.000000</td>\n",
       "      <td>0.0</td>\n",
       "      <td>0.0</td>\n",
       "      <td>0.0</td>\n",
       "      <td>0.0</td>\n",
       "      <td>0.0</td>\n",
       "      <td>0.0</td>\n",
       "    </tr>\n",
       "  </tbody>\n",
       "</table>\n",
       "</div>"
      ],
      "text/plain": [
       "   year  month  dow  store  dow_mean_monthly  dow_median_monthly  \\\n",
       "0     0      0    0      3         33.666667                34.0   \n",
       "1     0      0    0      6          6.250000                 6.0   \n",
       "2     0      0    0      8         10.000000                10.0   \n",
       "3     0      0    0     11          8.000000                 8.0   \n",
       "4     0      0    0     12         24.000000                24.0   \n",
       "\n",
       "   dow_max_monthly  dow_min_monthly  dow0_mean  dow1_mean  dow2_mean  \\\n",
       "0               43               24  33.666667        0.0        0.0   \n",
       "1               11                2   6.250000        0.0        0.0   \n",
       "2               10               10  10.000000        0.0        0.0   \n",
       "3                8                8   8.000000        0.0        0.0   \n",
       "4               24               24  24.000000        0.0        0.0   \n",
       "\n",
       "   dow3_mean  dow4_mean  dow5_mean  dow6_mean  \n",
       "0        0.0        0.0        0.0        0.0  \n",
       "1        0.0        0.0        0.0        0.0  \n",
       "2        0.0        0.0        0.0        0.0  \n",
       "3        0.0        0.0        0.0        0.0  \n",
       "4        0.0        0.0        0.0        0.0  "
      ]
     },
     "execution_count": 74,
     "metadata": {},
     "output_type": "execute_result"
    }
   ],
   "source": [
    "stats.head()"
   ]
  },
  {
   "cell_type": "code",
   "execution_count": 75,
   "metadata": {},
   "outputs": [],
   "source": [
    "stats_ = stats.drop(['dow','dow_mean_monthly','dow_median_monthly',\n",
    "                    'dow_max_monthly','dow_min_monthly'],axis=1)"
   ]
  },
  {
   "cell_type": "code",
   "execution_count": 76,
   "metadata": {},
   "outputs": [
    {
     "data": {
      "text/plain": [
       "(71505, 10)"
      ]
     },
     "execution_count": 76,
     "metadata": {},
     "output_type": "execute_result"
    }
   ],
   "source": [
    "stats_.shape"
   ]
  },
  {
   "cell_type": "code",
   "execution_count": 77,
   "metadata": {
    "collapsed": true
   },
   "outputs": [],
   "source": [
    "dow_stats = stats_.groupby(['year','month','store'],as_index=False\n",
    "                          )['dow0_mean','dow1_mean','dow2_mean','dow3_mean',\n",
    "                                   'dow4_mean','dow5_mean','dow6_mean',].sum()"
   ]
  },
  {
   "cell_type": "code",
   "execution_count": 78,
   "metadata": {},
   "outputs": [
    {
     "data": {
      "text/plain": [
       "(10713, 10)"
      ]
     },
     "execution_count": 78,
     "metadata": {},
     "output_type": "execute_result"
    }
   ],
   "source": [
    "dow_stats.shape"
   ]
  },
  {
   "cell_type": "code",
   "execution_count": 79,
   "metadata": {},
   "outputs": [
    {
     "data": {
      "text/plain": [
       "6.674600952114254"
      ]
     },
     "execution_count": 79,
     "metadata": {},
     "output_type": "execute_result"
    }
   ],
   "source": [
    "stats_.shape[0]/dow_stats.shape[0]"
   ]
  },
  {
   "cell_type": "code",
   "execution_count": 80,
   "metadata": {},
   "outputs": [
    {
     "data": {
      "text/html": [
       "<div>\n",
       "<style>\n",
       "    .dataframe thead tr:only-child th {\n",
       "        text-align: right;\n",
       "    }\n",
       "\n",
       "    .dataframe thead th {\n",
       "        text-align: left;\n",
       "    }\n",
       "\n",
       "    .dataframe tbody tr th {\n",
       "        vertical-align: top;\n",
       "    }\n",
       "</style>\n",
       "<table border=\"1\" class=\"dataframe\">\n",
       "  <thead>\n",
       "    <tr style=\"text-align: right;\">\n",
       "      <th></th>\n",
       "      <th>year</th>\n",
       "      <th>month</th>\n",
       "      <th>store</th>\n",
       "      <th>dow0_mean</th>\n",
       "      <th>dow1_mean</th>\n",
       "      <th>dow2_mean</th>\n",
       "      <th>dow3_mean</th>\n",
       "      <th>dow4_mean</th>\n",
       "      <th>dow5_mean</th>\n",
       "      <th>dow6_mean</th>\n",
       "    </tr>\n",
       "  </thead>\n",
       "  <tbody>\n",
       "    <tr>\n",
       "      <th>0</th>\n",
       "      <td>0</td>\n",
       "      <td>0</td>\n",
       "      <td>3</td>\n",
       "      <td>33.666667</td>\n",
       "      <td>23.50</td>\n",
       "      <td>23.000000</td>\n",
       "      <td>32.50</td>\n",
       "      <td>30.500000</td>\n",
       "      <td>52.750000</td>\n",
       "      <td>74.250000</td>\n",
       "    </tr>\n",
       "    <tr>\n",
       "      <th>1</th>\n",
       "      <td>0</td>\n",
       "      <td>0</td>\n",
       "      <td>6</td>\n",
       "      <td>6.250000</td>\n",
       "      <td>14.25</td>\n",
       "      <td>8.000000</td>\n",
       "      <td>7.00</td>\n",
       "      <td>19.250000</td>\n",
       "      <td>19.750000</td>\n",
       "      <td>8.000000</td>\n",
       "    </tr>\n",
       "    <tr>\n",
       "      <th>2</th>\n",
       "      <td>0</td>\n",
       "      <td>0</td>\n",
       "      <td>8</td>\n",
       "      <td>10.000000</td>\n",
       "      <td>10.00</td>\n",
       "      <td>5.250000</td>\n",
       "      <td>7.50</td>\n",
       "      <td>14.333333</td>\n",
       "      <td>11.333333</td>\n",
       "      <td>8.500000</td>\n",
       "    </tr>\n",
       "    <tr>\n",
       "      <th>3</th>\n",
       "      <td>0</td>\n",
       "      <td>0</td>\n",
       "      <td>11</td>\n",
       "      <td>8.000000</td>\n",
       "      <td>16.00</td>\n",
       "      <td>12.250000</td>\n",
       "      <td>15.25</td>\n",
       "      <td>6.750000</td>\n",
       "      <td>6.000000</td>\n",
       "      <td>2.333333</td>\n",
       "    </tr>\n",
       "    <tr>\n",
       "      <th>4</th>\n",
       "      <td>0</td>\n",
       "      <td>0</td>\n",
       "      <td>12</td>\n",
       "      <td>24.000000</td>\n",
       "      <td>0.00</td>\n",
       "      <td>13.333333</td>\n",
       "      <td>15.00</td>\n",
       "      <td>15.666667</td>\n",
       "      <td>25.750000</td>\n",
       "      <td>24.250000</td>\n",
       "    </tr>\n",
       "  </tbody>\n",
       "</table>\n",
       "</div>"
      ],
      "text/plain": [
       "   year  month  store  dow0_mean  dow1_mean  dow2_mean  dow3_mean  dow4_mean  \\\n",
       "0     0      0      3  33.666667      23.50  23.000000      32.50  30.500000   \n",
       "1     0      0      6   6.250000      14.25   8.000000       7.00  19.250000   \n",
       "2     0      0      8  10.000000      10.00   5.250000       7.50  14.333333   \n",
       "3     0      0     11   8.000000      16.00  12.250000      15.25   6.750000   \n",
       "4     0      0     12  24.000000       0.00  13.333333      15.00  15.666667   \n",
       "\n",
       "   dow5_mean  dow6_mean  \n",
       "0  52.750000  74.250000  \n",
       "1  19.750000   8.000000  \n",
       "2  11.333333   8.500000  \n",
       "3   6.000000   2.333333  \n",
       "4  25.750000  24.250000  "
      ]
     },
     "execution_count": 80,
     "metadata": {},
     "output_type": "execute_result"
    }
   ],
   "source": [
    "dow_stats.head()"
   ]
  },
  {
   "cell_type": "code",
   "execution_count": 81,
   "metadata": {
    "collapsed": true
   },
   "outputs": [],
   "source": [
    "dow_stats = dow_stats.sort_values(['store','year','month'])"
   ]
  },
  {
   "cell_type": "code",
   "execution_count": 82,
   "metadata": {},
   "outputs": [
    {
     "data": {
      "text/html": [
       "<div>\n",
       "<style>\n",
       "    .dataframe thead tr:only-child th {\n",
       "        text-align: right;\n",
       "    }\n",
       "\n",
       "    .dataframe thead th {\n",
       "        text-align: left;\n",
       "    }\n",
       "\n",
       "    .dataframe tbody tr th {\n",
       "        vertical-align: top;\n",
       "    }\n",
       "</style>\n",
       "<table border=\"1\" class=\"dataframe\">\n",
       "  <thead>\n",
       "    <tr style=\"text-align: right;\">\n",
       "      <th></th>\n",
       "      <th>year</th>\n",
       "      <th>month</th>\n",
       "      <th>store</th>\n",
       "      <th>dow0_mean</th>\n",
       "      <th>dow1_mean</th>\n",
       "      <th>dow2_mean</th>\n",
       "      <th>dow3_mean</th>\n",
       "      <th>dow4_mean</th>\n",
       "      <th>dow5_mean</th>\n",
       "      <th>dow6_mean</th>\n",
       "    </tr>\n",
       "  </thead>\n",
       "  <tbody>\n",
       "    <tr>\n",
       "      <th>1838</th>\n",
       "      <td>0</td>\n",
       "      <td>6</td>\n",
       "      <td>0</td>\n",
       "      <td>0.0</td>\n",
       "      <td>122.000000</td>\n",
       "      <td>13.000000</td>\n",
       "      <td>30.00</td>\n",
       "      <td>14.00</td>\n",
       "      <td>23.00</td>\n",
       "      <td>23.333333</td>\n",
       "    </tr>\n",
       "    <tr>\n",
       "      <th>2629</th>\n",
       "      <td>0</td>\n",
       "      <td>7</td>\n",
       "      <td>0</td>\n",
       "      <td>0.0</td>\n",
       "      <td>16.500000</td>\n",
       "      <td>19.600000</td>\n",
       "      <td>24.00</td>\n",
       "      <td>20.75</td>\n",
       "      <td>25.75</td>\n",
       "      <td>22.750000</td>\n",
       "    </tr>\n",
       "    <tr>\n",
       "      <th>3423</th>\n",
       "      <td>0</td>\n",
       "      <td>8</td>\n",
       "      <td>0</td>\n",
       "      <td>17.0</td>\n",
       "      <td>24.000000</td>\n",
       "      <td>20.666667</td>\n",
       "      <td>20.00</td>\n",
       "      <td>19.80</td>\n",
       "      <td>23.50</td>\n",
       "      <td>25.500000</td>\n",
       "    </tr>\n",
       "    <tr>\n",
       "      <th>4222</th>\n",
       "      <td>0</td>\n",
       "      <td>9</td>\n",
       "      <td>0</td>\n",
       "      <td>9.0</td>\n",
       "      <td>21.000000</td>\n",
       "      <td>20.500000</td>\n",
       "      <td>21.75</td>\n",
       "      <td>14.75</td>\n",
       "      <td>25.20</td>\n",
       "      <td>23.200000</td>\n",
       "    </tr>\n",
       "    <tr>\n",
       "      <th>5023</th>\n",
       "      <td>0</td>\n",
       "      <td>10</td>\n",
       "      <td>0</td>\n",
       "      <td>0.0</td>\n",
       "      <td>17.750000</td>\n",
       "      <td>20.500000</td>\n",
       "      <td>20.50</td>\n",
       "      <td>17.50</td>\n",
       "      <td>32.75</td>\n",
       "      <td>29.500000</td>\n",
       "    </tr>\n",
       "    <tr>\n",
       "      <th>5827</th>\n",
       "      <td>0</td>\n",
       "      <td>11</td>\n",
       "      <td>0</td>\n",
       "      <td>0.0</td>\n",
       "      <td>20.666667</td>\n",
       "      <td>23.333333</td>\n",
       "      <td>17.50</td>\n",
       "      <td>21.50</td>\n",
       "      <td>33.50</td>\n",
       "      <td>39.000000</td>\n",
       "    </tr>\n",
       "    <tr>\n",
       "      <th>6633</th>\n",
       "      <td>1</td>\n",
       "      <td>0</td>\n",
       "      <td>0</td>\n",
       "      <td>22.0</td>\n",
       "      <td>23.000000</td>\n",
       "      <td>13.666667</td>\n",
       "      <td>22.75</td>\n",
       "      <td>18.25</td>\n",
       "      <td>32.25</td>\n",
       "      <td>23.000000</td>\n",
       "    </tr>\n",
       "    <tr>\n",
       "      <th>7441</th>\n",
       "      <td>1</td>\n",
       "      <td>1</td>\n",
       "      <td>0</td>\n",
       "      <td>0.0</td>\n",
       "      <td>20.000000</td>\n",
       "      <td>20.666667</td>\n",
       "      <td>20.50</td>\n",
       "      <td>24.25</td>\n",
       "      <td>24.50</td>\n",
       "      <td>28.000000</td>\n",
       "    </tr>\n",
       "    <tr>\n",
       "      <th>8252</th>\n",
       "      <td>1</td>\n",
       "      <td>2</td>\n",
       "      <td>0</td>\n",
       "      <td>70.0</td>\n",
       "      <td>35.000000</td>\n",
       "      <td>32.750000</td>\n",
       "      <td>29.40</td>\n",
       "      <td>29.60</td>\n",
       "      <td>52.75</td>\n",
       "      <td>64.000000</td>\n",
       "    </tr>\n",
       "    <tr>\n",
       "      <th>9071</th>\n",
       "      <td>1</td>\n",
       "      <td>3</td>\n",
       "      <td>0</td>\n",
       "      <td>0.0</td>\n",
       "      <td>23.000000</td>\n",
       "      <td>27.750000</td>\n",
       "      <td>23.00</td>\n",
       "      <td>21.75</td>\n",
       "      <td>31.80</td>\n",
       "      <td>28.800000</td>\n",
       "    </tr>\n",
       "  </tbody>\n",
       "</table>\n",
       "</div>"
      ],
      "text/plain": [
       "      year  month  store  dow0_mean   dow1_mean  dow2_mean  dow3_mean  \\\n",
       "1838     0      6      0        0.0  122.000000  13.000000      30.00   \n",
       "2629     0      7      0        0.0   16.500000  19.600000      24.00   \n",
       "3423     0      8      0       17.0   24.000000  20.666667      20.00   \n",
       "4222     0      9      0        9.0   21.000000  20.500000      21.75   \n",
       "5023     0     10      0        0.0   17.750000  20.500000      20.50   \n",
       "5827     0     11      0        0.0   20.666667  23.333333      17.50   \n",
       "6633     1      0      0       22.0   23.000000  13.666667      22.75   \n",
       "7441     1      1      0        0.0   20.000000  20.666667      20.50   \n",
       "8252     1      2      0       70.0   35.000000  32.750000      29.40   \n",
       "9071     1      3      0        0.0   23.000000  27.750000      23.00   \n",
       "\n",
       "      dow4_mean  dow5_mean  dow6_mean  \n",
       "1838      14.00      23.00  23.333333  \n",
       "2629      20.75      25.75  22.750000  \n",
       "3423      19.80      23.50  25.500000  \n",
       "4222      14.75      25.20  23.200000  \n",
       "5023      17.50      32.75  29.500000  \n",
       "5827      21.50      33.50  39.000000  \n",
       "6633      18.25      32.25  23.000000  \n",
       "7441      24.25      24.50  28.000000  \n",
       "8252      29.60      52.75  64.000000  \n",
       "9071      21.75      31.80  28.800000  "
      ]
     },
     "execution_count": 82,
     "metadata": {},
     "output_type": "execute_result"
    }
   ],
   "source": [
    "dow_stats.head(10)"
   ]
  },
  {
   "cell_type": "code",
   "execution_count": 83,
   "metadata": {
    "collapsed": true
   },
   "outputs": [],
   "source": [
    "dow_stats['store_shift'] = dow_stats.store.shift(1)\n",
    "dow_stats.dow0_mean = dow_stats.dow0_mean.shift(1)\n",
    "dow_stats.dow1_mean = dow_stats.dow1_mean.shift(1)\n",
    "dow_stats.dow2_mean = dow_stats.dow2_mean.shift(1)\n",
    "dow_stats.dow3_mean = dow_stats.dow3_mean.shift(1)\n",
    "dow_stats.dow4_mean = dow_stats.dow4_mean.shift(1)\n",
    "dow_stats.dow5_mean = dow_stats.dow5_mean.shift(1)\n",
    "dow_stats.dow6_mean = dow_stats.dow6_mean.shift(1)"
   ]
  },
  {
   "cell_type": "code",
   "execution_count": 84,
   "metadata": {},
   "outputs": [
    {
     "data": {
      "text/html": [
       "<div>\n",
       "<style>\n",
       "    .dataframe thead tr:only-child th {\n",
       "        text-align: right;\n",
       "    }\n",
       "\n",
       "    .dataframe thead th {\n",
       "        text-align: left;\n",
       "    }\n",
       "\n",
       "    .dataframe tbody tr th {\n",
       "        vertical-align: top;\n",
       "    }\n",
       "</style>\n",
       "<table border=\"1\" class=\"dataframe\">\n",
       "  <thead>\n",
       "    <tr style=\"text-align: right;\">\n",
       "      <th></th>\n",
       "      <th>year</th>\n",
       "      <th>month</th>\n",
       "      <th>store</th>\n",
       "      <th>dow0_mean</th>\n",
       "      <th>dow1_mean</th>\n",
       "      <th>dow2_mean</th>\n",
       "      <th>dow3_mean</th>\n",
       "      <th>dow4_mean</th>\n",
       "      <th>dow5_mean</th>\n",
       "      <th>dow6_mean</th>\n",
       "      <th>store_shift</th>\n",
       "    </tr>\n",
       "  </thead>\n",
       "  <tbody>\n",
       "    <tr>\n",
       "      <th>1838</th>\n",
       "      <td>0</td>\n",
       "      <td>6</td>\n",
       "      <td>0</td>\n",
       "      <td>NaN</td>\n",
       "      <td>NaN</td>\n",
       "      <td>NaN</td>\n",
       "      <td>NaN</td>\n",
       "      <td>NaN</td>\n",
       "      <td>NaN</td>\n",
       "      <td>NaN</td>\n",
       "      <td>NaN</td>\n",
       "    </tr>\n",
       "    <tr>\n",
       "      <th>2629</th>\n",
       "      <td>0</td>\n",
       "      <td>7</td>\n",
       "      <td>0</td>\n",
       "      <td>0.0</td>\n",
       "      <td>122.0</td>\n",
       "      <td>13.000000</td>\n",
       "      <td>30.00</td>\n",
       "      <td>14.00</td>\n",
       "      <td>23.00</td>\n",
       "      <td>23.333333</td>\n",
       "      <td>0.0</td>\n",
       "    </tr>\n",
       "    <tr>\n",
       "      <th>3423</th>\n",
       "      <td>0</td>\n",
       "      <td>8</td>\n",
       "      <td>0</td>\n",
       "      <td>0.0</td>\n",
       "      <td>16.5</td>\n",
       "      <td>19.600000</td>\n",
       "      <td>24.00</td>\n",
       "      <td>20.75</td>\n",
       "      <td>25.75</td>\n",
       "      <td>22.750000</td>\n",
       "      <td>0.0</td>\n",
       "    </tr>\n",
       "    <tr>\n",
       "      <th>4222</th>\n",
       "      <td>0</td>\n",
       "      <td>9</td>\n",
       "      <td>0</td>\n",
       "      <td>17.0</td>\n",
       "      <td>24.0</td>\n",
       "      <td>20.666667</td>\n",
       "      <td>20.00</td>\n",
       "      <td>19.80</td>\n",
       "      <td>23.50</td>\n",
       "      <td>25.500000</td>\n",
       "      <td>0.0</td>\n",
       "    </tr>\n",
       "    <tr>\n",
       "      <th>5023</th>\n",
       "      <td>0</td>\n",
       "      <td>10</td>\n",
       "      <td>0</td>\n",
       "      <td>9.0</td>\n",
       "      <td>21.0</td>\n",
       "      <td>20.500000</td>\n",
       "      <td>21.75</td>\n",
       "      <td>14.75</td>\n",
       "      <td>25.20</td>\n",
       "      <td>23.200000</td>\n",
       "      <td>0.0</td>\n",
       "    </tr>\n",
       "  </tbody>\n",
       "</table>\n",
       "</div>"
      ],
      "text/plain": [
       "      year  month  store  dow0_mean  dow1_mean  dow2_mean  dow3_mean  \\\n",
       "1838     0      6      0        NaN        NaN        NaN        NaN   \n",
       "2629     0      7      0        0.0      122.0  13.000000      30.00   \n",
       "3423     0      8      0        0.0       16.5  19.600000      24.00   \n",
       "4222     0      9      0       17.0       24.0  20.666667      20.00   \n",
       "5023     0     10      0        9.0       21.0  20.500000      21.75   \n",
       "\n",
       "      dow4_mean  dow5_mean  dow6_mean  store_shift  \n",
       "1838        NaN        NaN        NaN          NaN  \n",
       "2629      14.00      23.00  23.333333          0.0  \n",
       "3423      20.75      25.75  22.750000          0.0  \n",
       "4222      19.80      23.50  25.500000          0.0  \n",
       "5023      14.75      25.20  23.200000          0.0  "
      ]
     },
     "execution_count": 84,
     "metadata": {},
     "output_type": "execute_result"
    }
   ],
   "source": [
    "dow_stats.head()"
   ]
  },
  {
   "cell_type": "code",
   "execution_count": 85,
   "metadata": {
    "collapsed": true
   },
   "outputs": [],
   "source": [
    "def fill_first(data,col):\n",
    "    if data.store!=data.store_shift:\n",
    "        return -1\n",
    "    else:\n",
    "        return data.loc[col]"
   ]
  },
  {
   "cell_type": "code",
   "execution_count": 86,
   "metadata": {
    "collapsed": true
   },
   "outputs": [],
   "source": [
    "dow_stats_ = dow_stats"
   ]
  },
  {
   "cell_type": "code",
   "execution_count": 89,
   "metadata": {
    "collapsed": true
   },
   "outputs": [],
   "source": [
    "for i in ['dow0_mean','dow1_mean','dow2_mean','dow3_mean','dow4_mean','dow5_mean','dow6_mean',]:\n",
    "    def fill_first(data):\n",
    "        if data.store!=data.store_shift:\n",
    "            return -1\n",
    "        else:\n",
    "            return data.loc[i]\n",
    "    dow_stats_[i] = dow_stats_.apply(fill_first,axis=1)"
   ]
  },
  {
   "cell_type": "code",
   "execution_count": 90,
   "metadata": {},
   "outputs": [
    {
     "data": {
      "text/html": [
       "<div>\n",
       "<style>\n",
       "    .dataframe thead tr:only-child th {\n",
       "        text-align: right;\n",
       "    }\n",
       "\n",
       "    .dataframe thead th {\n",
       "        text-align: left;\n",
       "    }\n",
       "\n",
       "    .dataframe tbody tr th {\n",
       "        vertical-align: top;\n",
       "    }\n",
       "</style>\n",
       "<table border=\"1\" class=\"dataframe\">\n",
       "  <thead>\n",
       "    <tr style=\"text-align: right;\">\n",
       "      <th></th>\n",
       "      <th>year</th>\n",
       "      <th>month</th>\n",
       "      <th>store</th>\n",
       "      <th>dow0_mean</th>\n",
       "      <th>dow1_mean</th>\n",
       "      <th>dow2_mean</th>\n",
       "      <th>dow3_mean</th>\n",
       "      <th>dow4_mean</th>\n",
       "      <th>dow5_mean</th>\n",
       "      <th>dow6_mean</th>\n",
       "      <th>store_shift</th>\n",
       "    </tr>\n",
       "  </thead>\n",
       "  <tbody>\n",
       "    <tr>\n",
       "      <th>1838</th>\n",
       "      <td>0.0</td>\n",
       "      <td>6.0</td>\n",
       "      <td>0.0</td>\n",
       "      <td>-1.0</td>\n",
       "      <td>-1.0</td>\n",
       "      <td>-1.000000</td>\n",
       "      <td>-1.00</td>\n",
       "      <td>-1.00</td>\n",
       "      <td>-1.00</td>\n",
       "      <td>-1.000000</td>\n",
       "      <td>NaN</td>\n",
       "    </tr>\n",
       "    <tr>\n",
       "      <th>2629</th>\n",
       "      <td>0.0</td>\n",
       "      <td>7.0</td>\n",
       "      <td>0.0</td>\n",
       "      <td>0.0</td>\n",
       "      <td>122.0</td>\n",
       "      <td>13.000000</td>\n",
       "      <td>30.00</td>\n",
       "      <td>14.00</td>\n",
       "      <td>23.00</td>\n",
       "      <td>23.333333</td>\n",
       "      <td>0.0</td>\n",
       "    </tr>\n",
       "    <tr>\n",
       "      <th>3423</th>\n",
       "      <td>0.0</td>\n",
       "      <td>8.0</td>\n",
       "      <td>0.0</td>\n",
       "      <td>0.0</td>\n",
       "      <td>16.5</td>\n",
       "      <td>19.600000</td>\n",
       "      <td>24.00</td>\n",
       "      <td>20.75</td>\n",
       "      <td>25.75</td>\n",
       "      <td>22.750000</td>\n",
       "      <td>0.0</td>\n",
       "    </tr>\n",
       "    <tr>\n",
       "      <th>4222</th>\n",
       "      <td>0.0</td>\n",
       "      <td>9.0</td>\n",
       "      <td>0.0</td>\n",
       "      <td>17.0</td>\n",
       "      <td>24.0</td>\n",
       "      <td>20.666667</td>\n",
       "      <td>20.00</td>\n",
       "      <td>19.80</td>\n",
       "      <td>23.50</td>\n",
       "      <td>25.500000</td>\n",
       "      <td>0.0</td>\n",
       "    </tr>\n",
       "    <tr>\n",
       "      <th>5023</th>\n",
       "      <td>0.0</td>\n",
       "      <td>10.0</td>\n",
       "      <td>0.0</td>\n",
       "      <td>9.0</td>\n",
       "      <td>21.0</td>\n",
       "      <td>20.500000</td>\n",
       "      <td>21.75</td>\n",
       "      <td>14.75</td>\n",
       "      <td>25.20</td>\n",
       "      <td>23.200000</td>\n",
       "      <td>0.0</td>\n",
       "    </tr>\n",
       "  </tbody>\n",
       "</table>\n",
       "</div>"
      ],
      "text/plain": [
       "      year  month  store  dow0_mean  dow1_mean  dow2_mean  dow3_mean  \\\n",
       "1838   0.0    6.0    0.0       -1.0       -1.0  -1.000000      -1.00   \n",
       "2629   0.0    7.0    0.0        0.0      122.0  13.000000      30.00   \n",
       "3423   0.0    8.0    0.0        0.0       16.5  19.600000      24.00   \n",
       "4222   0.0    9.0    0.0       17.0       24.0  20.666667      20.00   \n",
       "5023   0.0   10.0    0.0        9.0       21.0  20.500000      21.75   \n",
       "\n",
       "      dow4_mean  dow5_mean  dow6_mean  store_shift  \n",
       "1838      -1.00      -1.00  -1.000000          NaN  \n",
       "2629      14.00      23.00  23.333333          0.0  \n",
       "3423      20.75      25.75  22.750000          0.0  \n",
       "4222      19.80      23.50  25.500000          0.0  \n",
       "5023      14.75      25.20  23.200000          0.0  "
      ]
     },
     "execution_count": 90,
     "metadata": {},
     "output_type": "execute_result"
    }
   ],
   "source": [
    "dow_stats_.head()"
   ]
  },
  {
   "cell_type": "code",
   "execution_count": 91,
   "metadata": {
    "collapsed": true
   },
   "outputs": [],
   "source": [
    "dow_data = pd.merge(stats[['year','month','store','dow']],dow_stats_.drop('store_shift',axis=1),\n",
    "                   how='left',on=['year','month','store'])"
   ]
  },
  {
   "cell_type": "code",
   "execution_count": 92,
   "metadata": {},
   "outputs": [
    {
     "data": {
      "text/plain": [
       "(71505, 11)"
      ]
     },
     "execution_count": 92,
     "metadata": {},
     "output_type": "execute_result"
    }
   ],
   "source": [
    "dow_data.shape"
   ]
  },
  {
   "cell_type": "code",
   "execution_count": 93,
   "metadata": {},
   "outputs": [
    {
     "data": {
      "text/plain": [
       "0"
      ]
     },
     "execution_count": 93,
     "metadata": {},
     "output_type": "execute_result"
    }
   ],
   "source": [
    "dow_data.dow.iloc[0]"
   ]
  },
  {
   "cell_type": "code",
   "execution_count": 94,
   "metadata": {
    "collapsed": true
   },
   "outputs": [],
   "source": [
    "def get_mean_data(data):\n",
    "    if data.dow==0:\n",
    "        return data.dow0_mean\n",
    "    elif data.dow==1:\n",
    "        return data.dow1_mean\n",
    "    elif data.dow==2:\n",
    "        return data.dow2_mean\n",
    "    elif data.dow==3:\n",
    "        return data.dow3_mean\n",
    "    elif data.dow==4:\n",
    "        return data.dow4_mean\n",
    "    elif data.dow==5:\n",
    "        return data.dow5_mean\n",
    "    elif data.dow==6:\n",
    "        return data.dow6_mean"
   ]
  },
  {
   "cell_type": "code",
   "execution_count": 95,
   "metadata": {
    "collapsed": true
   },
   "outputs": [],
   "source": [
    "dow_data['last_month_daily_mean'] = dow_data.apply(get_mean_data,axis=1)"
   ]
  },
  {
   "cell_type": "code",
   "execution_count": 96,
   "metadata": {},
   "outputs": [
    {
     "data": {
      "text/html": [
       "<div>\n",
       "<style>\n",
       "    .dataframe thead tr:only-child th {\n",
       "        text-align: right;\n",
       "    }\n",
       "\n",
       "    .dataframe thead th {\n",
       "        text-align: left;\n",
       "    }\n",
       "\n",
       "    .dataframe tbody tr th {\n",
       "        vertical-align: top;\n",
       "    }\n",
       "</style>\n",
       "<table border=\"1\" class=\"dataframe\">\n",
       "  <thead>\n",
       "    <tr style=\"text-align: right;\">\n",
       "      <th></th>\n",
       "      <th>year</th>\n",
       "      <th>month</th>\n",
       "      <th>store</th>\n",
       "      <th>dow</th>\n",
       "      <th>dow0_mean</th>\n",
       "      <th>dow1_mean</th>\n",
       "      <th>dow2_mean</th>\n",
       "      <th>dow3_mean</th>\n",
       "      <th>dow4_mean</th>\n",
       "      <th>dow5_mean</th>\n",
       "      <th>dow6_mean</th>\n",
       "      <th>last_month_daily_mean</th>\n",
       "    </tr>\n",
       "  </thead>\n",
       "  <tbody>\n",
       "    <tr>\n",
       "      <th>0</th>\n",
       "      <td>0</td>\n",
       "      <td>0</td>\n",
       "      <td>3</td>\n",
       "      <td>0</td>\n",
       "      <td>-1.0</td>\n",
       "      <td>-1.0</td>\n",
       "      <td>-1.0</td>\n",
       "      <td>-1.0</td>\n",
       "      <td>-1.0</td>\n",
       "      <td>-1.0</td>\n",
       "      <td>-1.0</td>\n",
       "      <td>-1.0</td>\n",
       "    </tr>\n",
       "    <tr>\n",
       "      <th>1</th>\n",
       "      <td>0</td>\n",
       "      <td>0</td>\n",
       "      <td>6</td>\n",
       "      <td>0</td>\n",
       "      <td>-1.0</td>\n",
       "      <td>-1.0</td>\n",
       "      <td>-1.0</td>\n",
       "      <td>-1.0</td>\n",
       "      <td>-1.0</td>\n",
       "      <td>-1.0</td>\n",
       "      <td>-1.0</td>\n",
       "      <td>-1.0</td>\n",
       "    </tr>\n",
       "    <tr>\n",
       "      <th>2</th>\n",
       "      <td>0</td>\n",
       "      <td>0</td>\n",
       "      <td>8</td>\n",
       "      <td>0</td>\n",
       "      <td>-1.0</td>\n",
       "      <td>-1.0</td>\n",
       "      <td>-1.0</td>\n",
       "      <td>-1.0</td>\n",
       "      <td>-1.0</td>\n",
       "      <td>-1.0</td>\n",
       "      <td>-1.0</td>\n",
       "      <td>-1.0</td>\n",
       "    </tr>\n",
       "    <tr>\n",
       "      <th>3</th>\n",
       "      <td>0</td>\n",
       "      <td>0</td>\n",
       "      <td>11</td>\n",
       "      <td>0</td>\n",
       "      <td>-1.0</td>\n",
       "      <td>-1.0</td>\n",
       "      <td>-1.0</td>\n",
       "      <td>-1.0</td>\n",
       "      <td>-1.0</td>\n",
       "      <td>-1.0</td>\n",
       "      <td>-1.0</td>\n",
       "      <td>-1.0</td>\n",
       "    </tr>\n",
       "    <tr>\n",
       "      <th>4</th>\n",
       "      <td>0</td>\n",
       "      <td>0</td>\n",
       "      <td>12</td>\n",
       "      <td>0</td>\n",
       "      <td>-1.0</td>\n",
       "      <td>-1.0</td>\n",
       "      <td>-1.0</td>\n",
       "      <td>-1.0</td>\n",
       "      <td>-1.0</td>\n",
       "      <td>-1.0</td>\n",
       "      <td>-1.0</td>\n",
       "      <td>-1.0</td>\n",
       "    </tr>\n",
       "  </tbody>\n",
       "</table>\n",
       "</div>"
      ],
      "text/plain": [
       "  year month store  dow  dow0_mean  dow1_mean  dow2_mean  dow3_mean  \\\n",
       "0    0     0     3    0       -1.0       -1.0       -1.0       -1.0   \n",
       "1    0     0     6    0       -1.0       -1.0       -1.0       -1.0   \n",
       "2    0     0     8    0       -1.0       -1.0       -1.0       -1.0   \n",
       "3    0     0    11    0       -1.0       -1.0       -1.0       -1.0   \n",
       "4    0     0    12    0       -1.0       -1.0       -1.0       -1.0   \n",
       "\n",
       "   dow4_mean  dow5_mean  dow6_mean  last_month_daily_mean  \n",
       "0       -1.0       -1.0       -1.0                   -1.0  \n",
       "1       -1.0       -1.0       -1.0                   -1.0  \n",
       "2       -1.0       -1.0       -1.0                   -1.0  \n",
       "3       -1.0       -1.0       -1.0                   -1.0  \n",
       "4       -1.0       -1.0       -1.0                   -1.0  "
      ]
     },
     "execution_count": 96,
     "metadata": {},
     "output_type": "execute_result"
    }
   ],
   "source": [
    "dow_data.head()"
   ]
  },
  {
   "cell_type": "code",
   "execution_count": 97,
   "metadata": {},
   "outputs": [
    {
     "data": {
      "text/plain": [
       "((71505, 12), (282487, 47))"
      ]
     },
     "execution_count": 97,
     "metadata": {},
     "output_type": "execute_result"
    }
   ],
   "source": [
    "dow_data.shape,data.shape"
   ]
  },
  {
   "cell_type": "code",
   "execution_count": 98,
   "metadata": {
    "collapsed": true
   },
   "outputs": [],
   "source": [
    "data = pd.merge(data,dow_data[['year','month','store','dow','last_month_daily_mean']],how='inner',\n",
    "               on = ['year','month','store','dow'])"
   ]
  },
  {
   "cell_type": "code",
   "execution_count": 107,
   "metadata": {},
   "outputs": [],
   "source": [
    "data.year = data.year.astype(int)\n",
    "data.month = data.month.astype(int)\n",
    "data.store = data.store.astype(int)"
   ]
  },
  {
   "cell_type": "markdown",
   "metadata": {},
   "source": [
    "## xgb test"
   ]
  },
  {
   "cell_type": "code",
   "execution_count": 110,
   "metadata": {},
   "outputs": [
    {
     "data": {
      "text/plain": [
       "Index(['air_store_id', 'area', 'count_observations', 'date_int', 'dom',\n",
       "       'dom_pattern_train_x', 'doq', 'dow', 'dow_pattern_2016', 'doy',\n",
       "       'doy_pattern_2016', 'gen', 'genre_pop', 'holi', 'id', 'last_genre_pop',\n",
       "       'last_month_comp', 'last_quarter_comp', 'last_quarter_gen_pop',\n",
       "       'last_quarter_s_pop', 'lon_plus_lat', 'max_visitors', 'mean_visitors',\n",
       "       'median_visitors', 'min_visitors', 'month', 'quarter', 'rs1_x', 'rs1_y',\n",
       "       'rs2_x', 'rs2_y', 'rv1_x', 'rv1_y', 'rv2_x', 'rv2_y', 'store',\n",
       "       'store_genre_pop', 'store_pop', 'store_pop_monthly',\n",
       "       'total_reserv_dt_diff_mean', 'total_reserv_mean', 'total_reserv_sum',\n",
       "       'var_max_lat', 'var_max_long', 'visit_date', 'visitors', 'year',\n",
       "       'last_month_daily_mean'],\n",
       "      dtype='object')"
      ]
     },
     "execution_count": 110,
     "metadata": {},
     "output_type": "execute_result"
    }
   ],
   "source": [
    "data.columns"
   ]
  },
  {
   "cell_type": "code",
   "execution_count": 115,
   "metadata": {},
   "outputs": [],
   "source": [
    "dtrain = xgb.DMatrix(data.drop(['id','visitors','air_store_id','visit_date','dom_pattern_train_x',\n",
    "                                'dow_pattern_2016','last_month_daily_mean',\n",
    "                               'last_genre_pop',\n",
    "       'last_month_comp', 'last_quarter_comp', 'last_quarter_gen_pop'],axis=1),data.visitors.apply(np.log1p))"
   ]
  },
  {
   "cell_type": "code",
   "execution_count": 116,
   "metadata": {},
   "outputs": [
    {
     "name": "stdout",
     "output_type": "stream",
     "text": [
      "0.1 0.295360666667\n",
      "0.15 0.268213666667\n",
      "0.2 0.265842\n",
      "0.25 0.266170333333\n",
      "0.3 0.268288666667\n",
      "0.35 0.270475666667\n",
      "0.4 0.273587333333\n",
      "0.45 0.277174333333\n"
     ]
    }
   ],
   "source": [
    "for i in np.arange(0.1,0.5,0.05):\n",
    "    param = {\n",
    "        'eta':i,'max_depth':16,'subsample':0.94,'colsample_bytree':0.73,'lamdba':0.3,'alpha':0.8,\\\n",
    "        'min_child_weight':29,'num_boost_round':100,'objective':'reg:linear','booster':'gbtree',\\\n",
    "        'tree_method':'hist','max_bin':150\n",
    "    }\n",
    "    hist = xgb.cv(param,dtrain,30,metrics='rmse')\n",
    "    print(i,hist['test-rmse-mean'].iloc[-1])"
   ]
  },
  {
   "cell_type": "code",
   "execution_count": 119,
   "metadata": {},
   "outputs": [
    {
     "data": {
      "text/plain": [
       "{0, 1}"
      ]
     },
     "execution_count": 119,
     "metadata": {},
     "output_type": "execute_result"
    }
   ],
   "source": [
    "set(data.year)"
   ]
  },
  {
   "cell_type": "markdown",
   "metadata": {},
   "source": [
    "## holi"
   ]
  },
  {
   "cell_type": "code",
   "execution_count": 120,
   "metadata": {
    "collapsed": true
   },
   "outputs": [],
   "source": [
    "holi_ = data[data.year==0].groupby(['month','holi','store'],as_index=False\n",
    "                                  )['visitors'].median().rename(columns={'visitors':'holi_mean'})"
   ]
  },
  {
   "cell_type": "code",
   "execution_count": 122,
   "metadata": {},
   "outputs": [
    {
     "data": {
      "text/plain": [
       "(11925, 4)"
      ]
     },
     "execution_count": 122,
     "metadata": {},
     "output_type": "execute_result"
    }
   ],
   "source": [
    "holi_.shape"
   ]
  },
  {
   "cell_type": "code",
   "execution_count": 125,
   "metadata": {},
   "outputs": [],
   "source": [
    "holi_yes = holi_[holi_.holi==1]\n",
    "holi_no = holi_[holi_.holi==0]"
   ]
  },
  {
   "cell_type": "code",
   "execution_count": 126,
   "metadata": {},
   "outputs": [
    {
     "data": {
      "text/plain": [
       "((5292, 4), (6633, 4))"
      ]
     },
     "execution_count": 126,
     "metadata": {},
     "output_type": "execute_result"
    }
   ],
   "source": [
    "holi_yes.shape,holi_no.shape"
   ]
  },
  {
   "cell_type": "code",
   "execution_count": 127,
   "metadata": {},
   "outputs": [
    {
     "data": {
      "text/html": [
       "<div>\n",
       "<style>\n",
       "    .dataframe thead tr:only-child th {\n",
       "        text-align: right;\n",
       "    }\n",
       "\n",
       "    .dataframe thead th {\n",
       "        text-align: left;\n",
       "    }\n",
       "\n",
       "    .dataframe tbody tr th {\n",
       "        vertical-align: top;\n",
       "    }\n",
       "</style>\n",
       "<table border=\"1\" class=\"dataframe\">\n",
       "  <thead>\n",
       "    <tr style=\"text-align: right;\">\n",
       "      <th></th>\n",
       "      <th>month</th>\n",
       "      <th>holi</th>\n",
       "      <th>store</th>\n",
       "      <th>holi_mean</th>\n",
       "    </tr>\n",
       "  </thead>\n",
       "  <tbody>\n",
       "    <tr>\n",
       "      <th>299</th>\n",
       "      <td>0</td>\n",
       "      <td>1</td>\n",
       "      <td>3</td>\n",
       "      <td>43.0</td>\n",
       "    </tr>\n",
       "    <tr>\n",
       "      <th>300</th>\n",
       "      <td>0</td>\n",
       "      <td>1</td>\n",
       "      <td>6</td>\n",
       "      <td>8.0</td>\n",
       "    </tr>\n",
       "    <tr>\n",
       "      <th>301</th>\n",
       "      <td>0</td>\n",
       "      <td>1</td>\n",
       "      <td>8</td>\n",
       "      <td>10.0</td>\n",
       "    </tr>\n",
       "    <tr>\n",
       "      <th>302</th>\n",
       "      <td>0</td>\n",
       "      <td>1</td>\n",
       "      <td>12</td>\n",
       "      <td>24.0</td>\n",
       "    </tr>\n",
       "    <tr>\n",
       "      <th>303</th>\n",
       "      <td>0</td>\n",
       "      <td>1</td>\n",
       "      <td>14</td>\n",
       "      <td>15.5</td>\n",
       "    </tr>\n",
       "  </tbody>\n",
       "</table>\n",
       "</div>"
      ],
      "text/plain": [
       "     month  holi  store  holi_mean\n",
       "299      0     1      3       43.0\n",
       "300      0     1      6        8.0\n",
       "301      0     1      8       10.0\n",
       "302      0     1     12       24.0\n",
       "303      0     1     14       15.5"
      ]
     },
     "execution_count": 127,
     "metadata": {},
     "output_type": "execute_result"
    }
   ],
   "source": [
    "holi_yes.head()"
   ]
  },
  {
   "cell_type": "code",
   "execution_count": 128,
   "metadata": {},
   "outputs": [
    {
     "name": "stderr",
     "output_type": "stream",
     "text": [
      "C:\\Users\\Xufeng\\Anaconda3\\lib\\site-packages\\pandas\\core\\frame.py:2746: SettingWithCopyWarning: \n",
      "A value is trying to be set on a copy of a slice from a DataFrame\n",
      "\n",
      "See the caveats in the documentation: http://pandas.pydata.org/pandas-docs/stable/indexing.html#indexing-view-versus-copy\n",
      "  **kwargs)\n"
     ]
    }
   ],
   "source": [
    "holi_no.rename(columns={'holi_mean':'nonholi_mean'},inplace=True)"
   ]
  },
  {
   "cell_type": "code",
   "execution_count": 129,
   "metadata": {},
   "outputs": [
    {
     "data": {
      "text/html": [
       "<div>\n",
       "<style>\n",
       "    .dataframe thead tr:only-child th {\n",
       "        text-align: right;\n",
       "    }\n",
       "\n",
       "    .dataframe thead th {\n",
       "        text-align: left;\n",
       "    }\n",
       "\n",
       "    .dataframe tbody tr th {\n",
       "        vertical-align: top;\n",
       "    }\n",
       "</style>\n",
       "<table border=\"1\" class=\"dataframe\">\n",
       "  <thead>\n",
       "    <tr style=\"text-align: right;\">\n",
       "      <th></th>\n",
       "      <th>month</th>\n",
       "      <th>holi</th>\n",
       "      <th>store</th>\n",
       "      <th>nonholi_mean</th>\n",
       "    </tr>\n",
       "  </thead>\n",
       "  <tbody>\n",
       "    <tr>\n",
       "      <th>0</th>\n",
       "      <td>0</td>\n",
       "      <td>0</td>\n",
       "      <td>3</td>\n",
       "      <td>34.0</td>\n",
       "    </tr>\n",
       "    <tr>\n",
       "      <th>1</th>\n",
       "      <td>0</td>\n",
       "      <td>0</td>\n",
       "      <td>6</td>\n",
       "      <td>13.0</td>\n",
       "    </tr>\n",
       "    <tr>\n",
       "      <th>2</th>\n",
       "      <td>0</td>\n",
       "      <td>0</td>\n",
       "      <td>8</td>\n",
       "      <td>9.0</td>\n",
       "    </tr>\n",
       "    <tr>\n",
       "      <th>3</th>\n",
       "      <td>0</td>\n",
       "      <td>0</td>\n",
       "      <td>11</td>\n",
       "      <td>8.0</td>\n",
       "    </tr>\n",
       "    <tr>\n",
       "      <th>4</th>\n",
       "      <td>0</td>\n",
       "      <td>0</td>\n",
       "      <td>12</td>\n",
       "      <td>20.0</td>\n",
       "    </tr>\n",
       "  </tbody>\n",
       "</table>\n",
       "</div>"
      ],
      "text/plain": [
       "   month  holi  store  nonholi_mean\n",
       "0      0     0      3          34.0\n",
       "1      0     0      6          13.0\n",
       "2      0     0      8           9.0\n",
       "3      0     0     11           8.0\n",
       "4      0     0     12          20.0"
      ]
     },
     "execution_count": 129,
     "metadata": {},
     "output_type": "execute_result"
    }
   ],
   "source": [
    "holi_no.head()"
   ]
  },
  {
   "cell_type": "code",
   "execution_count": 130,
   "metadata": {
    "collapsed": true
   },
   "outputs": [],
   "source": [
    "data = pd.merge(data,holi_yes,how='left',on=['month','store'])\n",
    "data = pd.merge(data,holi_no,how='left',on=['month','store'])"
   ]
  },
  {
   "cell_type": "code",
   "execution_count": 131,
   "metadata": {
    "collapsed": true
   },
   "outputs": [],
   "source": [
    "data.fillna(-1,inplace=True)"
   ]
  },
  {
   "cell_type": "code",
   "execution_count": 132,
   "metadata": {},
   "outputs": [
    {
     "data": {
      "text/plain": [
       "(282487, 52)"
      ]
     },
     "execution_count": 132,
     "metadata": {},
     "output_type": "execute_result"
    }
   ],
   "source": [
    "data.shape"
   ]
  },
  {
   "cell_type": "code",
   "execution_count": 133,
   "metadata": {
    "collapsed": true
   },
   "outputs": [],
   "source": [
    "data[['id','last_month_daily_mean','holi_mean','nonholi_mean']].to_csv('3features.csv',index=False)"
   ]
  },
  {
   "cell_type": "code",
   "execution_count": null,
   "metadata": {
    "collapsed": true
   },
   "outputs": [],
   "source": []
  }
 ],
 "metadata": {
  "kernelspec": {
   "display_name": "Python 3",
   "language": "python",
   "name": "python3"
  },
  "language_info": {
   "codemirror_mode": {
    "name": "ipython",
    "version": 3
   },
   "file_extension": ".py",
   "mimetype": "text/x-python",
   "name": "python",
   "nbconvert_exporter": "python",
   "pygments_lexer": "ipython3",
   "version": "3.6.3"
  }
 },
 "nbformat": 4,
 "nbformat_minor": 2
}
