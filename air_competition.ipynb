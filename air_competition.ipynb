{
 "cells": [
  {
   "cell_type": "code",
   "execution_count": 1,
   "metadata": {
    "collapsed": true
   },
   "outputs": [],
   "source": [
    "import numpy as np\n",
    "import pandas as pd\n",
    "import xgboost as xgb"
   ]
  },
  {
   "cell_type": "code",
   "execution_count": 2,
   "metadata": {
    "collapsed": true
   },
   "outputs": [],
   "source": [
    "air_data = pd.read_csv('./data/air_dict.csv')\n",
    "test_data = pd.read_csv('./data/test_dict.csv')"
   ]
  },
  {
   "cell_type": "code",
   "execution_count": 3,
   "metadata": {},
   "outputs": [
    {
     "data": {
      "text/html": [
       "<div>\n",
       "<style>\n",
       "    .dataframe thead tr:only-child th {\n",
       "        text-align: right;\n",
       "    }\n",
       "\n",
       "    .dataframe thead th {\n",
       "        text-align: left;\n",
       "    }\n",
       "\n",
       "    .dataframe tbody tr th {\n",
       "        vertical-align: top;\n",
       "    }\n",
       "</style>\n",
       "<table border=\"1\" class=\"dataframe\">\n",
       "  <thead>\n",
       "    <tr style=\"text-align: right;\">\n",
       "      <th></th>\n",
       "      <th>air_store_id</th>\n",
       "      <th>visit_date</th>\n",
       "      <th>visitors</th>\n",
       "      <th>dom</th>\n",
       "      <th>dow</th>\n",
       "      <th>doy</th>\n",
       "      <th>month</th>\n",
       "      <th>quarter</th>\n",
       "      <th>year</th>\n",
       "      <th>store</th>\n",
       "      <th>holi</th>\n",
       "      <th>gen</th>\n",
       "      <th>area</th>\n",
       "      <th>doq</th>\n",
       "    </tr>\n",
       "  </thead>\n",
       "  <tbody>\n",
       "    <tr>\n",
       "      <th>0</th>\n",
       "      <td>air_ba937bf13d40fb24</td>\n",
       "      <td>2016-01-13</td>\n",
       "      <td>25</td>\n",
       "      <td>12</td>\n",
       "      <td>2</td>\n",
       "      <td>12</td>\n",
       "      <td>0</td>\n",
       "      <td>0</td>\n",
       "      <td>0</td>\n",
       "      <td>517</td>\n",
       "      <td>0</td>\n",
       "      <td>13</td>\n",
       "      <td>33</td>\n",
       "      <td>12</td>\n",
       "    </tr>\n",
       "    <tr>\n",
       "      <th>1</th>\n",
       "      <td>air_ba937bf13d40fb24</td>\n",
       "      <td>2016-01-14</td>\n",
       "      <td>32</td>\n",
       "      <td>13</td>\n",
       "      <td>3</td>\n",
       "      <td>13</td>\n",
       "      <td>0</td>\n",
       "      <td>0</td>\n",
       "      <td>0</td>\n",
       "      <td>517</td>\n",
       "      <td>0</td>\n",
       "      <td>13</td>\n",
       "      <td>33</td>\n",
       "      <td>13</td>\n",
       "    </tr>\n",
       "    <tr>\n",
       "      <th>2</th>\n",
       "      <td>air_ba937bf13d40fb24</td>\n",
       "      <td>2016-01-15</td>\n",
       "      <td>29</td>\n",
       "      <td>14</td>\n",
       "      <td>4</td>\n",
       "      <td>14</td>\n",
       "      <td>0</td>\n",
       "      <td>0</td>\n",
       "      <td>0</td>\n",
       "      <td>517</td>\n",
       "      <td>0</td>\n",
       "      <td>13</td>\n",
       "      <td>33</td>\n",
       "      <td>14</td>\n",
       "    </tr>\n",
       "    <tr>\n",
       "      <th>3</th>\n",
       "      <td>air_ba937bf13d40fb24</td>\n",
       "      <td>2016-01-16</td>\n",
       "      <td>22</td>\n",
       "      <td>15</td>\n",
       "      <td>5</td>\n",
       "      <td>15</td>\n",
       "      <td>0</td>\n",
       "      <td>0</td>\n",
       "      <td>0</td>\n",
       "      <td>517</td>\n",
       "      <td>0</td>\n",
       "      <td>13</td>\n",
       "      <td>33</td>\n",
       "      <td>15</td>\n",
       "    </tr>\n",
       "    <tr>\n",
       "      <th>4</th>\n",
       "      <td>air_ba937bf13d40fb24</td>\n",
       "      <td>2016-01-18</td>\n",
       "      <td>6</td>\n",
       "      <td>17</td>\n",
       "      <td>0</td>\n",
       "      <td>17</td>\n",
       "      <td>0</td>\n",
       "      <td>0</td>\n",
       "      <td>0</td>\n",
       "      <td>517</td>\n",
       "      <td>0</td>\n",
       "      <td>13</td>\n",
       "      <td>33</td>\n",
       "      <td>17</td>\n",
       "    </tr>\n",
       "  </tbody>\n",
       "</table>\n",
       "</div>"
      ],
      "text/plain": [
       "           air_store_id  visit_date  visitors  dom  dow  doy  month  quarter  \\\n",
       "0  air_ba937bf13d40fb24  2016-01-13        25   12    2   12      0        0   \n",
       "1  air_ba937bf13d40fb24  2016-01-14        32   13    3   13      0        0   \n",
       "2  air_ba937bf13d40fb24  2016-01-15        29   14    4   14      0        0   \n",
       "3  air_ba937bf13d40fb24  2016-01-16        22   15    5   15      0        0   \n",
       "4  air_ba937bf13d40fb24  2016-01-18         6   17    0   17      0        0   \n",
       "\n",
       "   year  store  holi  gen  area  doq  \n",
       "0     0    517     0   13    33   12  \n",
       "1     0    517     0   13    33   13  \n",
       "2     0    517     0   13    33   14  \n",
       "3     0    517     0   13    33   15  \n",
       "4     0    517     0   13    33   17  "
      ]
     },
     "execution_count": 3,
     "metadata": {},
     "output_type": "execute_result"
    }
   ],
   "source": [
    "air_data.head()"
   ]
  },
  {
   "cell_type": "code",
   "execution_count": 4,
   "metadata": {
    "collapsed": true
   },
   "outputs": [],
   "source": [
    "air_data['id'] = np.ones(len(air_data))"
   ]
  },
  {
   "cell_type": "code",
   "execution_count": 5,
   "metadata": {
    "collapsed": true
   },
   "outputs": [],
   "source": [
    "together = pd.concat([air_data,test_data],axis=0)"
   ]
  },
  {
   "cell_type": "code",
   "execution_count": 6,
   "metadata": {},
   "outputs": [
    {
     "data": {
      "text/html": [
       "<div>\n",
       "<style>\n",
       "    .dataframe thead tr:only-child th {\n",
       "        text-align: right;\n",
       "    }\n",
       "\n",
       "    .dataframe thead th {\n",
       "        text-align: left;\n",
       "    }\n",
       "\n",
       "    .dataframe tbody tr th {\n",
       "        vertical-align: top;\n",
       "    }\n",
       "</style>\n",
       "<table border=\"1\" class=\"dataframe\">\n",
       "  <thead>\n",
       "    <tr style=\"text-align: right;\">\n",
       "      <th></th>\n",
       "      <th>air_store_id</th>\n",
       "      <th>area</th>\n",
       "      <th>dom</th>\n",
       "      <th>doq</th>\n",
       "      <th>dow</th>\n",
       "      <th>doy</th>\n",
       "      <th>gen</th>\n",
       "      <th>holi</th>\n",
       "      <th>id</th>\n",
       "      <th>month</th>\n",
       "      <th>quarter</th>\n",
       "      <th>store</th>\n",
       "      <th>visit_date</th>\n",
       "      <th>visitors</th>\n",
       "      <th>year</th>\n",
       "    </tr>\n",
       "  </thead>\n",
       "  <tbody>\n",
       "    <tr>\n",
       "      <th>0</th>\n",
       "      <td>air_ba937bf13d40fb24</td>\n",
       "      <td>33</td>\n",
       "      <td>12</td>\n",
       "      <td>12</td>\n",
       "      <td>2</td>\n",
       "      <td>12</td>\n",
       "      <td>13</td>\n",
       "      <td>0</td>\n",
       "      <td>1</td>\n",
       "      <td>0</td>\n",
       "      <td>0</td>\n",
       "      <td>517</td>\n",
       "      <td>2016-01-13</td>\n",
       "      <td>25</td>\n",
       "      <td>0</td>\n",
       "    </tr>\n",
       "    <tr>\n",
       "      <th>1</th>\n",
       "      <td>air_ba937bf13d40fb24</td>\n",
       "      <td>33</td>\n",
       "      <td>13</td>\n",
       "      <td>13</td>\n",
       "      <td>3</td>\n",
       "      <td>13</td>\n",
       "      <td>13</td>\n",
       "      <td>0</td>\n",
       "      <td>1</td>\n",
       "      <td>0</td>\n",
       "      <td>0</td>\n",
       "      <td>517</td>\n",
       "      <td>2016-01-14</td>\n",
       "      <td>32</td>\n",
       "      <td>0</td>\n",
       "    </tr>\n",
       "    <tr>\n",
       "      <th>2</th>\n",
       "      <td>air_ba937bf13d40fb24</td>\n",
       "      <td>33</td>\n",
       "      <td>14</td>\n",
       "      <td>14</td>\n",
       "      <td>4</td>\n",
       "      <td>14</td>\n",
       "      <td>13</td>\n",
       "      <td>0</td>\n",
       "      <td>1</td>\n",
       "      <td>0</td>\n",
       "      <td>0</td>\n",
       "      <td>517</td>\n",
       "      <td>2016-01-15</td>\n",
       "      <td>29</td>\n",
       "      <td>0</td>\n",
       "    </tr>\n",
       "    <tr>\n",
       "      <th>3</th>\n",
       "      <td>air_ba937bf13d40fb24</td>\n",
       "      <td>33</td>\n",
       "      <td>15</td>\n",
       "      <td>15</td>\n",
       "      <td>5</td>\n",
       "      <td>15</td>\n",
       "      <td>13</td>\n",
       "      <td>0</td>\n",
       "      <td>1</td>\n",
       "      <td>0</td>\n",
       "      <td>0</td>\n",
       "      <td>517</td>\n",
       "      <td>2016-01-16</td>\n",
       "      <td>22</td>\n",
       "      <td>0</td>\n",
       "    </tr>\n",
       "    <tr>\n",
       "      <th>4</th>\n",
       "      <td>air_ba937bf13d40fb24</td>\n",
       "      <td>33</td>\n",
       "      <td>17</td>\n",
       "      <td>17</td>\n",
       "      <td>0</td>\n",
       "      <td>17</td>\n",
       "      <td>13</td>\n",
       "      <td>0</td>\n",
       "      <td>1</td>\n",
       "      <td>0</td>\n",
       "      <td>0</td>\n",
       "      <td>517</td>\n",
       "      <td>2016-01-18</td>\n",
       "      <td>6</td>\n",
       "      <td>0</td>\n",
       "    </tr>\n",
       "  </tbody>\n",
       "</table>\n",
       "</div>"
      ],
      "text/plain": [
       "           air_store_id  area  dom  doq  dow  doy  gen  holi id  month  \\\n",
       "0  air_ba937bf13d40fb24    33   12   12    2   12   13     0  1      0   \n",
       "1  air_ba937bf13d40fb24    33   13   13    3   13   13     0  1      0   \n",
       "2  air_ba937bf13d40fb24    33   14   14    4   14   13     0  1      0   \n",
       "3  air_ba937bf13d40fb24    33   15   15    5   15   13     0  1      0   \n",
       "4  air_ba937bf13d40fb24    33   17   17    0   17   13     0  1      0   \n",
       "\n",
       "   quarter  store  visit_date  visitors  year  \n",
       "0        0    517  2016-01-13        25     0  \n",
       "1        0    517  2016-01-14        32     0  \n",
       "2        0    517  2016-01-15        29     0  \n",
       "3        0    517  2016-01-16        22     0  \n",
       "4        0    517  2016-01-18         6     0  "
      ]
     },
     "execution_count": 6,
     "metadata": {},
     "output_type": "execute_result"
    }
   ],
   "source": [
    "together.head()"
   ]
  },
  {
   "cell_type": "code",
   "execution_count": 7,
   "metadata": {},
   "outputs": [
    {
     "data": {
      "text/html": [
       "<div>\n",
       "<style>\n",
       "    .dataframe thead tr:only-child th {\n",
       "        text-align: right;\n",
       "    }\n",
       "\n",
       "    .dataframe thead th {\n",
       "        text-align: left;\n",
       "    }\n",
       "\n",
       "    .dataframe tbody tr th {\n",
       "        vertical-align: top;\n",
       "    }\n",
       "</style>\n",
       "<table border=\"1\" class=\"dataframe\">\n",
       "  <thead>\n",
       "    <tr style=\"text-align: right;\">\n",
       "      <th></th>\n",
       "      <th>id</th>\n",
       "      <th>visitors</th>\n",
       "      <th>air_store_id</th>\n",
       "      <th>visit_date</th>\n",
       "      <th>dom</th>\n",
       "      <th>dow</th>\n",
       "      <th>doy</th>\n",
       "      <th>month</th>\n",
       "      <th>quarter</th>\n",
       "      <th>year</th>\n",
       "      <th>store</th>\n",
       "      <th>holi</th>\n",
       "      <th>gen</th>\n",
       "      <th>area</th>\n",
       "      <th>doq</th>\n",
       "    </tr>\n",
       "  </thead>\n",
       "  <tbody>\n",
       "    <tr>\n",
       "      <th>0</th>\n",
       "      <td>air_00a91d42b08b08d9_2017-04-23</td>\n",
       "      <td>0</td>\n",
       "      <td>air_00a91d42b08b08d9</td>\n",
       "      <td>2017-04-23</td>\n",
       "      <td>22</td>\n",
       "      <td>6</td>\n",
       "      <td>112</td>\n",
       "      <td>3</td>\n",
       "      <td>1</td>\n",
       "      <td>1</td>\n",
       "      <td>455</td>\n",
       "      <td>0</td>\n",
       "      <td>7</td>\n",
       "      <td>39</td>\n",
       "      <td>22</td>\n",
       "    </tr>\n",
       "    <tr>\n",
       "      <th>1</th>\n",
       "      <td>air_00a91d42b08b08d9_2017-04-24</td>\n",
       "      <td>0</td>\n",
       "      <td>air_00a91d42b08b08d9</td>\n",
       "      <td>2017-04-24</td>\n",
       "      <td>23</td>\n",
       "      <td>0</td>\n",
       "      <td>113</td>\n",
       "      <td>3</td>\n",
       "      <td>1</td>\n",
       "      <td>1</td>\n",
       "      <td>455</td>\n",
       "      <td>0</td>\n",
       "      <td>7</td>\n",
       "      <td>39</td>\n",
       "      <td>23</td>\n",
       "    </tr>\n",
       "    <tr>\n",
       "      <th>2</th>\n",
       "      <td>air_00a91d42b08b08d9_2017-04-25</td>\n",
       "      <td>0</td>\n",
       "      <td>air_00a91d42b08b08d9</td>\n",
       "      <td>2017-04-25</td>\n",
       "      <td>24</td>\n",
       "      <td>1</td>\n",
       "      <td>114</td>\n",
       "      <td>3</td>\n",
       "      <td>1</td>\n",
       "      <td>1</td>\n",
       "      <td>455</td>\n",
       "      <td>0</td>\n",
       "      <td>7</td>\n",
       "      <td>39</td>\n",
       "      <td>24</td>\n",
       "    </tr>\n",
       "    <tr>\n",
       "      <th>3</th>\n",
       "      <td>air_00a91d42b08b08d9_2017-04-26</td>\n",
       "      <td>0</td>\n",
       "      <td>air_00a91d42b08b08d9</td>\n",
       "      <td>2017-04-26</td>\n",
       "      <td>25</td>\n",
       "      <td>2</td>\n",
       "      <td>115</td>\n",
       "      <td>3</td>\n",
       "      <td>1</td>\n",
       "      <td>1</td>\n",
       "      <td>455</td>\n",
       "      <td>0</td>\n",
       "      <td>7</td>\n",
       "      <td>39</td>\n",
       "      <td>25</td>\n",
       "    </tr>\n",
       "    <tr>\n",
       "      <th>4</th>\n",
       "      <td>air_00a91d42b08b08d9_2017-04-27</td>\n",
       "      <td>0</td>\n",
       "      <td>air_00a91d42b08b08d9</td>\n",
       "      <td>2017-04-27</td>\n",
       "      <td>26</td>\n",
       "      <td>3</td>\n",
       "      <td>116</td>\n",
       "      <td>3</td>\n",
       "      <td>1</td>\n",
       "      <td>1</td>\n",
       "      <td>455</td>\n",
       "      <td>0</td>\n",
       "      <td>7</td>\n",
       "      <td>39</td>\n",
       "      <td>26</td>\n",
       "    </tr>\n",
       "  </tbody>\n",
       "</table>\n",
       "</div>"
      ],
      "text/plain": [
       "                                id  visitors          air_store_id  \\\n",
       "0  air_00a91d42b08b08d9_2017-04-23         0  air_00a91d42b08b08d9   \n",
       "1  air_00a91d42b08b08d9_2017-04-24         0  air_00a91d42b08b08d9   \n",
       "2  air_00a91d42b08b08d9_2017-04-25         0  air_00a91d42b08b08d9   \n",
       "3  air_00a91d42b08b08d9_2017-04-26         0  air_00a91d42b08b08d9   \n",
       "4  air_00a91d42b08b08d9_2017-04-27         0  air_00a91d42b08b08d9   \n",
       "\n",
       "   visit_date  dom  dow  doy  month  quarter  year  store  holi  gen  area  \\\n",
       "0  2017-04-23   22    6  112      3        1     1    455     0    7    39   \n",
       "1  2017-04-24   23    0  113      3        1     1    455     0    7    39   \n",
       "2  2017-04-25   24    1  114      3        1     1    455     0    7    39   \n",
       "3  2017-04-26   25    2  115      3        1     1    455     0    7    39   \n",
       "4  2017-04-27   26    3  116      3        1     1    455     0    7    39   \n",
       "\n",
       "   doq  \n",
       "0   22  \n",
       "1   23  \n",
       "2   24  \n",
       "3   25  \n",
       "4   26  "
      ]
     },
     "execution_count": 7,
     "metadata": {},
     "output_type": "execute_result"
    }
   ],
   "source": [
    "test_data.head()"
   ]
  },
  {
   "cell_type": "markdown",
   "metadata": {},
   "source": [
    "## stores of the same genre in the area"
   ]
  },
  {
   "cell_type": "code",
   "execution_count": 8,
   "metadata": {
    "collapsed": true
   },
   "outputs": [],
   "source": [
    "tmp = air_data.groupby(['gen','area'],as_index=False\n",
    "                )['air_store_id'].count().rename(columns={'air_store_id':'area_genre_comp'})"
   ]
  },
  {
   "cell_type": "code",
   "execution_count": 9,
   "metadata": {
    "collapsed": true
   },
   "outputs": [],
   "source": [
    "air_data = pd.merge(left=air_data,right=tmp,on=['gen','area'])"
   ]
  },
  {
   "cell_type": "code",
   "execution_count": 10,
   "metadata": {
    "collapsed": true
   },
   "outputs": [],
   "source": [
    "tmp = air_data[['air_store_id','area_genre_comp']].drop_duplicates()\n",
    "test_data = pd.merge(left=test_data,right=tmp,how='left',\n",
    "                    on='air_store_id')"
   ]
  },
  {
   "cell_type": "code",
   "execution_count": 11,
   "metadata": {},
   "outputs": [
    {
     "data": {
      "text/html": [
       "<div>\n",
       "<style>\n",
       "    .dataframe thead tr:only-child th {\n",
       "        text-align: right;\n",
       "    }\n",
       "\n",
       "    .dataframe thead th {\n",
       "        text-align: left;\n",
       "    }\n",
       "\n",
       "    .dataframe tbody tr th {\n",
       "        vertical-align: top;\n",
       "    }\n",
       "</style>\n",
       "<table border=\"1\" class=\"dataframe\">\n",
       "  <thead>\n",
       "    <tr style=\"text-align: right;\">\n",
       "      <th></th>\n",
       "      <th>id</th>\n",
       "      <th>visitors</th>\n",
       "      <th>air_store_id</th>\n",
       "      <th>visit_date</th>\n",
       "      <th>dom</th>\n",
       "      <th>dow</th>\n",
       "      <th>doy</th>\n",
       "      <th>month</th>\n",
       "      <th>quarter</th>\n",
       "      <th>year</th>\n",
       "      <th>store</th>\n",
       "      <th>holi</th>\n",
       "      <th>gen</th>\n",
       "      <th>area</th>\n",
       "      <th>doq</th>\n",
       "      <th>area_genre_comp</th>\n",
       "    </tr>\n",
       "  </thead>\n",
       "  <tbody>\n",
       "    <tr>\n",
       "      <th>0</th>\n",
       "      <td>air_00a91d42b08b08d9_2017-04-23</td>\n",
       "      <td>0</td>\n",
       "      <td>air_00a91d42b08b08d9</td>\n",
       "      <td>2017-04-23</td>\n",
       "      <td>22</td>\n",
       "      <td>6</td>\n",
       "      <td>112</td>\n",
       "      <td>3</td>\n",
       "      <td>1</td>\n",
       "      <td>1</td>\n",
       "      <td>455</td>\n",
       "      <td>0</td>\n",
       "      <td>7</td>\n",
       "      <td>39</td>\n",
       "      <td>22</td>\n",
       "      <td>938</td>\n",
       "    </tr>\n",
       "    <tr>\n",
       "      <th>1</th>\n",
       "      <td>air_00a91d42b08b08d9_2017-04-24</td>\n",
       "      <td>0</td>\n",
       "      <td>air_00a91d42b08b08d9</td>\n",
       "      <td>2017-04-24</td>\n",
       "      <td>23</td>\n",
       "      <td>0</td>\n",
       "      <td>113</td>\n",
       "      <td>3</td>\n",
       "      <td>1</td>\n",
       "      <td>1</td>\n",
       "      <td>455</td>\n",
       "      <td>0</td>\n",
       "      <td>7</td>\n",
       "      <td>39</td>\n",
       "      <td>23</td>\n",
       "      <td>938</td>\n",
       "    </tr>\n",
       "    <tr>\n",
       "      <th>2</th>\n",
       "      <td>air_00a91d42b08b08d9_2017-04-25</td>\n",
       "      <td>0</td>\n",
       "      <td>air_00a91d42b08b08d9</td>\n",
       "      <td>2017-04-25</td>\n",
       "      <td>24</td>\n",
       "      <td>1</td>\n",
       "      <td>114</td>\n",
       "      <td>3</td>\n",
       "      <td>1</td>\n",
       "      <td>1</td>\n",
       "      <td>455</td>\n",
       "      <td>0</td>\n",
       "      <td>7</td>\n",
       "      <td>39</td>\n",
       "      <td>24</td>\n",
       "      <td>938</td>\n",
       "    </tr>\n",
       "    <tr>\n",
       "      <th>3</th>\n",
       "      <td>air_00a91d42b08b08d9_2017-04-26</td>\n",
       "      <td>0</td>\n",
       "      <td>air_00a91d42b08b08d9</td>\n",
       "      <td>2017-04-26</td>\n",
       "      <td>25</td>\n",
       "      <td>2</td>\n",
       "      <td>115</td>\n",
       "      <td>3</td>\n",
       "      <td>1</td>\n",
       "      <td>1</td>\n",
       "      <td>455</td>\n",
       "      <td>0</td>\n",
       "      <td>7</td>\n",
       "      <td>39</td>\n",
       "      <td>25</td>\n",
       "      <td>938</td>\n",
       "    </tr>\n",
       "    <tr>\n",
       "      <th>4</th>\n",
       "      <td>air_00a91d42b08b08d9_2017-04-27</td>\n",
       "      <td>0</td>\n",
       "      <td>air_00a91d42b08b08d9</td>\n",
       "      <td>2017-04-27</td>\n",
       "      <td>26</td>\n",
       "      <td>3</td>\n",
       "      <td>116</td>\n",
       "      <td>3</td>\n",
       "      <td>1</td>\n",
       "      <td>1</td>\n",
       "      <td>455</td>\n",
       "      <td>0</td>\n",
       "      <td>7</td>\n",
       "      <td>39</td>\n",
       "      <td>26</td>\n",
       "      <td>938</td>\n",
       "    </tr>\n",
       "  </tbody>\n",
       "</table>\n",
       "</div>"
      ],
      "text/plain": [
       "                                id  visitors          air_store_id  \\\n",
       "0  air_00a91d42b08b08d9_2017-04-23         0  air_00a91d42b08b08d9   \n",
       "1  air_00a91d42b08b08d9_2017-04-24         0  air_00a91d42b08b08d9   \n",
       "2  air_00a91d42b08b08d9_2017-04-25         0  air_00a91d42b08b08d9   \n",
       "3  air_00a91d42b08b08d9_2017-04-26         0  air_00a91d42b08b08d9   \n",
       "4  air_00a91d42b08b08d9_2017-04-27         0  air_00a91d42b08b08d9   \n",
       "\n",
       "   visit_date  dom  dow  doy  month  quarter  year  store  holi  gen  area  \\\n",
       "0  2017-04-23   22    6  112      3        1     1    455     0    7    39   \n",
       "1  2017-04-24   23    0  113      3        1     1    455     0    7    39   \n",
       "2  2017-04-25   24    1  114      3        1     1    455     0    7    39   \n",
       "3  2017-04-26   25    2  115      3        1     1    455     0    7    39   \n",
       "4  2017-04-27   26    3  116      3        1     1    455     0    7    39   \n",
       "\n",
       "   doq  area_genre_comp  \n",
       "0   22              938  \n",
       "1   23              938  \n",
       "2   24              938  \n",
       "3   25              938  \n",
       "4   26              938  "
      ]
     },
     "execution_count": 11,
     "metadata": {},
     "output_type": "execute_result"
    }
   ],
   "source": [
    "test_data.head()"
   ]
  },
  {
   "cell_type": "markdown",
   "metadata": {
    "collapsed": true
   },
   "source": [
    "## store count"
   ]
  },
  {
   "cell_type": "code",
   "execution_count": 12,
   "metadata": {
    "collapsed": true
   },
   "outputs": [],
   "source": [
    "tmp = air_data.groupby('area',\n",
    "                       as_index=False)['air_store_id'].count().rename(columns={'air_store_id':'area_comp'})"
   ]
  },
  {
   "cell_type": "code",
   "execution_count": 13,
   "metadata": {
    "collapsed": true
   },
   "outputs": [],
   "source": [
    "air_data = pd.merge(air_data,tmp,how='inner',on='area')"
   ]
  },
  {
   "cell_type": "code",
   "execution_count": 14,
   "metadata": {
    "collapsed": true
   },
   "outputs": [],
   "source": [
    "tmp = air_data[['store','area_comp']].drop_duplicates()"
   ]
  },
  {
   "cell_type": "code",
   "execution_count": 15,
   "metadata": {
    "collapsed": true
   },
   "outputs": [],
   "source": [
    "test_data = pd.merge(left=test_data,right=tmp,how='left',on='store')"
   ]
  },
  {
   "cell_type": "code",
   "execution_count": 16,
   "metadata": {},
   "outputs": [
    {
     "data": {
      "text/html": [
       "<div>\n",
       "<style>\n",
       "    .dataframe thead tr:only-child th {\n",
       "        text-align: right;\n",
       "    }\n",
       "\n",
       "    .dataframe thead th {\n",
       "        text-align: left;\n",
       "    }\n",
       "\n",
       "    .dataframe tbody tr th {\n",
       "        vertical-align: top;\n",
       "    }\n",
       "</style>\n",
       "<table border=\"1\" class=\"dataframe\">\n",
       "  <thead>\n",
       "    <tr style=\"text-align: right;\">\n",
       "      <th></th>\n",
       "      <th>id</th>\n",
       "      <th>visitors</th>\n",
       "      <th>air_store_id</th>\n",
       "      <th>visit_date</th>\n",
       "      <th>dom</th>\n",
       "      <th>dow</th>\n",
       "      <th>doy</th>\n",
       "      <th>month</th>\n",
       "      <th>quarter</th>\n",
       "      <th>year</th>\n",
       "      <th>store</th>\n",
       "      <th>holi</th>\n",
       "      <th>gen</th>\n",
       "      <th>area</th>\n",
       "      <th>doq</th>\n",
       "      <th>area_genre_comp</th>\n",
       "      <th>area_comp</th>\n",
       "    </tr>\n",
       "  </thead>\n",
       "  <tbody>\n",
       "    <tr>\n",
       "      <th>0</th>\n",
       "      <td>air_00a91d42b08b08d9_2017-04-23</td>\n",
       "      <td>0</td>\n",
       "      <td>air_00a91d42b08b08d9</td>\n",
       "      <td>2017-04-23</td>\n",
       "      <td>22</td>\n",
       "      <td>6</td>\n",
       "      <td>112</td>\n",
       "      <td>3</td>\n",
       "      <td>1</td>\n",
       "      <td>1</td>\n",
       "      <td>455</td>\n",
       "      <td>0</td>\n",
       "      <td>7</td>\n",
       "      <td>39</td>\n",
       "      <td>22</td>\n",
       "      <td>938</td>\n",
       "      <td>5411</td>\n",
       "    </tr>\n",
       "    <tr>\n",
       "      <th>1</th>\n",
       "      <td>air_00a91d42b08b08d9_2017-04-24</td>\n",
       "      <td>0</td>\n",
       "      <td>air_00a91d42b08b08d9</td>\n",
       "      <td>2017-04-24</td>\n",
       "      <td>23</td>\n",
       "      <td>0</td>\n",
       "      <td>113</td>\n",
       "      <td>3</td>\n",
       "      <td>1</td>\n",
       "      <td>1</td>\n",
       "      <td>455</td>\n",
       "      <td>0</td>\n",
       "      <td>7</td>\n",
       "      <td>39</td>\n",
       "      <td>23</td>\n",
       "      <td>938</td>\n",
       "      <td>5411</td>\n",
       "    </tr>\n",
       "    <tr>\n",
       "      <th>2</th>\n",
       "      <td>air_00a91d42b08b08d9_2017-04-25</td>\n",
       "      <td>0</td>\n",
       "      <td>air_00a91d42b08b08d9</td>\n",
       "      <td>2017-04-25</td>\n",
       "      <td>24</td>\n",
       "      <td>1</td>\n",
       "      <td>114</td>\n",
       "      <td>3</td>\n",
       "      <td>1</td>\n",
       "      <td>1</td>\n",
       "      <td>455</td>\n",
       "      <td>0</td>\n",
       "      <td>7</td>\n",
       "      <td>39</td>\n",
       "      <td>24</td>\n",
       "      <td>938</td>\n",
       "      <td>5411</td>\n",
       "    </tr>\n",
       "    <tr>\n",
       "      <th>3</th>\n",
       "      <td>air_00a91d42b08b08d9_2017-04-26</td>\n",
       "      <td>0</td>\n",
       "      <td>air_00a91d42b08b08d9</td>\n",
       "      <td>2017-04-26</td>\n",
       "      <td>25</td>\n",
       "      <td>2</td>\n",
       "      <td>115</td>\n",
       "      <td>3</td>\n",
       "      <td>1</td>\n",
       "      <td>1</td>\n",
       "      <td>455</td>\n",
       "      <td>0</td>\n",
       "      <td>7</td>\n",
       "      <td>39</td>\n",
       "      <td>25</td>\n",
       "      <td>938</td>\n",
       "      <td>5411</td>\n",
       "    </tr>\n",
       "    <tr>\n",
       "      <th>4</th>\n",
       "      <td>air_00a91d42b08b08d9_2017-04-27</td>\n",
       "      <td>0</td>\n",
       "      <td>air_00a91d42b08b08d9</td>\n",
       "      <td>2017-04-27</td>\n",
       "      <td>26</td>\n",
       "      <td>3</td>\n",
       "      <td>116</td>\n",
       "      <td>3</td>\n",
       "      <td>1</td>\n",
       "      <td>1</td>\n",
       "      <td>455</td>\n",
       "      <td>0</td>\n",
       "      <td>7</td>\n",
       "      <td>39</td>\n",
       "      <td>26</td>\n",
       "      <td>938</td>\n",
       "      <td>5411</td>\n",
       "    </tr>\n",
       "  </tbody>\n",
       "</table>\n",
       "</div>"
      ],
      "text/plain": [
       "                                id  visitors          air_store_id  \\\n",
       "0  air_00a91d42b08b08d9_2017-04-23         0  air_00a91d42b08b08d9   \n",
       "1  air_00a91d42b08b08d9_2017-04-24         0  air_00a91d42b08b08d9   \n",
       "2  air_00a91d42b08b08d9_2017-04-25         0  air_00a91d42b08b08d9   \n",
       "3  air_00a91d42b08b08d9_2017-04-26         0  air_00a91d42b08b08d9   \n",
       "4  air_00a91d42b08b08d9_2017-04-27         0  air_00a91d42b08b08d9   \n",
       "\n",
       "   visit_date  dom  dow  doy  month  quarter  year  store  holi  gen  area  \\\n",
       "0  2017-04-23   22    6  112      3        1     1    455     0    7    39   \n",
       "1  2017-04-24   23    0  113      3        1     1    455     0    7    39   \n",
       "2  2017-04-25   24    1  114      3        1     1    455     0    7    39   \n",
       "3  2017-04-26   25    2  115      3        1     1    455     0    7    39   \n",
       "4  2017-04-27   26    3  116      3        1     1    455     0    7    39   \n",
       "\n",
       "   doq  area_genre_comp  area_comp  \n",
       "0   22              938       5411  \n",
       "1   23              938       5411  \n",
       "2   24              938       5411  \n",
       "3   25              938       5411  \n",
       "4   26              938       5411  "
      ]
     },
     "execution_count": 16,
     "metadata": {},
     "output_type": "execute_result"
    }
   ],
   "source": [
    "test_data.head()"
   ]
  },
  {
   "cell_type": "markdown",
   "metadata": {},
   "source": [
    "## last quarter dow visitors"
   ]
  },
  {
   "cell_type": "code",
   "execution_count": 17,
   "metadata": {},
   "outputs": [
    {
     "data": {
      "text/html": [
       "<div>\n",
       "<style>\n",
       "    .dataframe thead tr:only-child th {\n",
       "        text-align: right;\n",
       "    }\n",
       "\n",
       "    .dataframe thead th {\n",
       "        text-align: left;\n",
       "    }\n",
       "\n",
       "    .dataframe tbody tr th {\n",
       "        vertical-align: top;\n",
       "    }\n",
       "</style>\n",
       "<table border=\"1\" class=\"dataframe\">\n",
       "  <thead>\n",
       "    <tr style=\"text-align: right;\">\n",
       "      <th></th>\n",
       "      <th>air_store_id</th>\n",
       "      <th>visit_date</th>\n",
       "      <th>visitors</th>\n",
       "      <th>dom</th>\n",
       "      <th>dow</th>\n",
       "      <th>doy</th>\n",
       "      <th>month</th>\n",
       "      <th>quarter</th>\n",
       "      <th>year</th>\n",
       "      <th>store</th>\n",
       "      <th>holi</th>\n",
       "      <th>gen</th>\n",
       "      <th>area</th>\n",
       "      <th>doq</th>\n",
       "      <th>id</th>\n",
       "      <th>area_genre_comp</th>\n",
       "      <th>area_comp</th>\n",
       "    </tr>\n",
       "  </thead>\n",
       "  <tbody>\n",
       "    <tr>\n",
       "      <th>0</th>\n",
       "      <td>air_ba937bf13d40fb24</td>\n",
       "      <td>2016-01-13</td>\n",
       "      <td>25</td>\n",
       "      <td>12</td>\n",
       "      <td>2</td>\n",
       "      <td>12</td>\n",
       "      <td>0</td>\n",
       "      <td>0</td>\n",
       "      <td>0</td>\n",
       "      <td>517</td>\n",
       "      <td>0</td>\n",
       "      <td>13</td>\n",
       "      <td>33</td>\n",
       "      <td>12</td>\n",
       "      <td>1.0</td>\n",
       "      <td>2514</td>\n",
       "      <td>14696</td>\n",
       "    </tr>\n",
       "    <tr>\n",
       "      <th>1</th>\n",
       "      <td>air_ba937bf13d40fb24</td>\n",
       "      <td>2016-01-14</td>\n",
       "      <td>32</td>\n",
       "      <td>13</td>\n",
       "      <td>3</td>\n",
       "      <td>13</td>\n",
       "      <td>0</td>\n",
       "      <td>0</td>\n",
       "      <td>0</td>\n",
       "      <td>517</td>\n",
       "      <td>0</td>\n",
       "      <td>13</td>\n",
       "      <td>33</td>\n",
       "      <td>13</td>\n",
       "      <td>1.0</td>\n",
       "      <td>2514</td>\n",
       "      <td>14696</td>\n",
       "    </tr>\n",
       "    <tr>\n",
       "      <th>2</th>\n",
       "      <td>air_ba937bf13d40fb24</td>\n",
       "      <td>2016-01-15</td>\n",
       "      <td>29</td>\n",
       "      <td>14</td>\n",
       "      <td>4</td>\n",
       "      <td>14</td>\n",
       "      <td>0</td>\n",
       "      <td>0</td>\n",
       "      <td>0</td>\n",
       "      <td>517</td>\n",
       "      <td>0</td>\n",
       "      <td>13</td>\n",
       "      <td>33</td>\n",
       "      <td>14</td>\n",
       "      <td>1.0</td>\n",
       "      <td>2514</td>\n",
       "      <td>14696</td>\n",
       "    </tr>\n",
       "    <tr>\n",
       "      <th>3</th>\n",
       "      <td>air_ba937bf13d40fb24</td>\n",
       "      <td>2016-01-16</td>\n",
       "      <td>22</td>\n",
       "      <td>15</td>\n",
       "      <td>5</td>\n",
       "      <td>15</td>\n",
       "      <td>0</td>\n",
       "      <td>0</td>\n",
       "      <td>0</td>\n",
       "      <td>517</td>\n",
       "      <td>0</td>\n",
       "      <td>13</td>\n",
       "      <td>33</td>\n",
       "      <td>15</td>\n",
       "      <td>1.0</td>\n",
       "      <td>2514</td>\n",
       "      <td>14696</td>\n",
       "    </tr>\n",
       "    <tr>\n",
       "      <th>4</th>\n",
       "      <td>air_ba937bf13d40fb24</td>\n",
       "      <td>2016-01-18</td>\n",
       "      <td>6</td>\n",
       "      <td>17</td>\n",
       "      <td>0</td>\n",
       "      <td>17</td>\n",
       "      <td>0</td>\n",
       "      <td>0</td>\n",
       "      <td>0</td>\n",
       "      <td>517</td>\n",
       "      <td>0</td>\n",
       "      <td>13</td>\n",
       "      <td>33</td>\n",
       "      <td>17</td>\n",
       "      <td>1.0</td>\n",
       "      <td>2514</td>\n",
       "      <td>14696</td>\n",
       "    </tr>\n",
       "  </tbody>\n",
       "</table>\n",
       "</div>"
      ],
      "text/plain": [
       "           air_store_id  visit_date  visitors  dom  dow  doy  month  quarter  \\\n",
       "0  air_ba937bf13d40fb24  2016-01-13        25   12    2   12      0        0   \n",
       "1  air_ba937bf13d40fb24  2016-01-14        32   13    3   13      0        0   \n",
       "2  air_ba937bf13d40fb24  2016-01-15        29   14    4   14      0        0   \n",
       "3  air_ba937bf13d40fb24  2016-01-16        22   15    5   15      0        0   \n",
       "4  air_ba937bf13d40fb24  2016-01-18         6   17    0   17      0        0   \n",
       "\n",
       "   year  store  holi  gen  area  doq   id  area_genre_comp  area_comp  \n",
       "0     0    517     0   13    33   12  1.0             2514      14696  \n",
       "1     0    517     0   13    33   13  1.0             2514      14696  \n",
       "2     0    517     0   13    33   14  1.0             2514      14696  \n",
       "3     0    517     0   13    33   15  1.0             2514      14696  \n",
       "4     0    517     0   13    33   17  1.0             2514      14696  "
      ]
     },
     "execution_count": 17,
     "metadata": {},
     "output_type": "execute_result"
    }
   ],
   "source": [
    "air_data.head()"
   ]
  },
  {
   "cell_type": "code",
   "execution_count": 18,
   "metadata": {
    "collapsed": true
   },
   "outputs": [],
   "source": [
    "tmp = together.groupby(['year','quarter','gen','area'],as_index=False\n",
    "                      )['visitors'].sum().rename(columns={'visitors':'quarterly_genre_visit'})"
   ]
  },
  {
   "cell_type": "code",
   "execution_count": 19,
   "metadata": {},
   "outputs": [
    {
     "data": {
      "text/html": [
       "<div>\n",
       "<style>\n",
       "    .dataframe thead tr:only-child th {\n",
       "        text-align: right;\n",
       "    }\n",
       "\n",
       "    .dataframe thead th {\n",
       "        text-align: left;\n",
       "    }\n",
       "\n",
       "    .dataframe tbody tr th {\n",
       "        vertical-align: top;\n",
       "    }\n",
       "</style>\n",
       "<table border=\"1\" class=\"dataframe\">\n",
       "  <thead>\n",
       "    <tr style=\"text-align: right;\">\n",
       "      <th></th>\n",
       "      <th>year</th>\n",
       "      <th>quarter</th>\n",
       "      <th>gen</th>\n",
       "      <th>area</th>\n",
       "      <th>quarterly_genre_visit</th>\n",
       "    </tr>\n",
       "  </thead>\n",
       "  <tbody>\n",
       "    <tr>\n",
       "      <th>0</th>\n",
       "      <td>0</td>\n",
       "      <td>0</td>\n",
       "      <td>0</td>\n",
       "      <td>0</td>\n",
       "      <td>2638</td>\n",
       "    </tr>\n",
       "    <tr>\n",
       "      <th>1</th>\n",
       "      <td>0</td>\n",
       "      <td>0</td>\n",
       "      <td>0</td>\n",
       "      <td>1</td>\n",
       "      <td>1488</td>\n",
       "    </tr>\n",
       "    <tr>\n",
       "      <th>2</th>\n",
       "      <td>0</td>\n",
       "      <td>0</td>\n",
       "      <td>0</td>\n",
       "      <td>3</td>\n",
       "      <td>2210</td>\n",
       "    </tr>\n",
       "    <tr>\n",
       "      <th>3</th>\n",
       "      <td>0</td>\n",
       "      <td>0</td>\n",
       "      <td>0</td>\n",
       "      <td>4</td>\n",
       "      <td>809</td>\n",
       "    </tr>\n",
       "    <tr>\n",
       "      <th>4</th>\n",
       "      <td>0</td>\n",
       "      <td>0</td>\n",
       "      <td>0</td>\n",
       "      <td>5</td>\n",
       "      <td>2822</td>\n",
       "    </tr>\n",
       "  </tbody>\n",
       "</table>\n",
       "</div>"
      ],
      "text/plain": [
       "   year  quarter  gen  area  quarterly_genre_visit\n",
       "0     0        0    0     0                   2638\n",
       "1     0        0    0     1                   1488\n",
       "2     0        0    0     3                   2210\n",
       "3     0        0    0     4                    809\n",
       "4     0        0    0     5                   2822"
      ]
     },
     "execution_count": 19,
     "metadata": {},
     "output_type": "execute_result"
    }
   ],
   "source": [
    "tmp.head()"
   ]
  },
  {
   "cell_type": "code",
   "execution_count": 20,
   "metadata": {
    "collapsed": true
   },
   "outputs": [],
   "source": [
    "tmp_no_gen = together.groupby(['year','quarter','area'],as_index=False\n",
    "                             )['visitors'].sum().rename(columns={'visitors':'quarterly_visit'})"
   ]
  },
  {
   "cell_type": "code",
   "execution_count": 21,
   "metadata": {},
   "outputs": [
    {
     "data": {
      "text/plain": [
       "(584, 4)"
      ]
     },
     "execution_count": 21,
     "metadata": {},
     "output_type": "execute_result"
    }
   ],
   "source": [
    "tmp_no_gen.shape"
   ]
  },
  {
   "cell_type": "code",
   "execution_count": 22,
   "metadata": {
    "collapsed": true
   },
   "outputs": [],
   "source": [
    "tmp = pd.merge(tmp,tmp_no_gen,how='inner',on=['year','quarter','area'])"
   ]
  },
  {
   "cell_type": "code",
   "execution_count": 23,
   "metadata": {},
   "outputs": [
    {
     "data": {
      "text/html": [
       "<div>\n",
       "<style>\n",
       "    .dataframe thead tr:only-child th {\n",
       "        text-align: right;\n",
       "    }\n",
       "\n",
       "    .dataframe thead th {\n",
       "        text-align: left;\n",
       "    }\n",
       "\n",
       "    .dataframe tbody tr th {\n",
       "        vertical-align: top;\n",
       "    }\n",
       "</style>\n",
       "<table border=\"1\" class=\"dataframe\">\n",
       "  <thead>\n",
       "    <tr style=\"text-align: right;\">\n",
       "      <th></th>\n",
       "      <th>year</th>\n",
       "      <th>quarter</th>\n",
       "      <th>gen</th>\n",
       "      <th>area</th>\n",
       "      <th>quarterly_genre_visit</th>\n",
       "      <th>quarterly_visit</th>\n",
       "    </tr>\n",
       "  </thead>\n",
       "  <tbody>\n",
       "    <tr>\n",
       "      <th>0</th>\n",
       "      <td>0</td>\n",
       "      <td>0</td>\n",
       "      <td>0</td>\n",
       "      <td>0</td>\n",
       "      <td>2638</td>\n",
       "      <td>2638</td>\n",
       "    </tr>\n",
       "    <tr>\n",
       "      <th>1</th>\n",
       "      <td>0</td>\n",
       "      <td>0</td>\n",
       "      <td>0</td>\n",
       "      <td>1</td>\n",
       "      <td>1488</td>\n",
       "      <td>11183</td>\n",
       "    </tr>\n",
       "    <tr>\n",
       "      <th>2</th>\n",
       "      <td>0</td>\n",
       "      <td>0</td>\n",
       "      <td>1</td>\n",
       "      <td>1</td>\n",
       "      <td>1422</td>\n",
       "      <td>11183</td>\n",
       "    </tr>\n",
       "    <tr>\n",
       "      <th>3</th>\n",
       "      <td>0</td>\n",
       "      <td>0</td>\n",
       "      <td>5</td>\n",
       "      <td>1</td>\n",
       "      <td>1601</td>\n",
       "      <td>11183</td>\n",
       "    </tr>\n",
       "    <tr>\n",
       "      <th>4</th>\n",
       "      <td>0</td>\n",
       "      <td>0</td>\n",
       "      <td>6</td>\n",
       "      <td>1</td>\n",
       "      <td>6672</td>\n",
       "      <td>11183</td>\n",
       "    </tr>\n",
       "  </tbody>\n",
       "</table>\n",
       "</div>"
      ],
      "text/plain": [
       "   year  quarter  gen  area  quarterly_genre_visit  quarterly_visit\n",
       "0     0        0    0     0                   2638             2638\n",
       "1     0        0    0     1                   1488            11183\n",
       "2     0        0    1     1                   1422            11183\n",
       "3     0        0    5     1                   1601            11183\n",
       "4     0        0    6     1                   6672            11183"
      ]
     },
     "execution_count": 23,
     "metadata": {},
     "output_type": "execute_result"
    }
   ],
   "source": [
    "tmp.head()"
   ]
  },
  {
   "cell_type": "code",
   "execution_count": 24,
   "metadata": {},
   "outputs": [
    {
     "data": {
      "text/plain": [
       "(1331, 6)"
      ]
     },
     "execution_count": 24,
     "metadata": {},
     "output_type": "execute_result"
    }
   ],
   "source": [
    "tmp.shape"
   ]
  },
  {
   "cell_type": "code",
   "execution_count": 25,
   "metadata": {},
   "outputs": [
    {
     "data": {
      "text/plain": [
       "True"
      ]
     },
     "execution_count": 25,
     "metadata": {},
     "output_type": "execute_result"
    }
   ],
   "source": [
    "tmp.quarterly_visit.any(0)"
   ]
  },
  {
   "cell_type": "code",
   "execution_count": 26,
   "metadata": {
    "collapsed": true
   },
   "outputs": [],
   "source": [
    "def get_gen_perc(data):\n",
    "    if data.quarterly_visit == 0:\n",
    "        return 0\n",
    "    else:\n",
    "        return data.quarterly_genre_visit/data.quarterly_visit"
   ]
  },
  {
   "cell_type": "code",
   "execution_count": 27,
   "metadata": {},
   "outputs": [
    {
     "data": {
      "text/plain": [
       "0    1.000000\n",
       "1    0.133059\n",
       "2    0.127157\n",
       "dtype: float64"
      ]
     },
     "execution_count": 27,
     "metadata": {},
     "output_type": "execute_result"
    }
   ],
   "source": [
    "tmp.iloc[:3].apply(get_gen_perc,axis=1)"
   ]
  },
  {
   "cell_type": "code",
   "execution_count": 28,
   "metadata": {
    "collapsed": true
   },
   "outputs": [],
   "source": [
    "tmp['gen_pop_quarterly'] = tmp.apply(get_gen_perc,axis=1)"
   ]
  },
  {
   "cell_type": "code",
   "execution_count": 29,
   "metadata": {},
   "outputs": [
    {
     "data": {
      "text/html": [
       "<div>\n",
       "<style>\n",
       "    .dataframe thead tr:only-child th {\n",
       "        text-align: right;\n",
       "    }\n",
       "\n",
       "    .dataframe thead th {\n",
       "        text-align: left;\n",
       "    }\n",
       "\n",
       "    .dataframe tbody tr th {\n",
       "        vertical-align: top;\n",
       "    }\n",
       "</style>\n",
       "<table border=\"1\" class=\"dataframe\">\n",
       "  <thead>\n",
       "    <tr style=\"text-align: right;\">\n",
       "      <th></th>\n",
       "      <th>year</th>\n",
       "      <th>quarter</th>\n",
       "      <th>gen</th>\n",
       "      <th>area</th>\n",
       "      <th>quarterly_genre_visit</th>\n",
       "      <th>quarterly_visit</th>\n",
       "      <th>gen_pop_quarterly</th>\n",
       "    </tr>\n",
       "  </thead>\n",
       "  <tbody>\n",
       "    <tr>\n",
       "      <th>0</th>\n",
       "      <td>0</td>\n",
       "      <td>0</td>\n",
       "      <td>0</td>\n",
       "      <td>0</td>\n",
       "      <td>2638</td>\n",
       "      <td>2638</td>\n",
       "      <td>1.000000</td>\n",
       "    </tr>\n",
       "    <tr>\n",
       "      <th>1</th>\n",
       "      <td>0</td>\n",
       "      <td>0</td>\n",
       "      <td>0</td>\n",
       "      <td>1</td>\n",
       "      <td>1488</td>\n",
       "      <td>11183</td>\n",
       "      <td>0.133059</td>\n",
       "    </tr>\n",
       "    <tr>\n",
       "      <th>2</th>\n",
       "      <td>0</td>\n",
       "      <td>0</td>\n",
       "      <td>1</td>\n",
       "      <td>1</td>\n",
       "      <td>1422</td>\n",
       "      <td>11183</td>\n",
       "      <td>0.127157</td>\n",
       "    </tr>\n",
       "    <tr>\n",
       "      <th>3</th>\n",
       "      <td>0</td>\n",
       "      <td>0</td>\n",
       "      <td>5</td>\n",
       "      <td>1</td>\n",
       "      <td>1601</td>\n",
       "      <td>11183</td>\n",
       "      <td>0.143164</td>\n",
       "    </tr>\n",
       "    <tr>\n",
       "      <th>4</th>\n",
       "      <td>0</td>\n",
       "      <td>0</td>\n",
       "      <td>6</td>\n",
       "      <td>1</td>\n",
       "      <td>6672</td>\n",
       "      <td>11183</td>\n",
       "      <td>0.596620</td>\n",
       "    </tr>\n",
       "  </tbody>\n",
       "</table>\n",
       "</div>"
      ],
      "text/plain": [
       "   year  quarter  gen  area  quarterly_genre_visit  quarterly_visit  \\\n",
       "0     0        0    0     0                   2638             2638   \n",
       "1     0        0    0     1                   1488            11183   \n",
       "2     0        0    1     1                   1422            11183   \n",
       "3     0        0    5     1                   1601            11183   \n",
       "4     0        0    6     1                   6672            11183   \n",
       "\n",
       "   gen_pop_quarterly  \n",
       "0           1.000000  \n",
       "1           0.133059  \n",
       "2           0.127157  \n",
       "3           0.143164  \n",
       "4           0.596620  "
      ]
     },
     "execution_count": 29,
     "metadata": {},
     "output_type": "execute_result"
    }
   ],
   "source": [
    "tmp.head()"
   ]
  },
  {
   "cell_type": "code",
   "execution_count": 30,
   "metadata": {
    "collapsed": true
   },
   "outputs": [],
   "source": [
    "tmp = tmp.sort_values(by=['gen','area','year','quarter'])"
   ]
  },
  {
   "cell_type": "code",
   "execution_count": 31,
   "metadata": {
    "collapsed": true
   },
   "outputs": [],
   "source": [
    "def get_gen_area(data):\n",
    "    return str(data.gen)+str(data.area)"
   ]
  },
  {
   "cell_type": "code",
   "execution_count": 32,
   "metadata": {},
   "outputs": [
    {
     "data": {
      "text/plain": [
       "0      0.00.0\n",
       "177    0.00.0\n",
       "356    0.00.0\n",
       "dtype: object"
      ]
     },
     "execution_count": 32,
     "metadata": {},
     "output_type": "execute_result"
    }
   ],
   "source": [
    "tmp.iloc[:3].apply(get_gen_area,axis=1)"
   ]
  },
  {
   "cell_type": "code",
   "execution_count": 33,
   "metadata": {
    "collapsed": true
   },
   "outputs": [],
   "source": [
    "tmp['gen_area'] = tmp.apply(get_gen_area,axis=1)"
   ]
  },
  {
   "cell_type": "code",
   "execution_count": 34,
   "metadata": {},
   "outputs": [
    {
     "data": {
      "text/html": [
       "<div>\n",
       "<style>\n",
       "    .dataframe thead tr:only-child th {\n",
       "        text-align: right;\n",
       "    }\n",
       "\n",
       "    .dataframe thead th {\n",
       "        text-align: left;\n",
       "    }\n",
       "\n",
       "    .dataframe tbody tr th {\n",
       "        vertical-align: top;\n",
       "    }\n",
       "</style>\n",
       "<table border=\"1\" class=\"dataframe\">\n",
       "  <thead>\n",
       "    <tr style=\"text-align: right;\">\n",
       "      <th></th>\n",
       "      <th>year</th>\n",
       "      <th>quarter</th>\n",
       "      <th>gen</th>\n",
       "      <th>area</th>\n",
       "      <th>quarterly_genre_visit</th>\n",
       "      <th>quarterly_visit</th>\n",
       "      <th>gen_pop_quarterly</th>\n",
       "      <th>gen_area</th>\n",
       "    </tr>\n",
       "  </thead>\n",
       "  <tbody>\n",
       "    <tr>\n",
       "      <th>0</th>\n",
       "      <td>0</td>\n",
       "      <td>0</td>\n",
       "      <td>0</td>\n",
       "      <td>0</td>\n",
       "      <td>2638</td>\n",
       "      <td>2638</td>\n",
       "      <td>1.0</td>\n",
       "      <td>0.00.0</td>\n",
       "    </tr>\n",
       "    <tr>\n",
       "      <th>177</th>\n",
       "      <td>0</td>\n",
       "      <td>1</td>\n",
       "      <td>0</td>\n",
       "      <td>0</td>\n",
       "      <td>2521</td>\n",
       "      <td>2521</td>\n",
       "      <td>1.0</td>\n",
       "      <td>0.00.0</td>\n",
       "    </tr>\n",
       "    <tr>\n",
       "      <th>356</th>\n",
       "      <td>0</td>\n",
       "      <td>2</td>\n",
       "      <td>0</td>\n",
       "      <td>0</td>\n",
       "      <td>2623</td>\n",
       "      <td>2623</td>\n",
       "      <td>1.0</td>\n",
       "      <td>0.00.0</td>\n",
       "    </tr>\n",
       "    <tr>\n",
       "      <th>600</th>\n",
       "      <td>0</td>\n",
       "      <td>3</td>\n",
       "      <td>0</td>\n",
       "      <td>0</td>\n",
       "      <td>2928</td>\n",
       "      <td>2928</td>\n",
       "      <td>1.0</td>\n",
       "      <td>0.00.0</td>\n",
       "    </tr>\n",
       "    <tr>\n",
       "      <th>844</th>\n",
       "      <td>1</td>\n",
       "      <td>0</td>\n",
       "      <td>0</td>\n",
       "      <td>0</td>\n",
       "      <td>2553</td>\n",
       "      <td>2553</td>\n",
       "      <td>1.0</td>\n",
       "      <td>0.00.0</td>\n",
       "    </tr>\n",
       "  </tbody>\n",
       "</table>\n",
       "</div>"
      ],
      "text/plain": [
       "     year  quarter  gen  area  quarterly_genre_visit  quarterly_visit  \\\n",
       "0       0        0    0     0                   2638             2638   \n",
       "177     0        1    0     0                   2521             2521   \n",
       "356     0        2    0     0                   2623             2623   \n",
       "600     0        3    0     0                   2928             2928   \n",
       "844     1        0    0     0                   2553             2553   \n",
       "\n",
       "     gen_pop_quarterly gen_area  \n",
       "0                  1.0   0.00.0  \n",
       "177                1.0   0.00.0  \n",
       "356                1.0   0.00.0  \n",
       "600                1.0   0.00.0  \n",
       "844                1.0   0.00.0  "
      ]
     },
     "execution_count": 34,
     "metadata": {},
     "output_type": "execute_result"
    }
   ],
   "source": [
    "tmp.head()"
   ]
  },
  {
   "cell_type": "code",
   "execution_count": 35,
   "metadata": {},
   "outputs": [
    {
     "data": {
      "text/html": [
       "<div>\n",
       "<style>\n",
       "    .dataframe thead tr:only-child th {\n",
       "        text-align: right;\n",
       "    }\n",
       "\n",
       "    .dataframe thead th {\n",
       "        text-align: left;\n",
       "    }\n",
       "\n",
       "    .dataframe tbody tr th {\n",
       "        vertical-align: top;\n",
       "    }\n",
       "</style>\n",
       "<table border=\"1\" class=\"dataframe\">\n",
       "  <thead>\n",
       "    <tr style=\"text-align: right;\">\n",
       "      <th></th>\n",
       "      <th>gen_area</th>\n",
       "      <th>year</th>\n",
       "      <th>quarter</th>\n",
       "      <th>gen_pop_quarterly</th>\n",
       "    </tr>\n",
       "  </thead>\n",
       "  <tbody>\n",
       "    <tr>\n",
       "      <th>0</th>\n",
       "      <td>0.00.0</td>\n",
       "      <td>0</td>\n",
       "      <td>0</td>\n",
       "      <td>1.0</td>\n",
       "    </tr>\n",
       "    <tr>\n",
       "      <th>177</th>\n",
       "      <td>0.00.0</td>\n",
       "      <td>0</td>\n",
       "      <td>1</td>\n",
       "      <td>1.0</td>\n",
       "    </tr>\n",
       "    <tr>\n",
       "      <th>356</th>\n",
       "      <td>0.00.0</td>\n",
       "      <td>0</td>\n",
       "      <td>2</td>\n",
       "      <td>1.0</td>\n",
       "    </tr>\n",
       "    <tr>\n",
       "      <th>600</th>\n",
       "      <td>0.00.0</td>\n",
       "      <td>0</td>\n",
       "      <td>3</td>\n",
       "      <td>1.0</td>\n",
       "    </tr>\n",
       "    <tr>\n",
       "      <th>844</th>\n",
       "      <td>0.00.0</td>\n",
       "      <td>1</td>\n",
       "      <td>0</td>\n",
       "      <td>1.0</td>\n",
       "    </tr>\n",
       "  </tbody>\n",
       "</table>\n",
       "</div>"
      ],
      "text/plain": [
       "    gen_area  year  quarter  gen_pop_quarterly\n",
       "0     0.00.0     0        0                1.0\n",
       "177   0.00.0     0        1                1.0\n",
       "356   0.00.0     0        2                1.0\n",
       "600   0.00.0     0        3                1.0\n",
       "844   0.00.0     1        0                1.0"
      ]
     },
     "execution_count": 35,
     "metadata": {},
     "output_type": "execute_result"
    }
   ],
   "source": [
    "tmp[['gen_area','year','quarter','gen_pop_quarterly']].head()"
   ]
  },
  {
   "cell_type": "code",
   "execution_count": 36,
   "metadata": {
    "collapsed": true
   },
   "outputs": [],
   "source": [
    "tmp['last_gen_pop_quarterly']=tmp.gen_pop_quarterly.shift(1)"
   ]
  },
  {
   "cell_type": "code",
   "execution_count": 37,
   "metadata": {
    "scrolled": true
   },
   "outputs": [
    {
     "data": {
      "text/html": [
       "<div>\n",
       "<style>\n",
       "    .dataframe thead tr:only-child th {\n",
       "        text-align: right;\n",
       "    }\n",
       "\n",
       "    .dataframe thead th {\n",
       "        text-align: left;\n",
       "    }\n",
       "\n",
       "    .dataframe tbody tr th {\n",
       "        vertical-align: top;\n",
       "    }\n",
       "</style>\n",
       "<table border=\"1\" class=\"dataframe\">\n",
       "  <thead>\n",
       "    <tr style=\"text-align: right;\">\n",
       "      <th></th>\n",
       "      <th>year</th>\n",
       "      <th>quarter</th>\n",
       "      <th>gen</th>\n",
       "      <th>area</th>\n",
       "      <th>quarterly_genre_visit</th>\n",
       "      <th>quarterly_visit</th>\n",
       "      <th>gen_pop_quarterly</th>\n",
       "      <th>gen_area</th>\n",
       "      <th>last_gen_pop_quarterly</th>\n",
       "    </tr>\n",
       "  </thead>\n",
       "  <tbody>\n",
       "    <tr>\n",
       "      <th>0</th>\n",
       "      <td>0</td>\n",
       "      <td>0</td>\n",
       "      <td>0</td>\n",
       "      <td>0</td>\n",
       "      <td>2638</td>\n",
       "      <td>2638</td>\n",
       "      <td>1.0</td>\n",
       "      <td>0.00.0</td>\n",
       "      <td>NaN</td>\n",
       "    </tr>\n",
       "    <tr>\n",
       "      <th>177</th>\n",
       "      <td>0</td>\n",
       "      <td>1</td>\n",
       "      <td>0</td>\n",
       "      <td>0</td>\n",
       "      <td>2521</td>\n",
       "      <td>2521</td>\n",
       "      <td>1.0</td>\n",
       "      <td>0.00.0</td>\n",
       "      <td>1.0</td>\n",
       "    </tr>\n",
       "    <tr>\n",
       "      <th>356</th>\n",
       "      <td>0</td>\n",
       "      <td>2</td>\n",
       "      <td>0</td>\n",
       "      <td>0</td>\n",
       "      <td>2623</td>\n",
       "      <td>2623</td>\n",
       "      <td>1.0</td>\n",
       "      <td>0.00.0</td>\n",
       "      <td>1.0</td>\n",
       "    </tr>\n",
       "    <tr>\n",
       "      <th>600</th>\n",
       "      <td>0</td>\n",
       "      <td>3</td>\n",
       "      <td>0</td>\n",
       "      <td>0</td>\n",
       "      <td>2928</td>\n",
       "      <td>2928</td>\n",
       "      <td>1.0</td>\n",
       "      <td>0.00.0</td>\n",
       "      <td>1.0</td>\n",
       "    </tr>\n",
       "    <tr>\n",
       "      <th>844</th>\n",
       "      <td>1</td>\n",
       "      <td>0</td>\n",
       "      <td>0</td>\n",
       "      <td>0</td>\n",
       "      <td>2553</td>\n",
       "      <td>2553</td>\n",
       "      <td>1.0</td>\n",
       "      <td>0.00.0</td>\n",
       "      <td>1.0</td>\n",
       "    </tr>\n",
       "  </tbody>\n",
       "</table>\n",
       "</div>"
      ],
      "text/plain": [
       "     year  quarter  gen  area  quarterly_genre_visit  quarterly_visit  \\\n",
       "0       0        0    0     0                   2638             2638   \n",
       "177     0        1    0     0                   2521             2521   \n",
       "356     0        2    0     0                   2623             2623   \n",
       "600     0        3    0     0                   2928             2928   \n",
       "844     1        0    0     0                   2553             2553   \n",
       "\n",
       "     gen_pop_quarterly gen_area  last_gen_pop_quarterly  \n",
       "0                  1.0   0.00.0                     NaN  \n",
       "177                1.0   0.00.0                     1.0  \n",
       "356                1.0   0.00.0                     1.0  \n",
       "600                1.0   0.00.0                     1.0  \n",
       "844                1.0   0.00.0                     1.0  "
      ]
     },
     "execution_count": 37,
     "metadata": {},
     "output_type": "execute_result"
    }
   ],
   "source": [
    "tmp.head()"
   ]
  },
  {
   "cell_type": "code",
   "execution_count": 38,
   "metadata": {
    "collapsed": true
   },
   "outputs": [],
   "source": [
    "tmp['gen_area_shift'] = tmp.gen_area.shift(1)"
   ]
  },
  {
   "cell_type": "code",
   "execution_count": 39,
   "metadata": {
    "collapsed": true
   },
   "outputs": [],
   "source": [
    "def get_lqpq(data):\n",
    "    if data.gen_area_shift!=data.gen_area:\n",
    "        return -1\n",
    "    else:\n",
    "        return data.last_gen_pop_quarterly"
   ]
  },
  {
   "cell_type": "code",
   "execution_count": 40,
   "metadata": {
    "collapsed": true
   },
   "outputs": [],
   "source": [
    "tmp['last_quarter_gen_pop']=tmp.apply(get_lqpq,axis=1)"
   ]
  },
  {
   "cell_type": "code",
   "execution_count": 41,
   "metadata": {},
   "outputs": [
    {
     "data": {
      "text/html": [
       "<div>\n",
       "<style>\n",
       "    .dataframe thead tr:only-child th {\n",
       "        text-align: right;\n",
       "    }\n",
       "\n",
       "    .dataframe thead th {\n",
       "        text-align: left;\n",
       "    }\n",
       "\n",
       "    .dataframe tbody tr th {\n",
       "        vertical-align: top;\n",
       "    }\n",
       "</style>\n",
       "<table border=\"1\" class=\"dataframe\">\n",
       "  <thead>\n",
       "    <tr style=\"text-align: right;\">\n",
       "      <th></th>\n",
       "      <th>year</th>\n",
       "      <th>quarter</th>\n",
       "      <th>gen</th>\n",
       "      <th>area</th>\n",
       "      <th>quarterly_genre_visit</th>\n",
       "      <th>quarterly_visit</th>\n",
       "      <th>gen_pop_quarterly</th>\n",
       "      <th>gen_area</th>\n",
       "      <th>last_gen_pop_quarterly</th>\n",
       "      <th>gen_area_shift</th>\n",
       "      <th>last_quarter_gen_pop</th>\n",
       "    </tr>\n",
       "  </thead>\n",
       "  <tbody>\n",
       "    <tr>\n",
       "      <th>0</th>\n",
       "      <td>0</td>\n",
       "      <td>0</td>\n",
       "      <td>0</td>\n",
       "      <td>0</td>\n",
       "      <td>2638</td>\n",
       "      <td>2638</td>\n",
       "      <td>1.0</td>\n",
       "      <td>0.00.0</td>\n",
       "      <td>NaN</td>\n",
       "      <td>NaN</td>\n",
       "      <td>-1.0</td>\n",
       "    </tr>\n",
       "    <tr>\n",
       "      <th>177</th>\n",
       "      <td>0</td>\n",
       "      <td>1</td>\n",
       "      <td>0</td>\n",
       "      <td>0</td>\n",
       "      <td>2521</td>\n",
       "      <td>2521</td>\n",
       "      <td>1.0</td>\n",
       "      <td>0.00.0</td>\n",
       "      <td>1.0</td>\n",
       "      <td>0.00.0</td>\n",
       "      <td>1.0</td>\n",
       "    </tr>\n",
       "    <tr>\n",
       "      <th>356</th>\n",
       "      <td>0</td>\n",
       "      <td>2</td>\n",
       "      <td>0</td>\n",
       "      <td>0</td>\n",
       "      <td>2623</td>\n",
       "      <td>2623</td>\n",
       "      <td>1.0</td>\n",
       "      <td>0.00.0</td>\n",
       "      <td>1.0</td>\n",
       "      <td>0.00.0</td>\n",
       "      <td>1.0</td>\n",
       "    </tr>\n",
       "    <tr>\n",
       "      <th>600</th>\n",
       "      <td>0</td>\n",
       "      <td>3</td>\n",
       "      <td>0</td>\n",
       "      <td>0</td>\n",
       "      <td>2928</td>\n",
       "      <td>2928</td>\n",
       "      <td>1.0</td>\n",
       "      <td>0.00.0</td>\n",
       "      <td>1.0</td>\n",
       "      <td>0.00.0</td>\n",
       "      <td>1.0</td>\n",
       "    </tr>\n",
       "    <tr>\n",
       "      <th>844</th>\n",
       "      <td>1</td>\n",
       "      <td>0</td>\n",
       "      <td>0</td>\n",
       "      <td>0</td>\n",
       "      <td>2553</td>\n",
       "      <td>2553</td>\n",
       "      <td>1.0</td>\n",
       "      <td>0.00.0</td>\n",
       "      <td>1.0</td>\n",
       "      <td>0.00.0</td>\n",
       "      <td>1.0</td>\n",
       "    </tr>\n",
       "  </tbody>\n",
       "</table>\n",
       "</div>"
      ],
      "text/plain": [
       "     year  quarter  gen  area  quarterly_genre_visit  quarterly_visit  \\\n",
       "0       0        0    0     0                   2638             2638   \n",
       "177     0        1    0     0                   2521             2521   \n",
       "356     0        2    0     0                   2623             2623   \n",
       "600     0        3    0     0                   2928             2928   \n",
       "844     1        0    0     0                   2553             2553   \n",
       "\n",
       "     gen_pop_quarterly gen_area  last_gen_pop_quarterly gen_area_shift  \\\n",
       "0                  1.0   0.00.0                     NaN            NaN   \n",
       "177                1.0   0.00.0                     1.0         0.00.0   \n",
       "356                1.0   0.00.0                     1.0         0.00.0   \n",
       "600                1.0   0.00.0                     1.0         0.00.0   \n",
       "844                1.0   0.00.0                     1.0         0.00.0   \n",
       "\n",
       "     last_quarter_gen_pop  \n",
       "0                    -1.0  \n",
       "177                   1.0  \n",
       "356                   1.0  \n",
       "600                   1.0  \n",
       "844                   1.0  "
      ]
     },
     "execution_count": 41,
     "metadata": {},
     "output_type": "execute_result"
    }
   ],
   "source": [
    "tmp.head()"
   ]
  },
  {
   "cell_type": "code",
   "execution_count": 42,
   "metadata": {
    "collapsed": true
   },
   "outputs": [],
   "source": [
    "tmp = tmp[['year','quarter','gen','area','last_quarter_gen_pop']]"
   ]
  },
  {
   "cell_type": "code",
   "execution_count": 43,
   "metadata": {
    "collapsed": true
   },
   "outputs": [],
   "source": [
    "together = pd.merge(together,tmp,how='inner',on=['year','quarter','gen','area'])"
   ]
  },
  {
   "cell_type": "code",
   "execution_count": 44,
   "metadata": {},
   "outputs": [
    {
     "data": {
      "text/html": [
       "<div>\n",
       "<style>\n",
       "    .dataframe thead tr:only-child th {\n",
       "        text-align: right;\n",
       "    }\n",
       "\n",
       "    .dataframe thead th {\n",
       "        text-align: left;\n",
       "    }\n",
       "\n",
       "    .dataframe tbody tr th {\n",
       "        vertical-align: top;\n",
       "    }\n",
       "</style>\n",
       "<table border=\"1\" class=\"dataframe\">\n",
       "  <thead>\n",
       "    <tr style=\"text-align: right;\">\n",
       "      <th></th>\n",
       "      <th>air_store_id</th>\n",
       "      <th>area</th>\n",
       "      <th>dom</th>\n",
       "      <th>doq</th>\n",
       "      <th>dow</th>\n",
       "      <th>doy</th>\n",
       "      <th>gen</th>\n",
       "      <th>holi</th>\n",
       "      <th>id</th>\n",
       "      <th>month</th>\n",
       "      <th>quarter</th>\n",
       "      <th>store</th>\n",
       "      <th>visit_date</th>\n",
       "      <th>visitors</th>\n",
       "      <th>year</th>\n",
       "      <th>last_quarter_gen_pop</th>\n",
       "    </tr>\n",
       "  </thead>\n",
       "  <tbody>\n",
       "    <tr>\n",
       "      <th>0</th>\n",
       "      <td>air_ba937bf13d40fb24</td>\n",
       "      <td>33</td>\n",
       "      <td>12</td>\n",
       "      <td>12</td>\n",
       "      <td>2</td>\n",
       "      <td>12</td>\n",
       "      <td>13</td>\n",
       "      <td>0</td>\n",
       "      <td>1</td>\n",
       "      <td>0</td>\n",
       "      <td>0</td>\n",
       "      <td>517</td>\n",
       "      <td>2016-01-13</td>\n",
       "      <td>25</td>\n",
       "      <td>0</td>\n",
       "      <td>-1.0</td>\n",
       "    </tr>\n",
       "    <tr>\n",
       "      <th>1</th>\n",
       "      <td>air_ba937bf13d40fb24</td>\n",
       "      <td>33</td>\n",
       "      <td>13</td>\n",
       "      <td>13</td>\n",
       "      <td>3</td>\n",
       "      <td>13</td>\n",
       "      <td>13</td>\n",
       "      <td>0</td>\n",
       "      <td>1</td>\n",
       "      <td>0</td>\n",
       "      <td>0</td>\n",
       "      <td>517</td>\n",
       "      <td>2016-01-14</td>\n",
       "      <td>32</td>\n",
       "      <td>0</td>\n",
       "      <td>-1.0</td>\n",
       "    </tr>\n",
       "    <tr>\n",
       "      <th>2</th>\n",
       "      <td>air_ba937bf13d40fb24</td>\n",
       "      <td>33</td>\n",
       "      <td>14</td>\n",
       "      <td>14</td>\n",
       "      <td>4</td>\n",
       "      <td>14</td>\n",
       "      <td>13</td>\n",
       "      <td>0</td>\n",
       "      <td>1</td>\n",
       "      <td>0</td>\n",
       "      <td>0</td>\n",
       "      <td>517</td>\n",
       "      <td>2016-01-15</td>\n",
       "      <td>29</td>\n",
       "      <td>0</td>\n",
       "      <td>-1.0</td>\n",
       "    </tr>\n",
       "    <tr>\n",
       "      <th>3</th>\n",
       "      <td>air_ba937bf13d40fb24</td>\n",
       "      <td>33</td>\n",
       "      <td>15</td>\n",
       "      <td>15</td>\n",
       "      <td>5</td>\n",
       "      <td>15</td>\n",
       "      <td>13</td>\n",
       "      <td>0</td>\n",
       "      <td>1</td>\n",
       "      <td>0</td>\n",
       "      <td>0</td>\n",
       "      <td>517</td>\n",
       "      <td>2016-01-16</td>\n",
       "      <td>22</td>\n",
       "      <td>0</td>\n",
       "      <td>-1.0</td>\n",
       "    </tr>\n",
       "    <tr>\n",
       "      <th>4</th>\n",
       "      <td>air_ba937bf13d40fb24</td>\n",
       "      <td>33</td>\n",
       "      <td>17</td>\n",
       "      <td>17</td>\n",
       "      <td>0</td>\n",
       "      <td>17</td>\n",
       "      <td>13</td>\n",
       "      <td>0</td>\n",
       "      <td>1</td>\n",
       "      <td>0</td>\n",
       "      <td>0</td>\n",
       "      <td>517</td>\n",
       "      <td>2016-01-18</td>\n",
       "      <td>6</td>\n",
       "      <td>0</td>\n",
       "      <td>-1.0</td>\n",
       "    </tr>\n",
       "  </tbody>\n",
       "</table>\n",
       "</div>"
      ],
      "text/plain": [
       "           air_store_id  area  dom  doq  dow  doy  gen  holi id  month  \\\n",
       "0  air_ba937bf13d40fb24    33   12   12    2   12   13     0  1      0   \n",
       "1  air_ba937bf13d40fb24    33   13   13    3   13   13     0  1      0   \n",
       "2  air_ba937bf13d40fb24    33   14   14    4   14   13     0  1      0   \n",
       "3  air_ba937bf13d40fb24    33   15   15    5   15   13     0  1      0   \n",
       "4  air_ba937bf13d40fb24    33   17   17    0   17   13     0  1      0   \n",
       "\n",
       "   quarter  store  visit_date  visitors  year  last_quarter_gen_pop  \n",
       "0        0    517  2016-01-13        25     0                  -1.0  \n",
       "1        0    517  2016-01-14        32     0                  -1.0  \n",
       "2        0    517  2016-01-15        29     0                  -1.0  \n",
       "3        0    517  2016-01-16        22     0                  -1.0  \n",
       "4        0    517  2016-01-18         6     0                  -1.0  "
      ]
     },
     "execution_count": 44,
     "metadata": {},
     "output_type": "execute_result"
    }
   ],
   "source": [
    "together.head()"
   ]
  },
  {
   "cell_type": "markdown",
   "metadata": {},
   "source": [
    "## last quarter store pop in area"
   ]
  },
  {
   "cell_type": "code",
   "execution_count": 45,
   "metadata": {
    "collapsed": true
   },
   "outputs": [],
   "source": [
    "tmp = together.groupby(['year','quarter','store','area'],as_index=False\n",
    "                      )['visitors'].sum().rename(columns={'visitors':'store_visit_by_area'})"
   ]
  },
  {
   "cell_type": "code",
   "execution_count": 46,
   "metadata": {
    "collapsed": true
   },
   "outputs": [],
   "source": [
    "tmp0 = together.groupby(['year','quarter','area'],as_index=False\n",
    "                       )['visitors'].sum().rename(columns={'visitors':'area_visit'})"
   ]
  },
  {
   "cell_type": "code",
   "execution_count": 47,
   "metadata": {
    "collapsed": true
   },
   "outputs": [],
   "source": [
    "tmp = pd.merge(tmp,tmp0,how='inner',on=['year','quarter','area'])"
   ]
  },
  {
   "cell_type": "code",
   "execution_count": 48,
   "metadata": {},
   "outputs": [
    {
     "data": {
      "text/html": [
       "<div>\n",
       "<style>\n",
       "    .dataframe thead tr:only-child th {\n",
       "        text-align: right;\n",
       "    }\n",
       "\n",
       "    .dataframe thead th {\n",
       "        text-align: left;\n",
       "    }\n",
       "\n",
       "    .dataframe tbody tr th {\n",
       "        vertical-align: top;\n",
       "    }\n",
       "</style>\n",
       "<table border=\"1\" class=\"dataframe\">\n",
       "  <thead>\n",
       "    <tr style=\"text-align: right;\">\n",
       "      <th></th>\n",
       "      <th>year</th>\n",
       "      <th>quarter</th>\n",
       "      <th>store</th>\n",
       "      <th>area</th>\n",
       "      <th>store_visit_by_area</th>\n",
       "      <th>area_visit</th>\n",
       "    </tr>\n",
       "  </thead>\n",
       "  <tbody>\n",
       "    <tr>\n",
       "      <th>0</th>\n",
       "      <td>0</td>\n",
       "      <td>0</td>\n",
       "      <td>3</td>\n",
       "      <td>6</td>\n",
       "      <td>3733</td>\n",
       "      <td>7505</td>\n",
       "    </tr>\n",
       "    <tr>\n",
       "      <th>1</th>\n",
       "      <td>0</td>\n",
       "      <td>0</td>\n",
       "      <td>392</td>\n",
       "      <td>6</td>\n",
       "      <td>2576</td>\n",
       "      <td>7505</td>\n",
       "    </tr>\n",
       "    <tr>\n",
       "      <th>2</th>\n",
       "      <td>0</td>\n",
       "      <td>0</td>\n",
       "      <td>573</td>\n",
       "      <td>6</td>\n",
       "      <td>1196</td>\n",
       "      <td>7505</td>\n",
       "    </tr>\n",
       "    <tr>\n",
       "      <th>3</th>\n",
       "      <td>0</td>\n",
       "      <td>0</td>\n",
       "      <td>6</td>\n",
       "      <td>19</td>\n",
       "      <td>1052</td>\n",
       "      <td>7881</td>\n",
       "    </tr>\n",
       "    <tr>\n",
       "      <th>4</th>\n",
       "      <td>0</td>\n",
       "      <td>0</td>\n",
       "      <td>79</td>\n",
       "      <td>19</td>\n",
       "      <td>2723</td>\n",
       "      <td>7881</td>\n",
       "    </tr>\n",
       "  </tbody>\n",
       "</table>\n",
       "</div>"
      ],
      "text/plain": [
       "   year  quarter  store  area  store_visit_by_area  area_visit\n",
       "0     0        0      3     6                 3733        7505\n",
       "1     0        0    392     6                 2576        7505\n",
       "2     0        0    573     6                 1196        7505\n",
       "3     0        0      6    19                 1052        7881\n",
       "4     0        0     79    19                 2723        7881"
      ]
     },
     "execution_count": 48,
     "metadata": {},
     "output_type": "execute_result"
    }
   ],
   "source": [
    "tmp.head()"
   ]
  },
  {
   "cell_type": "code",
   "execution_count": 49,
   "metadata": {
    "collapsed": true
   },
   "outputs": [],
   "source": [
    "def store_pop(data):\n",
    "    if data.area_visit==0:\n",
    "        return 0 \n",
    "    else:\n",
    "        return data.store_visit_by_area/data.area_visit"
   ]
  },
  {
   "cell_type": "code",
   "execution_count": 50,
   "metadata": {},
   "outputs": [
    {
     "data": {
      "text/plain": [
       "0    0.497402\n",
       "1    0.343238\n",
       "2    0.159360\n",
       "dtype: float64"
      ]
     },
     "execution_count": 50,
     "metadata": {},
     "output_type": "execute_result"
    }
   ],
   "source": [
    "tmp.iloc[:3].apply(store_pop,axis=1)"
   ]
  },
  {
   "cell_type": "code",
   "execution_count": 51,
   "metadata": {
    "collapsed": true
   },
   "outputs": [],
   "source": [
    "tmp['store_pop'] = tmp.apply(store_pop,axis=1)"
   ]
  },
  {
   "cell_type": "code",
   "execution_count": 52,
   "metadata": {},
   "outputs": [
    {
     "data": {
      "text/html": [
       "<div>\n",
       "<style>\n",
       "    .dataframe thead tr:only-child th {\n",
       "        text-align: right;\n",
       "    }\n",
       "\n",
       "    .dataframe thead th {\n",
       "        text-align: left;\n",
       "    }\n",
       "\n",
       "    .dataframe tbody tr th {\n",
       "        vertical-align: top;\n",
       "    }\n",
       "</style>\n",
       "<table border=\"1\" class=\"dataframe\">\n",
       "  <thead>\n",
       "    <tr style=\"text-align: right;\">\n",
       "      <th></th>\n",
       "      <th>year</th>\n",
       "      <th>quarter</th>\n",
       "      <th>store</th>\n",
       "      <th>area</th>\n",
       "      <th>store_visit_by_area</th>\n",
       "      <th>area_visit</th>\n",
       "      <th>store_pop</th>\n",
       "    </tr>\n",
       "  </thead>\n",
       "  <tbody>\n",
       "    <tr>\n",
       "      <th>0</th>\n",
       "      <td>0</td>\n",
       "      <td>0</td>\n",
       "      <td>3</td>\n",
       "      <td>6</td>\n",
       "      <td>3733</td>\n",
       "      <td>7505</td>\n",
       "      <td>0.497402</td>\n",
       "    </tr>\n",
       "    <tr>\n",
       "      <th>1</th>\n",
       "      <td>0</td>\n",
       "      <td>0</td>\n",
       "      <td>392</td>\n",
       "      <td>6</td>\n",
       "      <td>2576</td>\n",
       "      <td>7505</td>\n",
       "      <td>0.343238</td>\n",
       "    </tr>\n",
       "    <tr>\n",
       "      <th>2</th>\n",
       "      <td>0</td>\n",
       "      <td>0</td>\n",
       "      <td>573</td>\n",
       "      <td>6</td>\n",
       "      <td>1196</td>\n",
       "      <td>7505</td>\n",
       "      <td>0.159360</td>\n",
       "    </tr>\n",
       "    <tr>\n",
       "      <th>3</th>\n",
       "      <td>0</td>\n",
       "      <td>0</td>\n",
       "      <td>6</td>\n",
       "      <td>19</td>\n",
       "      <td>1052</td>\n",
       "      <td>7881</td>\n",
       "      <td>0.133486</td>\n",
       "    </tr>\n",
       "    <tr>\n",
       "      <th>4</th>\n",
       "      <td>0</td>\n",
       "      <td>0</td>\n",
       "      <td>79</td>\n",
       "      <td>19</td>\n",
       "      <td>2723</td>\n",
       "      <td>7881</td>\n",
       "      <td>0.345515</td>\n",
       "    </tr>\n",
       "  </tbody>\n",
       "</table>\n",
       "</div>"
      ],
      "text/plain": [
       "   year  quarter  store  area  store_visit_by_area  area_visit  store_pop\n",
       "0     0        0      3     6                 3733        7505   0.497402\n",
       "1     0        0    392     6                 2576        7505   0.343238\n",
       "2     0        0    573     6                 1196        7505   0.159360\n",
       "3     0        0      6    19                 1052        7881   0.133486\n",
       "4     0        0     79    19                 2723        7881   0.345515"
      ]
     },
     "execution_count": 52,
     "metadata": {},
     "output_type": "execute_result"
    }
   ],
   "source": [
    "tmp.head()"
   ]
  },
  {
   "cell_type": "code",
   "execution_count": 53,
   "metadata": {
    "collapsed": true
   },
   "outputs": [],
   "source": [
    "tmp = tmp.sort_values(by=['store','area','year','quarter'])"
   ]
  },
  {
   "cell_type": "code",
   "execution_count": 54,
   "metadata": {
    "collapsed": true
   },
   "outputs": [],
   "source": [
    "tmp['last_quarter_store_pop'] = tmp.store_pop.shift(1)"
   ]
  },
  {
   "cell_type": "code",
   "execution_count": 55,
   "metadata": {},
   "outputs": [
    {
     "data": {
      "text/html": [
       "<div>\n",
       "<style>\n",
       "    .dataframe thead tr:only-child th {\n",
       "        text-align: right;\n",
       "    }\n",
       "\n",
       "    .dataframe thead th {\n",
       "        text-align: left;\n",
       "    }\n",
       "\n",
       "    .dataframe tbody tr th {\n",
       "        vertical-align: top;\n",
       "    }\n",
       "</style>\n",
       "<table border=\"1\" class=\"dataframe\">\n",
       "  <thead>\n",
       "    <tr style=\"text-align: right;\">\n",
       "      <th></th>\n",
       "      <th>year</th>\n",
       "      <th>quarter</th>\n",
       "      <th>store</th>\n",
       "      <th>area</th>\n",
       "      <th>store_visit_by_area</th>\n",
       "      <th>area_visit</th>\n",
       "      <th>store_pop</th>\n",
       "      <th>last_quarter_store_pop</th>\n",
       "    </tr>\n",
       "  </thead>\n",
       "  <tbody>\n",
       "    <tr>\n",
       "      <th>627</th>\n",
       "      <td>0</td>\n",
       "      <td>2</td>\n",
       "      <td>0</td>\n",
       "      <td>64</td>\n",
       "      <td>1469</td>\n",
       "      <td>4354</td>\n",
       "      <td>0.337391</td>\n",
       "      <td>NaN</td>\n",
       "    </tr>\n",
       "    <tr>\n",
       "      <th>1438</th>\n",
       "      <td>0</td>\n",
       "      <td>3</td>\n",
       "      <td>0</td>\n",
       "      <td>64</td>\n",
       "      <td>1653</td>\n",
       "      <td>4383</td>\n",
       "      <td>0.377139</td>\n",
       "      <td>0.337391</td>\n",
       "    </tr>\n",
       "    <tr>\n",
       "      <th>2255</th>\n",
       "      <td>1</td>\n",
       "      <td>0</td>\n",
       "      <td>0</td>\n",
       "      <td>64</td>\n",
       "      <td>2071</td>\n",
       "      <td>4467</td>\n",
       "      <td>0.463622</td>\n",
       "      <td>0.377139</td>\n",
       "    </tr>\n",
       "    <tr>\n",
       "      <th>3080</th>\n",
       "      <td>1</td>\n",
       "      <td>1</td>\n",
       "      <td>0</td>\n",
       "      <td>64</td>\n",
       "      <td>662</td>\n",
       "      <td>1421</td>\n",
       "      <td>0.465869</td>\n",
       "      <td>0.463622</td>\n",
       "    </tr>\n",
       "    <tr>\n",
       "      <th>629</th>\n",
       "      <td>0</td>\n",
       "      <td>2</td>\n",
       "      <td>1</td>\n",
       "      <td>58</td>\n",
       "      <td>1032</td>\n",
       "      <td>53903</td>\n",
       "      <td>0.019146</td>\n",
       "      <td>0.465869</td>\n",
       "    </tr>\n",
       "    <tr>\n",
       "      <th>1440</th>\n",
       "      <td>0</td>\n",
       "      <td>3</td>\n",
       "      <td>1</td>\n",
       "      <td>58</td>\n",
       "      <td>930</td>\n",
       "      <td>60815</td>\n",
       "      <td>0.015292</td>\n",
       "      <td>0.019146</td>\n",
       "    </tr>\n",
       "    <tr>\n",
       "      <th>2257</th>\n",
       "      <td>1</td>\n",
       "      <td>0</td>\n",
       "      <td>1</td>\n",
       "      <td>58</td>\n",
       "      <td>775</td>\n",
       "      <td>56224</td>\n",
       "      <td>0.013784</td>\n",
       "      <td>0.015292</td>\n",
       "    </tr>\n",
       "    <tr>\n",
       "      <th>3082</th>\n",
       "      <td>1</td>\n",
       "      <td>1</td>\n",
       "      <td>1</td>\n",
       "      <td>58</td>\n",
       "      <td>224</td>\n",
       "      <td>14917</td>\n",
       "      <td>0.015016</td>\n",
       "      <td>0.013784</td>\n",
       "    </tr>\n",
       "    <tr>\n",
       "      <th>668</th>\n",
       "      <td>0</td>\n",
       "      <td>2</td>\n",
       "      <td>2</td>\n",
       "      <td>19</td>\n",
       "      <td>1348</td>\n",
       "      <td>25016</td>\n",
       "      <td>0.053886</td>\n",
       "      <td>0.015016</td>\n",
       "    </tr>\n",
       "    <tr>\n",
       "      <th>1479</th>\n",
       "      <td>0</td>\n",
       "      <td>3</td>\n",
       "      <td>2</td>\n",
       "      <td>19</td>\n",
       "      <td>1159</td>\n",
       "      <td>29769</td>\n",
       "      <td>0.038933</td>\n",
       "      <td>0.053886</td>\n",
       "    </tr>\n",
       "    <tr>\n",
       "      <th>2296</th>\n",
       "      <td>1</td>\n",
       "      <td>0</td>\n",
       "      <td>2</td>\n",
       "      <td>19</td>\n",
       "      <td>1196</td>\n",
       "      <td>27076</td>\n",
       "      <td>0.044172</td>\n",
       "      <td>0.038933</td>\n",
       "    </tr>\n",
       "    <tr>\n",
       "      <th>3121</th>\n",
       "      <td>1</td>\n",
       "      <td>1</td>\n",
       "      <td>2</td>\n",
       "      <td>19</td>\n",
       "      <td>261</td>\n",
       "      <td>6612</td>\n",
       "      <td>0.039474</td>\n",
       "      <td>0.044172</td>\n",
       "    </tr>\n",
       "    <tr>\n",
       "      <th>0</th>\n",
       "      <td>0</td>\n",
       "      <td>0</td>\n",
       "      <td>3</td>\n",
       "      <td>6</td>\n",
       "      <td>3733</td>\n",
       "      <td>7505</td>\n",
       "      <td>0.497402</td>\n",
       "      <td>0.039474</td>\n",
       "    </tr>\n",
       "    <tr>\n",
       "      <th>312</th>\n",
       "      <td>0</td>\n",
       "      <td>1</td>\n",
       "      <td>3</td>\n",
       "      <td>6</td>\n",
       "      <td>4486</td>\n",
       "      <td>9085</td>\n",
       "      <td>0.493781</td>\n",
       "      <td>0.497402</td>\n",
       "    </tr>\n",
       "    <tr>\n",
       "      <th>684</th>\n",
       "      <td>0</td>\n",
       "      <td>2</td>\n",
       "      <td>3</td>\n",
       "      <td>6</td>\n",
       "      <td>4208</td>\n",
       "      <td>21516</td>\n",
       "      <td>0.195575</td>\n",
       "      <td>0.493781</td>\n",
       "    </tr>\n",
       "    <tr>\n",
       "      <th>1495</th>\n",
       "      <td>0</td>\n",
       "      <td>3</td>\n",
       "      <td>3</td>\n",
       "      <td>6</td>\n",
       "      <td>2402</td>\n",
       "      <td>20633</td>\n",
       "      <td>0.116415</td>\n",
       "      <td>0.195575</td>\n",
       "    </tr>\n",
       "    <tr>\n",
       "      <th>2312</th>\n",
       "      <td>1</td>\n",
       "      <td>0</td>\n",
       "      <td>3</td>\n",
       "      <td>6</td>\n",
       "      <td>2364</td>\n",
       "      <td>20592</td>\n",
       "      <td>0.114802</td>\n",
       "      <td>0.116415</td>\n",
       "    </tr>\n",
       "    <tr>\n",
       "      <th>3137</th>\n",
       "      <td>1</td>\n",
       "      <td>1</td>\n",
       "      <td>3</td>\n",
       "      <td>6</td>\n",
       "      <td>765</td>\n",
       "      <td>5447</td>\n",
       "      <td>0.140444</td>\n",
       "      <td>0.114802</td>\n",
       "    </tr>\n",
       "    <tr>\n",
       "      <th>694</th>\n",
       "      <td>0</td>\n",
       "      <td>2</td>\n",
       "      <td>4</td>\n",
       "      <td>59</td>\n",
       "      <td>1777</td>\n",
       "      <td>38006</td>\n",
       "      <td>0.046756</td>\n",
       "      <td>0.140444</td>\n",
       "    </tr>\n",
       "    <tr>\n",
       "      <th>1505</th>\n",
       "      <td>0</td>\n",
       "      <td>3</td>\n",
       "      <td>4</td>\n",
       "      <td>59</td>\n",
       "      <td>1866</td>\n",
       "      <td>40300</td>\n",
       "      <td>0.046303</td>\n",
       "      <td>0.046756</td>\n",
       "    </tr>\n",
       "  </tbody>\n",
       "</table>\n",
       "</div>"
      ],
      "text/plain": [
       "      year  quarter  store  area  store_visit_by_area  area_visit  store_pop  \\\n",
       "627      0        2      0    64                 1469        4354   0.337391   \n",
       "1438     0        3      0    64                 1653        4383   0.377139   \n",
       "2255     1        0      0    64                 2071        4467   0.463622   \n",
       "3080     1        1      0    64                  662        1421   0.465869   \n",
       "629      0        2      1    58                 1032       53903   0.019146   \n",
       "1440     0        3      1    58                  930       60815   0.015292   \n",
       "2257     1        0      1    58                  775       56224   0.013784   \n",
       "3082     1        1      1    58                  224       14917   0.015016   \n",
       "668      0        2      2    19                 1348       25016   0.053886   \n",
       "1479     0        3      2    19                 1159       29769   0.038933   \n",
       "2296     1        0      2    19                 1196       27076   0.044172   \n",
       "3121     1        1      2    19                  261        6612   0.039474   \n",
       "0        0        0      3     6                 3733        7505   0.497402   \n",
       "312      0        1      3     6                 4486        9085   0.493781   \n",
       "684      0        2      3     6                 4208       21516   0.195575   \n",
       "1495     0        3      3     6                 2402       20633   0.116415   \n",
       "2312     1        0      3     6                 2364       20592   0.114802   \n",
       "3137     1        1      3     6                  765        5447   0.140444   \n",
       "694      0        2      4    59                 1777       38006   0.046756   \n",
       "1505     0        3      4    59                 1866       40300   0.046303   \n",
       "\n",
       "      last_quarter_store_pop  \n",
       "627                      NaN  \n",
       "1438                0.337391  \n",
       "2255                0.377139  \n",
       "3080                0.463622  \n",
       "629                 0.465869  \n",
       "1440                0.019146  \n",
       "2257                0.015292  \n",
       "3082                0.013784  \n",
       "668                 0.015016  \n",
       "1479                0.053886  \n",
       "2296                0.038933  \n",
       "3121                0.044172  \n",
       "0                   0.039474  \n",
       "312                 0.497402  \n",
       "684                 0.493781  \n",
       "1495                0.195575  \n",
       "2312                0.116415  \n",
       "3137                0.114802  \n",
       "694                 0.140444  \n",
       "1505                0.046756  "
      ]
     },
     "execution_count": 55,
     "metadata": {},
     "output_type": "execute_result"
    }
   ],
   "source": [
    "tmp.head(20)"
   ]
  },
  {
   "cell_type": "code",
   "execution_count": 56,
   "metadata": {
    "collapsed": true
   },
   "outputs": [],
   "source": [
    "tmp['store_area'] = tmp.apply(lambda x:str(x.store)+str(x.area),axis=1)"
   ]
  },
  {
   "cell_type": "code",
   "execution_count": 57,
   "metadata": {},
   "outputs": [
    {
     "data": {
      "text/html": [
       "<div>\n",
       "<style>\n",
       "    .dataframe thead tr:only-child th {\n",
       "        text-align: right;\n",
       "    }\n",
       "\n",
       "    .dataframe thead th {\n",
       "        text-align: left;\n",
       "    }\n",
       "\n",
       "    .dataframe tbody tr th {\n",
       "        vertical-align: top;\n",
       "    }\n",
       "</style>\n",
       "<table border=\"1\" class=\"dataframe\">\n",
       "  <thead>\n",
       "    <tr style=\"text-align: right;\">\n",
       "      <th></th>\n",
       "      <th>year</th>\n",
       "      <th>quarter</th>\n",
       "      <th>store</th>\n",
       "      <th>area</th>\n",
       "      <th>store_visit_by_area</th>\n",
       "      <th>area_visit</th>\n",
       "      <th>store_pop</th>\n",
       "      <th>last_quarter_store_pop</th>\n",
       "      <th>store_area</th>\n",
       "    </tr>\n",
       "  </thead>\n",
       "  <tbody>\n",
       "    <tr>\n",
       "      <th>627</th>\n",
       "      <td>0</td>\n",
       "      <td>2</td>\n",
       "      <td>0</td>\n",
       "      <td>64</td>\n",
       "      <td>1469</td>\n",
       "      <td>4354</td>\n",
       "      <td>0.337391</td>\n",
       "      <td>NaN</td>\n",
       "      <td>0.064.0</td>\n",
       "    </tr>\n",
       "    <tr>\n",
       "      <th>1438</th>\n",
       "      <td>0</td>\n",
       "      <td>3</td>\n",
       "      <td>0</td>\n",
       "      <td>64</td>\n",
       "      <td>1653</td>\n",
       "      <td>4383</td>\n",
       "      <td>0.377139</td>\n",
       "      <td>0.337391</td>\n",
       "      <td>0.064.0</td>\n",
       "    </tr>\n",
       "    <tr>\n",
       "      <th>2255</th>\n",
       "      <td>1</td>\n",
       "      <td>0</td>\n",
       "      <td>0</td>\n",
       "      <td>64</td>\n",
       "      <td>2071</td>\n",
       "      <td>4467</td>\n",
       "      <td>0.463622</td>\n",
       "      <td>0.377139</td>\n",
       "      <td>0.064.0</td>\n",
       "    </tr>\n",
       "    <tr>\n",
       "      <th>3080</th>\n",
       "      <td>1</td>\n",
       "      <td>1</td>\n",
       "      <td>0</td>\n",
       "      <td>64</td>\n",
       "      <td>662</td>\n",
       "      <td>1421</td>\n",
       "      <td>0.465869</td>\n",
       "      <td>0.463622</td>\n",
       "      <td>0.064.0</td>\n",
       "    </tr>\n",
       "    <tr>\n",
       "      <th>629</th>\n",
       "      <td>0</td>\n",
       "      <td>2</td>\n",
       "      <td>1</td>\n",
       "      <td>58</td>\n",
       "      <td>1032</td>\n",
       "      <td>53903</td>\n",
       "      <td>0.019146</td>\n",
       "      <td>0.465869</td>\n",
       "      <td>1.058.0</td>\n",
       "    </tr>\n",
       "  </tbody>\n",
       "</table>\n",
       "</div>"
      ],
      "text/plain": [
       "      year  quarter  store  area  store_visit_by_area  area_visit  store_pop  \\\n",
       "627      0        2      0    64                 1469        4354   0.337391   \n",
       "1438     0        3      0    64                 1653        4383   0.377139   \n",
       "2255     1        0      0    64                 2071        4467   0.463622   \n",
       "3080     1        1      0    64                  662        1421   0.465869   \n",
       "629      0        2      1    58                 1032       53903   0.019146   \n",
       "\n",
       "      last_quarter_store_pop store_area  \n",
       "627                      NaN    0.064.0  \n",
       "1438                0.337391    0.064.0  \n",
       "2255                0.377139    0.064.0  \n",
       "3080                0.463622    0.064.0  \n",
       "629                 0.465869    1.058.0  "
      ]
     },
     "execution_count": 57,
     "metadata": {},
     "output_type": "execute_result"
    }
   ],
   "source": [
    "tmp.head()"
   ]
  },
  {
   "cell_type": "code",
   "execution_count": 58,
   "metadata": {
    "collapsed": true
   },
   "outputs": [],
   "source": [
    "tmp['store_area_shift'] = tmp.store_area.shift(1)"
   ]
  },
  {
   "cell_type": "code",
   "execution_count": 59,
   "metadata": {
    "collapsed": true
   },
   "outputs": [],
   "source": [
    "def get_lqsp(data):\n",
    "    if data.store_area_shift!=data.store_area:\n",
    "        return -1\n",
    "    else:\n",
    "        return data.last_quarter_store_pop"
   ]
  },
  {
   "cell_type": "code",
   "execution_count": 60,
   "metadata": {
    "collapsed": true
   },
   "outputs": [],
   "source": [
    "tmp['last_quarter_s_pop'] = tmp.apply(get_lqsp,axis=1)"
   ]
  },
  {
   "cell_type": "code",
   "execution_count": 61,
   "metadata": {},
   "outputs": [
    {
     "data": {
      "text/html": [
       "<div>\n",
       "<style>\n",
       "    .dataframe thead tr:only-child th {\n",
       "        text-align: right;\n",
       "    }\n",
       "\n",
       "    .dataframe thead th {\n",
       "        text-align: left;\n",
       "    }\n",
       "\n",
       "    .dataframe tbody tr th {\n",
       "        vertical-align: top;\n",
       "    }\n",
       "</style>\n",
       "<table border=\"1\" class=\"dataframe\">\n",
       "  <thead>\n",
       "    <tr style=\"text-align: right;\">\n",
       "      <th></th>\n",
       "      <th>year</th>\n",
       "      <th>quarter</th>\n",
       "      <th>store</th>\n",
       "      <th>area</th>\n",
       "      <th>store_visit_by_area</th>\n",
       "      <th>area_visit</th>\n",
       "      <th>store_pop</th>\n",
       "      <th>last_quarter_store_pop</th>\n",
       "      <th>store_area</th>\n",
       "      <th>store_area_shift</th>\n",
       "      <th>last_quarter_s_pop</th>\n",
       "    </tr>\n",
       "  </thead>\n",
       "  <tbody>\n",
       "    <tr>\n",
       "      <th>627</th>\n",
       "      <td>0</td>\n",
       "      <td>2</td>\n",
       "      <td>0</td>\n",
       "      <td>64</td>\n",
       "      <td>1469</td>\n",
       "      <td>4354</td>\n",
       "      <td>0.337391</td>\n",
       "      <td>NaN</td>\n",
       "      <td>0.064.0</td>\n",
       "      <td>NaN</td>\n",
       "      <td>-1.000000</td>\n",
       "    </tr>\n",
       "    <tr>\n",
       "      <th>1438</th>\n",
       "      <td>0</td>\n",
       "      <td>3</td>\n",
       "      <td>0</td>\n",
       "      <td>64</td>\n",
       "      <td>1653</td>\n",
       "      <td>4383</td>\n",
       "      <td>0.377139</td>\n",
       "      <td>0.337391</td>\n",
       "      <td>0.064.0</td>\n",
       "      <td>0.064.0</td>\n",
       "      <td>0.337391</td>\n",
       "    </tr>\n",
       "    <tr>\n",
       "      <th>2255</th>\n",
       "      <td>1</td>\n",
       "      <td>0</td>\n",
       "      <td>0</td>\n",
       "      <td>64</td>\n",
       "      <td>2071</td>\n",
       "      <td>4467</td>\n",
       "      <td>0.463622</td>\n",
       "      <td>0.377139</td>\n",
       "      <td>0.064.0</td>\n",
       "      <td>0.064.0</td>\n",
       "      <td>0.377139</td>\n",
       "    </tr>\n",
       "    <tr>\n",
       "      <th>3080</th>\n",
       "      <td>1</td>\n",
       "      <td>1</td>\n",
       "      <td>0</td>\n",
       "      <td>64</td>\n",
       "      <td>662</td>\n",
       "      <td>1421</td>\n",
       "      <td>0.465869</td>\n",
       "      <td>0.463622</td>\n",
       "      <td>0.064.0</td>\n",
       "      <td>0.064.0</td>\n",
       "      <td>0.463622</td>\n",
       "    </tr>\n",
       "    <tr>\n",
       "      <th>629</th>\n",
       "      <td>0</td>\n",
       "      <td>2</td>\n",
       "      <td>1</td>\n",
       "      <td>58</td>\n",
       "      <td>1032</td>\n",
       "      <td>53903</td>\n",
       "      <td>0.019146</td>\n",
       "      <td>0.465869</td>\n",
       "      <td>1.058.0</td>\n",
       "      <td>0.064.0</td>\n",
       "      <td>-1.000000</td>\n",
       "    </tr>\n",
       "  </tbody>\n",
       "</table>\n",
       "</div>"
      ],
      "text/plain": [
       "      year  quarter  store  area  store_visit_by_area  area_visit  store_pop  \\\n",
       "627      0        2      0    64                 1469        4354   0.337391   \n",
       "1438     0        3      0    64                 1653        4383   0.377139   \n",
       "2255     1        0      0    64                 2071        4467   0.463622   \n",
       "3080     1        1      0    64                  662        1421   0.465869   \n",
       "629      0        2      1    58                 1032       53903   0.019146   \n",
       "\n",
       "      last_quarter_store_pop store_area store_area_shift  last_quarter_s_pop  \n",
       "627                      NaN    0.064.0              NaN           -1.000000  \n",
       "1438                0.337391    0.064.0          0.064.0            0.337391  \n",
       "2255                0.377139    0.064.0          0.064.0            0.377139  \n",
       "3080                0.463622    0.064.0          0.064.0            0.463622  \n",
       "629                 0.465869    1.058.0          0.064.0           -1.000000  "
      ]
     },
     "execution_count": 61,
     "metadata": {},
     "output_type": "execute_result"
    }
   ],
   "source": [
    "tmp.head()"
   ]
  },
  {
   "cell_type": "code",
   "execution_count": 62,
   "metadata": {
    "collapsed": true
   },
   "outputs": [],
   "source": [
    "tmp = tmp[['year','quarter','store','area','last_quarter_s_pop']]"
   ]
  },
  {
   "cell_type": "code",
   "execution_count": 63,
   "metadata": {
    "collapsed": true
   },
   "outputs": [],
   "source": [
    "together = pd.merge(together,tmp,how='inner',on=['year','quarter','store','area'])"
   ]
  },
  {
   "cell_type": "code",
   "execution_count": 64,
   "metadata": {},
   "outputs": [
    {
     "data": {
      "text/html": [
       "<div>\n",
       "<style>\n",
       "    .dataframe thead tr:only-child th {\n",
       "        text-align: right;\n",
       "    }\n",
       "\n",
       "    .dataframe thead th {\n",
       "        text-align: left;\n",
       "    }\n",
       "\n",
       "    .dataframe tbody tr th {\n",
       "        vertical-align: top;\n",
       "    }\n",
       "</style>\n",
       "<table border=\"1\" class=\"dataframe\">\n",
       "  <thead>\n",
       "    <tr style=\"text-align: right;\">\n",
       "      <th></th>\n",
       "      <th>air_store_id</th>\n",
       "      <th>area</th>\n",
       "      <th>dom</th>\n",
       "      <th>doq</th>\n",
       "      <th>dow</th>\n",
       "      <th>doy</th>\n",
       "      <th>gen</th>\n",
       "      <th>holi</th>\n",
       "      <th>id</th>\n",
       "      <th>month</th>\n",
       "      <th>quarter</th>\n",
       "      <th>store</th>\n",
       "      <th>visit_date</th>\n",
       "      <th>visitors</th>\n",
       "      <th>year</th>\n",
       "      <th>last_quarter_gen_pop</th>\n",
       "      <th>last_quarter_s_pop</th>\n",
       "    </tr>\n",
       "  </thead>\n",
       "  <tbody>\n",
       "    <tr>\n",
       "      <th>0</th>\n",
       "      <td>air_ba937bf13d40fb24</td>\n",
       "      <td>33</td>\n",
       "      <td>12</td>\n",
       "      <td>12</td>\n",
       "      <td>2</td>\n",
       "      <td>12</td>\n",
       "      <td>13</td>\n",
       "      <td>0</td>\n",
       "      <td>1</td>\n",
       "      <td>0</td>\n",
       "      <td>0</td>\n",
       "      <td>517</td>\n",
       "      <td>2016-01-13</td>\n",
       "      <td>25</td>\n",
       "      <td>0</td>\n",
       "      <td>-1.0</td>\n",
       "      <td>-1.0</td>\n",
       "    </tr>\n",
       "    <tr>\n",
       "      <th>1</th>\n",
       "      <td>air_ba937bf13d40fb24</td>\n",
       "      <td>33</td>\n",
       "      <td>13</td>\n",
       "      <td>13</td>\n",
       "      <td>3</td>\n",
       "      <td>13</td>\n",
       "      <td>13</td>\n",
       "      <td>0</td>\n",
       "      <td>1</td>\n",
       "      <td>0</td>\n",
       "      <td>0</td>\n",
       "      <td>517</td>\n",
       "      <td>2016-01-14</td>\n",
       "      <td>32</td>\n",
       "      <td>0</td>\n",
       "      <td>-1.0</td>\n",
       "      <td>-1.0</td>\n",
       "    </tr>\n",
       "    <tr>\n",
       "      <th>2</th>\n",
       "      <td>air_ba937bf13d40fb24</td>\n",
       "      <td>33</td>\n",
       "      <td>14</td>\n",
       "      <td>14</td>\n",
       "      <td>4</td>\n",
       "      <td>14</td>\n",
       "      <td>13</td>\n",
       "      <td>0</td>\n",
       "      <td>1</td>\n",
       "      <td>0</td>\n",
       "      <td>0</td>\n",
       "      <td>517</td>\n",
       "      <td>2016-01-15</td>\n",
       "      <td>29</td>\n",
       "      <td>0</td>\n",
       "      <td>-1.0</td>\n",
       "      <td>-1.0</td>\n",
       "    </tr>\n",
       "    <tr>\n",
       "      <th>3</th>\n",
       "      <td>air_ba937bf13d40fb24</td>\n",
       "      <td>33</td>\n",
       "      <td>15</td>\n",
       "      <td>15</td>\n",
       "      <td>5</td>\n",
       "      <td>15</td>\n",
       "      <td>13</td>\n",
       "      <td>0</td>\n",
       "      <td>1</td>\n",
       "      <td>0</td>\n",
       "      <td>0</td>\n",
       "      <td>517</td>\n",
       "      <td>2016-01-16</td>\n",
       "      <td>22</td>\n",
       "      <td>0</td>\n",
       "      <td>-1.0</td>\n",
       "      <td>-1.0</td>\n",
       "    </tr>\n",
       "    <tr>\n",
       "      <th>4</th>\n",
       "      <td>air_ba937bf13d40fb24</td>\n",
       "      <td>33</td>\n",
       "      <td>17</td>\n",
       "      <td>17</td>\n",
       "      <td>0</td>\n",
       "      <td>17</td>\n",
       "      <td>13</td>\n",
       "      <td>0</td>\n",
       "      <td>1</td>\n",
       "      <td>0</td>\n",
       "      <td>0</td>\n",
       "      <td>517</td>\n",
       "      <td>2016-01-18</td>\n",
       "      <td>6</td>\n",
       "      <td>0</td>\n",
       "      <td>-1.0</td>\n",
       "      <td>-1.0</td>\n",
       "    </tr>\n",
       "  </tbody>\n",
       "</table>\n",
       "</div>"
      ],
      "text/plain": [
       "           air_store_id  area  dom  doq  dow  doy  gen  holi id  month  \\\n",
       "0  air_ba937bf13d40fb24    33   12   12    2   12   13     0  1      0   \n",
       "1  air_ba937bf13d40fb24    33   13   13    3   13   13     0  1      0   \n",
       "2  air_ba937bf13d40fb24    33   14   14    4   14   13     0  1      0   \n",
       "3  air_ba937bf13d40fb24    33   15   15    5   15   13     0  1      0   \n",
       "4  air_ba937bf13d40fb24    33   17   17    0   17   13     0  1      0   \n",
       "\n",
       "   quarter  store  visit_date  visitors  year  last_quarter_gen_pop  \\\n",
       "0        0    517  2016-01-13        25     0                  -1.0   \n",
       "1        0    517  2016-01-14        32     0                  -1.0   \n",
       "2        0    517  2016-01-15        29     0                  -1.0   \n",
       "3        0    517  2016-01-16        22     0                  -1.0   \n",
       "4        0    517  2016-01-18         6     0                  -1.0   \n",
       "\n",
       "   last_quarter_s_pop  \n",
       "0                -1.0  \n",
       "1                -1.0  \n",
       "2                -1.0  \n",
       "3                -1.0  \n",
       "4                -1.0  "
      ]
     },
     "execution_count": 64,
     "metadata": {},
     "output_type": "execute_result"
    }
   ],
   "source": [
    "together.head()"
   ]
  },
  {
   "cell_type": "markdown",
   "metadata": {},
   "source": [
    "## store pop in each area overall"
   ]
  },
  {
   "cell_type": "code",
   "execution_count": 65,
   "metadata": {
    "collapsed": true
   },
   "outputs": [],
   "source": [
    "tmp = together.groupby(['air_store_id','area'],as_index=False\n",
    "                      )['visitors'].sum().rename(columns={'visitors':'store_visitors'})"
   ]
  },
  {
   "cell_type": "code",
   "execution_count": 66,
   "metadata": {},
   "outputs": [
    {
     "data": {
      "text/html": [
       "<div>\n",
       "<style>\n",
       "    .dataframe thead tr:only-child th {\n",
       "        text-align: right;\n",
       "    }\n",
       "\n",
       "    .dataframe thead th {\n",
       "        text-align: left;\n",
       "    }\n",
       "\n",
       "    .dataframe tbody tr th {\n",
       "        vertical-align: top;\n",
       "    }\n",
       "</style>\n",
       "<table border=\"1\" class=\"dataframe\">\n",
       "  <thead>\n",
       "    <tr style=\"text-align: right;\">\n",
       "      <th></th>\n",
       "      <th>air_store_id</th>\n",
       "      <th>area</th>\n",
       "      <th>store_visitors</th>\n",
       "    </tr>\n",
       "  </thead>\n",
       "  <tbody>\n",
       "    <tr>\n",
       "      <th>0</th>\n",
       "      <td>air_00a91d42b08b08d9</td>\n",
       "      <td>39</td>\n",
       "      <td>6051</td>\n",
       "    </tr>\n",
       "    <tr>\n",
       "      <th>1</th>\n",
       "      <td>air_0164b9927d20bcc3</td>\n",
       "      <td>33</td>\n",
       "      <td>1378</td>\n",
       "    </tr>\n",
       "    <tr>\n",
       "      <th>2</th>\n",
       "      <td>air_0241aa3964b7f861</td>\n",
       "      <td>1</td>\n",
       "      <td>3919</td>\n",
       "    </tr>\n",
       "    <tr>\n",
       "      <th>3</th>\n",
       "      <td>air_0328696196e46f18</td>\n",
       "      <td>96</td>\n",
       "      <td>921</td>\n",
       "    </tr>\n",
       "    <tr>\n",
       "      <th>4</th>\n",
       "      <td>air_034a3d5b40d5b1b1</td>\n",
       "      <td>84</td>\n",
       "      <td>3722</td>\n",
       "    </tr>\n",
       "  </tbody>\n",
       "</table>\n",
       "</div>"
      ],
      "text/plain": [
       "           air_store_id  area  store_visitors\n",
       "0  air_00a91d42b08b08d9    39            6051\n",
       "1  air_0164b9927d20bcc3    33            1378\n",
       "2  air_0241aa3964b7f861     1            3919\n",
       "3  air_0328696196e46f18    96             921\n",
       "4  air_034a3d5b40d5b1b1    84            3722"
      ]
     },
     "execution_count": 66,
     "metadata": {},
     "output_type": "execute_result"
    }
   ],
   "source": [
    "tmp.head()"
   ]
  },
  {
   "cell_type": "code",
   "execution_count": 67,
   "metadata": {
    "collapsed": true
   },
   "outputs": [],
   "source": [
    "tmp0 = together.groupby(['area'],as_index=False\n",
    "                       )['visitors'].sum().rename(columns={'visitors':'area_total_visitors'})"
   ]
  },
  {
   "cell_type": "code",
   "execution_count": 68,
   "metadata": {},
   "outputs": [
    {
     "data": {
      "text/html": [
       "<div>\n",
       "<style>\n",
       "    .dataframe thead tr:only-child th {\n",
       "        text-align: right;\n",
       "    }\n",
       "\n",
       "    .dataframe thead th {\n",
       "        text-align: left;\n",
       "    }\n",
       "\n",
       "    .dataframe tbody tr th {\n",
       "        vertical-align: top;\n",
       "    }\n",
       "</style>\n",
       "<table border=\"1\" class=\"dataframe\">\n",
       "  <thead>\n",
       "    <tr style=\"text-align: right;\">\n",
       "      <th></th>\n",
       "      <th>area</th>\n",
       "      <th>area_total_visitors</th>\n",
       "    </tr>\n",
       "  </thead>\n",
       "  <tbody>\n",
       "    <tr>\n",
       "      <th>0</th>\n",
       "      <td>0</td>\n",
       "      <td>13836</td>\n",
       "    </tr>\n",
       "    <tr>\n",
       "      <th>1</th>\n",
       "      <td>1</td>\n",
       "      <td>120727</td>\n",
       "    </tr>\n",
       "    <tr>\n",
       "      <th>2</th>\n",
       "      <td>2</td>\n",
       "      <td>14468</td>\n",
       "    </tr>\n",
       "    <tr>\n",
       "      <th>3</th>\n",
       "      <td>3</td>\n",
       "      <td>19723</td>\n",
       "    </tr>\n",
       "    <tr>\n",
       "      <th>4</th>\n",
       "      <td>4</td>\n",
       "      <td>5962</td>\n",
       "    </tr>\n",
       "  </tbody>\n",
       "</table>\n",
       "</div>"
      ],
      "text/plain": [
       "   area  area_total_visitors\n",
       "0     0                13836\n",
       "1     1               120727\n",
       "2     2                14468\n",
       "3     3                19723\n",
       "4     4                 5962"
      ]
     },
     "execution_count": 68,
     "metadata": {},
     "output_type": "execute_result"
    }
   ],
   "source": [
    "tmp0.head()"
   ]
  },
  {
   "cell_type": "code",
   "execution_count": 69,
   "metadata": {
    "collapsed": true
   },
   "outputs": [],
   "source": [
    "tmp = pd.merge(tmp,tmp0,how='inner',on='area')"
   ]
  },
  {
   "cell_type": "code",
   "execution_count": 70,
   "metadata": {},
   "outputs": [
    {
     "data": {
      "text/html": [
       "<div>\n",
       "<style>\n",
       "    .dataframe thead tr:only-child th {\n",
       "        text-align: right;\n",
       "    }\n",
       "\n",
       "    .dataframe thead th {\n",
       "        text-align: left;\n",
       "    }\n",
       "\n",
       "    .dataframe tbody tr th {\n",
       "        vertical-align: top;\n",
       "    }\n",
       "</style>\n",
       "<table border=\"1\" class=\"dataframe\">\n",
       "  <thead>\n",
       "    <tr style=\"text-align: right;\">\n",
       "      <th></th>\n",
       "      <th>air_store_id</th>\n",
       "      <th>area</th>\n",
       "      <th>store_visitors</th>\n",
       "      <th>area_total_visitors</th>\n",
       "    </tr>\n",
       "  </thead>\n",
       "  <tbody>\n",
       "    <tr>\n",
       "      <th>0</th>\n",
       "      <td>air_00a91d42b08b08d9</td>\n",
       "      <td>39</td>\n",
       "      <td>6051</td>\n",
       "      <td>143381</td>\n",
       "    </tr>\n",
       "    <tr>\n",
       "      <th>1</th>\n",
       "      <td>air_2c989829acbd1c6b</td>\n",
       "      <td>39</td>\n",
       "      <td>10493</td>\n",
       "      <td>143381</td>\n",
       "    </tr>\n",
       "    <tr>\n",
       "      <th>2</th>\n",
       "      <td>air_36bcf77d3382d36e</td>\n",
       "      <td>39</td>\n",
       "      <td>15126</td>\n",
       "      <td>143381</td>\n",
       "    </tr>\n",
       "    <tr>\n",
       "      <th>3</th>\n",
       "      <td>air_47beaffd3806c979</td>\n",
       "      <td>39</td>\n",
       "      <td>3780</td>\n",
       "      <td>143381</td>\n",
       "    </tr>\n",
       "    <tr>\n",
       "      <th>4</th>\n",
       "      <td>air_5bd22f9cc1426a90</td>\n",
       "      <td>39</td>\n",
       "      <td>6360</td>\n",
       "      <td>143381</td>\n",
       "    </tr>\n",
       "  </tbody>\n",
       "</table>\n",
       "</div>"
      ],
      "text/plain": [
       "           air_store_id  area  store_visitors  area_total_visitors\n",
       "0  air_00a91d42b08b08d9    39            6051               143381\n",
       "1  air_2c989829acbd1c6b    39           10493               143381\n",
       "2  air_36bcf77d3382d36e    39           15126               143381\n",
       "3  air_47beaffd3806c979    39            3780               143381\n",
       "4  air_5bd22f9cc1426a90    39            6360               143381"
      ]
     },
     "execution_count": 70,
     "metadata": {},
     "output_type": "execute_result"
    }
   ],
   "source": [
    "tmp.head()"
   ]
  },
  {
   "cell_type": "code",
   "execution_count": 71,
   "metadata": {
    "collapsed": true
   },
   "outputs": [],
   "source": [
    "tmp0 = together.groupby(['gen','area'],as_index=False\n",
    "                       )['visitors'].sum().rename(columns={'visitors':'area_gen_total_visitors'})"
   ]
  },
  {
   "cell_type": "code",
   "execution_count": 72,
   "metadata": {},
   "outputs": [
    {
     "data": {
      "text/html": [
       "<div>\n",
       "<style>\n",
       "    .dataframe thead tr:only-child th {\n",
       "        text-align: right;\n",
       "    }\n",
       "\n",
       "    .dataframe thead th {\n",
       "        text-align: left;\n",
       "    }\n",
       "\n",
       "    .dataframe tbody tr th {\n",
       "        vertical-align: top;\n",
       "    }\n",
       "</style>\n",
       "<table border=\"1\" class=\"dataframe\">\n",
       "  <thead>\n",
       "    <tr style=\"text-align: right;\">\n",
       "      <th></th>\n",
       "      <th>gen</th>\n",
       "      <th>area</th>\n",
       "      <th>area_gen_total_visitors</th>\n",
       "    </tr>\n",
       "  </thead>\n",
       "  <tbody>\n",
       "    <tr>\n",
       "      <th>0</th>\n",
       "      <td>0</td>\n",
       "      <td>0</td>\n",
       "      <td>13836</td>\n",
       "    </tr>\n",
       "    <tr>\n",
       "      <th>1</th>\n",
       "      <td>0</td>\n",
       "      <td>1</td>\n",
       "      <td>18544</td>\n",
       "    </tr>\n",
       "    <tr>\n",
       "      <th>2</th>\n",
       "      <td>0</td>\n",
       "      <td>2</td>\n",
       "      <td>14468</td>\n",
       "    </tr>\n",
       "    <tr>\n",
       "      <th>3</th>\n",
       "      <td>0</td>\n",
       "      <td>3</td>\n",
       "      <td>19723</td>\n",
       "    </tr>\n",
       "    <tr>\n",
       "      <th>4</th>\n",
       "      <td>0</td>\n",
       "      <td>4</td>\n",
       "      <td>5962</td>\n",
       "    </tr>\n",
       "  </tbody>\n",
       "</table>\n",
       "</div>"
      ],
      "text/plain": [
       "   gen  area  area_gen_total_visitors\n",
       "0    0     0                    13836\n",
       "1    0     1                    18544\n",
       "2    0     2                    14468\n",
       "3    0     3                    19723\n",
       "4    0     4                     5962"
      ]
     },
     "execution_count": 72,
     "metadata": {},
     "output_type": "execute_result"
    }
   ],
   "source": [
    "tmp0.head()"
   ]
  },
  {
   "cell_type": "code",
   "execution_count": 73,
   "metadata": {
    "collapsed": true
   },
   "outputs": [],
   "source": [
    "tmp0 = pd.merge(tmp0,together[['air_store_id','gen','area']].drop_duplicates(),how='right',on=['gen','area'])"
   ]
  },
  {
   "cell_type": "code",
   "execution_count": 74,
   "metadata": {},
   "outputs": [
    {
     "data": {
      "text/plain": [
       "(829, 4)"
      ]
     },
     "execution_count": 74,
     "metadata": {},
     "output_type": "execute_result"
    }
   ],
   "source": [
    "tmp0.shape"
   ]
  },
  {
   "cell_type": "code",
   "execution_count": 75,
   "metadata": {},
   "outputs": [
    {
     "data": {
      "text/html": [
       "<div>\n",
       "<style>\n",
       "    .dataframe thead tr:only-child th {\n",
       "        text-align: right;\n",
       "    }\n",
       "\n",
       "    .dataframe thead th {\n",
       "        text-align: left;\n",
       "    }\n",
       "\n",
       "    .dataframe tbody tr th {\n",
       "        vertical-align: top;\n",
       "    }\n",
       "</style>\n",
       "<table border=\"1\" class=\"dataframe\">\n",
       "  <thead>\n",
       "    <tr style=\"text-align: right;\">\n",
       "      <th></th>\n",
       "      <th>gen</th>\n",
       "      <th>area</th>\n",
       "      <th>area_gen_total_visitors</th>\n",
       "      <th>air_store_id</th>\n",
       "    </tr>\n",
       "  </thead>\n",
       "  <tbody>\n",
       "    <tr>\n",
       "      <th>0</th>\n",
       "      <td>0</td>\n",
       "      <td>0</td>\n",
       "      <td>13836</td>\n",
       "      <td>air_a563896da3777078</td>\n",
       "    </tr>\n",
       "    <tr>\n",
       "      <th>1</th>\n",
       "      <td>0</td>\n",
       "      <td>0</td>\n",
       "      <td>13836</td>\n",
       "      <td>air_7d65049f9d275c0d</td>\n",
       "    </tr>\n",
       "    <tr>\n",
       "      <th>2</th>\n",
       "      <td>0</td>\n",
       "      <td>1</td>\n",
       "      <td>18544</td>\n",
       "      <td>air_b2d97bd2337c5ba7</td>\n",
       "    </tr>\n",
       "    <tr>\n",
       "      <th>3</th>\n",
       "      <td>0</td>\n",
       "      <td>1</td>\n",
       "      <td>18544</td>\n",
       "      <td>air_0241aa3964b7f861</td>\n",
       "    </tr>\n",
       "    <tr>\n",
       "      <th>4</th>\n",
       "      <td>0</td>\n",
       "      <td>1</td>\n",
       "      <td>18544</td>\n",
       "      <td>air_f068442ebb6c246c</td>\n",
       "    </tr>\n",
       "  </tbody>\n",
       "</table>\n",
       "</div>"
      ],
      "text/plain": [
       "   gen  area  area_gen_total_visitors          air_store_id\n",
       "0    0     0                    13836  air_a563896da3777078\n",
       "1    0     0                    13836  air_7d65049f9d275c0d\n",
       "2    0     1                    18544  air_b2d97bd2337c5ba7\n",
       "3    0     1                    18544  air_0241aa3964b7f861\n",
       "4    0     1                    18544  air_f068442ebb6c246c"
      ]
     },
     "execution_count": 75,
     "metadata": {},
     "output_type": "execute_result"
    }
   ],
   "source": [
    "tmp0.head()"
   ]
  },
  {
   "cell_type": "code",
   "execution_count": 76,
   "metadata": {
    "collapsed": true
   },
   "outputs": [],
   "source": [
    "tmp = pd.merge(tmp,tmp0[['air_store_id','area_gen_total_visitors']],how='inner',on='air_store_id')"
   ]
  },
  {
   "cell_type": "code",
   "execution_count": 77,
   "metadata": {},
   "outputs": [
    {
     "data": {
      "text/html": [
       "<div>\n",
       "<style>\n",
       "    .dataframe thead tr:only-child th {\n",
       "        text-align: right;\n",
       "    }\n",
       "\n",
       "    .dataframe thead th {\n",
       "        text-align: left;\n",
       "    }\n",
       "\n",
       "    .dataframe tbody tr th {\n",
       "        vertical-align: top;\n",
       "    }\n",
       "</style>\n",
       "<table border=\"1\" class=\"dataframe\">\n",
       "  <thead>\n",
       "    <tr style=\"text-align: right;\">\n",
       "      <th></th>\n",
       "      <th>air_store_id</th>\n",
       "      <th>area</th>\n",
       "      <th>store_visitors</th>\n",
       "      <th>area_total_visitors</th>\n",
       "      <th>area_gen_total_visitors</th>\n",
       "    </tr>\n",
       "  </thead>\n",
       "  <tbody>\n",
       "    <tr>\n",
       "      <th>0</th>\n",
       "      <td>air_00a91d42b08b08d9</td>\n",
       "      <td>39</td>\n",
       "      <td>6051</td>\n",
       "      <td>143381</td>\n",
       "      <td>21876</td>\n",
       "    </tr>\n",
       "    <tr>\n",
       "      <th>1</th>\n",
       "      <td>air_2c989829acbd1c6b</td>\n",
       "      <td>39</td>\n",
       "      <td>10493</td>\n",
       "      <td>143381</td>\n",
       "      <td>55935</td>\n",
       "    </tr>\n",
       "    <tr>\n",
       "      <th>2</th>\n",
       "      <td>air_36bcf77d3382d36e</td>\n",
       "      <td>39</td>\n",
       "      <td>15126</td>\n",
       "      <td>143381</td>\n",
       "      <td>19647</td>\n",
       "    </tr>\n",
       "    <tr>\n",
       "      <th>3</th>\n",
       "      <td>air_47beaffd3806c979</td>\n",
       "      <td>39</td>\n",
       "      <td>3780</td>\n",
       "      <td>143381</td>\n",
       "      <td>12656</td>\n",
       "    </tr>\n",
       "    <tr>\n",
       "      <th>4</th>\n",
       "      <td>air_5bd22f9cc1426a90</td>\n",
       "      <td>39</td>\n",
       "      <td>6360</td>\n",
       "      <td>143381</td>\n",
       "      <td>12235</td>\n",
       "    </tr>\n",
       "  </tbody>\n",
       "</table>\n",
       "</div>"
      ],
      "text/plain": [
       "           air_store_id  area  store_visitors  area_total_visitors  \\\n",
       "0  air_00a91d42b08b08d9    39            6051               143381   \n",
       "1  air_2c989829acbd1c6b    39           10493               143381   \n",
       "2  air_36bcf77d3382d36e    39           15126               143381   \n",
       "3  air_47beaffd3806c979    39            3780               143381   \n",
       "4  air_5bd22f9cc1426a90    39            6360               143381   \n",
       "\n",
       "   area_gen_total_visitors  \n",
       "0                    21876  \n",
       "1                    55935  \n",
       "2                    19647  \n",
       "3                    12656  \n",
       "4                    12235  "
      ]
     },
     "execution_count": 77,
     "metadata": {},
     "output_type": "execute_result"
    }
   ],
   "source": [
    "tmp.head()"
   ]
  },
  {
   "cell_type": "code",
   "execution_count": 78,
   "metadata": {},
   "outputs": [
    {
     "data": {
      "text/plain": [
       "(829, 5)"
      ]
     },
     "execution_count": 78,
     "metadata": {},
     "output_type": "execute_result"
    }
   ],
   "source": [
    "tmp.shape"
   ]
  },
  {
   "cell_type": "code",
   "execution_count": 79,
   "metadata": {},
   "outputs": [
    {
     "data": {
      "text/plain": [
       "True"
      ]
     },
     "execution_count": 79,
     "metadata": {},
     "output_type": "execute_result"
    }
   ],
   "source": [
    "tmp.area_total_visitors.any(0)"
   ]
  },
  {
   "cell_type": "code",
   "execution_count": 80,
   "metadata": {
    "collapsed": true
   },
   "outputs": [],
   "source": [
    "def store_over_area(data):\n",
    "    if data.area_total_visitors == 0:\n",
    "        return 0\n",
    "    else:\n",
    "        return data.store_visitors/data.area_total_visitors\n",
    "def store_over_gen(data):\n",
    "    if data.area_gen_total_visitors == 0:\n",
    "        return 0\n",
    "    else:\n",
    "        return data.store_visitors/data.area_gen_total_visitors\n",
    "def gen_over_area(data):\n",
    "    if data.area_total_visitors == 0:\n",
    "        return 0\n",
    "    else:\n",
    "        return data.area_gen_total_visitors/data.area_total_visitors"
   ]
  },
  {
   "cell_type": "code",
   "execution_count": 81,
   "metadata": {
    "collapsed": true
   },
   "outputs": [],
   "source": [
    "tmp.drop('area',axis=1,inplace=True)"
   ]
  },
  {
   "cell_type": "code",
   "execution_count": 82,
   "metadata": {},
   "outputs": [
    {
     "data": {
      "text/html": [
       "<div>\n",
       "<style>\n",
       "    .dataframe thead tr:only-child th {\n",
       "        text-align: right;\n",
       "    }\n",
       "\n",
       "    .dataframe thead th {\n",
       "        text-align: left;\n",
       "    }\n",
       "\n",
       "    .dataframe tbody tr th {\n",
       "        vertical-align: top;\n",
       "    }\n",
       "</style>\n",
       "<table border=\"1\" class=\"dataframe\">\n",
       "  <thead>\n",
       "    <tr style=\"text-align: right;\">\n",
       "      <th></th>\n",
       "      <th>air_store_id</th>\n",
       "      <th>store_visitors</th>\n",
       "      <th>area_total_visitors</th>\n",
       "      <th>area_gen_total_visitors</th>\n",
       "    </tr>\n",
       "  </thead>\n",
       "  <tbody>\n",
       "    <tr>\n",
       "      <th>0</th>\n",
       "      <td>air_00a91d42b08b08d9</td>\n",
       "      <td>6051</td>\n",
       "      <td>143381</td>\n",
       "      <td>21876</td>\n",
       "    </tr>\n",
       "    <tr>\n",
       "      <th>1</th>\n",
       "      <td>air_2c989829acbd1c6b</td>\n",
       "      <td>10493</td>\n",
       "      <td>143381</td>\n",
       "      <td>55935</td>\n",
       "    </tr>\n",
       "    <tr>\n",
       "      <th>2</th>\n",
       "      <td>air_36bcf77d3382d36e</td>\n",
       "      <td>15126</td>\n",
       "      <td>143381</td>\n",
       "      <td>19647</td>\n",
       "    </tr>\n",
       "    <tr>\n",
       "      <th>3</th>\n",
       "      <td>air_47beaffd3806c979</td>\n",
       "      <td>3780</td>\n",
       "      <td>143381</td>\n",
       "      <td>12656</td>\n",
       "    </tr>\n",
       "    <tr>\n",
       "      <th>4</th>\n",
       "      <td>air_5bd22f9cc1426a90</td>\n",
       "      <td>6360</td>\n",
       "      <td>143381</td>\n",
       "      <td>12235</td>\n",
       "    </tr>\n",
       "  </tbody>\n",
       "</table>\n",
       "</div>"
      ],
      "text/plain": [
       "           air_store_id  store_visitors  area_total_visitors  \\\n",
       "0  air_00a91d42b08b08d9            6051               143381   \n",
       "1  air_2c989829acbd1c6b           10493               143381   \n",
       "2  air_36bcf77d3382d36e           15126               143381   \n",
       "3  air_47beaffd3806c979            3780               143381   \n",
       "4  air_5bd22f9cc1426a90            6360               143381   \n",
       "\n",
       "   area_gen_total_visitors  \n",
       "0                    21876  \n",
       "1                    55935  \n",
       "2                    19647  \n",
       "3                    12656  \n",
       "4                    12235  "
      ]
     },
     "execution_count": 82,
     "metadata": {},
     "output_type": "execute_result"
    }
   ],
   "source": [
    "tmp.head()"
   ]
  },
  {
   "cell_type": "code",
   "execution_count": 83,
   "metadata": {
    "collapsed": true
   },
   "outputs": [],
   "source": [
    "tmp['store_pop'] = tmp.apply(store_over_area,axis=1)"
   ]
  },
  {
   "cell_type": "code",
   "execution_count": 84,
   "metadata": {
    "collapsed": true
   },
   "outputs": [],
   "source": [
    "tmp['store_genre_pop'] = tmp.apply(store_over_gen,axis=1)"
   ]
  },
  {
   "cell_type": "code",
   "execution_count": 85,
   "metadata": {
    "collapsed": true
   },
   "outputs": [],
   "source": [
    "tmp['genre_pop'] = tmp.apply(gen_over_area,axis=1)"
   ]
  },
  {
   "cell_type": "code",
   "execution_count": 86,
   "metadata": {},
   "outputs": [
    {
     "data": {
      "text/html": [
       "<div>\n",
       "<style>\n",
       "    .dataframe thead tr:only-child th {\n",
       "        text-align: right;\n",
       "    }\n",
       "\n",
       "    .dataframe thead th {\n",
       "        text-align: left;\n",
       "    }\n",
       "\n",
       "    .dataframe tbody tr th {\n",
       "        vertical-align: top;\n",
       "    }\n",
       "</style>\n",
       "<table border=\"1\" class=\"dataframe\">\n",
       "  <thead>\n",
       "    <tr style=\"text-align: right;\">\n",
       "      <th></th>\n",
       "      <th>air_store_id</th>\n",
       "      <th>store_visitors</th>\n",
       "      <th>area_total_visitors</th>\n",
       "      <th>area_gen_total_visitors</th>\n",
       "      <th>store_pop</th>\n",
       "      <th>store_genre_pop</th>\n",
       "      <th>genre_pop</th>\n",
       "    </tr>\n",
       "  </thead>\n",
       "  <tbody>\n",
       "    <tr>\n",
       "      <th>0</th>\n",
       "      <td>air_00a91d42b08b08d9</td>\n",
       "      <td>6051</td>\n",
       "      <td>143381</td>\n",
       "      <td>21876</td>\n",
       "      <td>0.042202</td>\n",
       "      <td>0.276604</td>\n",
       "      <td>0.152573</td>\n",
       "    </tr>\n",
       "    <tr>\n",
       "      <th>1</th>\n",
       "      <td>air_2c989829acbd1c6b</td>\n",
       "      <td>10493</td>\n",
       "      <td>143381</td>\n",
       "      <td>55935</td>\n",
       "      <td>0.073183</td>\n",
       "      <td>0.187593</td>\n",
       "      <td>0.390114</td>\n",
       "    </tr>\n",
       "    <tr>\n",
       "      <th>2</th>\n",
       "      <td>air_36bcf77d3382d36e</td>\n",
       "      <td>15126</td>\n",
       "      <td>143381</td>\n",
       "      <td>19647</td>\n",
       "      <td>0.105495</td>\n",
       "      <td>0.769889</td>\n",
       "      <td>0.137027</td>\n",
       "    </tr>\n",
       "    <tr>\n",
       "      <th>3</th>\n",
       "      <td>air_47beaffd3806c979</td>\n",
       "      <td>3780</td>\n",
       "      <td>143381</td>\n",
       "      <td>12656</td>\n",
       "      <td>0.026363</td>\n",
       "      <td>0.298673</td>\n",
       "      <td>0.088268</td>\n",
       "    </tr>\n",
       "    <tr>\n",
       "      <th>4</th>\n",
       "      <td>air_5bd22f9cc1426a90</td>\n",
       "      <td>6360</td>\n",
       "      <td>143381</td>\n",
       "      <td>12235</td>\n",
       "      <td>0.044357</td>\n",
       "      <td>0.519820</td>\n",
       "      <td>0.085332</td>\n",
       "    </tr>\n",
       "  </tbody>\n",
       "</table>\n",
       "</div>"
      ],
      "text/plain": [
       "           air_store_id  store_visitors  area_total_visitors  \\\n",
       "0  air_00a91d42b08b08d9            6051               143381   \n",
       "1  air_2c989829acbd1c6b           10493               143381   \n",
       "2  air_36bcf77d3382d36e           15126               143381   \n",
       "3  air_47beaffd3806c979            3780               143381   \n",
       "4  air_5bd22f9cc1426a90            6360               143381   \n",
       "\n",
       "   area_gen_total_visitors  store_pop  store_genre_pop  genre_pop  \n",
       "0                    21876   0.042202         0.276604   0.152573  \n",
       "1                    55935   0.073183         0.187593   0.390114  \n",
       "2                    19647   0.105495         0.769889   0.137027  \n",
       "3                    12656   0.026363         0.298673   0.088268  \n",
       "4                    12235   0.044357         0.519820   0.085332  "
      ]
     },
     "execution_count": 86,
     "metadata": {},
     "output_type": "execute_result"
    }
   ],
   "source": [
    "tmp.head()"
   ]
  },
  {
   "cell_type": "code",
   "execution_count": 87,
   "metadata": {
    "collapsed": true
   },
   "outputs": [],
   "source": [
    "tmp = tmp[['air_store_id','store_pop','store_genre_pop','genre_pop']]"
   ]
  },
  {
   "cell_type": "code",
   "execution_count": 88,
   "metadata": {
    "collapsed": true
   },
   "outputs": [],
   "source": [
    "together = pd.merge(together,tmp,how='inner',on='air_store_id')"
   ]
  },
  {
   "cell_type": "code",
   "execution_count": 89,
   "metadata": {},
   "outputs": [
    {
     "data": {
      "text/html": [
       "<div>\n",
       "<style>\n",
       "    .dataframe thead tr:only-child th {\n",
       "        text-align: right;\n",
       "    }\n",
       "\n",
       "    .dataframe thead th {\n",
       "        text-align: left;\n",
       "    }\n",
       "\n",
       "    .dataframe tbody tr th {\n",
       "        vertical-align: top;\n",
       "    }\n",
       "</style>\n",
       "<table border=\"1\" class=\"dataframe\">\n",
       "  <thead>\n",
       "    <tr style=\"text-align: right;\">\n",
       "      <th></th>\n",
       "      <th>air_store_id</th>\n",
       "      <th>area</th>\n",
       "      <th>dom</th>\n",
       "      <th>doq</th>\n",
       "      <th>dow</th>\n",
       "      <th>doy</th>\n",
       "      <th>gen</th>\n",
       "      <th>holi</th>\n",
       "      <th>id</th>\n",
       "      <th>month</th>\n",
       "      <th>quarter</th>\n",
       "      <th>store</th>\n",
       "      <th>visit_date</th>\n",
       "      <th>visitors</th>\n",
       "      <th>year</th>\n",
       "      <th>last_quarter_gen_pop</th>\n",
       "      <th>last_quarter_s_pop</th>\n",
       "      <th>store_pop</th>\n",
       "      <th>store_genre_pop</th>\n",
       "      <th>genre_pop</th>\n",
       "    </tr>\n",
       "  </thead>\n",
       "  <tbody>\n",
       "    <tr>\n",
       "      <th>0</th>\n",
       "      <td>air_ba937bf13d40fb24</td>\n",
       "      <td>33</td>\n",
       "      <td>12</td>\n",
       "      <td>12</td>\n",
       "      <td>2</td>\n",
       "      <td>12</td>\n",
       "      <td>13</td>\n",
       "      <td>0</td>\n",
       "      <td>1</td>\n",
       "      <td>0</td>\n",
       "      <td>0</td>\n",
       "      <td>517</td>\n",
       "      <td>2016-01-13</td>\n",
       "      <td>25</td>\n",
       "      <td>0</td>\n",
       "      <td>-1.0</td>\n",
       "      <td>-1.0</td>\n",
       "      <td>0.030911</td>\n",
       "      <td>0.176627</td>\n",
       "      <td>0.175009</td>\n",
       "    </tr>\n",
       "    <tr>\n",
       "      <th>1</th>\n",
       "      <td>air_ba937bf13d40fb24</td>\n",
       "      <td>33</td>\n",
       "      <td>13</td>\n",
       "      <td>13</td>\n",
       "      <td>3</td>\n",
       "      <td>13</td>\n",
       "      <td>13</td>\n",
       "      <td>0</td>\n",
       "      <td>1</td>\n",
       "      <td>0</td>\n",
       "      <td>0</td>\n",
       "      <td>517</td>\n",
       "      <td>2016-01-14</td>\n",
       "      <td>32</td>\n",
       "      <td>0</td>\n",
       "      <td>-1.0</td>\n",
       "      <td>-1.0</td>\n",
       "      <td>0.030911</td>\n",
       "      <td>0.176627</td>\n",
       "      <td>0.175009</td>\n",
       "    </tr>\n",
       "    <tr>\n",
       "      <th>2</th>\n",
       "      <td>air_ba937bf13d40fb24</td>\n",
       "      <td>33</td>\n",
       "      <td>14</td>\n",
       "      <td>14</td>\n",
       "      <td>4</td>\n",
       "      <td>14</td>\n",
       "      <td>13</td>\n",
       "      <td>0</td>\n",
       "      <td>1</td>\n",
       "      <td>0</td>\n",
       "      <td>0</td>\n",
       "      <td>517</td>\n",
       "      <td>2016-01-15</td>\n",
       "      <td>29</td>\n",
       "      <td>0</td>\n",
       "      <td>-1.0</td>\n",
       "      <td>-1.0</td>\n",
       "      <td>0.030911</td>\n",
       "      <td>0.176627</td>\n",
       "      <td>0.175009</td>\n",
       "    </tr>\n",
       "    <tr>\n",
       "      <th>3</th>\n",
       "      <td>air_ba937bf13d40fb24</td>\n",
       "      <td>33</td>\n",
       "      <td>15</td>\n",
       "      <td>15</td>\n",
       "      <td>5</td>\n",
       "      <td>15</td>\n",
       "      <td>13</td>\n",
       "      <td>0</td>\n",
       "      <td>1</td>\n",
       "      <td>0</td>\n",
       "      <td>0</td>\n",
       "      <td>517</td>\n",
       "      <td>2016-01-16</td>\n",
       "      <td>22</td>\n",
       "      <td>0</td>\n",
       "      <td>-1.0</td>\n",
       "      <td>-1.0</td>\n",
       "      <td>0.030911</td>\n",
       "      <td>0.176627</td>\n",
       "      <td>0.175009</td>\n",
       "    </tr>\n",
       "    <tr>\n",
       "      <th>4</th>\n",
       "      <td>air_ba937bf13d40fb24</td>\n",
       "      <td>33</td>\n",
       "      <td>17</td>\n",
       "      <td>17</td>\n",
       "      <td>0</td>\n",
       "      <td>17</td>\n",
       "      <td>13</td>\n",
       "      <td>0</td>\n",
       "      <td>1</td>\n",
       "      <td>0</td>\n",
       "      <td>0</td>\n",
       "      <td>517</td>\n",
       "      <td>2016-01-18</td>\n",
       "      <td>6</td>\n",
       "      <td>0</td>\n",
       "      <td>-1.0</td>\n",
       "      <td>-1.0</td>\n",
       "      <td>0.030911</td>\n",
       "      <td>0.176627</td>\n",
       "      <td>0.175009</td>\n",
       "    </tr>\n",
       "  </tbody>\n",
       "</table>\n",
       "</div>"
      ],
      "text/plain": [
       "           air_store_id  area  dom  doq  dow  doy  gen  holi id  month  \\\n",
       "0  air_ba937bf13d40fb24    33   12   12    2   12   13     0  1      0   \n",
       "1  air_ba937bf13d40fb24    33   13   13    3   13   13     0  1      0   \n",
       "2  air_ba937bf13d40fb24    33   14   14    4   14   13     0  1      0   \n",
       "3  air_ba937bf13d40fb24    33   15   15    5   15   13     0  1      0   \n",
       "4  air_ba937bf13d40fb24    33   17   17    0   17   13     0  1      0   \n",
       "\n",
       "   quarter  store  visit_date  visitors  year  last_quarter_gen_pop  \\\n",
       "0        0    517  2016-01-13        25     0                  -1.0   \n",
       "1        0    517  2016-01-14        32     0                  -1.0   \n",
       "2        0    517  2016-01-15        29     0                  -1.0   \n",
       "3        0    517  2016-01-16        22     0                  -1.0   \n",
       "4        0    517  2016-01-18         6     0                  -1.0   \n",
       "\n",
       "   last_quarter_s_pop  store_pop  store_genre_pop  genre_pop  \n",
       "0                -1.0   0.030911         0.176627   0.175009  \n",
       "1                -1.0   0.030911         0.176627   0.175009  \n",
       "2                -1.0   0.030911         0.176627   0.175009  \n",
       "3                -1.0   0.030911         0.176627   0.175009  \n",
       "4                -1.0   0.030911         0.176627   0.175009  "
      ]
     },
     "execution_count": 89,
     "metadata": {},
     "output_type": "execute_result"
    }
   ],
   "source": [
    "together.head()"
   ]
  },
  {
   "cell_type": "code",
   "execution_count": 90,
   "metadata": {},
   "outputs": [
    {
     "data": {
      "text/plain": [
       "Index(['air_store_id', 'area', 'dom', 'doq', 'dow', 'doy', 'gen', 'holi', 'id',\n",
       "       'month', 'quarter', 'store', 'visit_date', 'visitors', 'year',\n",
       "       'last_quarter_gen_pop', 'last_quarter_s_pop', 'store_pop',\n",
       "       'store_genre_pop', 'genre_pop'],\n",
       "      dtype='object')"
      ]
     },
     "execution_count": 90,
     "metadata": {},
     "output_type": "execute_result"
    }
   ],
   "source": [
    "together.columns"
   ]
  },
  {
   "cell_type": "markdown",
   "metadata": {},
   "source": [
    "## split for train just to test"
   ]
  },
  {
   "cell_type": "code",
   "execution_count": 91,
   "metadata": {
    "collapsed": true
   },
   "outputs": [],
   "source": [
    "train_id = together.id.apply(lambda x:True if x==1.0 else False)"
   ]
  },
  {
   "cell_type": "code",
   "execution_count": 92,
   "metadata": {
    "collapsed": true
   },
   "outputs": [],
   "source": [
    "train_data = together[train_id]"
   ]
  },
  {
   "cell_type": "code",
   "execution_count": 93,
   "metadata": {},
   "outputs": [
    {
     "data": {
      "text/plain": [
       "(252108, 20)"
      ]
     },
     "execution_count": 93,
     "metadata": {},
     "output_type": "execute_result"
    }
   ],
   "source": [
    "train_data.shape"
   ]
  },
  {
   "cell_type": "code",
   "execution_count": 94,
   "metadata": {},
   "outputs": [
    {
     "data": {
      "text/plain": [
       "(284127, 20)"
      ]
     },
     "execution_count": 94,
     "metadata": {},
     "output_type": "execute_result"
    }
   ],
   "source": [
    "together.shape"
   ]
  },
  {
   "cell_type": "code",
   "execution_count": 95,
   "metadata": {},
   "outputs": [
    {
     "name": "stdout",
     "output_type": "stream",
     "text": [
      "0.1 0.534389\n",
      "0.15 0.517530666667\n",
      "0.2 0.516043333333\n"
     ]
    }
   ],
   "source": [
    "dtrain = xgb.DMatrix(train_data.drop(['id','visitors','air_store_id','visit_date'],axis=1),train_data.visitors.apply(np.log1p))\n",
    "for i in np.arange(0.1,0.25,0.05):\n",
    "    param = {\n",
    "        'eta':i,'max_depth':16,'subsample':0.94,'colsample_bytree':0.73,'lamdba':0.3,'alpha':0.8,\\\n",
    "        'min_child_weight':29,'num_boost_round':100,'objective':'reg:linear','booster':'gbtree',\\\n",
    "        'tree_method':'hist','max_bin':150\n",
    "    }\n",
    "    hist = xgb.cv(param,dtrain,30,metrics='rmse')\n",
    "    print(i,hist['test-rmse-mean'].iloc[-1])"
   ]
  },
  {
   "cell_type": "markdown",
   "metadata": {
    "collapsed": true
   },
   "source": [
    "## continue with together data"
   ]
  },
  {
   "cell_type": "markdown",
   "metadata": {},
   "source": [
    "## last month genre and store pop"
   ]
  },
  {
   "cell_type": "code",
   "execution_count": 96,
   "metadata": {
    "collapsed": true
   },
   "outputs": [],
   "source": [
    "tmp = together.groupby(['year','month','store','area'],as_index=False\n",
    "                      )['visitors'].sum().rename(columns={'visitors':'store_visit_by_area'})"
   ]
  },
  {
   "cell_type": "code",
   "execution_count": 97,
   "metadata": {},
   "outputs": [
    {
     "data": {
      "text/html": [
       "<div>\n",
       "<style>\n",
       "    .dataframe thead tr:only-child th {\n",
       "        text-align: right;\n",
       "    }\n",
       "\n",
       "    .dataframe thead th {\n",
       "        text-align: left;\n",
       "    }\n",
       "\n",
       "    .dataframe tbody tr th {\n",
       "        vertical-align: top;\n",
       "    }\n",
       "</style>\n",
       "<table border=\"1\" class=\"dataframe\">\n",
       "  <thead>\n",
       "    <tr style=\"text-align: right;\">\n",
       "      <th></th>\n",
       "      <th>year</th>\n",
       "      <th>month</th>\n",
       "      <th>store</th>\n",
       "      <th>area</th>\n",
       "      <th>store_visit_by_area</th>\n",
       "    </tr>\n",
       "  </thead>\n",
       "  <tbody>\n",
       "    <tr>\n",
       "      <th>0</th>\n",
       "      <td>0</td>\n",
       "      <td>0</td>\n",
       "      <td>3</td>\n",
       "      <td>6</td>\n",
       "      <td>978</td>\n",
       "    </tr>\n",
       "    <tr>\n",
       "      <th>1</th>\n",
       "      <td>0</td>\n",
       "      <td>0</td>\n",
       "      <td>6</td>\n",
       "      <td>19</td>\n",
       "      <td>322</td>\n",
       "    </tr>\n",
       "    <tr>\n",
       "      <th>2</th>\n",
       "      <td>0</td>\n",
       "      <td>0</td>\n",
       "      <td>8</td>\n",
       "      <td>48</td>\n",
       "      <td>195</td>\n",
       "    </tr>\n",
       "    <tr>\n",
       "      <th>3</th>\n",
       "      <td>0</td>\n",
       "      <td>0</td>\n",
       "      <td>11</td>\n",
       "      <td>33</td>\n",
       "      <td>202</td>\n",
       "    </tr>\n",
       "    <tr>\n",
       "      <th>4</th>\n",
       "      <td>0</td>\n",
       "      <td>0</td>\n",
       "      <td>12</td>\n",
       "      <td>1</td>\n",
       "      <td>356</td>\n",
       "    </tr>\n",
       "  </tbody>\n",
       "</table>\n",
       "</div>"
      ],
      "text/plain": [
       "   year  month  store  area  store_visit_by_area\n",
       "0     0      0      3     6                  978\n",
       "1     0      0      6    19                  322\n",
       "2     0      0      8    48                  195\n",
       "3     0      0     11    33                  202\n",
       "4     0      0     12     1                  356"
      ]
     },
     "execution_count": 97,
     "metadata": {},
     "output_type": "execute_result"
    }
   ],
   "source": [
    "tmp.head()"
   ]
  },
  {
   "cell_type": "code",
   "execution_count": 98,
   "metadata": {
    "collapsed": true
   },
   "outputs": [],
   "source": [
    "tmp0 = together.groupby(['year','month','area'],as_index=False\n",
    "                       )['visitors'].sum().rename(columns={'visitors':'area_total_visit'})"
   ]
  },
  {
   "cell_type": "code",
   "execution_count": 99,
   "metadata": {},
   "outputs": [
    {
     "data": {
      "text/html": [
       "<div>\n",
       "<style>\n",
       "    .dataframe thead tr:only-child th {\n",
       "        text-align: right;\n",
       "    }\n",
       "\n",
       "    .dataframe thead th {\n",
       "        text-align: left;\n",
       "    }\n",
       "\n",
       "    .dataframe tbody tr th {\n",
       "        vertical-align: top;\n",
       "    }\n",
       "</style>\n",
       "<table border=\"1\" class=\"dataframe\">\n",
       "  <thead>\n",
       "    <tr style=\"text-align: right;\">\n",
       "      <th></th>\n",
       "      <th>year</th>\n",
       "      <th>month</th>\n",
       "      <th>area</th>\n",
       "      <th>area_total_visit</th>\n",
       "    </tr>\n",
       "  </thead>\n",
       "  <tbody>\n",
       "    <tr>\n",
       "      <th>0</th>\n",
       "      <td>0</td>\n",
       "      <td>0</td>\n",
       "      <td>0</td>\n",
       "      <td>860</td>\n",
       "    </tr>\n",
       "    <tr>\n",
       "      <th>1</th>\n",
       "      <td>0</td>\n",
       "      <td>0</td>\n",
       "      <td>1</td>\n",
       "      <td>3461</td>\n",
       "    </tr>\n",
       "    <tr>\n",
       "      <th>2</th>\n",
       "      <td>0</td>\n",
       "      <td>0</td>\n",
       "      <td>3</td>\n",
       "      <td>733</td>\n",
       "    </tr>\n",
       "    <tr>\n",
       "      <th>3</th>\n",
       "      <td>0</td>\n",
       "      <td>0</td>\n",
       "      <td>4</td>\n",
       "      <td>252</td>\n",
       "    </tr>\n",
       "    <tr>\n",
       "      <th>4</th>\n",
       "      <td>0</td>\n",
       "      <td>0</td>\n",
       "      <td>5</td>\n",
       "      <td>1272</td>\n",
       "    </tr>\n",
       "  </tbody>\n",
       "</table>\n",
       "</div>"
      ],
      "text/plain": [
       "   year  month  area  area_total_visit\n",
       "0     0      0     0               860\n",
       "1     0      0     1              3461\n",
       "2     0      0     3               733\n",
       "3     0      0     4               252\n",
       "4     0      0     5              1272"
      ]
     },
     "execution_count": 99,
     "metadata": {},
     "output_type": "execute_result"
    }
   ],
   "source": [
    "tmp0.head()"
   ]
  },
  {
   "cell_type": "code",
   "execution_count": 100,
   "metadata": {},
   "outputs": [
    {
     "data": {
      "text/plain": [
       "(10795, 5)"
      ]
     },
     "execution_count": 100,
     "metadata": {},
     "output_type": "execute_result"
    }
   ],
   "source": [
    "tmp.shape"
   ]
  },
  {
   "cell_type": "code",
   "execution_count": 101,
   "metadata": {
    "collapsed": true
   },
   "outputs": [],
   "source": [
    "tmp = pd.merge(tmp,tmp0,how='inner',on=['year','month','area'])"
   ]
  },
  {
   "cell_type": "code",
   "execution_count": 102,
   "metadata": {},
   "outputs": [
    {
     "data": {
      "text/plain": [
       "(10795, 6)"
      ]
     },
     "execution_count": 102,
     "metadata": {},
     "output_type": "execute_result"
    }
   ],
   "source": [
    "tmp.shape"
   ]
  },
  {
   "cell_type": "code",
   "execution_count": 103,
   "metadata": {},
   "outputs": [
    {
     "data": {
      "text/html": [
       "<div>\n",
       "<style>\n",
       "    .dataframe thead tr:only-child th {\n",
       "        text-align: right;\n",
       "    }\n",
       "\n",
       "    .dataframe thead th {\n",
       "        text-align: left;\n",
       "    }\n",
       "\n",
       "    .dataframe tbody tr th {\n",
       "        vertical-align: top;\n",
       "    }\n",
       "</style>\n",
       "<table border=\"1\" class=\"dataframe\">\n",
       "  <thead>\n",
       "    <tr style=\"text-align: right;\">\n",
       "      <th></th>\n",
       "      <th>year</th>\n",
       "      <th>month</th>\n",
       "      <th>store</th>\n",
       "      <th>area</th>\n",
       "      <th>store_visit_by_area</th>\n",
       "      <th>area_total_visit</th>\n",
       "    </tr>\n",
       "  </thead>\n",
       "  <tbody>\n",
       "    <tr>\n",
       "      <th>0</th>\n",
       "      <td>0</td>\n",
       "      <td>0</td>\n",
       "      <td>3</td>\n",
       "      <td>6</td>\n",
       "      <td>978</td>\n",
       "      <td>2084</td>\n",
       "    </tr>\n",
       "    <tr>\n",
       "      <th>1</th>\n",
       "      <td>0</td>\n",
       "      <td>0</td>\n",
       "      <td>392</td>\n",
       "      <td>6</td>\n",
       "      <td>713</td>\n",
       "      <td>2084</td>\n",
       "    </tr>\n",
       "    <tr>\n",
       "      <th>2</th>\n",
       "      <td>0</td>\n",
       "      <td>0</td>\n",
       "      <td>573</td>\n",
       "      <td>6</td>\n",
       "      <td>393</td>\n",
       "      <td>2084</td>\n",
       "    </tr>\n",
       "    <tr>\n",
       "      <th>3</th>\n",
       "      <td>0</td>\n",
       "      <td>0</td>\n",
       "      <td>6</td>\n",
       "      <td>19</td>\n",
       "      <td>322</td>\n",
       "      <td>2310</td>\n",
       "    </tr>\n",
       "    <tr>\n",
       "      <th>4</th>\n",
       "      <td>0</td>\n",
       "      <td>0</td>\n",
       "      <td>79</td>\n",
       "      <td>19</td>\n",
       "      <td>838</td>\n",
       "      <td>2310</td>\n",
       "    </tr>\n",
       "  </tbody>\n",
       "</table>\n",
       "</div>"
      ],
      "text/plain": [
       "   year  month  store  area  store_visit_by_area  area_total_visit\n",
       "0     0      0      3     6                  978              2084\n",
       "1     0      0    392     6                  713              2084\n",
       "2     0      0    573     6                  393              2084\n",
       "3     0      0      6    19                  322              2310\n",
       "4     0      0     79    19                  838              2310"
      ]
     },
     "execution_count": 103,
     "metadata": {},
     "output_type": "execute_result"
    }
   ],
   "source": [
    "tmp.head()"
   ]
  },
  {
   "cell_type": "code",
   "execution_count": 104,
   "metadata": {
    "collapsed": true
   },
   "outputs": [],
   "source": [
    "def get_lmsp(data):\n",
    "    if data.area_total_visit==0:\n",
    "        return 0\n",
    "    else:\n",
    "        return data.store_visit_by_area/data.area_total_visit"
   ]
  },
  {
   "cell_type": "code",
   "execution_count": 105,
   "metadata": {},
   "outputs": [
    {
     "data": {
      "text/plain": [
       "0    0.469290\n",
       "1    0.342131\n",
       "2    0.188580\n",
       "dtype: float64"
      ]
     },
     "execution_count": 105,
     "metadata": {},
     "output_type": "execute_result"
    }
   ],
   "source": [
    "tmp.iloc[:3].apply(get_lmsp,axis=1)"
   ]
  },
  {
   "cell_type": "code",
   "execution_count": 106,
   "metadata": {
    "collapsed": true
   },
   "outputs": [],
   "source": [
    "tmp = tmp.sort_values(by=['store','area','year','month'])"
   ]
  },
  {
   "cell_type": "code",
   "execution_count": 107,
   "metadata": {},
   "outputs": [
    {
     "data": {
      "text/html": [
       "<div>\n",
       "<style>\n",
       "    .dataframe thead tr:only-child th {\n",
       "        text-align: right;\n",
       "    }\n",
       "\n",
       "    .dataframe thead th {\n",
       "        text-align: left;\n",
       "    }\n",
       "\n",
       "    .dataframe tbody tr th {\n",
       "        vertical-align: top;\n",
       "    }\n",
       "</style>\n",
       "<table border=\"1\" class=\"dataframe\">\n",
       "  <thead>\n",
       "    <tr style=\"text-align: right;\">\n",
       "      <th></th>\n",
       "      <th>year</th>\n",
       "      <th>month</th>\n",
       "      <th>store</th>\n",
       "      <th>area</th>\n",
       "      <th>store_visit_by_area</th>\n",
       "      <th>area_total_visit</th>\n",
       "    </tr>\n",
       "  </thead>\n",
       "  <tbody>\n",
       "    <tr>\n",
       "      <th>1856</th>\n",
       "      <td>0</td>\n",
       "      <td>6</td>\n",
       "      <td>0</td>\n",
       "      <td>64</td>\n",
       "      <td>430</td>\n",
       "      <td>1449</td>\n",
       "    </tr>\n",
       "    <tr>\n",
       "      <th>2655</th>\n",
       "      <td>0</td>\n",
       "      <td>7</td>\n",
       "      <td>0</td>\n",
       "      <td>64</td>\n",
       "      <td>537</td>\n",
       "      <td>1459</td>\n",
       "    </tr>\n",
       "    <tr>\n",
       "      <th>3457</th>\n",
       "      <td>0</td>\n",
       "      <td>8</td>\n",
       "      <td>0</td>\n",
       "      <td>64</td>\n",
       "      <td>502</td>\n",
       "      <td>1446</td>\n",
       "    </tr>\n",
       "    <tr>\n",
       "      <th>4264</th>\n",
       "      <td>0</td>\n",
       "      <td>9</td>\n",
       "      <td>0</td>\n",
       "      <td>64</td>\n",
       "      <td>521</td>\n",
       "      <td>1592</td>\n",
       "    </tr>\n",
       "    <tr>\n",
       "      <th>5073</th>\n",
       "      <td>0</td>\n",
       "      <td>10</td>\n",
       "      <td>0</td>\n",
       "      <td>64</td>\n",
       "      <td>554</td>\n",
       "      <td>1333</td>\n",
       "    </tr>\n",
       "    <tr>\n",
       "      <th>5884</th>\n",
       "      <td>0</td>\n",
       "      <td>11</td>\n",
       "      <td>0</td>\n",
       "      <td>64</td>\n",
       "      <td>578</td>\n",
       "      <td>1458</td>\n",
       "    </tr>\n",
       "    <tr>\n",
       "      <th>6695</th>\n",
       "      <td>1</td>\n",
       "      <td>0</td>\n",
       "      <td>0</td>\n",
       "      <td>64</td>\n",
       "      <td>562</td>\n",
       "      <td>1426</td>\n",
       "    </tr>\n",
       "    <tr>\n",
       "      <th>7509</th>\n",
       "      <td>1</td>\n",
       "      <td>1</td>\n",
       "      <td>0</td>\n",
       "      <td>64</td>\n",
       "      <td>511</td>\n",
       "      <td>1188</td>\n",
       "    </tr>\n",
       "    <tr>\n",
       "      <th>8325</th>\n",
       "      <td>1</td>\n",
       "      <td>2</td>\n",
       "      <td>0</td>\n",
       "      <td>64</td>\n",
       "      <td>998</td>\n",
       "      <td>1853</td>\n",
       "    </tr>\n",
       "    <tr>\n",
       "      <th>9150</th>\n",
       "      <td>1</td>\n",
       "      <td>3</td>\n",
       "      <td>0</td>\n",
       "      <td>64</td>\n",
       "      <td>662</td>\n",
       "      <td>1421</td>\n",
       "    </tr>\n",
       "    <tr>\n",
       "      <th>9974</th>\n",
       "      <td>1</td>\n",
       "      <td>4</td>\n",
       "      <td>0</td>\n",
       "      <td>64</td>\n",
       "      <td>0</td>\n",
       "      <td>0</td>\n",
       "    </tr>\n",
       "    <tr>\n",
       "      <th>1858</th>\n",
       "      <td>0</td>\n",
       "      <td>6</td>\n",
       "      <td>1</td>\n",
       "      <td>58</td>\n",
       "      <td>348</td>\n",
       "      <td>19022</td>\n",
       "    </tr>\n",
       "    <tr>\n",
       "      <th>2657</th>\n",
       "      <td>0</td>\n",
       "      <td>7</td>\n",
       "      <td>1</td>\n",
       "      <td>58</td>\n",
       "      <td>356</td>\n",
       "      <td>16822</td>\n",
       "    </tr>\n",
       "    <tr>\n",
       "      <th>3459</th>\n",
       "      <td>0</td>\n",
       "      <td>8</td>\n",
       "      <td>1</td>\n",
       "      <td>58</td>\n",
       "      <td>328</td>\n",
       "      <td>18059</td>\n",
       "    </tr>\n",
       "    <tr>\n",
       "      <th>4266</th>\n",
       "      <td>0</td>\n",
       "      <td>9</td>\n",
       "      <td>1</td>\n",
       "      <td>58</td>\n",
       "      <td>286</td>\n",
       "      <td>19715</td>\n",
       "    </tr>\n",
       "    <tr>\n",
       "      <th>5075</th>\n",
       "      <td>0</td>\n",
       "      <td>10</td>\n",
       "      <td>1</td>\n",
       "      <td>58</td>\n",
       "      <td>255</td>\n",
       "      <td>18792</td>\n",
       "    </tr>\n",
       "    <tr>\n",
       "      <th>5886</th>\n",
       "      <td>0</td>\n",
       "      <td>11</td>\n",
       "      <td>1</td>\n",
       "      <td>58</td>\n",
       "      <td>389</td>\n",
       "      <td>22308</td>\n",
       "    </tr>\n",
       "    <tr>\n",
       "      <th>6697</th>\n",
       "      <td>1</td>\n",
       "      <td>0</td>\n",
       "      <td>1</td>\n",
       "      <td>58</td>\n",
       "      <td>273</td>\n",
       "      <td>17649</td>\n",
       "    </tr>\n",
       "    <tr>\n",
       "      <th>7511</th>\n",
       "      <td>1</td>\n",
       "      <td>1</td>\n",
       "      <td>1</td>\n",
       "      <td>58</td>\n",
       "      <td>257</td>\n",
       "      <td>17444</td>\n",
       "    </tr>\n",
       "    <tr>\n",
       "      <th>8327</th>\n",
       "      <td>1</td>\n",
       "      <td>2</td>\n",
       "      <td>1</td>\n",
       "      <td>58</td>\n",
       "      <td>245</td>\n",
       "      <td>21131</td>\n",
       "    </tr>\n",
       "  </tbody>\n",
       "</table>\n",
       "</div>"
      ],
      "text/plain": [
       "      year  month  store  area  store_visit_by_area  area_total_visit\n",
       "1856     0      6      0    64                  430              1449\n",
       "2655     0      7      0    64                  537              1459\n",
       "3457     0      8      0    64                  502              1446\n",
       "4264     0      9      0    64                  521              1592\n",
       "5073     0     10      0    64                  554              1333\n",
       "5884     0     11      0    64                  578              1458\n",
       "6695     1      0      0    64                  562              1426\n",
       "7509     1      1      0    64                  511              1188\n",
       "8325     1      2      0    64                  998              1853\n",
       "9150     1      3      0    64                  662              1421\n",
       "9974     1      4      0    64                    0                 0\n",
       "1858     0      6      1    58                  348             19022\n",
       "2657     0      7      1    58                  356             16822\n",
       "3459     0      8      1    58                  328             18059\n",
       "4266     0      9      1    58                  286             19715\n",
       "5075     0     10      1    58                  255             18792\n",
       "5886     0     11      1    58                  389             22308\n",
       "6697     1      0      1    58                  273             17649\n",
       "7511     1      1      1    58                  257             17444\n",
       "8327     1      2      1    58                  245             21131"
      ]
     },
     "execution_count": 107,
     "metadata": {},
     "output_type": "execute_result"
    }
   ],
   "source": [
    "tmp.head(20)"
   ]
  },
  {
   "cell_type": "code",
   "execution_count": 108,
   "metadata": {
    "collapsed": true
   },
   "outputs": [],
   "source": [
    "tmp['store_pop'] = tmp.apply(get_lmsp,axis=1)"
   ]
  },
  {
   "cell_type": "code",
   "execution_count": 109,
   "metadata": {
    "collapsed": true
   },
   "outputs": [],
   "source": [
    "tmp['store_pop_shift'] = tmp.store_pop.shift(1)"
   ]
  },
  {
   "cell_type": "code",
   "execution_count": 110,
   "metadata": {},
   "outputs": [
    {
     "data": {
      "text/html": [
       "<div>\n",
       "<style>\n",
       "    .dataframe thead tr:only-child th {\n",
       "        text-align: right;\n",
       "    }\n",
       "\n",
       "    .dataframe thead th {\n",
       "        text-align: left;\n",
       "    }\n",
       "\n",
       "    .dataframe tbody tr th {\n",
       "        vertical-align: top;\n",
       "    }\n",
       "</style>\n",
       "<table border=\"1\" class=\"dataframe\">\n",
       "  <thead>\n",
       "    <tr style=\"text-align: right;\">\n",
       "      <th></th>\n",
       "      <th>year</th>\n",
       "      <th>month</th>\n",
       "      <th>store</th>\n",
       "      <th>area</th>\n",
       "      <th>store_visit_by_area</th>\n",
       "      <th>area_total_visit</th>\n",
       "      <th>store_pop</th>\n",
       "      <th>store_pop_shift</th>\n",
       "    </tr>\n",
       "  </thead>\n",
       "  <tbody>\n",
       "    <tr>\n",
       "      <th>1856</th>\n",
       "      <td>0</td>\n",
       "      <td>6</td>\n",
       "      <td>0</td>\n",
       "      <td>64</td>\n",
       "      <td>430</td>\n",
       "      <td>1449</td>\n",
       "      <td>0.296756</td>\n",
       "      <td>NaN</td>\n",
       "    </tr>\n",
       "    <tr>\n",
       "      <th>2655</th>\n",
       "      <td>0</td>\n",
       "      <td>7</td>\n",
       "      <td>0</td>\n",
       "      <td>64</td>\n",
       "      <td>537</td>\n",
       "      <td>1459</td>\n",
       "      <td>0.368060</td>\n",
       "      <td>0.296756</td>\n",
       "    </tr>\n",
       "    <tr>\n",
       "      <th>3457</th>\n",
       "      <td>0</td>\n",
       "      <td>8</td>\n",
       "      <td>0</td>\n",
       "      <td>64</td>\n",
       "      <td>502</td>\n",
       "      <td>1446</td>\n",
       "      <td>0.347165</td>\n",
       "      <td>0.368060</td>\n",
       "    </tr>\n",
       "    <tr>\n",
       "      <th>4264</th>\n",
       "      <td>0</td>\n",
       "      <td>9</td>\n",
       "      <td>0</td>\n",
       "      <td>64</td>\n",
       "      <td>521</td>\n",
       "      <td>1592</td>\n",
       "      <td>0.327261</td>\n",
       "      <td>0.347165</td>\n",
       "    </tr>\n",
       "    <tr>\n",
       "      <th>5073</th>\n",
       "      <td>0</td>\n",
       "      <td>10</td>\n",
       "      <td>0</td>\n",
       "      <td>64</td>\n",
       "      <td>554</td>\n",
       "      <td>1333</td>\n",
       "      <td>0.415604</td>\n",
       "      <td>0.327261</td>\n",
       "    </tr>\n",
       "  </tbody>\n",
       "</table>\n",
       "</div>"
      ],
      "text/plain": [
       "      year  month  store  area  store_visit_by_area  area_total_visit  \\\n",
       "1856     0      6      0    64                  430              1449   \n",
       "2655     0      7      0    64                  537              1459   \n",
       "3457     0      8      0    64                  502              1446   \n",
       "4264     0      9      0    64                  521              1592   \n",
       "5073     0     10      0    64                  554              1333   \n",
       "\n",
       "      store_pop  store_pop_shift  \n",
       "1856   0.296756              NaN  \n",
       "2655   0.368060         0.296756  \n",
       "3457   0.347165         0.368060  \n",
       "4264   0.327261         0.347165  \n",
       "5073   0.415604         0.327261  "
      ]
     },
     "execution_count": 110,
     "metadata": {},
     "output_type": "execute_result"
    }
   ],
   "source": [
    "tmp.head()"
   ]
  },
  {
   "cell_type": "code",
   "execution_count": 111,
   "metadata": {
    "collapsed": true
   },
   "outputs": [],
   "source": [
    "tmp['store_shift'] = tmp.store.shift(1)"
   ]
  },
  {
   "cell_type": "code",
   "execution_count": 112,
   "metadata": {
    "collapsed": true
   },
   "outputs": [],
   "source": [
    "def get_first_lmsp(data):\n",
    "    if data.store!=data.store_shift:\n",
    "        return -1\n",
    "    else:\n",
    "        return data.store_pop_shift"
   ]
  },
  {
   "cell_type": "code",
   "execution_count": 113,
   "metadata": {
    "collapsed": true
   },
   "outputs": [],
   "source": [
    "tmp['store_pop_monthly'] = tmp.apply(get_first_lmsp,axis=1)"
   ]
  },
  {
   "cell_type": "code",
   "execution_count": 114,
   "metadata": {},
   "outputs": [
    {
     "data": {
      "text/html": [
       "<div>\n",
       "<style>\n",
       "    .dataframe thead tr:only-child th {\n",
       "        text-align: right;\n",
       "    }\n",
       "\n",
       "    .dataframe thead th {\n",
       "        text-align: left;\n",
       "    }\n",
       "\n",
       "    .dataframe tbody tr th {\n",
       "        vertical-align: top;\n",
       "    }\n",
       "</style>\n",
       "<table border=\"1\" class=\"dataframe\">\n",
       "  <thead>\n",
       "    <tr style=\"text-align: right;\">\n",
       "      <th></th>\n",
       "      <th>year</th>\n",
       "      <th>month</th>\n",
       "      <th>store</th>\n",
       "      <th>area</th>\n",
       "      <th>store_visit_by_area</th>\n",
       "      <th>area_total_visit</th>\n",
       "      <th>store_pop</th>\n",
       "      <th>store_pop_shift</th>\n",
       "      <th>store_shift</th>\n",
       "      <th>store_pop_monthly</th>\n",
       "    </tr>\n",
       "  </thead>\n",
       "  <tbody>\n",
       "    <tr>\n",
       "      <th>1856</th>\n",
       "      <td>0</td>\n",
       "      <td>6</td>\n",
       "      <td>0</td>\n",
       "      <td>64</td>\n",
       "      <td>430</td>\n",
       "      <td>1449</td>\n",
       "      <td>0.296756</td>\n",
       "      <td>NaN</td>\n",
       "      <td>NaN</td>\n",
       "      <td>-1.000000</td>\n",
       "    </tr>\n",
       "    <tr>\n",
       "      <th>2655</th>\n",
       "      <td>0</td>\n",
       "      <td>7</td>\n",
       "      <td>0</td>\n",
       "      <td>64</td>\n",
       "      <td>537</td>\n",
       "      <td>1459</td>\n",
       "      <td>0.368060</td>\n",
       "      <td>0.296756</td>\n",
       "      <td>0.0</td>\n",
       "      <td>0.296756</td>\n",
       "    </tr>\n",
       "    <tr>\n",
       "      <th>3457</th>\n",
       "      <td>0</td>\n",
       "      <td>8</td>\n",
       "      <td>0</td>\n",
       "      <td>64</td>\n",
       "      <td>502</td>\n",
       "      <td>1446</td>\n",
       "      <td>0.347165</td>\n",
       "      <td>0.368060</td>\n",
       "      <td>0.0</td>\n",
       "      <td>0.368060</td>\n",
       "    </tr>\n",
       "    <tr>\n",
       "      <th>4264</th>\n",
       "      <td>0</td>\n",
       "      <td>9</td>\n",
       "      <td>0</td>\n",
       "      <td>64</td>\n",
       "      <td>521</td>\n",
       "      <td>1592</td>\n",
       "      <td>0.327261</td>\n",
       "      <td>0.347165</td>\n",
       "      <td>0.0</td>\n",
       "      <td>0.347165</td>\n",
       "    </tr>\n",
       "    <tr>\n",
       "      <th>5073</th>\n",
       "      <td>0</td>\n",
       "      <td>10</td>\n",
       "      <td>0</td>\n",
       "      <td>64</td>\n",
       "      <td>554</td>\n",
       "      <td>1333</td>\n",
       "      <td>0.415604</td>\n",
       "      <td>0.327261</td>\n",
       "      <td>0.0</td>\n",
       "      <td>0.327261</td>\n",
       "    </tr>\n",
       "  </tbody>\n",
       "</table>\n",
       "</div>"
      ],
      "text/plain": [
       "      year  month  store  area  store_visit_by_area  area_total_visit  \\\n",
       "1856     0      6      0    64                  430              1449   \n",
       "2655     0      7      0    64                  537              1459   \n",
       "3457     0      8      0    64                  502              1446   \n",
       "4264     0      9      0    64                  521              1592   \n",
       "5073     0     10      0    64                  554              1333   \n",
       "\n",
       "      store_pop  store_pop_shift  store_shift  store_pop_monthly  \n",
       "1856   0.296756              NaN          NaN          -1.000000  \n",
       "2655   0.368060         0.296756          0.0           0.296756  \n",
       "3457   0.347165         0.368060          0.0           0.368060  \n",
       "4264   0.327261         0.347165          0.0           0.347165  \n",
       "5073   0.415604         0.327261          0.0           0.327261  "
      ]
     },
     "execution_count": 114,
     "metadata": {},
     "output_type": "execute_result"
    }
   ],
   "source": [
    "tmp.head()"
   ]
  },
  {
   "cell_type": "code",
   "execution_count": 115,
   "metadata": {
    "collapsed": true
   },
   "outputs": [],
   "source": [
    "tmp = tmp[['year','month','store','area','store_pop_monthly']]"
   ]
  },
  {
   "cell_type": "code",
   "execution_count": 116,
   "metadata": {},
   "outputs": [
    {
     "data": {
      "text/html": [
       "<div>\n",
       "<style>\n",
       "    .dataframe thead tr:only-child th {\n",
       "        text-align: right;\n",
       "    }\n",
       "\n",
       "    .dataframe thead th {\n",
       "        text-align: left;\n",
       "    }\n",
       "\n",
       "    .dataframe tbody tr th {\n",
       "        vertical-align: top;\n",
       "    }\n",
       "</style>\n",
       "<table border=\"1\" class=\"dataframe\">\n",
       "  <thead>\n",
       "    <tr style=\"text-align: right;\">\n",
       "      <th></th>\n",
       "      <th>year</th>\n",
       "      <th>month</th>\n",
       "      <th>store</th>\n",
       "      <th>area</th>\n",
       "      <th>store_pop_monthly</th>\n",
       "    </tr>\n",
       "  </thead>\n",
       "  <tbody>\n",
       "    <tr>\n",
       "      <th>1856</th>\n",
       "      <td>0</td>\n",
       "      <td>6</td>\n",
       "      <td>0</td>\n",
       "      <td>64</td>\n",
       "      <td>-1.000000</td>\n",
       "    </tr>\n",
       "    <tr>\n",
       "      <th>2655</th>\n",
       "      <td>0</td>\n",
       "      <td>7</td>\n",
       "      <td>0</td>\n",
       "      <td>64</td>\n",
       "      <td>0.296756</td>\n",
       "    </tr>\n",
       "    <tr>\n",
       "      <th>3457</th>\n",
       "      <td>0</td>\n",
       "      <td>8</td>\n",
       "      <td>0</td>\n",
       "      <td>64</td>\n",
       "      <td>0.368060</td>\n",
       "    </tr>\n",
       "    <tr>\n",
       "      <th>4264</th>\n",
       "      <td>0</td>\n",
       "      <td>9</td>\n",
       "      <td>0</td>\n",
       "      <td>64</td>\n",
       "      <td>0.347165</td>\n",
       "    </tr>\n",
       "    <tr>\n",
       "      <th>5073</th>\n",
       "      <td>0</td>\n",
       "      <td>10</td>\n",
       "      <td>0</td>\n",
       "      <td>64</td>\n",
       "      <td>0.327261</td>\n",
       "    </tr>\n",
       "  </tbody>\n",
       "</table>\n",
       "</div>"
      ],
      "text/plain": [
       "      year  month  store  area  store_pop_monthly\n",
       "1856     0      6      0    64          -1.000000\n",
       "2655     0      7      0    64           0.296756\n",
       "3457     0      8      0    64           0.368060\n",
       "4264     0      9      0    64           0.347165\n",
       "5073     0     10      0    64           0.327261"
      ]
     },
     "execution_count": 116,
     "metadata": {},
     "output_type": "execute_result"
    }
   ],
   "source": [
    "tmp.head()"
   ]
  },
  {
   "cell_type": "code",
   "execution_count": 117,
   "metadata": {
    "collapsed": true
   },
   "outputs": [],
   "source": [
    "together = pd.merge(together,tmp,how='inner',on=['year','month','store','area'])"
   ]
  },
  {
   "cell_type": "code",
   "execution_count": 118,
   "metadata": {},
   "outputs": [
    {
     "data": {
      "text/html": [
       "<div>\n",
       "<style>\n",
       "    .dataframe thead tr:only-child th {\n",
       "        text-align: right;\n",
       "    }\n",
       "\n",
       "    .dataframe thead th {\n",
       "        text-align: left;\n",
       "    }\n",
       "\n",
       "    .dataframe tbody tr th {\n",
       "        vertical-align: top;\n",
       "    }\n",
       "</style>\n",
       "<table border=\"1\" class=\"dataframe\">\n",
       "  <thead>\n",
       "    <tr style=\"text-align: right;\">\n",
       "      <th></th>\n",
       "      <th>air_store_id</th>\n",
       "      <th>area</th>\n",
       "      <th>dom</th>\n",
       "      <th>doq</th>\n",
       "      <th>dow</th>\n",
       "      <th>doy</th>\n",
       "      <th>gen</th>\n",
       "      <th>holi</th>\n",
       "      <th>id</th>\n",
       "      <th>month</th>\n",
       "      <th>...</th>\n",
       "      <th>store</th>\n",
       "      <th>visit_date</th>\n",
       "      <th>visitors</th>\n",
       "      <th>year</th>\n",
       "      <th>last_quarter_gen_pop</th>\n",
       "      <th>last_quarter_s_pop</th>\n",
       "      <th>store_pop</th>\n",
       "      <th>store_genre_pop</th>\n",
       "      <th>genre_pop</th>\n",
       "      <th>store_pop_monthly</th>\n",
       "    </tr>\n",
       "  </thead>\n",
       "  <tbody>\n",
       "    <tr>\n",
       "      <th>0</th>\n",
       "      <td>air_ba937bf13d40fb24</td>\n",
       "      <td>33</td>\n",
       "      <td>12</td>\n",
       "      <td>12</td>\n",
       "      <td>2</td>\n",
       "      <td>12</td>\n",
       "      <td>13</td>\n",
       "      <td>0</td>\n",
       "      <td>1</td>\n",
       "      <td>0</td>\n",
       "      <td>...</td>\n",
       "      <td>517</td>\n",
       "      <td>2016-01-13</td>\n",
       "      <td>25</td>\n",
       "      <td>0</td>\n",
       "      <td>-1.0</td>\n",
       "      <td>-1.0</td>\n",
       "      <td>0.030911</td>\n",
       "      <td>0.176627</td>\n",
       "      <td>0.175009</td>\n",
       "      <td>-1.0</td>\n",
       "    </tr>\n",
       "    <tr>\n",
       "      <th>1</th>\n",
       "      <td>air_ba937bf13d40fb24</td>\n",
       "      <td>33</td>\n",
       "      <td>13</td>\n",
       "      <td>13</td>\n",
       "      <td>3</td>\n",
       "      <td>13</td>\n",
       "      <td>13</td>\n",
       "      <td>0</td>\n",
       "      <td>1</td>\n",
       "      <td>0</td>\n",
       "      <td>...</td>\n",
       "      <td>517</td>\n",
       "      <td>2016-01-14</td>\n",
       "      <td>32</td>\n",
       "      <td>0</td>\n",
       "      <td>-1.0</td>\n",
       "      <td>-1.0</td>\n",
       "      <td>0.030911</td>\n",
       "      <td>0.176627</td>\n",
       "      <td>0.175009</td>\n",
       "      <td>-1.0</td>\n",
       "    </tr>\n",
       "    <tr>\n",
       "      <th>2</th>\n",
       "      <td>air_ba937bf13d40fb24</td>\n",
       "      <td>33</td>\n",
       "      <td>14</td>\n",
       "      <td>14</td>\n",
       "      <td>4</td>\n",
       "      <td>14</td>\n",
       "      <td>13</td>\n",
       "      <td>0</td>\n",
       "      <td>1</td>\n",
       "      <td>0</td>\n",
       "      <td>...</td>\n",
       "      <td>517</td>\n",
       "      <td>2016-01-15</td>\n",
       "      <td>29</td>\n",
       "      <td>0</td>\n",
       "      <td>-1.0</td>\n",
       "      <td>-1.0</td>\n",
       "      <td>0.030911</td>\n",
       "      <td>0.176627</td>\n",
       "      <td>0.175009</td>\n",
       "      <td>-1.0</td>\n",
       "    </tr>\n",
       "    <tr>\n",
       "      <th>3</th>\n",
       "      <td>air_ba937bf13d40fb24</td>\n",
       "      <td>33</td>\n",
       "      <td>15</td>\n",
       "      <td>15</td>\n",
       "      <td>5</td>\n",
       "      <td>15</td>\n",
       "      <td>13</td>\n",
       "      <td>0</td>\n",
       "      <td>1</td>\n",
       "      <td>0</td>\n",
       "      <td>...</td>\n",
       "      <td>517</td>\n",
       "      <td>2016-01-16</td>\n",
       "      <td>22</td>\n",
       "      <td>0</td>\n",
       "      <td>-1.0</td>\n",
       "      <td>-1.0</td>\n",
       "      <td>0.030911</td>\n",
       "      <td>0.176627</td>\n",
       "      <td>0.175009</td>\n",
       "      <td>-1.0</td>\n",
       "    </tr>\n",
       "    <tr>\n",
       "      <th>4</th>\n",
       "      <td>air_ba937bf13d40fb24</td>\n",
       "      <td>33</td>\n",
       "      <td>17</td>\n",
       "      <td>17</td>\n",
       "      <td>0</td>\n",
       "      <td>17</td>\n",
       "      <td>13</td>\n",
       "      <td>0</td>\n",
       "      <td>1</td>\n",
       "      <td>0</td>\n",
       "      <td>...</td>\n",
       "      <td>517</td>\n",
       "      <td>2016-01-18</td>\n",
       "      <td>6</td>\n",
       "      <td>0</td>\n",
       "      <td>-1.0</td>\n",
       "      <td>-1.0</td>\n",
       "      <td>0.030911</td>\n",
       "      <td>0.176627</td>\n",
       "      <td>0.175009</td>\n",
       "      <td>-1.0</td>\n",
       "    </tr>\n",
       "  </tbody>\n",
       "</table>\n",
       "<p>5 rows × 21 columns</p>\n",
       "</div>"
      ],
      "text/plain": [
       "           air_store_id  area  dom  doq  dow  doy  gen  holi id  month  \\\n",
       "0  air_ba937bf13d40fb24    33   12   12    2   12   13     0  1      0   \n",
       "1  air_ba937bf13d40fb24    33   13   13    3   13   13     0  1      0   \n",
       "2  air_ba937bf13d40fb24    33   14   14    4   14   13     0  1      0   \n",
       "3  air_ba937bf13d40fb24    33   15   15    5   15   13     0  1      0   \n",
       "4  air_ba937bf13d40fb24    33   17   17    0   17   13     0  1      0   \n",
       "\n",
       "         ...          store  visit_date visitors  year  last_quarter_gen_pop  \\\n",
       "0        ...            517  2016-01-13       25     0                  -1.0   \n",
       "1        ...            517  2016-01-14       32     0                  -1.0   \n",
       "2        ...            517  2016-01-15       29     0                  -1.0   \n",
       "3        ...            517  2016-01-16       22     0                  -1.0   \n",
       "4        ...            517  2016-01-18        6     0                  -1.0   \n",
       "\n",
       "   last_quarter_s_pop  store_pop  store_genre_pop  genre_pop  \\\n",
       "0                -1.0   0.030911         0.176627   0.175009   \n",
       "1                -1.0   0.030911         0.176627   0.175009   \n",
       "2                -1.0   0.030911         0.176627   0.175009   \n",
       "3                -1.0   0.030911         0.176627   0.175009   \n",
       "4                -1.0   0.030911         0.176627   0.175009   \n",
       "\n",
       "   store_pop_monthly  \n",
       "0               -1.0  \n",
       "1               -1.0  \n",
       "2               -1.0  \n",
       "3               -1.0  \n",
       "4               -1.0  \n",
       "\n",
       "[5 rows x 21 columns]"
      ]
     },
     "execution_count": 118,
     "metadata": {},
     "output_type": "execute_result"
    }
   ],
   "source": [
    "together.head()"
   ]
  },
  {
   "cell_type": "code",
   "execution_count": 119,
   "metadata": {},
   "outputs": [
    {
     "data": {
      "text/html": [
       "<div>\n",
       "<style>\n",
       "    .dataframe thead tr:only-child th {\n",
       "        text-align: right;\n",
       "    }\n",
       "\n",
       "    .dataframe thead th {\n",
       "        text-align: left;\n",
       "    }\n",
       "\n",
       "    .dataframe tbody tr th {\n",
       "        vertical-align: top;\n",
       "    }\n",
       "</style>\n",
       "<table border=\"1\" class=\"dataframe\">\n",
       "  <thead>\n",
       "    <tr style=\"text-align: right;\">\n",
       "      <th></th>\n",
       "      <th>year</th>\n",
       "      <th>month</th>\n",
       "      <th>store</th>\n",
       "      <th>area</th>\n",
       "      <th>store_pop_monthly</th>\n",
       "    </tr>\n",
       "  </thead>\n",
       "  <tbody>\n",
       "    <tr>\n",
       "      <th>6804</th>\n",
       "      <td>1</td>\n",
       "      <td>0</td>\n",
       "      <td>828</td>\n",
       "      <td>39</td>\n",
       "      <td>0.015176</td>\n",
       "    </tr>\n",
       "    <tr>\n",
       "      <th>7618</th>\n",
       "      <td>1</td>\n",
       "      <td>1</td>\n",
       "      <td>828</td>\n",
       "      <td>39</td>\n",
       "      <td>0.018061</td>\n",
       "    </tr>\n",
       "    <tr>\n",
       "      <th>8434</th>\n",
       "      <td>1</td>\n",
       "      <td>2</td>\n",
       "      <td>828</td>\n",
       "      <td>39</td>\n",
       "      <td>0.013227</td>\n",
       "    </tr>\n",
       "    <tr>\n",
       "      <th>9259</th>\n",
       "      <td>1</td>\n",
       "      <td>3</td>\n",
       "      <td>828</td>\n",
       "      <td>39</td>\n",
       "      <td>0.013591</td>\n",
       "    </tr>\n",
       "    <tr>\n",
       "      <th>10083</th>\n",
       "      <td>1</td>\n",
       "      <td>4</td>\n",
       "      <td>828</td>\n",
       "      <td>39</td>\n",
       "      <td>0.011050</td>\n",
       "    </tr>\n",
       "  </tbody>\n",
       "</table>\n",
       "</div>"
      ],
      "text/plain": [
       "       year  month  store  area  store_pop_monthly\n",
       "6804      1      0    828    39           0.015176\n",
       "7618      1      1    828    39           0.018061\n",
       "8434      1      2    828    39           0.013227\n",
       "9259      1      3    828    39           0.013591\n",
       "10083     1      4    828    39           0.011050"
      ]
     },
     "execution_count": 119,
     "metadata": {},
     "output_type": "execute_result"
    }
   ],
   "source": [
    "tmp.tail()"
   ]
  },
  {
   "cell_type": "markdown",
   "metadata": {},
   "source": [
    "## monthly genre pop in each area"
   ]
  },
  {
   "cell_type": "code",
   "execution_count": 120,
   "metadata": {
    "collapsed": true
   },
   "outputs": [],
   "source": [
    "tmp = together.groupby(['year','month','gen','area'],as_index=False\n",
    "                      )['visitors'].sum().rename(columns={'visitors':'genre_visit_by_area'})"
   ]
  },
  {
   "cell_type": "code",
   "execution_count": 121,
   "metadata": {},
   "outputs": [
    {
     "data": {
      "text/plain": [
       "(3735, 5)"
      ]
     },
     "execution_count": 121,
     "metadata": {},
     "output_type": "execute_result"
    }
   ],
   "source": [
    "tmp.shape"
   ]
  },
  {
   "cell_type": "code",
   "execution_count": 122,
   "metadata": {},
   "outputs": [
    {
     "data": {
      "text/plain": [
       "(1645, 4)"
      ]
     },
     "execution_count": 122,
     "metadata": {},
     "output_type": "execute_result"
    }
   ],
   "source": [
    "tmp0.shape"
   ]
  },
  {
   "cell_type": "code",
   "execution_count": 123,
   "metadata": {},
   "outputs": [
    {
     "data": {
      "text/html": [
       "<div>\n",
       "<style>\n",
       "    .dataframe thead tr:only-child th {\n",
       "        text-align: right;\n",
       "    }\n",
       "\n",
       "    .dataframe thead th {\n",
       "        text-align: left;\n",
       "    }\n",
       "\n",
       "    .dataframe tbody tr th {\n",
       "        vertical-align: top;\n",
       "    }\n",
       "</style>\n",
       "<table border=\"1\" class=\"dataframe\">\n",
       "  <thead>\n",
       "    <tr style=\"text-align: right;\">\n",
       "      <th></th>\n",
       "      <th>year</th>\n",
       "      <th>month</th>\n",
       "      <th>area</th>\n",
       "      <th>area_total_visit</th>\n",
       "    </tr>\n",
       "  </thead>\n",
       "  <tbody>\n",
       "    <tr>\n",
       "      <th>0</th>\n",
       "      <td>0</td>\n",
       "      <td>0</td>\n",
       "      <td>0</td>\n",
       "      <td>860</td>\n",
       "    </tr>\n",
       "    <tr>\n",
       "      <th>1</th>\n",
       "      <td>0</td>\n",
       "      <td>0</td>\n",
       "      <td>1</td>\n",
       "      <td>3461</td>\n",
       "    </tr>\n",
       "    <tr>\n",
       "      <th>2</th>\n",
       "      <td>0</td>\n",
       "      <td>0</td>\n",
       "      <td>3</td>\n",
       "      <td>733</td>\n",
       "    </tr>\n",
       "    <tr>\n",
       "      <th>3</th>\n",
       "      <td>0</td>\n",
       "      <td>0</td>\n",
       "      <td>4</td>\n",
       "      <td>252</td>\n",
       "    </tr>\n",
       "    <tr>\n",
       "      <th>4</th>\n",
       "      <td>0</td>\n",
       "      <td>0</td>\n",
       "      <td>5</td>\n",
       "      <td>1272</td>\n",
       "    </tr>\n",
       "  </tbody>\n",
       "</table>\n",
       "</div>"
      ],
      "text/plain": [
       "   year  month  area  area_total_visit\n",
       "0     0      0     0               860\n",
       "1     0      0     1              3461\n",
       "2     0      0     3               733\n",
       "3     0      0     4               252\n",
       "4     0      0     5              1272"
      ]
     },
     "execution_count": 123,
     "metadata": {},
     "output_type": "execute_result"
    }
   ],
   "source": [
    "tmp0.head()"
   ]
  },
  {
   "cell_type": "code",
   "execution_count": 124,
   "metadata": {
    "collapsed": true
   },
   "outputs": [],
   "source": [
    "tmp = pd.merge(tmp,tmp0,how='inner',on=['year','month','area'])"
   ]
  },
  {
   "cell_type": "code",
   "execution_count": 125,
   "metadata": {},
   "outputs": [
    {
     "data": {
      "text/plain": [
       "(3735, 6)"
      ]
     },
     "execution_count": 125,
     "metadata": {},
     "output_type": "execute_result"
    }
   ],
   "source": [
    "tmp.shape"
   ]
  },
  {
   "cell_type": "code",
   "execution_count": 126,
   "metadata": {},
   "outputs": [
    {
     "data": {
      "text/html": [
       "<div>\n",
       "<style>\n",
       "    .dataframe thead tr:only-child th {\n",
       "        text-align: right;\n",
       "    }\n",
       "\n",
       "    .dataframe thead th {\n",
       "        text-align: left;\n",
       "    }\n",
       "\n",
       "    .dataframe tbody tr th {\n",
       "        vertical-align: top;\n",
       "    }\n",
       "</style>\n",
       "<table border=\"1\" class=\"dataframe\">\n",
       "  <thead>\n",
       "    <tr style=\"text-align: right;\">\n",
       "      <th></th>\n",
       "      <th>year</th>\n",
       "      <th>month</th>\n",
       "      <th>gen</th>\n",
       "      <th>area</th>\n",
       "      <th>genre_visit_by_area</th>\n",
       "      <th>area_total_visit</th>\n",
       "    </tr>\n",
       "  </thead>\n",
       "  <tbody>\n",
       "    <tr>\n",
       "      <th>0</th>\n",
       "      <td>0</td>\n",
       "      <td>0</td>\n",
       "      <td>0</td>\n",
       "      <td>0</td>\n",
       "      <td>860</td>\n",
       "      <td>860</td>\n",
       "    </tr>\n",
       "    <tr>\n",
       "      <th>1</th>\n",
       "      <td>0</td>\n",
       "      <td>0</td>\n",
       "      <td>0</td>\n",
       "      <td>1</td>\n",
       "      <td>480</td>\n",
       "      <td>3461</td>\n",
       "    </tr>\n",
       "    <tr>\n",
       "      <th>2</th>\n",
       "      <td>0</td>\n",
       "      <td>0</td>\n",
       "      <td>1</td>\n",
       "      <td>1</td>\n",
       "      <td>512</td>\n",
       "      <td>3461</td>\n",
       "    </tr>\n",
       "    <tr>\n",
       "      <th>3</th>\n",
       "      <td>0</td>\n",
       "      <td>0</td>\n",
       "      <td>5</td>\n",
       "      <td>1</td>\n",
       "      <td>506</td>\n",
       "      <td>3461</td>\n",
       "    </tr>\n",
       "    <tr>\n",
       "      <th>4</th>\n",
       "      <td>0</td>\n",
       "      <td>0</td>\n",
       "      <td>6</td>\n",
       "      <td>1</td>\n",
       "      <td>1963</td>\n",
       "      <td>3461</td>\n",
       "    </tr>\n",
       "  </tbody>\n",
       "</table>\n",
       "</div>"
      ],
      "text/plain": [
       "   year  month  gen  area  genre_visit_by_area  area_total_visit\n",
       "0     0      0    0     0                  860               860\n",
       "1     0      0    0     1                  480              3461\n",
       "2     0      0    1     1                  512              3461\n",
       "3     0      0    5     1                  506              3461\n",
       "4     0      0    6     1                 1963              3461"
      ]
     },
     "execution_count": 126,
     "metadata": {},
     "output_type": "execute_result"
    }
   ],
   "source": [
    "tmp.head()"
   ]
  },
  {
   "cell_type": "code",
   "execution_count": 127,
   "metadata": {
    "collapsed": true
   },
   "outputs": [],
   "source": [
    "def get_pop(data):\n",
    "    if data.area_total_visit==0:\n",
    "        return 0\n",
    "    else:\n",
    "        return data.genre_visit_by_area/data.area_total_visit"
   ]
  },
  {
   "cell_type": "code",
   "execution_count": 128,
   "metadata": {
    "collapsed": true
   },
   "outputs": [],
   "source": [
    "tmp['genre_pop'] = tmp.apply(get_pop,axis=1)"
   ]
  },
  {
   "cell_type": "code",
   "execution_count": 129,
   "metadata": {},
   "outputs": [
    {
     "data": {
      "text/html": [
       "<div>\n",
       "<style>\n",
       "    .dataframe thead tr:only-child th {\n",
       "        text-align: right;\n",
       "    }\n",
       "\n",
       "    .dataframe thead th {\n",
       "        text-align: left;\n",
       "    }\n",
       "\n",
       "    .dataframe tbody tr th {\n",
       "        vertical-align: top;\n",
       "    }\n",
       "</style>\n",
       "<table border=\"1\" class=\"dataframe\">\n",
       "  <thead>\n",
       "    <tr style=\"text-align: right;\">\n",
       "      <th></th>\n",
       "      <th>year</th>\n",
       "      <th>month</th>\n",
       "      <th>gen</th>\n",
       "      <th>area</th>\n",
       "      <th>genre_visit_by_area</th>\n",
       "      <th>area_total_visit</th>\n",
       "      <th>genre_pop</th>\n",
       "    </tr>\n",
       "  </thead>\n",
       "  <tbody>\n",
       "    <tr>\n",
       "      <th>0</th>\n",
       "      <td>0</td>\n",
       "      <td>0</td>\n",
       "      <td>0</td>\n",
       "      <td>0</td>\n",
       "      <td>860</td>\n",
       "      <td>860</td>\n",
       "      <td>1.000000</td>\n",
       "    </tr>\n",
       "    <tr>\n",
       "      <th>1</th>\n",
       "      <td>0</td>\n",
       "      <td>0</td>\n",
       "      <td>0</td>\n",
       "      <td>1</td>\n",
       "      <td>480</td>\n",
       "      <td>3461</td>\n",
       "      <td>0.138688</td>\n",
       "    </tr>\n",
       "    <tr>\n",
       "      <th>2</th>\n",
       "      <td>0</td>\n",
       "      <td>0</td>\n",
       "      <td>1</td>\n",
       "      <td>1</td>\n",
       "      <td>512</td>\n",
       "      <td>3461</td>\n",
       "      <td>0.147934</td>\n",
       "    </tr>\n",
       "    <tr>\n",
       "      <th>3</th>\n",
       "      <td>0</td>\n",
       "      <td>0</td>\n",
       "      <td>5</td>\n",
       "      <td>1</td>\n",
       "      <td>506</td>\n",
       "      <td>3461</td>\n",
       "      <td>0.146201</td>\n",
       "    </tr>\n",
       "    <tr>\n",
       "      <th>4</th>\n",
       "      <td>0</td>\n",
       "      <td>0</td>\n",
       "      <td>6</td>\n",
       "      <td>1</td>\n",
       "      <td>1963</td>\n",
       "      <td>3461</td>\n",
       "      <td>0.567177</td>\n",
       "    </tr>\n",
       "  </tbody>\n",
       "</table>\n",
       "</div>"
      ],
      "text/plain": [
       "   year  month  gen  area  genre_visit_by_area  area_total_visit  genre_pop\n",
       "0     0      0    0     0                  860               860   1.000000\n",
       "1     0      0    0     1                  480              3461   0.138688\n",
       "2     0      0    1     1                  512              3461   0.147934\n",
       "3     0      0    5     1                  506              3461   0.146201\n",
       "4     0      0    6     1                 1963              3461   0.567177"
      ]
     },
     "execution_count": 129,
     "metadata": {},
     "output_type": "execute_result"
    }
   ],
   "source": [
    "tmp.head()"
   ]
  },
  {
   "cell_type": "code",
   "execution_count": 130,
   "metadata": {
    "collapsed": true
   },
   "outputs": [],
   "source": [
    "tmp = tmp.sort_values(by=['gen','area','year','month'])"
   ]
  },
  {
   "cell_type": "code",
   "execution_count": 131,
   "metadata": {},
   "outputs": [
    {
     "data": {
      "text/html": [
       "<div>\n",
       "<style>\n",
       "    .dataframe thead tr:only-child th {\n",
       "        text-align: right;\n",
       "    }\n",
       "\n",
       "    .dataframe thead th {\n",
       "        text-align: left;\n",
       "    }\n",
       "\n",
       "    .dataframe tbody tr th {\n",
       "        vertical-align: top;\n",
       "    }\n",
       "</style>\n",
       "<table border=\"1\" class=\"dataframe\">\n",
       "  <thead>\n",
       "    <tr style=\"text-align: right;\">\n",
       "      <th></th>\n",
       "      <th>year</th>\n",
       "      <th>month</th>\n",
       "      <th>gen</th>\n",
       "      <th>area</th>\n",
       "      <th>genre_visit_by_area</th>\n",
       "      <th>area_total_visit</th>\n",
       "      <th>genre_pop</th>\n",
       "    </tr>\n",
       "  </thead>\n",
       "  <tbody>\n",
       "    <tr>\n",
       "      <th>0</th>\n",
       "      <td>0</td>\n",
       "      <td>0</td>\n",
       "      <td>0</td>\n",
       "      <td>0</td>\n",
       "      <td>860</td>\n",
       "      <td>860</td>\n",
       "      <td>1.0</td>\n",
       "    </tr>\n",
       "    <tr>\n",
       "      <th>172</th>\n",
       "      <td>0</td>\n",
       "      <td>1</td>\n",
       "      <td>0</td>\n",
       "      <td>0</td>\n",
       "      <td>740</td>\n",
       "      <td>740</td>\n",
       "      <td>1.0</td>\n",
       "    </tr>\n",
       "    <tr>\n",
       "      <th>346</th>\n",
       "      <td>0</td>\n",
       "      <td>2</td>\n",
       "      <td>0</td>\n",
       "      <td>0</td>\n",
       "      <td>1038</td>\n",
       "      <td>1038</td>\n",
       "      <td>1.0</td>\n",
       "    </tr>\n",
       "    <tr>\n",
       "      <th>520</th>\n",
       "      <td>0</td>\n",
       "      <td>3</td>\n",
       "      <td>0</td>\n",
       "      <td>0</td>\n",
       "      <td>878</td>\n",
       "      <td>878</td>\n",
       "      <td>1.0</td>\n",
       "    </tr>\n",
       "    <tr>\n",
       "      <th>698</th>\n",
       "      <td>0</td>\n",
       "      <td>4</td>\n",
       "      <td>0</td>\n",
       "      <td>0</td>\n",
       "      <td>797</td>\n",
       "      <td>797</td>\n",
       "      <td>1.0</td>\n",
       "    </tr>\n",
       "    <tr>\n",
       "      <th>877</th>\n",
       "      <td>0</td>\n",
       "      <td>5</td>\n",
       "      <td>0</td>\n",
       "      <td>0</td>\n",
       "      <td>846</td>\n",
       "      <td>846</td>\n",
       "      <td>1.0</td>\n",
       "    </tr>\n",
       "    <tr>\n",
       "      <th>1056</th>\n",
       "      <td>0</td>\n",
       "      <td>6</td>\n",
       "      <td>0</td>\n",
       "      <td>0</td>\n",
       "      <td>981</td>\n",
       "      <td>981</td>\n",
       "      <td>1.0</td>\n",
       "    </tr>\n",
       "    <tr>\n",
       "      <th>1298</th>\n",
       "      <td>0</td>\n",
       "      <td>7</td>\n",
       "      <td>0</td>\n",
       "      <td>0</td>\n",
       "      <td>729</td>\n",
       "      <td>729</td>\n",
       "      <td>1.0</td>\n",
       "    </tr>\n",
       "    <tr>\n",
       "      <th>1541</th>\n",
       "      <td>0</td>\n",
       "      <td>8</td>\n",
       "      <td>0</td>\n",
       "      <td>0</td>\n",
       "      <td>913</td>\n",
       "      <td>913</td>\n",
       "      <td>1.0</td>\n",
       "    </tr>\n",
       "    <tr>\n",
       "      <th>1785</th>\n",
       "      <td>0</td>\n",
       "      <td>9</td>\n",
       "      <td>0</td>\n",
       "      <td>0</td>\n",
       "      <td>925</td>\n",
       "      <td>925</td>\n",
       "      <td>1.0</td>\n",
       "    </tr>\n",
       "  </tbody>\n",
       "</table>\n",
       "</div>"
      ],
      "text/plain": [
       "      year  month  gen  area  genre_visit_by_area  area_total_visit  genre_pop\n",
       "0        0      0    0     0                  860               860        1.0\n",
       "172      0      1    0     0                  740               740        1.0\n",
       "346      0      2    0     0                 1038              1038        1.0\n",
       "520      0      3    0     0                  878               878        1.0\n",
       "698      0      4    0     0                  797               797        1.0\n",
       "877      0      5    0     0                  846               846        1.0\n",
       "1056     0      6    0     0                  981               981        1.0\n",
       "1298     0      7    0     0                  729               729        1.0\n",
       "1541     0      8    0     0                  913               913        1.0\n",
       "1785     0      9    0     0                  925               925        1.0"
      ]
     },
     "execution_count": 131,
     "metadata": {},
     "output_type": "execute_result"
    }
   ],
   "source": [
    "tmp.head(10)"
   ]
  },
  {
   "cell_type": "code",
   "execution_count": 132,
   "metadata": {
    "collapsed": true
   },
   "outputs": [],
   "source": [
    "tmp['gen_shift'] = tmp.gen.shift(1)\n",
    "tmp['genre_pop'] = tmp.genre_pop.shift(1)"
   ]
  },
  {
   "cell_type": "code",
   "execution_count": 133,
   "metadata": {
    "collapsed": true
   },
   "outputs": [],
   "source": [
    "def get_lmgp(data):\n",
    "    if data.gen!=data.gen_shift:\n",
    "        return -1\n",
    "    else:\n",
    "        return data.genre_pop"
   ]
  },
  {
   "cell_type": "code",
   "execution_count": 134,
   "metadata": {
    "collapsed": true
   },
   "outputs": [],
   "source": [
    "tmp['last_genre_pop'] = tmp.apply(get_lmgp,axis=1)"
   ]
  },
  {
   "cell_type": "code",
   "execution_count": 135,
   "metadata": {},
   "outputs": [
    {
     "data": {
      "text/html": [
       "<div>\n",
       "<style>\n",
       "    .dataframe thead tr:only-child th {\n",
       "        text-align: right;\n",
       "    }\n",
       "\n",
       "    .dataframe thead th {\n",
       "        text-align: left;\n",
       "    }\n",
       "\n",
       "    .dataframe tbody tr th {\n",
       "        vertical-align: top;\n",
       "    }\n",
       "</style>\n",
       "<table border=\"1\" class=\"dataframe\">\n",
       "  <thead>\n",
       "    <tr style=\"text-align: right;\">\n",
       "      <th></th>\n",
       "      <th>year</th>\n",
       "      <th>month</th>\n",
       "      <th>gen</th>\n",
       "      <th>area</th>\n",
       "      <th>genre_visit_by_area</th>\n",
       "      <th>area_total_visit</th>\n",
       "      <th>genre_pop</th>\n",
       "      <th>gen_shift</th>\n",
       "      <th>last_genre_pop</th>\n",
       "    </tr>\n",
       "  </thead>\n",
       "  <tbody>\n",
       "    <tr>\n",
       "      <th>0</th>\n",
       "      <td>0</td>\n",
       "      <td>0</td>\n",
       "      <td>0</td>\n",
       "      <td>0</td>\n",
       "      <td>860</td>\n",
       "      <td>860</td>\n",
       "      <td>NaN</td>\n",
       "      <td>NaN</td>\n",
       "      <td>-1.0</td>\n",
       "    </tr>\n",
       "    <tr>\n",
       "      <th>172</th>\n",
       "      <td>0</td>\n",
       "      <td>1</td>\n",
       "      <td>0</td>\n",
       "      <td>0</td>\n",
       "      <td>740</td>\n",
       "      <td>740</td>\n",
       "      <td>1.0</td>\n",
       "      <td>0.0</td>\n",
       "      <td>1.0</td>\n",
       "    </tr>\n",
       "    <tr>\n",
       "      <th>346</th>\n",
       "      <td>0</td>\n",
       "      <td>2</td>\n",
       "      <td>0</td>\n",
       "      <td>0</td>\n",
       "      <td>1038</td>\n",
       "      <td>1038</td>\n",
       "      <td>1.0</td>\n",
       "      <td>0.0</td>\n",
       "      <td>1.0</td>\n",
       "    </tr>\n",
       "    <tr>\n",
       "      <th>520</th>\n",
       "      <td>0</td>\n",
       "      <td>3</td>\n",
       "      <td>0</td>\n",
       "      <td>0</td>\n",
       "      <td>878</td>\n",
       "      <td>878</td>\n",
       "      <td>1.0</td>\n",
       "      <td>0.0</td>\n",
       "      <td>1.0</td>\n",
       "    </tr>\n",
       "    <tr>\n",
       "      <th>698</th>\n",
       "      <td>0</td>\n",
       "      <td>4</td>\n",
       "      <td>0</td>\n",
       "      <td>0</td>\n",
       "      <td>797</td>\n",
       "      <td>797</td>\n",
       "      <td>1.0</td>\n",
       "      <td>0.0</td>\n",
       "      <td>1.0</td>\n",
       "    </tr>\n",
       "  </tbody>\n",
       "</table>\n",
       "</div>"
      ],
      "text/plain": [
       "     year  month  gen  area  genre_visit_by_area  area_total_visit  genre_pop  \\\n",
       "0       0      0    0     0                  860               860        NaN   \n",
       "172     0      1    0     0                  740               740        1.0   \n",
       "346     0      2    0     0                 1038              1038        1.0   \n",
       "520     0      3    0     0                  878               878        1.0   \n",
       "698     0      4    0     0                  797               797        1.0   \n",
       "\n",
       "     gen_shift  last_genre_pop  \n",
       "0          NaN            -1.0  \n",
       "172        0.0             1.0  \n",
       "346        0.0             1.0  \n",
       "520        0.0             1.0  \n",
       "698        0.0             1.0  "
      ]
     },
     "execution_count": 135,
     "metadata": {},
     "output_type": "execute_result"
    }
   ],
   "source": [
    "tmp.head()"
   ]
  },
  {
   "cell_type": "code",
   "execution_count": 136,
   "metadata": {
    "collapsed": true
   },
   "outputs": [],
   "source": [
    "tmp = tmp[['year','month','gen','area','last_genre_pop']]"
   ]
  },
  {
   "cell_type": "code",
   "execution_count": 137,
   "metadata": {},
   "outputs": [
    {
     "data": {
      "text/html": [
       "<div>\n",
       "<style>\n",
       "    .dataframe thead tr:only-child th {\n",
       "        text-align: right;\n",
       "    }\n",
       "\n",
       "    .dataframe thead th {\n",
       "        text-align: left;\n",
       "    }\n",
       "\n",
       "    .dataframe tbody tr th {\n",
       "        vertical-align: top;\n",
       "    }\n",
       "</style>\n",
       "<table border=\"1\" class=\"dataframe\">\n",
       "  <thead>\n",
       "    <tr style=\"text-align: right;\">\n",
       "      <th></th>\n",
       "      <th>year</th>\n",
       "      <th>month</th>\n",
       "      <th>gen</th>\n",
       "      <th>area</th>\n",
       "      <th>last_genre_pop</th>\n",
       "    </tr>\n",
       "  </thead>\n",
       "  <tbody>\n",
       "    <tr>\n",
       "      <th>0</th>\n",
       "      <td>0</td>\n",
       "      <td>0</td>\n",
       "      <td>0</td>\n",
       "      <td>0</td>\n",
       "      <td>-1.0</td>\n",
       "    </tr>\n",
       "    <tr>\n",
       "      <th>172</th>\n",
       "      <td>0</td>\n",
       "      <td>1</td>\n",
       "      <td>0</td>\n",
       "      <td>0</td>\n",
       "      <td>1.0</td>\n",
       "    </tr>\n",
       "    <tr>\n",
       "      <th>346</th>\n",
       "      <td>0</td>\n",
       "      <td>2</td>\n",
       "      <td>0</td>\n",
       "      <td>0</td>\n",
       "      <td>1.0</td>\n",
       "    </tr>\n",
       "    <tr>\n",
       "      <th>520</th>\n",
       "      <td>0</td>\n",
       "      <td>3</td>\n",
       "      <td>0</td>\n",
       "      <td>0</td>\n",
       "      <td>1.0</td>\n",
       "    </tr>\n",
       "    <tr>\n",
       "      <th>698</th>\n",
       "      <td>0</td>\n",
       "      <td>4</td>\n",
       "      <td>0</td>\n",
       "      <td>0</td>\n",
       "      <td>1.0</td>\n",
       "    </tr>\n",
       "  </tbody>\n",
       "</table>\n",
       "</div>"
      ],
      "text/plain": [
       "     year  month  gen  area  last_genre_pop\n",
       "0       0      0    0     0            -1.0\n",
       "172     0      1    0     0             1.0\n",
       "346     0      2    0     0             1.0\n",
       "520     0      3    0     0             1.0\n",
       "698     0      4    0     0             1.0"
      ]
     },
     "execution_count": 137,
     "metadata": {},
     "output_type": "execute_result"
    }
   ],
   "source": [
    "tmp.head()"
   ]
  },
  {
   "cell_type": "code",
   "execution_count": 138,
   "metadata": {
    "collapsed": true
   },
   "outputs": [],
   "source": [
    "together = pd.merge(together,tmp,how='inner',on=['year','month','gen','area'])"
   ]
  },
  {
   "cell_type": "code",
   "execution_count": 139,
   "metadata": {},
   "outputs": [
    {
     "data": {
      "text/html": [
       "<div>\n",
       "<style>\n",
       "    .dataframe thead tr:only-child th {\n",
       "        text-align: right;\n",
       "    }\n",
       "\n",
       "    .dataframe thead th {\n",
       "        text-align: left;\n",
       "    }\n",
       "\n",
       "    .dataframe tbody tr th {\n",
       "        vertical-align: top;\n",
       "    }\n",
       "</style>\n",
       "<table border=\"1\" class=\"dataframe\">\n",
       "  <thead>\n",
       "    <tr style=\"text-align: right;\">\n",
       "      <th></th>\n",
       "      <th>air_store_id</th>\n",
       "      <th>area</th>\n",
       "      <th>dom</th>\n",
       "      <th>doq</th>\n",
       "      <th>dow</th>\n",
       "      <th>doy</th>\n",
       "      <th>gen</th>\n",
       "      <th>holi</th>\n",
       "      <th>id</th>\n",
       "      <th>month</th>\n",
       "      <th>...</th>\n",
       "      <th>visit_date</th>\n",
       "      <th>visitors</th>\n",
       "      <th>year</th>\n",
       "      <th>last_quarter_gen_pop</th>\n",
       "      <th>last_quarter_s_pop</th>\n",
       "      <th>store_pop</th>\n",
       "      <th>store_genre_pop</th>\n",
       "      <th>genre_pop</th>\n",
       "      <th>store_pop_monthly</th>\n",
       "      <th>last_genre_pop</th>\n",
       "    </tr>\n",
       "  </thead>\n",
       "  <tbody>\n",
       "    <tr>\n",
       "      <th>0</th>\n",
       "      <td>air_ba937bf13d40fb24</td>\n",
       "      <td>33</td>\n",
       "      <td>12</td>\n",
       "      <td>12</td>\n",
       "      <td>2</td>\n",
       "      <td>12</td>\n",
       "      <td>13</td>\n",
       "      <td>0</td>\n",
       "      <td>1</td>\n",
       "      <td>0</td>\n",
       "      <td>...</td>\n",
       "      <td>2016-01-13</td>\n",
       "      <td>25</td>\n",
       "      <td>0</td>\n",
       "      <td>-1.0</td>\n",
       "      <td>-1.0</td>\n",
       "      <td>0.030911</td>\n",
       "      <td>0.176627</td>\n",
       "      <td>0.175009</td>\n",
       "      <td>-1.0</td>\n",
       "      <td>0.0</td>\n",
       "    </tr>\n",
       "    <tr>\n",
       "      <th>1</th>\n",
       "      <td>air_ba937bf13d40fb24</td>\n",
       "      <td>33</td>\n",
       "      <td>13</td>\n",
       "      <td>13</td>\n",
       "      <td>3</td>\n",
       "      <td>13</td>\n",
       "      <td>13</td>\n",
       "      <td>0</td>\n",
       "      <td>1</td>\n",
       "      <td>0</td>\n",
       "      <td>...</td>\n",
       "      <td>2016-01-14</td>\n",
       "      <td>32</td>\n",
       "      <td>0</td>\n",
       "      <td>-1.0</td>\n",
       "      <td>-1.0</td>\n",
       "      <td>0.030911</td>\n",
       "      <td>0.176627</td>\n",
       "      <td>0.175009</td>\n",
       "      <td>-1.0</td>\n",
       "      <td>0.0</td>\n",
       "    </tr>\n",
       "    <tr>\n",
       "      <th>2</th>\n",
       "      <td>air_ba937bf13d40fb24</td>\n",
       "      <td>33</td>\n",
       "      <td>14</td>\n",
       "      <td>14</td>\n",
       "      <td>4</td>\n",
       "      <td>14</td>\n",
       "      <td>13</td>\n",
       "      <td>0</td>\n",
       "      <td>1</td>\n",
       "      <td>0</td>\n",
       "      <td>...</td>\n",
       "      <td>2016-01-15</td>\n",
       "      <td>29</td>\n",
       "      <td>0</td>\n",
       "      <td>-1.0</td>\n",
       "      <td>-1.0</td>\n",
       "      <td>0.030911</td>\n",
       "      <td>0.176627</td>\n",
       "      <td>0.175009</td>\n",
       "      <td>-1.0</td>\n",
       "      <td>0.0</td>\n",
       "    </tr>\n",
       "    <tr>\n",
       "      <th>3</th>\n",
       "      <td>air_ba937bf13d40fb24</td>\n",
       "      <td>33</td>\n",
       "      <td>15</td>\n",
       "      <td>15</td>\n",
       "      <td>5</td>\n",
       "      <td>15</td>\n",
       "      <td>13</td>\n",
       "      <td>0</td>\n",
       "      <td>1</td>\n",
       "      <td>0</td>\n",
       "      <td>...</td>\n",
       "      <td>2016-01-16</td>\n",
       "      <td>22</td>\n",
       "      <td>0</td>\n",
       "      <td>-1.0</td>\n",
       "      <td>-1.0</td>\n",
       "      <td>0.030911</td>\n",
       "      <td>0.176627</td>\n",
       "      <td>0.175009</td>\n",
       "      <td>-1.0</td>\n",
       "      <td>0.0</td>\n",
       "    </tr>\n",
       "    <tr>\n",
       "      <th>4</th>\n",
       "      <td>air_ba937bf13d40fb24</td>\n",
       "      <td>33</td>\n",
       "      <td>17</td>\n",
       "      <td>17</td>\n",
       "      <td>0</td>\n",
       "      <td>17</td>\n",
       "      <td>13</td>\n",
       "      <td>0</td>\n",
       "      <td>1</td>\n",
       "      <td>0</td>\n",
       "      <td>...</td>\n",
       "      <td>2016-01-18</td>\n",
       "      <td>6</td>\n",
       "      <td>0</td>\n",
       "      <td>-1.0</td>\n",
       "      <td>-1.0</td>\n",
       "      <td>0.030911</td>\n",
       "      <td>0.176627</td>\n",
       "      <td>0.175009</td>\n",
       "      <td>-1.0</td>\n",
       "      <td>0.0</td>\n",
       "    </tr>\n",
       "  </tbody>\n",
       "</table>\n",
       "<p>5 rows × 22 columns</p>\n",
       "</div>"
      ],
      "text/plain": [
       "           air_store_id  area  dom  doq  dow  doy  gen  holi id  month  \\\n",
       "0  air_ba937bf13d40fb24    33   12   12    2   12   13     0  1      0   \n",
       "1  air_ba937bf13d40fb24    33   13   13    3   13   13     0  1      0   \n",
       "2  air_ba937bf13d40fb24    33   14   14    4   14   13     0  1      0   \n",
       "3  air_ba937bf13d40fb24    33   15   15    5   15   13     0  1      0   \n",
       "4  air_ba937bf13d40fb24    33   17   17    0   17   13     0  1      0   \n",
       "\n",
       "        ...        visit_date  visitors year  last_quarter_gen_pop  \\\n",
       "0       ...        2016-01-13        25    0                  -1.0   \n",
       "1       ...        2016-01-14        32    0                  -1.0   \n",
       "2       ...        2016-01-15        29    0                  -1.0   \n",
       "3       ...        2016-01-16        22    0                  -1.0   \n",
       "4       ...        2016-01-18         6    0                  -1.0   \n",
       "\n",
       "   last_quarter_s_pop  store_pop  store_genre_pop  genre_pop  \\\n",
       "0                -1.0   0.030911         0.176627   0.175009   \n",
       "1                -1.0   0.030911         0.176627   0.175009   \n",
       "2                -1.0   0.030911         0.176627   0.175009   \n",
       "3                -1.0   0.030911         0.176627   0.175009   \n",
       "4                -1.0   0.030911         0.176627   0.175009   \n",
       "\n",
       "   store_pop_monthly  last_genre_pop  \n",
       "0               -1.0             0.0  \n",
       "1               -1.0             0.0  \n",
       "2               -1.0             0.0  \n",
       "3               -1.0             0.0  \n",
       "4               -1.0             0.0  \n",
       "\n",
       "[5 rows x 22 columns]"
      ]
     },
     "execution_count": 139,
     "metadata": {},
     "output_type": "execute_result"
    }
   ],
   "source": [
    "together.head()"
   ]
  },
  {
   "cell_type": "markdown",
   "metadata": {},
   "source": [
    "## another round of xgb"
   ]
  },
  {
   "cell_type": "code",
   "execution_count": 140,
   "metadata": {},
   "outputs": [
    {
     "name": "stdout",
     "output_type": "stream",
     "text": [
      "0.1 0.518909666667\n",
      "0.15 0.500968666667\n",
      "0.2 0.498968333333\n"
     ]
    }
   ],
   "source": [
    "train_data = together[train_id]\n",
    "dtrain = xgb.DMatrix(train_data.drop(['id','visitors','air_store_id','visit_date'],axis=1),train_data.visitors.apply(np.log1p))\n",
    "for i in np.arange(0.1,0.25,0.05):\n",
    "    param = {\n",
    "        'eta':i,'max_depth':16,'subsample':0.94,'colsample_bytree':0.73,'lamdba':0.3,'alpha':0.8,\\\n",
    "        'min_child_weight':29,'num_boost_round':100,'objective':'reg:linear','booster':'gbtree',\\\n",
    "        'tree_method':'hist','max_bin':150\n",
    "    }\n",
    "    hist = xgb.cv(param,dtrain,30,metrics='rmse')\n",
    "    print(i,hist['test-rmse-mean'].iloc[-1])"
   ]
  },
  {
   "cell_type": "markdown",
   "metadata": {},
   "source": [
    "## back to together"
   ]
  },
  {
   "cell_type": "code",
   "execution_count": 141,
   "metadata": {
    "collapsed": true
   },
   "outputs": [],
   "source": [
    "tmp = together.groupby(['year','month','store','area'],as_index=False\n",
    "                      )['visitors'].sum().rename(columns={'visitors':'store_visit_by_area'})"
   ]
  },
  {
   "cell_type": "code",
   "execution_count": 142,
   "metadata": {
    "collapsed": true
   },
   "outputs": [],
   "source": [
    "tmp0 = together.groupby(['year','month','gen','area'],as_index=False\n",
    "                       )['visitors'].sum().rename(columns={'visitors':'gen_visit_by_area'})"
   ]
  },
  {
   "cell_type": "code",
   "execution_count": 143,
   "metadata": {},
   "outputs": [
    {
     "data": {
      "text/plain": [
       "(10795, 5)"
      ]
     },
     "execution_count": 143,
     "metadata": {},
     "output_type": "execute_result"
    }
   ],
   "source": [
    "tmp.shape"
   ]
  },
  {
   "cell_type": "code",
   "execution_count": 144,
   "metadata": {},
   "outputs": [
    {
     "data": {
      "text/plain": [
       "(3735, 5)"
      ]
     },
     "execution_count": 144,
     "metadata": {},
     "output_type": "execute_result"
    }
   ],
   "source": [
    "tmp0.shape"
   ]
  },
  {
   "cell_type": "code",
   "execution_count": 145,
   "metadata": {
    "collapsed": true
   },
   "outputs": [],
   "source": [
    "tmp = pd.merge(left=tmp,right=together[['store','gen']].drop_duplicates(),how='inner',on=['store'])"
   ]
  },
  {
   "cell_type": "code",
   "execution_count": 146,
   "metadata": {},
   "outputs": [
    {
     "data": {
      "text/plain": [
       "(10795, 6)"
      ]
     },
     "execution_count": 146,
     "metadata": {},
     "output_type": "execute_result"
    }
   ],
   "source": [
    "tmp.shape"
   ]
  },
  {
   "cell_type": "code",
   "execution_count": 147,
   "metadata": {
    "collapsed": true
   },
   "outputs": [],
   "source": [
    "tmp = pd.merge(left=tmp,right=tmp0,how='left',on=['year','month','area','gen'])"
   ]
  },
  {
   "cell_type": "code",
   "execution_count": 148,
   "metadata": {},
   "outputs": [
    {
     "data": {
      "text/plain": [
       "(10795, 7)"
      ]
     },
     "execution_count": 148,
     "metadata": {},
     "output_type": "execute_result"
    }
   ],
   "source": [
    "tmp.shape"
   ]
  },
  {
   "cell_type": "code",
   "execution_count": 149,
   "metadata": {},
   "outputs": [
    {
     "data": {
      "text/html": [
       "<div>\n",
       "<style>\n",
       "    .dataframe thead tr:only-child th {\n",
       "        text-align: right;\n",
       "    }\n",
       "\n",
       "    .dataframe thead th {\n",
       "        text-align: left;\n",
       "    }\n",
       "\n",
       "    .dataframe tbody tr th {\n",
       "        vertical-align: top;\n",
       "    }\n",
       "</style>\n",
       "<table border=\"1\" class=\"dataframe\">\n",
       "  <thead>\n",
       "    <tr style=\"text-align: right;\">\n",
       "      <th></th>\n",
       "      <th>year</th>\n",
       "      <th>month</th>\n",
       "      <th>store</th>\n",
       "      <th>area</th>\n",
       "      <th>store_visit_by_area</th>\n",
       "      <th>gen</th>\n",
       "      <th>gen_visit_by_area</th>\n",
       "    </tr>\n",
       "  </thead>\n",
       "  <tbody>\n",
       "    <tr>\n",
       "      <th>0</th>\n",
       "      <td>0</td>\n",
       "      <td>0</td>\n",
       "      <td>3</td>\n",
       "      <td>6</td>\n",
       "      <td>978</td>\n",
       "      <td>6</td>\n",
       "      <td>978</td>\n",
       "    </tr>\n",
       "    <tr>\n",
       "      <th>1</th>\n",
       "      <td>0</td>\n",
       "      <td>1</td>\n",
       "      <td>3</td>\n",
       "      <td>6</td>\n",
       "      <td>1211</td>\n",
       "      <td>6</td>\n",
       "      <td>1211</td>\n",
       "    </tr>\n",
       "    <tr>\n",
       "      <th>2</th>\n",
       "      <td>0</td>\n",
       "      <td>2</td>\n",
       "      <td>3</td>\n",
       "      <td>6</td>\n",
       "      <td>1544</td>\n",
       "      <td>6</td>\n",
       "      <td>1544</td>\n",
       "    </tr>\n",
       "    <tr>\n",
       "      <th>3</th>\n",
       "      <td>0</td>\n",
       "      <td>3</td>\n",
       "      <td>3</td>\n",
       "      <td>6</td>\n",
       "      <td>1481</td>\n",
       "      <td>6</td>\n",
       "      <td>1481</td>\n",
       "    </tr>\n",
       "    <tr>\n",
       "      <th>4</th>\n",
       "      <td>0</td>\n",
       "      <td>4</td>\n",
       "      <td>3</td>\n",
       "      <td>6</td>\n",
       "      <td>1685</td>\n",
       "      <td>6</td>\n",
       "      <td>1685</td>\n",
       "    </tr>\n",
       "  </tbody>\n",
       "</table>\n",
       "</div>"
      ],
      "text/plain": [
       "   year  month  store  area  store_visit_by_area  gen  gen_visit_by_area\n",
       "0     0      0      3     6                  978    6                978\n",
       "1     0      1      3     6                 1211    6               1211\n",
       "2     0      2      3     6                 1544    6               1544\n",
       "3     0      3      3     6                 1481    6               1481\n",
       "4     0      4      3     6                 1685    6               1685"
      ]
     },
     "execution_count": 149,
     "metadata": {},
     "output_type": "execute_result"
    }
   ],
   "source": [
    "tmp.head()"
   ]
  },
  {
   "cell_type": "code",
   "execution_count": 150,
   "metadata": {
    "collapsed": true
   },
   "outputs": [],
   "source": [
    "tmp = tmp.sort_values(by=['store','area','year','month'])"
   ]
  },
  {
   "cell_type": "code",
   "execution_count": 151,
   "metadata": {},
   "outputs": [
    {
     "data": {
      "text/html": [
       "<div>\n",
       "<style>\n",
       "    .dataframe thead tr:only-child th {\n",
       "        text-align: right;\n",
       "    }\n",
       "\n",
       "    .dataframe thead th {\n",
       "        text-align: left;\n",
       "    }\n",
       "\n",
       "    .dataframe tbody tr th {\n",
       "        vertical-align: top;\n",
       "    }\n",
       "</style>\n",
       "<table border=\"1\" class=\"dataframe\">\n",
       "  <thead>\n",
       "    <tr style=\"text-align: right;\">\n",
       "      <th></th>\n",
       "      <th>year</th>\n",
       "      <th>month</th>\n",
       "      <th>store</th>\n",
       "      <th>area</th>\n",
       "      <th>store_visit_by_area</th>\n",
       "      <th>gen</th>\n",
       "      <th>gen_visit_by_area</th>\n",
       "    </tr>\n",
       "  </thead>\n",
       "  <tbody>\n",
       "    <tr>\n",
       "      <th>10595</th>\n",
       "      <td>1</td>\n",
       "      <td>0</td>\n",
       "      <td>828</td>\n",
       "      <td>39</td>\n",
       "      <td>182</td>\n",
       "      <td>1</td>\n",
       "      <td>246</td>\n",
       "    </tr>\n",
       "    <tr>\n",
       "      <th>10596</th>\n",
       "      <td>1</td>\n",
       "      <td>1</td>\n",
       "      <td>828</td>\n",
       "      <td>39</td>\n",
       "      <td>161</td>\n",
       "      <td>1</td>\n",
       "      <td>232</td>\n",
       "    </tr>\n",
       "    <tr>\n",
       "      <th>10597</th>\n",
       "      <td>1</td>\n",
       "      <td>2</td>\n",
       "      <td>828</td>\n",
       "      <td>39</td>\n",
       "      <td>210</td>\n",
       "      <td>1</td>\n",
       "      <td>270</td>\n",
       "    </tr>\n",
       "    <tr>\n",
       "      <th>10598</th>\n",
       "      <td>1</td>\n",
       "      <td>3</td>\n",
       "      <td>828</td>\n",
       "      <td>39</td>\n",
       "      <td>123</td>\n",
       "      <td>1</td>\n",
       "      <td>177</td>\n",
       "    </tr>\n",
       "    <tr>\n",
       "      <th>10599</th>\n",
       "      <td>1</td>\n",
       "      <td>4</td>\n",
       "      <td>828</td>\n",
       "      <td>39</td>\n",
       "      <td>0</td>\n",
       "      <td>1</td>\n",
       "      <td>0</td>\n",
       "    </tr>\n",
       "  </tbody>\n",
       "</table>\n",
       "</div>"
      ],
      "text/plain": [
       "       year  month  store  area  store_visit_by_area  gen  gen_visit_by_area\n",
       "10595     1      0    828    39                  182    1                246\n",
       "10596     1      1    828    39                  161    1                232\n",
       "10597     1      2    828    39                  210    1                270\n",
       "10598     1      3    828    39                  123    1                177\n",
       "10599     1      4    828    39                    0    1                  0"
      ]
     },
     "execution_count": 151,
     "metadata": {},
     "output_type": "execute_result"
    }
   ],
   "source": [
    "tmp.tail()"
   ]
  },
  {
   "cell_type": "code",
   "execution_count": 152,
   "metadata": {
    "collapsed": true
   },
   "outputs": [],
   "source": [
    "def get_store_comp(data):\n",
    "    if data.gen_visit_by_area==0:\n",
    "        return 0\n",
    "    else:\n",
    "        return data.store_visit_by_area/data.gen_visit_by_area"
   ]
  },
  {
   "cell_type": "code",
   "execution_count": 153,
   "metadata": {
    "collapsed": true
   },
   "outputs": [],
   "source": [
    "tmp['gen_pop']=tmp.apply(get_store_comp,axis=1)"
   ]
  },
  {
   "cell_type": "code",
   "execution_count": 154,
   "metadata": {
    "collapsed": true
   },
   "outputs": [],
   "source": [
    "tmp['store_shift'] = tmp.store.shift(1)\n",
    "tmp['gen_pop'] = tmp.gen_pop.shift(1)"
   ]
  },
  {
   "cell_type": "code",
   "execution_count": 155,
   "metadata": {},
   "outputs": [
    {
     "data": {
      "text/html": [
       "<div>\n",
       "<style>\n",
       "    .dataframe thead tr:only-child th {\n",
       "        text-align: right;\n",
       "    }\n",
       "\n",
       "    .dataframe thead th {\n",
       "        text-align: left;\n",
       "    }\n",
       "\n",
       "    .dataframe tbody tr th {\n",
       "        vertical-align: top;\n",
       "    }\n",
       "</style>\n",
       "<table border=\"1\" class=\"dataframe\">\n",
       "  <thead>\n",
       "    <tr style=\"text-align: right;\">\n",
       "      <th></th>\n",
       "      <th>year</th>\n",
       "      <th>month</th>\n",
       "      <th>store</th>\n",
       "      <th>area</th>\n",
       "      <th>store_visit_by_area</th>\n",
       "      <th>gen</th>\n",
       "      <th>gen_visit_by_area</th>\n",
       "      <th>gen_pop</th>\n",
       "      <th>store_shift</th>\n",
       "    </tr>\n",
       "  </thead>\n",
       "  <tbody>\n",
       "    <tr>\n",
       "      <th>5301</th>\n",
       "      <td>0</td>\n",
       "      <td>6</td>\n",
       "      <td>0</td>\n",
       "      <td>64</td>\n",
       "      <td>430</td>\n",
       "      <td>6</td>\n",
       "      <td>1449</td>\n",
       "      <td>NaN</td>\n",
       "      <td>NaN</td>\n",
       "    </tr>\n",
       "    <tr>\n",
       "      <th>5302</th>\n",
       "      <td>0</td>\n",
       "      <td>7</td>\n",
       "      <td>0</td>\n",
       "      <td>64</td>\n",
       "      <td>537</td>\n",
       "      <td>6</td>\n",
       "      <td>1459</td>\n",
       "      <td>0.296756</td>\n",
       "      <td>0.0</td>\n",
       "    </tr>\n",
       "    <tr>\n",
       "      <th>5303</th>\n",
       "      <td>0</td>\n",
       "      <td>8</td>\n",
       "      <td>0</td>\n",
       "      <td>64</td>\n",
       "      <td>502</td>\n",
       "      <td>6</td>\n",
       "      <td>1446</td>\n",
       "      <td>0.368060</td>\n",
       "      <td>0.0</td>\n",
       "    </tr>\n",
       "    <tr>\n",
       "      <th>5304</th>\n",
       "      <td>0</td>\n",
       "      <td>9</td>\n",
       "      <td>0</td>\n",
       "      <td>64</td>\n",
       "      <td>521</td>\n",
       "      <td>6</td>\n",
       "      <td>1592</td>\n",
       "      <td>0.347165</td>\n",
       "      <td>0.0</td>\n",
       "    </tr>\n",
       "    <tr>\n",
       "      <th>5305</th>\n",
       "      <td>0</td>\n",
       "      <td>10</td>\n",
       "      <td>0</td>\n",
       "      <td>64</td>\n",
       "      <td>554</td>\n",
       "      <td>6</td>\n",
       "      <td>1333</td>\n",
       "      <td>0.327261</td>\n",
       "      <td>0.0</td>\n",
       "    </tr>\n",
       "  </tbody>\n",
       "</table>\n",
       "</div>"
      ],
      "text/plain": [
       "      year  month  store  area  store_visit_by_area  gen  gen_visit_by_area  \\\n",
       "5301     0      6      0    64                  430    6               1449   \n",
       "5302     0      7      0    64                  537    6               1459   \n",
       "5303     0      8      0    64                  502    6               1446   \n",
       "5304     0      9      0    64                  521    6               1592   \n",
       "5305     0     10      0    64                  554    6               1333   \n",
       "\n",
       "       gen_pop  store_shift  \n",
       "5301       NaN          NaN  \n",
       "5302  0.296756          0.0  \n",
       "5303  0.368060          0.0  \n",
       "5304  0.347165          0.0  \n",
       "5305  0.327261          0.0  "
      ]
     },
     "execution_count": 155,
     "metadata": {},
     "output_type": "execute_result"
    }
   ],
   "source": [
    "tmp.head()"
   ]
  },
  {
   "cell_type": "code",
   "execution_count": 156,
   "metadata": {
    "collapsed": true
   },
   "outputs": [],
   "source": [
    "def get_lmc(data):\n",
    "    if data.store!=data.store_shift:\n",
    "        return -1\n",
    "    else:\n",
    "        return data.gen_pop"
   ]
  },
  {
   "cell_type": "code",
   "execution_count": 157,
   "metadata": {
    "collapsed": true
   },
   "outputs": [],
   "source": [
    "tmp['last_month_comp'] = tmp.apply(get_lmc,axis=1)"
   ]
  },
  {
   "cell_type": "code",
   "execution_count": 158,
   "metadata": {},
   "outputs": [
    {
     "data": {
      "text/html": [
       "<div>\n",
       "<style>\n",
       "    .dataframe thead tr:only-child th {\n",
       "        text-align: right;\n",
       "    }\n",
       "\n",
       "    .dataframe thead th {\n",
       "        text-align: left;\n",
       "    }\n",
       "\n",
       "    .dataframe tbody tr th {\n",
       "        vertical-align: top;\n",
       "    }\n",
       "</style>\n",
       "<table border=\"1\" class=\"dataframe\">\n",
       "  <thead>\n",
       "    <tr style=\"text-align: right;\">\n",
       "      <th></th>\n",
       "      <th>year</th>\n",
       "      <th>month</th>\n",
       "      <th>store</th>\n",
       "      <th>area</th>\n",
       "      <th>store_visit_by_area</th>\n",
       "      <th>gen</th>\n",
       "      <th>gen_visit_by_area</th>\n",
       "      <th>gen_pop</th>\n",
       "      <th>store_shift</th>\n",
       "      <th>last_month_comp</th>\n",
       "    </tr>\n",
       "  </thead>\n",
       "  <tbody>\n",
       "    <tr>\n",
       "      <th>5301</th>\n",
       "      <td>0</td>\n",
       "      <td>6</td>\n",
       "      <td>0</td>\n",
       "      <td>64</td>\n",
       "      <td>430</td>\n",
       "      <td>6</td>\n",
       "      <td>1449</td>\n",
       "      <td>NaN</td>\n",
       "      <td>NaN</td>\n",
       "      <td>-1.000000</td>\n",
       "    </tr>\n",
       "    <tr>\n",
       "      <th>5302</th>\n",
       "      <td>0</td>\n",
       "      <td>7</td>\n",
       "      <td>0</td>\n",
       "      <td>64</td>\n",
       "      <td>537</td>\n",
       "      <td>6</td>\n",
       "      <td>1459</td>\n",
       "      <td>0.296756</td>\n",
       "      <td>0.0</td>\n",
       "      <td>0.296756</td>\n",
       "    </tr>\n",
       "    <tr>\n",
       "      <th>5303</th>\n",
       "      <td>0</td>\n",
       "      <td>8</td>\n",
       "      <td>0</td>\n",
       "      <td>64</td>\n",
       "      <td>502</td>\n",
       "      <td>6</td>\n",
       "      <td>1446</td>\n",
       "      <td>0.368060</td>\n",
       "      <td>0.0</td>\n",
       "      <td>0.368060</td>\n",
       "    </tr>\n",
       "    <tr>\n",
       "      <th>5304</th>\n",
       "      <td>0</td>\n",
       "      <td>9</td>\n",
       "      <td>0</td>\n",
       "      <td>64</td>\n",
       "      <td>521</td>\n",
       "      <td>6</td>\n",
       "      <td>1592</td>\n",
       "      <td>0.347165</td>\n",
       "      <td>0.0</td>\n",
       "      <td>0.347165</td>\n",
       "    </tr>\n",
       "    <tr>\n",
       "      <th>5305</th>\n",
       "      <td>0</td>\n",
       "      <td>10</td>\n",
       "      <td>0</td>\n",
       "      <td>64</td>\n",
       "      <td>554</td>\n",
       "      <td>6</td>\n",
       "      <td>1333</td>\n",
       "      <td>0.327261</td>\n",
       "      <td>0.0</td>\n",
       "      <td>0.327261</td>\n",
       "    </tr>\n",
       "  </tbody>\n",
       "</table>\n",
       "</div>"
      ],
      "text/plain": [
       "      year  month  store  area  store_visit_by_area  gen  gen_visit_by_area  \\\n",
       "5301     0      6      0    64                  430    6               1449   \n",
       "5302     0      7      0    64                  537    6               1459   \n",
       "5303     0      8      0    64                  502    6               1446   \n",
       "5304     0      9      0    64                  521    6               1592   \n",
       "5305     0     10      0    64                  554    6               1333   \n",
       "\n",
       "       gen_pop  store_shift  last_month_comp  \n",
       "5301       NaN          NaN        -1.000000  \n",
       "5302  0.296756          0.0         0.296756  \n",
       "5303  0.368060          0.0         0.368060  \n",
       "5304  0.347165          0.0         0.347165  \n",
       "5305  0.327261          0.0         0.327261  "
      ]
     },
     "execution_count": 158,
     "metadata": {},
     "output_type": "execute_result"
    }
   ],
   "source": [
    "tmp.head()"
   ]
  },
  {
   "cell_type": "code",
   "execution_count": 159,
   "metadata": {
    "collapsed": true
   },
   "outputs": [],
   "source": [
    "tmp = tmp[['year','month','store','area','last_month_comp']]"
   ]
  },
  {
   "cell_type": "code",
   "execution_count": 160,
   "metadata": {},
   "outputs": [
    {
     "data": {
      "text/html": [
       "<div>\n",
       "<style>\n",
       "    .dataframe thead tr:only-child th {\n",
       "        text-align: right;\n",
       "    }\n",
       "\n",
       "    .dataframe thead th {\n",
       "        text-align: left;\n",
       "    }\n",
       "\n",
       "    .dataframe tbody tr th {\n",
       "        vertical-align: top;\n",
       "    }\n",
       "</style>\n",
       "<table border=\"1\" class=\"dataframe\">\n",
       "  <thead>\n",
       "    <tr style=\"text-align: right;\">\n",
       "      <th></th>\n",
       "      <th>year</th>\n",
       "      <th>month</th>\n",
       "      <th>store</th>\n",
       "      <th>area</th>\n",
       "      <th>last_month_comp</th>\n",
       "    </tr>\n",
       "  </thead>\n",
       "  <tbody>\n",
       "    <tr>\n",
       "      <th>5301</th>\n",
       "      <td>0</td>\n",
       "      <td>6</td>\n",
       "      <td>0</td>\n",
       "      <td>64</td>\n",
       "      <td>-1.000000</td>\n",
       "    </tr>\n",
       "    <tr>\n",
       "      <th>5302</th>\n",
       "      <td>0</td>\n",
       "      <td>7</td>\n",
       "      <td>0</td>\n",
       "      <td>64</td>\n",
       "      <td>0.296756</td>\n",
       "    </tr>\n",
       "    <tr>\n",
       "      <th>5303</th>\n",
       "      <td>0</td>\n",
       "      <td>8</td>\n",
       "      <td>0</td>\n",
       "      <td>64</td>\n",
       "      <td>0.368060</td>\n",
       "    </tr>\n",
       "    <tr>\n",
       "      <th>5304</th>\n",
       "      <td>0</td>\n",
       "      <td>9</td>\n",
       "      <td>0</td>\n",
       "      <td>64</td>\n",
       "      <td>0.347165</td>\n",
       "    </tr>\n",
       "    <tr>\n",
       "      <th>5305</th>\n",
       "      <td>0</td>\n",
       "      <td>10</td>\n",
       "      <td>0</td>\n",
       "      <td>64</td>\n",
       "      <td>0.327261</td>\n",
       "    </tr>\n",
       "  </tbody>\n",
       "</table>\n",
       "</div>"
      ],
      "text/plain": [
       "      year  month  store  area  last_month_comp\n",
       "5301     0      6      0    64        -1.000000\n",
       "5302     0      7      0    64         0.296756\n",
       "5303     0      8      0    64         0.368060\n",
       "5304     0      9      0    64         0.347165\n",
       "5305     0     10      0    64         0.327261"
      ]
     },
     "execution_count": 160,
     "metadata": {},
     "output_type": "execute_result"
    }
   ],
   "source": [
    "tmp.head()"
   ]
  },
  {
   "cell_type": "code",
   "execution_count": 161,
   "metadata": {},
   "outputs": [
    {
     "data": {
      "text/plain": [
       "(10795, 5)"
      ]
     },
     "execution_count": 161,
     "metadata": {},
     "output_type": "execute_result"
    }
   ],
   "source": [
    "tmp.shape"
   ]
  },
  {
   "cell_type": "code",
   "execution_count": 162,
   "metadata": {
    "collapsed": true
   },
   "outputs": [],
   "source": [
    "together = pd.merge(together,tmp,how='inner',on=['year','month','store','area'])"
   ]
  },
  {
   "cell_type": "code",
   "execution_count": 163,
   "metadata": {},
   "outputs": [
    {
     "data": {
      "text/plain": [
       "(284127, 23)"
      ]
     },
     "execution_count": 163,
     "metadata": {},
     "output_type": "execute_result"
    }
   ],
   "source": [
    "together.shape"
   ]
  },
  {
   "cell_type": "code",
   "execution_count": 164,
   "metadata": {},
   "outputs": [
    {
     "data": {
      "text/html": [
       "<div>\n",
       "<style>\n",
       "    .dataframe thead tr:only-child th {\n",
       "        text-align: right;\n",
       "    }\n",
       "\n",
       "    .dataframe thead th {\n",
       "        text-align: left;\n",
       "    }\n",
       "\n",
       "    .dataframe tbody tr th {\n",
       "        vertical-align: top;\n",
       "    }\n",
       "</style>\n",
       "<table border=\"1\" class=\"dataframe\">\n",
       "  <thead>\n",
       "    <tr style=\"text-align: right;\">\n",
       "      <th></th>\n",
       "      <th>air_store_id</th>\n",
       "      <th>area</th>\n",
       "      <th>dom</th>\n",
       "      <th>doq</th>\n",
       "      <th>dow</th>\n",
       "      <th>doy</th>\n",
       "      <th>gen</th>\n",
       "      <th>holi</th>\n",
       "      <th>id</th>\n",
       "      <th>month</th>\n",
       "      <th>...</th>\n",
       "      <th>visitors</th>\n",
       "      <th>year</th>\n",
       "      <th>last_quarter_gen_pop</th>\n",
       "      <th>last_quarter_s_pop</th>\n",
       "      <th>store_pop</th>\n",
       "      <th>store_genre_pop</th>\n",
       "      <th>genre_pop</th>\n",
       "      <th>store_pop_monthly</th>\n",
       "      <th>last_genre_pop</th>\n",
       "      <th>last_month_comp</th>\n",
       "    </tr>\n",
       "  </thead>\n",
       "  <tbody>\n",
       "    <tr>\n",
       "      <th>0</th>\n",
       "      <td>air_ba937bf13d40fb24</td>\n",
       "      <td>33</td>\n",
       "      <td>12</td>\n",
       "      <td>12</td>\n",
       "      <td>2</td>\n",
       "      <td>12</td>\n",
       "      <td>13</td>\n",
       "      <td>0</td>\n",
       "      <td>1</td>\n",
       "      <td>0</td>\n",
       "      <td>...</td>\n",
       "      <td>25</td>\n",
       "      <td>0</td>\n",
       "      <td>-1.0</td>\n",
       "      <td>-1.0</td>\n",
       "      <td>0.030911</td>\n",
       "      <td>0.176627</td>\n",
       "      <td>0.175009</td>\n",
       "      <td>-1.0</td>\n",
       "      <td>0.0</td>\n",
       "      <td>-1.0</td>\n",
       "    </tr>\n",
       "    <tr>\n",
       "      <th>1</th>\n",
       "      <td>air_ba937bf13d40fb24</td>\n",
       "      <td>33</td>\n",
       "      <td>13</td>\n",
       "      <td>13</td>\n",
       "      <td>3</td>\n",
       "      <td>13</td>\n",
       "      <td>13</td>\n",
       "      <td>0</td>\n",
       "      <td>1</td>\n",
       "      <td>0</td>\n",
       "      <td>...</td>\n",
       "      <td>32</td>\n",
       "      <td>0</td>\n",
       "      <td>-1.0</td>\n",
       "      <td>-1.0</td>\n",
       "      <td>0.030911</td>\n",
       "      <td>0.176627</td>\n",
       "      <td>0.175009</td>\n",
       "      <td>-1.0</td>\n",
       "      <td>0.0</td>\n",
       "      <td>-1.0</td>\n",
       "    </tr>\n",
       "    <tr>\n",
       "      <th>2</th>\n",
       "      <td>air_ba937bf13d40fb24</td>\n",
       "      <td>33</td>\n",
       "      <td>14</td>\n",
       "      <td>14</td>\n",
       "      <td>4</td>\n",
       "      <td>14</td>\n",
       "      <td>13</td>\n",
       "      <td>0</td>\n",
       "      <td>1</td>\n",
       "      <td>0</td>\n",
       "      <td>...</td>\n",
       "      <td>29</td>\n",
       "      <td>0</td>\n",
       "      <td>-1.0</td>\n",
       "      <td>-1.0</td>\n",
       "      <td>0.030911</td>\n",
       "      <td>0.176627</td>\n",
       "      <td>0.175009</td>\n",
       "      <td>-1.0</td>\n",
       "      <td>0.0</td>\n",
       "      <td>-1.0</td>\n",
       "    </tr>\n",
       "    <tr>\n",
       "      <th>3</th>\n",
       "      <td>air_ba937bf13d40fb24</td>\n",
       "      <td>33</td>\n",
       "      <td>15</td>\n",
       "      <td>15</td>\n",
       "      <td>5</td>\n",
       "      <td>15</td>\n",
       "      <td>13</td>\n",
       "      <td>0</td>\n",
       "      <td>1</td>\n",
       "      <td>0</td>\n",
       "      <td>...</td>\n",
       "      <td>22</td>\n",
       "      <td>0</td>\n",
       "      <td>-1.0</td>\n",
       "      <td>-1.0</td>\n",
       "      <td>0.030911</td>\n",
       "      <td>0.176627</td>\n",
       "      <td>0.175009</td>\n",
       "      <td>-1.0</td>\n",
       "      <td>0.0</td>\n",
       "      <td>-1.0</td>\n",
       "    </tr>\n",
       "    <tr>\n",
       "      <th>4</th>\n",
       "      <td>air_ba937bf13d40fb24</td>\n",
       "      <td>33</td>\n",
       "      <td>17</td>\n",
       "      <td>17</td>\n",
       "      <td>0</td>\n",
       "      <td>17</td>\n",
       "      <td>13</td>\n",
       "      <td>0</td>\n",
       "      <td>1</td>\n",
       "      <td>0</td>\n",
       "      <td>...</td>\n",
       "      <td>6</td>\n",
       "      <td>0</td>\n",
       "      <td>-1.0</td>\n",
       "      <td>-1.0</td>\n",
       "      <td>0.030911</td>\n",
       "      <td>0.176627</td>\n",
       "      <td>0.175009</td>\n",
       "      <td>-1.0</td>\n",
       "      <td>0.0</td>\n",
       "      <td>-1.0</td>\n",
       "    </tr>\n",
       "  </tbody>\n",
       "</table>\n",
       "<p>5 rows × 23 columns</p>\n",
       "</div>"
      ],
      "text/plain": [
       "           air_store_id  area  dom  doq  dow  doy  gen  holi id  month  \\\n",
       "0  air_ba937bf13d40fb24    33   12   12    2   12   13     0  1      0   \n",
       "1  air_ba937bf13d40fb24    33   13   13    3   13   13     0  1      0   \n",
       "2  air_ba937bf13d40fb24    33   14   14    4   14   13     0  1      0   \n",
       "3  air_ba937bf13d40fb24    33   15   15    5   15   13     0  1      0   \n",
       "4  air_ba937bf13d40fb24    33   17   17    0   17   13     0  1      0   \n",
       "\n",
       "        ...         visitors  year last_quarter_gen_pop  last_quarter_s_pop  \\\n",
       "0       ...               25     0                 -1.0                -1.0   \n",
       "1       ...               32     0                 -1.0                -1.0   \n",
       "2       ...               29     0                 -1.0                -1.0   \n",
       "3       ...               22     0                 -1.0                -1.0   \n",
       "4       ...                6     0                 -1.0                -1.0   \n",
       "\n",
       "   store_pop  store_genre_pop  genre_pop  store_pop_monthly  last_genre_pop  \\\n",
       "0   0.030911         0.176627   0.175009               -1.0             0.0   \n",
       "1   0.030911         0.176627   0.175009               -1.0             0.0   \n",
       "2   0.030911         0.176627   0.175009               -1.0             0.0   \n",
       "3   0.030911         0.176627   0.175009               -1.0             0.0   \n",
       "4   0.030911         0.176627   0.175009               -1.0             0.0   \n",
       "\n",
       "   last_month_comp  \n",
       "0             -1.0  \n",
       "1             -1.0  \n",
       "2             -1.0  \n",
       "3             -1.0  \n",
       "4             -1.0  \n",
       "\n",
       "[5 rows x 23 columns]"
      ]
     },
     "execution_count": 164,
     "metadata": {},
     "output_type": "execute_result"
    }
   ],
   "source": [
    "together.head()"
   ]
  },
  {
   "cell_type": "markdown",
   "metadata": {},
   "source": [
    "## last quarter comp"
   ]
  },
  {
   "cell_type": "code",
   "execution_count": 165,
   "metadata": {
    "collapsed": true
   },
   "outputs": [],
   "source": [
    "tmp = together.groupby(['year','quarter','store','area'],as_index=False\n",
    "                      )['visitors'].sum().rename(columns={'visitors':'store_visit_by_area'})"
   ]
  },
  {
   "cell_type": "code",
   "execution_count": 166,
   "metadata": {
    "collapsed": true
   },
   "outputs": [],
   "source": [
    "tmp = pd.merge(tmp,together[['store','gen']].drop_duplicates(),how='inner',on='store')"
   ]
  },
  {
   "cell_type": "code",
   "execution_count": 167,
   "metadata": {},
   "outputs": [
    {
     "data": {
      "text/plain": [
       "(3904, 6)"
      ]
     },
     "execution_count": 167,
     "metadata": {},
     "output_type": "execute_result"
    }
   ],
   "source": [
    "tmp.shape"
   ]
  },
  {
   "cell_type": "code",
   "execution_count": 168,
   "metadata": {
    "collapsed": true
   },
   "outputs": [],
   "source": [
    "tmp0 = together.groupby(['year','quarter','gen','area'],as_index=False\n",
    "                       )['visitors'].sum().rename(columns={'visitors':'gen_visit_by_area'})"
   ]
  },
  {
   "cell_type": "code",
   "execution_count": 169,
   "metadata": {},
   "outputs": [
    {
     "data": {
      "text/plain": [
       "(1331, 5)"
      ]
     },
     "execution_count": 169,
     "metadata": {},
     "output_type": "execute_result"
    }
   ],
   "source": [
    "tmp0.shape"
   ]
  },
  {
   "cell_type": "code",
   "execution_count": 170,
   "metadata": {
    "collapsed": true
   },
   "outputs": [],
   "source": [
    "tmp = pd.merge(tmp,tmp0,how='inner',on=['year','quarter','gen','area'])"
   ]
  },
  {
   "cell_type": "code",
   "execution_count": 171,
   "metadata": {},
   "outputs": [
    {
     "data": {
      "text/plain": [
       "(3904, 7)"
      ]
     },
     "execution_count": 171,
     "metadata": {},
     "output_type": "execute_result"
    }
   ],
   "source": [
    "tmp.shape"
   ]
  },
  {
   "cell_type": "code",
   "execution_count": 172,
   "metadata": {
    "collapsed": true
   },
   "outputs": [],
   "source": [
    "tmp = tmp.sort_values(by=['store','area','year','quarter'])"
   ]
  },
  {
   "cell_type": "code",
   "execution_count": 173,
   "metadata": {},
   "outputs": [
    {
     "data": {
      "text/html": [
       "<div>\n",
       "<style>\n",
       "    .dataframe thead tr:only-child th {\n",
       "        text-align: right;\n",
       "    }\n",
       "\n",
       "    .dataframe thead th {\n",
       "        text-align: left;\n",
       "    }\n",
       "\n",
       "    .dataframe tbody tr th {\n",
       "        vertical-align: top;\n",
       "    }\n",
       "</style>\n",
       "<table border=\"1\" class=\"dataframe\">\n",
       "  <thead>\n",
       "    <tr style=\"text-align: right;\">\n",
       "      <th></th>\n",
       "      <th>year</th>\n",
       "      <th>quarter</th>\n",
       "      <th>store</th>\n",
       "      <th>area</th>\n",
       "      <th>store_visit_by_area</th>\n",
       "      <th>gen</th>\n",
       "      <th>gen_visit_by_area</th>\n",
       "    </tr>\n",
       "  </thead>\n",
       "  <tbody>\n",
       "    <tr>\n",
       "      <th>2170</th>\n",
       "      <td>0</td>\n",
       "      <td>2</td>\n",
       "      <td>0</td>\n",
       "      <td>64</td>\n",
       "      <td>1469</td>\n",
       "      <td>6</td>\n",
       "      <td>4354</td>\n",
       "    </tr>\n",
       "    <tr>\n",
       "      <th>2172</th>\n",
       "      <td>0</td>\n",
       "      <td>3</td>\n",
       "      <td>0</td>\n",
       "      <td>64</td>\n",
       "      <td>1653</td>\n",
       "      <td>6</td>\n",
       "      <td>4383</td>\n",
       "    </tr>\n",
       "    <tr>\n",
       "      <th>2174</th>\n",
       "      <td>1</td>\n",
       "      <td>0</td>\n",
       "      <td>0</td>\n",
       "      <td>64</td>\n",
       "      <td>2071</td>\n",
       "      <td>6</td>\n",
       "      <td>4467</td>\n",
       "    </tr>\n",
       "    <tr>\n",
       "      <th>2176</th>\n",
       "      <td>1</td>\n",
       "      <td>1</td>\n",
       "      <td>0</td>\n",
       "      <td>64</td>\n",
       "      <td>662</td>\n",
       "      <td>6</td>\n",
       "      <td>1421</td>\n",
       "    </tr>\n",
       "    <tr>\n",
       "      <th>131</th>\n",
       "      <td>0</td>\n",
       "      <td>2</td>\n",
       "      <td>1</td>\n",
       "      <td>58</td>\n",
       "      <td>1032</td>\n",
       "      <td>13</td>\n",
       "      <td>9719</td>\n",
       "    </tr>\n",
       "    <tr>\n",
       "      <th>140</th>\n",
       "      <td>0</td>\n",
       "      <td>3</td>\n",
       "      <td>1</td>\n",
       "      <td>58</td>\n",
       "      <td>930</td>\n",
       "      <td>13</td>\n",
       "      <td>9298</td>\n",
       "    </tr>\n",
       "    <tr>\n",
       "      <th>149</th>\n",
       "      <td>1</td>\n",
       "      <td>0</td>\n",
       "      <td>1</td>\n",
       "      <td>58</td>\n",
       "      <td>775</td>\n",
       "      <td>13</td>\n",
       "      <td>8441</td>\n",
       "    </tr>\n",
       "    <tr>\n",
       "      <th>158</th>\n",
       "      <td>1</td>\n",
       "      <td>1</td>\n",
       "      <td>1</td>\n",
       "      <td>58</td>\n",
       "      <td>224</td>\n",
       "      <td>13</td>\n",
       "      <td>2254</td>\n",
       "    </tr>\n",
       "    <tr>\n",
       "      <th>640</th>\n",
       "      <td>0</td>\n",
       "      <td>2</td>\n",
       "      <td>2</td>\n",
       "      <td>19</td>\n",
       "      <td>1348</td>\n",
       "      <td>0</td>\n",
       "      <td>16728</td>\n",
       "    </tr>\n",
       "    <tr>\n",
       "      <th>648</th>\n",
       "      <td>0</td>\n",
       "      <td>3</td>\n",
       "      <td>2</td>\n",
       "      <td>19</td>\n",
       "      <td>1159</td>\n",
       "      <td>0</td>\n",
       "      <td>20261</td>\n",
       "    </tr>\n",
       "  </tbody>\n",
       "</table>\n",
       "</div>"
      ],
      "text/plain": [
       "      year  quarter  store  area  store_visit_by_area  gen  gen_visit_by_area\n",
       "2170     0        2      0    64                 1469    6               4354\n",
       "2172     0        3      0    64                 1653    6               4383\n",
       "2174     1        0      0    64                 2071    6               4467\n",
       "2176     1        1      0    64                  662    6               1421\n",
       "131      0        2      1    58                 1032   13               9719\n",
       "140      0        3      1    58                  930   13               9298\n",
       "149      1        0      1    58                  775   13               8441\n",
       "158      1        1      1    58                  224   13               2254\n",
       "640      0        2      2    19                 1348    0              16728\n",
       "648      0        3      2    19                 1159    0              20261"
      ]
     },
     "execution_count": 173,
     "metadata": {},
     "output_type": "execute_result"
    }
   ],
   "source": [
    "tmp.head(10)"
   ]
  },
  {
   "cell_type": "code",
   "execution_count": 174,
   "metadata": {
    "collapsed": true
   },
   "outputs": [],
   "source": [
    "def get_quarter_comp(data):\n",
    "    if data.gen_visit_by_area==0:\n",
    "        return 0\n",
    "    else:\n",
    "        return data.store_visit_by_area/data.gen_visit_by_area"
   ]
  },
  {
   "cell_type": "code",
   "execution_count": 175,
   "metadata": {
    "collapsed": true
   },
   "outputs": [],
   "source": [
    "tmp['quarter_comp'] = tmp.apply(get_quarter_comp,axis=1)"
   ]
  },
  {
   "cell_type": "code",
   "execution_count": 176,
   "metadata": {
    "collapsed": true
   },
   "outputs": [],
   "source": [
    "tmp['store_shift'] = tmp.store.shift(1)\n",
    "tmp['quarter_comp'] = tmp.quarter_comp.shift(1)"
   ]
  },
  {
   "cell_type": "code",
   "execution_count": 177,
   "metadata": {},
   "outputs": [
    {
     "data": {
      "text/html": [
       "<div>\n",
       "<style>\n",
       "    .dataframe thead tr:only-child th {\n",
       "        text-align: right;\n",
       "    }\n",
       "\n",
       "    .dataframe thead th {\n",
       "        text-align: left;\n",
       "    }\n",
       "\n",
       "    .dataframe tbody tr th {\n",
       "        vertical-align: top;\n",
       "    }\n",
       "</style>\n",
       "<table border=\"1\" class=\"dataframe\">\n",
       "  <thead>\n",
       "    <tr style=\"text-align: right;\">\n",
       "      <th></th>\n",
       "      <th>year</th>\n",
       "      <th>quarter</th>\n",
       "      <th>store</th>\n",
       "      <th>area</th>\n",
       "      <th>store_visit_by_area</th>\n",
       "      <th>gen</th>\n",
       "      <th>gen_visit_by_area</th>\n",
       "      <th>quarter_comp</th>\n",
       "      <th>store_shift</th>\n",
       "    </tr>\n",
       "  </thead>\n",
       "  <tbody>\n",
       "    <tr>\n",
       "      <th>2170</th>\n",
       "      <td>0</td>\n",
       "      <td>2</td>\n",
       "      <td>0</td>\n",
       "      <td>64</td>\n",
       "      <td>1469</td>\n",
       "      <td>6</td>\n",
       "      <td>4354</td>\n",
       "      <td>NaN</td>\n",
       "      <td>NaN</td>\n",
       "    </tr>\n",
       "    <tr>\n",
       "      <th>2172</th>\n",
       "      <td>0</td>\n",
       "      <td>3</td>\n",
       "      <td>0</td>\n",
       "      <td>64</td>\n",
       "      <td>1653</td>\n",
       "      <td>6</td>\n",
       "      <td>4383</td>\n",
       "      <td>0.337391</td>\n",
       "      <td>0.0</td>\n",
       "    </tr>\n",
       "    <tr>\n",
       "      <th>2174</th>\n",
       "      <td>1</td>\n",
       "      <td>0</td>\n",
       "      <td>0</td>\n",
       "      <td>64</td>\n",
       "      <td>2071</td>\n",
       "      <td>6</td>\n",
       "      <td>4467</td>\n",
       "      <td>0.377139</td>\n",
       "      <td>0.0</td>\n",
       "    </tr>\n",
       "    <tr>\n",
       "      <th>2176</th>\n",
       "      <td>1</td>\n",
       "      <td>1</td>\n",
       "      <td>0</td>\n",
       "      <td>64</td>\n",
       "      <td>662</td>\n",
       "      <td>6</td>\n",
       "      <td>1421</td>\n",
       "      <td>0.463622</td>\n",
       "      <td>0.0</td>\n",
       "    </tr>\n",
       "    <tr>\n",
       "      <th>131</th>\n",
       "      <td>0</td>\n",
       "      <td>2</td>\n",
       "      <td>1</td>\n",
       "      <td>58</td>\n",
       "      <td>1032</td>\n",
       "      <td>13</td>\n",
       "      <td>9719</td>\n",
       "      <td>0.465869</td>\n",
       "      <td>0.0</td>\n",
       "    </tr>\n",
       "  </tbody>\n",
       "</table>\n",
       "</div>"
      ],
      "text/plain": [
       "      year  quarter  store  area  store_visit_by_area  gen  gen_visit_by_area  \\\n",
       "2170     0        2      0    64                 1469    6               4354   \n",
       "2172     0        3      0    64                 1653    6               4383   \n",
       "2174     1        0      0    64                 2071    6               4467   \n",
       "2176     1        1      0    64                  662    6               1421   \n",
       "131      0        2      1    58                 1032   13               9719   \n",
       "\n",
       "      quarter_comp  store_shift  \n",
       "2170           NaN          NaN  \n",
       "2172      0.337391          0.0  \n",
       "2174      0.377139          0.0  \n",
       "2176      0.463622          0.0  \n",
       "131       0.465869          0.0  "
      ]
     },
     "execution_count": 177,
     "metadata": {},
     "output_type": "execute_result"
    }
   ],
   "source": [
    "tmp.head()"
   ]
  },
  {
   "cell_type": "code",
   "execution_count": 178,
   "metadata": {
    "collapsed": true
   },
   "outputs": [],
   "source": [
    "def get_lqc(data):\n",
    "    if data.store!=data.store_shift:\n",
    "        return -1\n",
    "    else:\n",
    "        return data.quarter_comp"
   ]
  },
  {
   "cell_type": "code",
   "execution_count": 179,
   "metadata": {
    "collapsed": true
   },
   "outputs": [],
   "source": [
    "tmp['last_quarter_comp'] = tmp.apply(get_lqc,axis=1)"
   ]
  },
  {
   "cell_type": "code",
   "execution_count": 180,
   "metadata": {},
   "outputs": [
    {
     "data": {
      "text/html": [
       "<div>\n",
       "<style>\n",
       "    .dataframe thead tr:only-child th {\n",
       "        text-align: right;\n",
       "    }\n",
       "\n",
       "    .dataframe thead th {\n",
       "        text-align: left;\n",
       "    }\n",
       "\n",
       "    .dataframe tbody tr th {\n",
       "        vertical-align: top;\n",
       "    }\n",
       "</style>\n",
       "<table border=\"1\" class=\"dataframe\">\n",
       "  <thead>\n",
       "    <tr style=\"text-align: right;\">\n",
       "      <th></th>\n",
       "      <th>year</th>\n",
       "      <th>quarter</th>\n",
       "      <th>store</th>\n",
       "      <th>area</th>\n",
       "      <th>store_visit_by_area</th>\n",
       "      <th>gen</th>\n",
       "      <th>gen_visit_by_area</th>\n",
       "      <th>quarter_comp</th>\n",
       "      <th>store_shift</th>\n",
       "      <th>last_quarter_comp</th>\n",
       "    </tr>\n",
       "  </thead>\n",
       "  <tbody>\n",
       "    <tr>\n",
       "      <th>2170</th>\n",
       "      <td>0</td>\n",
       "      <td>2</td>\n",
       "      <td>0</td>\n",
       "      <td>64</td>\n",
       "      <td>1469</td>\n",
       "      <td>6</td>\n",
       "      <td>4354</td>\n",
       "      <td>NaN</td>\n",
       "      <td>NaN</td>\n",
       "      <td>-1.000000</td>\n",
       "    </tr>\n",
       "    <tr>\n",
       "      <th>2172</th>\n",
       "      <td>0</td>\n",
       "      <td>3</td>\n",
       "      <td>0</td>\n",
       "      <td>64</td>\n",
       "      <td>1653</td>\n",
       "      <td>6</td>\n",
       "      <td>4383</td>\n",
       "      <td>0.337391</td>\n",
       "      <td>0.0</td>\n",
       "      <td>0.337391</td>\n",
       "    </tr>\n",
       "    <tr>\n",
       "      <th>2174</th>\n",
       "      <td>1</td>\n",
       "      <td>0</td>\n",
       "      <td>0</td>\n",
       "      <td>64</td>\n",
       "      <td>2071</td>\n",
       "      <td>6</td>\n",
       "      <td>4467</td>\n",
       "      <td>0.377139</td>\n",
       "      <td>0.0</td>\n",
       "      <td>0.377139</td>\n",
       "    </tr>\n",
       "    <tr>\n",
       "      <th>2176</th>\n",
       "      <td>1</td>\n",
       "      <td>1</td>\n",
       "      <td>0</td>\n",
       "      <td>64</td>\n",
       "      <td>662</td>\n",
       "      <td>6</td>\n",
       "      <td>1421</td>\n",
       "      <td>0.463622</td>\n",
       "      <td>0.0</td>\n",
       "      <td>0.463622</td>\n",
       "    </tr>\n",
       "    <tr>\n",
       "      <th>131</th>\n",
       "      <td>0</td>\n",
       "      <td>2</td>\n",
       "      <td>1</td>\n",
       "      <td>58</td>\n",
       "      <td>1032</td>\n",
       "      <td>13</td>\n",
       "      <td>9719</td>\n",
       "      <td>0.465869</td>\n",
       "      <td>0.0</td>\n",
       "      <td>-1.000000</td>\n",
       "    </tr>\n",
       "  </tbody>\n",
       "</table>\n",
       "</div>"
      ],
      "text/plain": [
       "      year  quarter  store  area  store_visit_by_area  gen  gen_visit_by_area  \\\n",
       "2170     0        2      0    64                 1469    6               4354   \n",
       "2172     0        3      0    64                 1653    6               4383   \n",
       "2174     1        0      0    64                 2071    6               4467   \n",
       "2176     1        1      0    64                  662    6               1421   \n",
       "131      0        2      1    58                 1032   13               9719   \n",
       "\n",
       "      quarter_comp  store_shift  last_quarter_comp  \n",
       "2170           NaN          NaN          -1.000000  \n",
       "2172      0.337391          0.0           0.337391  \n",
       "2174      0.377139          0.0           0.377139  \n",
       "2176      0.463622          0.0           0.463622  \n",
       "131       0.465869          0.0          -1.000000  "
      ]
     },
     "execution_count": 180,
     "metadata": {},
     "output_type": "execute_result"
    }
   ],
   "source": [
    "tmp.head()"
   ]
  },
  {
   "cell_type": "code",
   "execution_count": 181,
   "metadata": {
    "collapsed": true
   },
   "outputs": [],
   "source": [
    "tmp = tmp[['year','quarter','store','area','last_quarter_comp']]"
   ]
  },
  {
   "cell_type": "code",
   "execution_count": 182,
   "metadata": {
    "collapsed": true
   },
   "outputs": [],
   "source": [
    "together = pd.merge(together,tmp,how='inner',on=['year','quarter','store','area'])"
   ]
  },
  {
   "cell_type": "code",
   "execution_count": 183,
   "metadata": {},
   "outputs": [
    {
     "data": {
      "text/plain": [
       "(284127, 24)"
      ]
     },
     "execution_count": 183,
     "metadata": {},
     "output_type": "execute_result"
    }
   ],
   "source": [
    "together.shape"
   ]
  },
  {
   "cell_type": "code",
   "execution_count": 184,
   "metadata": {},
   "outputs": [
    {
     "data": {
      "text/html": [
       "<div>\n",
       "<style>\n",
       "    .dataframe thead tr:only-child th {\n",
       "        text-align: right;\n",
       "    }\n",
       "\n",
       "    .dataframe thead th {\n",
       "        text-align: left;\n",
       "    }\n",
       "\n",
       "    .dataframe tbody tr th {\n",
       "        vertical-align: top;\n",
       "    }\n",
       "</style>\n",
       "<table border=\"1\" class=\"dataframe\">\n",
       "  <thead>\n",
       "    <tr style=\"text-align: right;\">\n",
       "      <th></th>\n",
       "      <th>air_store_id</th>\n",
       "      <th>area</th>\n",
       "      <th>dom</th>\n",
       "      <th>doq</th>\n",
       "      <th>dow</th>\n",
       "      <th>doy</th>\n",
       "      <th>gen</th>\n",
       "      <th>holi</th>\n",
       "      <th>id</th>\n",
       "      <th>month</th>\n",
       "      <th>...</th>\n",
       "      <th>year</th>\n",
       "      <th>last_quarter_gen_pop</th>\n",
       "      <th>last_quarter_s_pop</th>\n",
       "      <th>store_pop</th>\n",
       "      <th>store_genre_pop</th>\n",
       "      <th>genre_pop</th>\n",
       "      <th>store_pop_monthly</th>\n",
       "      <th>last_genre_pop</th>\n",
       "      <th>last_month_comp</th>\n",
       "      <th>last_quarter_comp</th>\n",
       "    </tr>\n",
       "  </thead>\n",
       "  <tbody>\n",
       "    <tr>\n",
       "      <th>0</th>\n",
       "      <td>air_ba937bf13d40fb24</td>\n",
       "      <td>33</td>\n",
       "      <td>12</td>\n",
       "      <td>12</td>\n",
       "      <td>2</td>\n",
       "      <td>12</td>\n",
       "      <td>13</td>\n",
       "      <td>0</td>\n",
       "      <td>1</td>\n",
       "      <td>0</td>\n",
       "      <td>...</td>\n",
       "      <td>0</td>\n",
       "      <td>-1.0</td>\n",
       "      <td>-1.0</td>\n",
       "      <td>0.030911</td>\n",
       "      <td>0.176627</td>\n",
       "      <td>0.175009</td>\n",
       "      <td>-1.0</td>\n",
       "      <td>0.0</td>\n",
       "      <td>-1.0</td>\n",
       "      <td>-1.0</td>\n",
       "    </tr>\n",
       "    <tr>\n",
       "      <th>1</th>\n",
       "      <td>air_ba937bf13d40fb24</td>\n",
       "      <td>33</td>\n",
       "      <td>13</td>\n",
       "      <td>13</td>\n",
       "      <td>3</td>\n",
       "      <td>13</td>\n",
       "      <td>13</td>\n",
       "      <td>0</td>\n",
       "      <td>1</td>\n",
       "      <td>0</td>\n",
       "      <td>...</td>\n",
       "      <td>0</td>\n",
       "      <td>-1.0</td>\n",
       "      <td>-1.0</td>\n",
       "      <td>0.030911</td>\n",
       "      <td>0.176627</td>\n",
       "      <td>0.175009</td>\n",
       "      <td>-1.0</td>\n",
       "      <td>0.0</td>\n",
       "      <td>-1.0</td>\n",
       "      <td>-1.0</td>\n",
       "    </tr>\n",
       "    <tr>\n",
       "      <th>2</th>\n",
       "      <td>air_ba937bf13d40fb24</td>\n",
       "      <td>33</td>\n",
       "      <td>14</td>\n",
       "      <td>14</td>\n",
       "      <td>4</td>\n",
       "      <td>14</td>\n",
       "      <td>13</td>\n",
       "      <td>0</td>\n",
       "      <td>1</td>\n",
       "      <td>0</td>\n",
       "      <td>...</td>\n",
       "      <td>0</td>\n",
       "      <td>-1.0</td>\n",
       "      <td>-1.0</td>\n",
       "      <td>0.030911</td>\n",
       "      <td>0.176627</td>\n",
       "      <td>0.175009</td>\n",
       "      <td>-1.0</td>\n",
       "      <td>0.0</td>\n",
       "      <td>-1.0</td>\n",
       "      <td>-1.0</td>\n",
       "    </tr>\n",
       "    <tr>\n",
       "      <th>3</th>\n",
       "      <td>air_ba937bf13d40fb24</td>\n",
       "      <td>33</td>\n",
       "      <td>15</td>\n",
       "      <td>15</td>\n",
       "      <td>5</td>\n",
       "      <td>15</td>\n",
       "      <td>13</td>\n",
       "      <td>0</td>\n",
       "      <td>1</td>\n",
       "      <td>0</td>\n",
       "      <td>...</td>\n",
       "      <td>0</td>\n",
       "      <td>-1.0</td>\n",
       "      <td>-1.0</td>\n",
       "      <td>0.030911</td>\n",
       "      <td>0.176627</td>\n",
       "      <td>0.175009</td>\n",
       "      <td>-1.0</td>\n",
       "      <td>0.0</td>\n",
       "      <td>-1.0</td>\n",
       "      <td>-1.0</td>\n",
       "    </tr>\n",
       "    <tr>\n",
       "      <th>4</th>\n",
       "      <td>air_ba937bf13d40fb24</td>\n",
       "      <td>33</td>\n",
       "      <td>17</td>\n",
       "      <td>17</td>\n",
       "      <td>0</td>\n",
       "      <td>17</td>\n",
       "      <td>13</td>\n",
       "      <td>0</td>\n",
       "      <td>1</td>\n",
       "      <td>0</td>\n",
       "      <td>...</td>\n",
       "      <td>0</td>\n",
       "      <td>-1.0</td>\n",
       "      <td>-1.0</td>\n",
       "      <td>0.030911</td>\n",
       "      <td>0.176627</td>\n",
       "      <td>0.175009</td>\n",
       "      <td>-1.0</td>\n",
       "      <td>0.0</td>\n",
       "      <td>-1.0</td>\n",
       "      <td>-1.0</td>\n",
       "    </tr>\n",
       "  </tbody>\n",
       "</table>\n",
       "<p>5 rows × 24 columns</p>\n",
       "</div>"
      ],
      "text/plain": [
       "           air_store_id  area  dom  doq  dow  doy  gen  holi id  month  \\\n",
       "0  air_ba937bf13d40fb24    33   12   12    2   12   13     0  1      0   \n",
       "1  air_ba937bf13d40fb24    33   13   13    3   13   13     0  1      0   \n",
       "2  air_ba937bf13d40fb24    33   14   14    4   14   13     0  1      0   \n",
       "3  air_ba937bf13d40fb24    33   15   15    5   15   13     0  1      0   \n",
       "4  air_ba937bf13d40fb24    33   17   17    0   17   13     0  1      0   \n",
       "\n",
       "         ...          year  last_quarter_gen_pop last_quarter_s_pop  \\\n",
       "0        ...             0                  -1.0               -1.0   \n",
       "1        ...             0                  -1.0               -1.0   \n",
       "2        ...             0                  -1.0               -1.0   \n",
       "3        ...             0                  -1.0               -1.0   \n",
       "4        ...             0                  -1.0               -1.0   \n",
       "\n",
       "   store_pop  store_genre_pop  genre_pop  store_pop_monthly  last_genre_pop  \\\n",
       "0   0.030911         0.176627   0.175009               -1.0             0.0   \n",
       "1   0.030911         0.176627   0.175009               -1.0             0.0   \n",
       "2   0.030911         0.176627   0.175009               -1.0             0.0   \n",
       "3   0.030911         0.176627   0.175009               -1.0             0.0   \n",
       "4   0.030911         0.176627   0.175009               -1.0             0.0   \n",
       "\n",
       "   last_month_comp  last_quarter_comp  \n",
       "0             -1.0               -1.0  \n",
       "1             -1.0               -1.0  \n",
       "2             -1.0               -1.0  \n",
       "3             -1.0               -1.0  \n",
       "4             -1.0               -1.0  \n",
       "\n",
       "[5 rows x 24 columns]"
      ]
     },
     "execution_count": 184,
     "metadata": {},
     "output_type": "execute_result"
    }
   ],
   "source": [
    "together.head()"
   ]
  },
  {
   "cell_type": "markdown",
   "metadata": {},
   "source": [
    "## another xgb check"
   ]
  },
  {
   "cell_type": "code",
   "execution_count": 185,
   "metadata": {},
   "outputs": [
    {
     "name": "stdout",
     "output_type": "stream",
     "text": [
      "0.1 0.520493\n",
      "0.15 0.501567\n",
      "0.2 0.500811\n"
     ]
    }
   ],
   "source": [
    "train_data = together[train_id]\n",
    "dtrain = xgb.DMatrix(train_data.drop(['id','visitors','air_store_id','visit_date'],axis=1),train_data.visitors.apply(np.log1p))\n",
    "for i in np.arange(0.1,0.25,0.05):\n",
    "    param = {\n",
    "        'eta':i,'max_depth':16,'subsample':0.94,'colsample_bytree':0.73,'lamdba':0.3,'alpha':0.8,\\\n",
    "        'min_child_weight':29,'num_boost_round':100,'objective':'reg:linear','booster':'gbtree',\\\n",
    "        'tree_method':'hist','max_bin':150\n",
    "    }\n",
    "    hist = xgb.cv(param,dtrain,30,metrics='rmse')\n",
    "    print(i,hist['test-rmse-mean'].iloc[-1])"
   ]
  },
  {
   "cell_type": "code",
   "execution_count": 186,
   "metadata": {},
   "outputs": [
    {
     "name": "stdout",
     "output_type": "stream",
     "text": [
      "0.1 0.520642333333\n",
      "0.15 0.503113\n",
      "0.2 0.501623\n"
     ]
    }
   ],
   "source": [
    "train_data = together[train_id]\n",
    "dtrain = xgb.DMatrix(train_data.drop(['id','visitors','air_store_id','visit_date','last_quarter_comp'],axis=1),train_data.visitors.apply(np.log1p))\n",
    "for i in np.arange(0.1,0.25,0.05):\n",
    "    param = {\n",
    "        'eta':i,'max_depth':16,'subsample':0.94,'colsample_bytree':0.73,'lamdba':0.3,'alpha':0.8,\\\n",
    "        'min_child_weight':29,'num_boost_round':100,'objective':'reg:linear','booster':'gbtree',\\\n",
    "        'tree_method':'hist','max_bin':150\n",
    "    }\n",
    "    hist = xgb.cv(param,dtrain,30,metrics='rmse')\n",
    "    print(i,hist['test-rmse-mean'].iloc[-1])"
   ]
  },
  {
   "cell_type": "code",
   "execution_count": 187,
   "metadata": {},
   "outputs": [
    {
     "name": "stdout",
     "output_type": "stream",
     "text": [
      "0.1 0.518506333333\n",
      "0.15 0.500707\n",
      "0.2 0.498888333333\n"
     ]
    }
   ],
   "source": [
    "train_data = together[train_id]\n",
    "dtrain = xgb.DMatrix(train_data.drop(['id','visitors','air_store_id','visit_date','last_month_comp',\n",
    "                                     'last_quarter_comp','store_pop_monthly'],axis=1),train_data.visitors.apply(np.log1p))\n",
    "for i in np.arange(0.1,0.25,0.05):\n",
    "    param = {\n",
    "        'eta':i,'max_depth':16,'subsample':0.94,'colsample_bytree':0.73,'lamdba':0.3,'alpha':0.8,\\\n",
    "        'min_child_weight':29,'num_boost_round':100,'objective':'reg:linear','booster':'gbtree',\\\n",
    "        'tree_method':'hist','max_bin':150\n",
    "    }\n",
    "    hist = xgb.cv(param,dtrain,30,metrics='rmse')\n",
    "    print(i,hist['test-rmse-mean'].iloc[-1])"
   ]
  },
  {
   "cell_type": "markdown",
   "metadata": {},
   "source": [
    "## back to together, area daily pattern"
   ]
  },
  {
   "cell_type": "code",
   "execution_count": 188,
   "metadata": {
    "collapsed": true
   },
   "outputs": [],
   "source": [
    "tmp = train_data.groupby(['store','dow'],as_index=False\n",
    "                      )['visitors'].sum().rename(columns={'visitors':'store_dow_visits'})"
   ]
  },
  {
   "cell_type": "code",
   "execution_count": 189,
   "metadata": {},
   "outputs": [
    {
     "data": {
      "text/plain": [
       "(5773, 3)"
      ]
     },
     "execution_count": 189,
     "metadata": {},
     "output_type": "execute_result"
    }
   ],
   "source": [
    "tmp.shape"
   ]
  },
  {
   "cell_type": "code",
   "execution_count": 190,
   "metadata": {
    "collapsed": true
   },
   "outputs": [],
   "source": [
    "tmp0 = train_data.groupby(['store'],as_index=False\n",
    "                       )['visitors'].sum().rename(columns={'visitors':'store_yearly_visits'})"
   ]
  },
  {
   "cell_type": "code",
   "execution_count": 191,
   "metadata": {},
   "outputs": [
    {
     "data": {
      "text/plain": [
       "(829, 2)"
      ]
     },
     "execution_count": 191,
     "metadata": {},
     "output_type": "execute_result"
    }
   ],
   "source": [
    "tmp0.shape"
   ]
  },
  {
   "cell_type": "code",
   "execution_count": 192,
   "metadata": {
    "collapsed": true
   },
   "outputs": [],
   "source": [
    "tmp = pd.merge(tmp,tmp0,how='inner',on=['store'])"
   ]
  },
  {
   "cell_type": "code",
   "execution_count": 193,
   "metadata": {},
   "outputs": [
    {
     "data": {
      "text/plain": [
       "(5773, 4)"
      ]
     },
     "execution_count": 193,
     "metadata": {},
     "output_type": "execute_result"
    }
   ],
   "source": [
    "tmp.shape"
   ]
  },
  {
   "cell_type": "code",
   "execution_count": 194,
   "metadata": {
    "collapsed": true
   },
   "outputs": [],
   "source": [
    "tmp = tmp.sort_values(by=['store','dow'])"
   ]
  },
  {
   "cell_type": "code",
   "execution_count": 195,
   "metadata": {},
   "outputs": [
    {
     "data": {
      "text/html": [
       "<div>\n",
       "<style>\n",
       "    .dataframe thead tr:only-child th {\n",
       "        text-align: right;\n",
       "    }\n",
       "\n",
       "    .dataframe thead th {\n",
       "        text-align: left;\n",
       "    }\n",
       "\n",
       "    .dataframe tbody tr th {\n",
       "        vertical-align: top;\n",
       "    }\n",
       "</style>\n",
       "<table border=\"1\" class=\"dataframe\">\n",
       "  <thead>\n",
       "    <tr style=\"text-align: right;\">\n",
       "      <th></th>\n",
       "      <th>store</th>\n",
       "      <th>dow</th>\n",
       "      <th>store_dow_visits</th>\n",
       "      <th>store_yearly_visits</th>\n",
       "    </tr>\n",
       "  </thead>\n",
       "  <tbody>\n",
       "    <tr>\n",
       "      <th>0</th>\n",
       "      <td>0</td>\n",
       "      <td>0</td>\n",
       "      <td>140</td>\n",
       "      <td>5791</td>\n",
       "    </tr>\n",
       "    <tr>\n",
       "      <th>1</th>\n",
       "      <td>0</td>\n",
       "      <td>1</td>\n",
       "      <td>789</td>\n",
       "      <td>5791</td>\n",
       "    </tr>\n",
       "    <tr>\n",
       "      <th>2</th>\n",
       "      <td>0</td>\n",
       "      <td>2</td>\n",
       "      <td>765</td>\n",
       "      <td>5791</td>\n",
       "    </tr>\n",
       "    <tr>\n",
       "      <th>3</th>\n",
       "      <td>0</td>\n",
       "      <td>3</td>\n",
       "      <td>857</td>\n",
       "      <td>5791</td>\n",
       "    </tr>\n",
       "    <tr>\n",
       "      <th>4</th>\n",
       "      <td>0</td>\n",
       "      <td>4</td>\n",
       "      <td>816</td>\n",
       "      <td>5791</td>\n",
       "    </tr>\n",
       "    <tr>\n",
       "      <th>5</th>\n",
       "      <td>0</td>\n",
       "      <td>5</td>\n",
       "      <td>1198</td>\n",
       "      <td>5791</td>\n",
       "    </tr>\n",
       "    <tr>\n",
       "      <th>6</th>\n",
       "      <td>0</td>\n",
       "      <td>6</td>\n",
       "      <td>1226</td>\n",
       "      <td>5791</td>\n",
       "    </tr>\n",
       "    <tr>\n",
       "      <th>7</th>\n",
       "      <td>1</td>\n",
       "      <td>0</td>\n",
       "      <td>269</td>\n",
       "      <td>2780</td>\n",
       "    </tr>\n",
       "    <tr>\n",
       "      <th>8</th>\n",
       "      <td>1</td>\n",
       "      <td>1</td>\n",
       "      <td>390</td>\n",
       "      <td>2780</td>\n",
       "    </tr>\n",
       "    <tr>\n",
       "      <th>9</th>\n",
       "      <td>1</td>\n",
       "      <td>2</td>\n",
       "      <td>420</td>\n",
       "      <td>2780</td>\n",
       "    </tr>\n",
       "  </tbody>\n",
       "</table>\n",
       "</div>"
      ],
      "text/plain": [
       "   store  dow  store_dow_visits  store_yearly_visits\n",
       "0      0    0               140                 5791\n",
       "1      0    1               789                 5791\n",
       "2      0    2               765                 5791\n",
       "3      0    3               857                 5791\n",
       "4      0    4               816                 5791\n",
       "5      0    5              1198                 5791\n",
       "6      0    6              1226                 5791\n",
       "7      1    0               269                 2780\n",
       "8      1    1               390                 2780\n",
       "9      1    2               420                 2780"
      ]
     },
     "execution_count": 195,
     "metadata": {},
     "output_type": "execute_result"
    }
   ],
   "source": [
    "tmp.head(10)"
   ]
  },
  {
   "cell_type": "code",
   "execution_count": 196,
   "metadata": {},
   "outputs": [
    {
     "data": {
      "text/plain": [
       "True"
      ]
     },
     "execution_count": 196,
     "metadata": {},
     "output_type": "execute_result"
    }
   ],
   "source": [
    "tmp.store_yearly_visits.any(0)"
   ]
  },
  {
   "cell_type": "code",
   "execution_count": 197,
   "metadata": {
    "collapsed": true
   },
   "outputs": [],
   "source": [
    "def get_daily(data):\n",
    "    if data.store_yearly_visits==0:\n",
    "        return 0\n",
    "    else:\n",
    "        return data.store_dow_visits/data.store_yearly_visits"
   ]
  },
  {
   "cell_type": "code",
   "execution_count": 198,
   "metadata": {},
   "outputs": [
    {
     "data": {
      "text/plain": [
       "0    0.024175\n",
       "1    0.136246\n",
       "2    0.132102\n",
       "dtype: float64"
      ]
     },
     "execution_count": 198,
     "metadata": {},
     "output_type": "execute_result"
    }
   ],
   "source": [
    "tmp.iloc[:3].apply(get_daily,axis=1)"
   ]
  },
  {
   "cell_type": "code",
   "execution_count": 199,
   "metadata": {
    "collapsed": true
   },
   "outputs": [],
   "source": [
    "tmp['dow_pattern_2016'] = tmp.apply(get_daily,axis=1)"
   ]
  },
  {
   "cell_type": "code",
   "execution_count": 200,
   "metadata": {},
   "outputs": [
    {
     "data": {
      "text/html": [
       "<div>\n",
       "<style>\n",
       "    .dataframe thead tr:only-child th {\n",
       "        text-align: right;\n",
       "    }\n",
       "\n",
       "    .dataframe thead th {\n",
       "        text-align: left;\n",
       "    }\n",
       "\n",
       "    .dataframe tbody tr th {\n",
       "        vertical-align: top;\n",
       "    }\n",
       "</style>\n",
       "<table border=\"1\" class=\"dataframe\">\n",
       "  <thead>\n",
       "    <tr style=\"text-align: right;\">\n",
       "      <th></th>\n",
       "      <th>store</th>\n",
       "      <th>dow</th>\n",
       "      <th>store_dow_visits</th>\n",
       "      <th>store_yearly_visits</th>\n",
       "      <th>dow_pattern_2016</th>\n",
       "    </tr>\n",
       "  </thead>\n",
       "  <tbody>\n",
       "    <tr>\n",
       "      <th>0</th>\n",
       "      <td>0</td>\n",
       "      <td>0</td>\n",
       "      <td>140</td>\n",
       "      <td>5791</td>\n",
       "      <td>0.024175</td>\n",
       "    </tr>\n",
       "    <tr>\n",
       "      <th>1</th>\n",
       "      <td>0</td>\n",
       "      <td>1</td>\n",
       "      <td>789</td>\n",
       "      <td>5791</td>\n",
       "      <td>0.136246</td>\n",
       "    </tr>\n",
       "    <tr>\n",
       "      <th>2</th>\n",
       "      <td>0</td>\n",
       "      <td>2</td>\n",
       "      <td>765</td>\n",
       "      <td>5791</td>\n",
       "      <td>0.132102</td>\n",
       "    </tr>\n",
       "    <tr>\n",
       "      <th>3</th>\n",
       "      <td>0</td>\n",
       "      <td>3</td>\n",
       "      <td>857</td>\n",
       "      <td>5791</td>\n",
       "      <td>0.147988</td>\n",
       "    </tr>\n",
       "    <tr>\n",
       "      <th>4</th>\n",
       "      <td>0</td>\n",
       "      <td>4</td>\n",
       "      <td>816</td>\n",
       "      <td>5791</td>\n",
       "      <td>0.140908</td>\n",
       "    </tr>\n",
       "  </tbody>\n",
       "</table>\n",
       "</div>"
      ],
      "text/plain": [
       "   store  dow  store_dow_visits  store_yearly_visits  dow_pattern_2016\n",
       "0      0    0               140                 5791          0.024175\n",
       "1      0    1               789                 5791          0.136246\n",
       "2      0    2               765                 5791          0.132102\n",
       "3      0    3               857                 5791          0.147988\n",
       "4      0    4               816                 5791          0.140908"
      ]
     },
     "execution_count": 200,
     "metadata": {},
     "output_type": "execute_result"
    }
   ],
   "source": [
    "tmp.head()"
   ]
  },
  {
   "cell_type": "code",
   "execution_count": 201,
   "metadata": {
    "collapsed": true
   },
   "outputs": [],
   "source": [
    "tmp = tmp[['store','dow','dow_pattern_2016']]"
   ]
  },
  {
   "cell_type": "code",
   "execution_count": 202,
   "metadata": {
    "collapsed": true
   },
   "outputs": [],
   "source": [
    "together = pd.merge(together,tmp,how='left',on=['store','dow'])"
   ]
  },
  {
   "cell_type": "code",
   "execution_count": 203,
   "metadata": {},
   "outputs": [
    {
     "data": {
      "text/html": [
       "<div>\n",
       "<style>\n",
       "    .dataframe thead tr:only-child th {\n",
       "        text-align: right;\n",
       "    }\n",
       "\n",
       "    .dataframe thead th {\n",
       "        text-align: left;\n",
       "    }\n",
       "\n",
       "    .dataframe tbody tr th {\n",
       "        vertical-align: top;\n",
       "    }\n",
       "</style>\n",
       "<table border=\"1\" class=\"dataframe\">\n",
       "  <thead>\n",
       "    <tr style=\"text-align: right;\">\n",
       "      <th></th>\n",
       "      <th>air_store_id</th>\n",
       "      <th>area</th>\n",
       "      <th>dom</th>\n",
       "      <th>doq</th>\n",
       "      <th>dow</th>\n",
       "      <th>doy</th>\n",
       "      <th>gen</th>\n",
       "      <th>holi</th>\n",
       "      <th>id</th>\n",
       "      <th>month</th>\n",
       "      <th>...</th>\n",
       "      <th>last_quarter_gen_pop</th>\n",
       "      <th>last_quarter_s_pop</th>\n",
       "      <th>store_pop</th>\n",
       "      <th>store_genre_pop</th>\n",
       "      <th>genre_pop</th>\n",
       "      <th>store_pop_monthly</th>\n",
       "      <th>last_genre_pop</th>\n",
       "      <th>last_month_comp</th>\n",
       "      <th>last_quarter_comp</th>\n",
       "      <th>dow_pattern_2016</th>\n",
       "    </tr>\n",
       "  </thead>\n",
       "  <tbody>\n",
       "    <tr>\n",
       "      <th>0</th>\n",
       "      <td>air_ba937bf13d40fb24</td>\n",
       "      <td>33</td>\n",
       "      <td>12</td>\n",
       "      <td>12</td>\n",
       "      <td>2</td>\n",
       "      <td>12</td>\n",
       "      <td>13</td>\n",
       "      <td>0</td>\n",
       "      <td>1</td>\n",
       "      <td>0</td>\n",
       "      <td>...</td>\n",
       "      <td>-1.0</td>\n",
       "      <td>-1.0</td>\n",
       "      <td>0.030911</td>\n",
       "      <td>0.176627</td>\n",
       "      <td>0.175009</td>\n",
       "      <td>-1.0</td>\n",
       "      <td>0.0</td>\n",
       "      <td>-1.0</td>\n",
       "      <td>-1.0</td>\n",
       "      <td>0.171307</td>\n",
       "    </tr>\n",
       "    <tr>\n",
       "      <th>1</th>\n",
       "      <td>air_ba937bf13d40fb24</td>\n",
       "      <td>33</td>\n",
       "      <td>13</td>\n",
       "      <td>13</td>\n",
       "      <td>3</td>\n",
       "      <td>13</td>\n",
       "      <td>13</td>\n",
       "      <td>0</td>\n",
       "      <td>1</td>\n",
       "      <td>0</td>\n",
       "      <td>...</td>\n",
       "      <td>-1.0</td>\n",
       "      <td>-1.0</td>\n",
       "      <td>0.030911</td>\n",
       "      <td>0.176627</td>\n",
       "      <td>0.175009</td>\n",
       "      <td>-1.0</td>\n",
       "      <td>0.0</td>\n",
       "      <td>-1.0</td>\n",
       "      <td>-1.0</td>\n",
       "      <td>0.148069</td>\n",
       "    </tr>\n",
       "    <tr>\n",
       "      <th>2</th>\n",
       "      <td>air_ba937bf13d40fb24</td>\n",
       "      <td>33</td>\n",
       "      <td>14</td>\n",
       "      <td>14</td>\n",
       "      <td>4</td>\n",
       "      <td>14</td>\n",
       "      <td>13</td>\n",
       "      <td>0</td>\n",
       "      <td>1</td>\n",
       "      <td>0</td>\n",
       "      <td>...</td>\n",
       "      <td>-1.0</td>\n",
       "      <td>-1.0</td>\n",
       "      <td>0.030911</td>\n",
       "      <td>0.176627</td>\n",
       "      <td>0.175009</td>\n",
       "      <td>-1.0</td>\n",
       "      <td>0.0</td>\n",
       "      <td>-1.0</td>\n",
       "      <td>-1.0</td>\n",
       "      <td>0.253480</td>\n",
       "    </tr>\n",
       "    <tr>\n",
       "      <th>3</th>\n",
       "      <td>air_ba937bf13d40fb24</td>\n",
       "      <td>33</td>\n",
       "      <td>15</td>\n",
       "      <td>15</td>\n",
       "      <td>5</td>\n",
       "      <td>15</td>\n",
       "      <td>13</td>\n",
       "      <td>0</td>\n",
       "      <td>1</td>\n",
       "      <td>0</td>\n",
       "      <td>...</td>\n",
       "      <td>-1.0</td>\n",
       "      <td>-1.0</td>\n",
       "      <td>0.030911</td>\n",
       "      <td>0.176627</td>\n",
       "      <td>0.175009</td>\n",
       "      <td>-1.0</td>\n",
       "      <td>0.0</td>\n",
       "      <td>-1.0</td>\n",
       "      <td>-1.0</td>\n",
       "      <td>0.204872</td>\n",
       "    </tr>\n",
       "    <tr>\n",
       "      <th>4</th>\n",
       "      <td>air_ba937bf13d40fb24</td>\n",
       "      <td>33</td>\n",
       "      <td>17</td>\n",
       "      <td>17</td>\n",
       "      <td>0</td>\n",
       "      <td>17</td>\n",
       "      <td>13</td>\n",
       "      <td>0</td>\n",
       "      <td>1</td>\n",
       "      <td>0</td>\n",
       "      <td>...</td>\n",
       "      <td>-1.0</td>\n",
       "      <td>-1.0</td>\n",
       "      <td>0.030911</td>\n",
       "      <td>0.176627</td>\n",
       "      <td>0.175009</td>\n",
       "      <td>-1.0</td>\n",
       "      <td>0.0</td>\n",
       "      <td>-1.0</td>\n",
       "      <td>-1.0</td>\n",
       "      <td>0.088011</td>\n",
       "    </tr>\n",
       "  </tbody>\n",
       "</table>\n",
       "<p>5 rows × 25 columns</p>\n",
       "</div>"
      ],
      "text/plain": [
       "           air_store_id  area  dom  doq  dow  doy  gen  holi id  month  \\\n",
       "0  air_ba937bf13d40fb24    33   12   12    2   12   13     0  1      0   \n",
       "1  air_ba937bf13d40fb24    33   13   13    3   13   13     0  1      0   \n",
       "2  air_ba937bf13d40fb24    33   14   14    4   14   13     0  1      0   \n",
       "3  air_ba937bf13d40fb24    33   15   15    5   15   13     0  1      0   \n",
       "4  air_ba937bf13d40fb24    33   17   17    0   17   13     0  1      0   \n",
       "\n",
       "         ...         last_quarter_gen_pop  last_quarter_s_pop store_pop  \\\n",
       "0        ...                         -1.0                -1.0  0.030911   \n",
       "1        ...                         -1.0                -1.0  0.030911   \n",
       "2        ...                         -1.0                -1.0  0.030911   \n",
       "3        ...                         -1.0                -1.0  0.030911   \n",
       "4        ...                         -1.0                -1.0  0.030911   \n",
       "\n",
       "   store_genre_pop  genre_pop  store_pop_monthly  last_genre_pop  \\\n",
       "0         0.176627   0.175009               -1.0             0.0   \n",
       "1         0.176627   0.175009               -1.0             0.0   \n",
       "2         0.176627   0.175009               -1.0             0.0   \n",
       "3         0.176627   0.175009               -1.0             0.0   \n",
       "4         0.176627   0.175009               -1.0             0.0   \n",
       "\n",
       "   last_month_comp  last_quarter_comp  dow_pattern_2016  \n",
       "0             -1.0               -1.0          0.171307  \n",
       "1             -1.0               -1.0          0.148069  \n",
       "2             -1.0               -1.0          0.253480  \n",
       "3             -1.0               -1.0          0.204872  \n",
       "4             -1.0               -1.0          0.088011  \n",
       "\n",
       "[5 rows x 25 columns]"
      ]
     },
     "execution_count": 203,
     "metadata": {},
     "output_type": "execute_result"
    }
   ],
   "source": [
    "together.head()"
   ]
  },
  {
   "cell_type": "code",
   "execution_count": 204,
   "metadata": {},
   "outputs": [
    {
     "data": {
      "text/plain": [
       "(284127, 25)"
      ]
     },
     "execution_count": 204,
     "metadata": {},
     "output_type": "execute_result"
    }
   ],
   "source": [
    "together.shape"
   ]
  },
  {
   "cell_type": "code",
   "execution_count": 207,
   "metadata": {
    "collapsed": true
   },
   "outputs": [],
   "source": [
    "together.fillna(-1,inplace=True)"
   ]
  },
  {
   "cell_type": "markdown",
   "metadata": {},
   "source": [
    "## another round of xgb test"
   ]
  },
  {
   "cell_type": "code",
   "execution_count": 208,
   "metadata": {},
   "outputs": [
    {
     "name": "stdout",
     "output_type": "stream",
     "text": [
      "0.1 0.502043666667\n",
      "0.15 0.486849333333\n",
      "0.2 0.487545\n"
     ]
    }
   ],
   "source": [
    "train_data = together[train_id]\n",
    "dtrain = xgb.DMatrix(train_data.drop(['id','visitors','air_store_id','visit_date'],axis=1),train_data.visitors.apply(np.log1p))\n",
    "for i in np.arange(0.1,0.25,0.05):\n",
    "    param = {\n",
    "        'eta':i,'max_depth':16,'subsample':0.94,'colsample_bytree':0.73,'lamdba':0.3,'alpha':0.8,\\\n",
    "        'min_child_weight':29,'num_boost_round':100,'objective':'reg:linear','booster':'gbtree',\\\n",
    "        'tree_method':'hist','max_bin':150\n",
    "    }\n",
    "    hist = xgb.cv(param,dtrain,30,metrics='rmse')\n",
    "    print(i,hist['test-rmse-mean'].iloc[-1])"
   ]
  },
  {
   "cell_type": "markdown",
   "metadata": {},
   "source": [
    "## day of month visit"
   ]
  },
  {
   "cell_type": "code",
   "execution_count": 239,
   "metadata": {
    "collapsed": true
   },
   "outputs": [],
   "source": [
    "tmp = together[together.year==0].groupby(['store','dom'],as_index=False\n",
    "                      )['visitors'].sum().rename(columns={'visitors':'dom_visits'})"
   ]
  },
  {
   "cell_type": "code",
   "execution_count": 240,
   "metadata": {
    "collapsed": true
   },
   "outputs": [],
   "source": [
    "tmp0 = together[together.year==0].groupby(['store'],as_index=False\n",
    "                       )['visitors'].sum().rename(columns={'visitors':'mon_visitors'})"
   ]
  },
  {
   "cell_type": "code",
   "execution_count": 241,
   "metadata": {},
   "outputs": [
    {
     "data": {
      "text/plain": [
       "(25231, 3)"
      ]
     },
     "execution_count": 241,
     "metadata": {},
     "output_type": "execute_result"
    }
   ],
   "source": [
    "tmp.shape"
   ]
  },
  {
   "cell_type": "code",
   "execution_count": 242,
   "metadata": {},
   "outputs": [
    {
     "data": {
      "text/plain": [
       "(819, 2)"
      ]
     },
     "execution_count": 242,
     "metadata": {},
     "output_type": "execute_result"
    }
   ],
   "source": [
    "tmp0.shape"
   ]
  },
  {
   "cell_type": "code",
   "execution_count": 243,
   "metadata": {
    "collapsed": true
   },
   "outputs": [],
   "source": [
    "tmp = pd.merge(tmp,tmp0,how='inner',on='store')"
   ]
  },
  {
   "cell_type": "code",
   "execution_count": 244,
   "metadata": {},
   "outputs": [
    {
     "data": {
      "text/plain": [
       "(25231, 4)"
      ]
     },
     "execution_count": 244,
     "metadata": {},
     "output_type": "execute_result"
    }
   ],
   "source": [
    "tmp.shape"
   ]
  },
  {
   "cell_type": "code",
   "execution_count": 245,
   "metadata": {},
   "outputs": [
    {
     "data": {
      "text/html": [
       "<div>\n",
       "<style>\n",
       "    .dataframe thead tr:only-child th {\n",
       "        text-align: right;\n",
       "    }\n",
       "\n",
       "    .dataframe thead th {\n",
       "        text-align: left;\n",
       "    }\n",
       "\n",
       "    .dataframe tbody tr th {\n",
       "        vertical-align: top;\n",
       "    }\n",
       "</style>\n",
       "<table border=\"1\" class=\"dataframe\">\n",
       "  <thead>\n",
       "    <tr style=\"text-align: right;\">\n",
       "      <th></th>\n",
       "      <th>store</th>\n",
       "      <th>dom</th>\n",
       "      <th>dom_visits</th>\n",
       "      <th>mon_visitors</th>\n",
       "    </tr>\n",
       "  </thead>\n",
       "  <tbody>\n",
       "    <tr>\n",
       "      <th>0</th>\n",
       "      <td>0</td>\n",
       "      <td>0</td>\n",
       "      <td>84</td>\n",
       "      <td>3122</td>\n",
       "    </tr>\n",
       "    <tr>\n",
       "      <th>1</th>\n",
       "      <td>0</td>\n",
       "      <td>1</td>\n",
       "      <td>113</td>\n",
       "      <td>3122</td>\n",
       "    </tr>\n",
       "    <tr>\n",
       "      <th>2</th>\n",
       "      <td>0</td>\n",
       "      <td>2</td>\n",
       "      <td>118</td>\n",
       "      <td>3122</td>\n",
       "    </tr>\n",
       "    <tr>\n",
       "      <th>3</th>\n",
       "      <td>0</td>\n",
       "      <td>3</td>\n",
       "      <td>136</td>\n",
       "      <td>3122</td>\n",
       "    </tr>\n",
       "    <tr>\n",
       "      <th>4</th>\n",
       "      <td>0</td>\n",
       "      <td>4</td>\n",
       "      <td>87</td>\n",
       "      <td>3122</td>\n",
       "    </tr>\n",
       "  </tbody>\n",
       "</table>\n",
       "</div>"
      ],
      "text/plain": [
       "   store  dom  dom_visits  mon_visitors\n",
       "0      0    0          84          3122\n",
       "1      0    1         113          3122\n",
       "2      0    2         118          3122\n",
       "3      0    3         136          3122\n",
       "4      0    4          87          3122"
      ]
     },
     "execution_count": 245,
     "metadata": {},
     "output_type": "execute_result"
    }
   ],
   "source": [
    "tmp.head()"
   ]
  },
  {
   "cell_type": "code",
   "execution_count": 246,
   "metadata": {
    "collapsed": true
   },
   "outputs": [],
   "source": [
    "def get_dom_visit(data):\n",
    "    if data.mon_visitors==0:\n",
    "        return 0\n",
    "    else:\n",
    "        return data.dom_visits/data.mon_visitors"
   ]
  },
  {
   "cell_type": "code",
   "execution_count": 247,
   "metadata": {
    "collapsed": true
   },
   "outputs": [],
   "source": [
    "tmp['dom_pattern_train'] = tmp.apply(get_dom_visit,axis=1)"
   ]
  },
  {
   "cell_type": "code",
   "execution_count": 248,
   "metadata": {},
   "outputs": [
    {
     "data": {
      "text/html": [
       "<div>\n",
       "<style>\n",
       "    .dataframe thead tr:only-child th {\n",
       "        text-align: right;\n",
       "    }\n",
       "\n",
       "    .dataframe thead th {\n",
       "        text-align: left;\n",
       "    }\n",
       "\n",
       "    .dataframe tbody tr th {\n",
       "        vertical-align: top;\n",
       "    }\n",
       "</style>\n",
       "<table border=\"1\" class=\"dataframe\">\n",
       "  <thead>\n",
       "    <tr style=\"text-align: right;\">\n",
       "      <th></th>\n",
       "      <th>store</th>\n",
       "      <th>dom</th>\n",
       "      <th>dom_visits</th>\n",
       "      <th>mon_visitors</th>\n",
       "      <th>dom_pattern_train</th>\n",
       "    </tr>\n",
       "  </thead>\n",
       "  <tbody>\n",
       "    <tr>\n",
       "      <th>0</th>\n",
       "      <td>0</td>\n",
       "      <td>0</td>\n",
       "      <td>84</td>\n",
       "      <td>3122</td>\n",
       "      <td>0.026906</td>\n",
       "    </tr>\n",
       "    <tr>\n",
       "      <th>1</th>\n",
       "      <td>0</td>\n",
       "      <td>1</td>\n",
       "      <td>113</td>\n",
       "      <td>3122</td>\n",
       "      <td>0.036195</td>\n",
       "    </tr>\n",
       "    <tr>\n",
       "      <th>2</th>\n",
       "      <td>0</td>\n",
       "      <td>2</td>\n",
       "      <td>118</td>\n",
       "      <td>3122</td>\n",
       "      <td>0.037796</td>\n",
       "    </tr>\n",
       "    <tr>\n",
       "      <th>3</th>\n",
       "      <td>0</td>\n",
       "      <td>3</td>\n",
       "      <td>136</td>\n",
       "      <td>3122</td>\n",
       "      <td>0.043562</td>\n",
       "    </tr>\n",
       "    <tr>\n",
       "      <th>4</th>\n",
       "      <td>0</td>\n",
       "      <td>4</td>\n",
       "      <td>87</td>\n",
       "      <td>3122</td>\n",
       "      <td>0.027867</td>\n",
       "    </tr>\n",
       "  </tbody>\n",
       "</table>\n",
       "</div>"
      ],
      "text/plain": [
       "   store  dom  dom_visits  mon_visitors  dom_pattern_train\n",
       "0      0    0          84          3122           0.026906\n",
       "1      0    1         113          3122           0.036195\n",
       "2      0    2         118          3122           0.037796\n",
       "3      0    3         136          3122           0.043562\n",
       "4      0    4          87          3122           0.027867"
      ]
     },
     "execution_count": 248,
     "metadata": {},
     "output_type": "execute_result"
    }
   ],
   "source": [
    "tmp.head()"
   ]
  },
  {
   "cell_type": "code",
   "execution_count": 249,
   "metadata": {
    "collapsed": true
   },
   "outputs": [],
   "source": [
    "together = pd.merge(together,tmp[['store','dom','dom_pattern_train']],how='left',on=['store','dom'])"
   ]
  },
  {
   "cell_type": "code",
   "execution_count": 250,
   "metadata": {},
   "outputs": [
    {
     "data": {
      "text/plain": [
       "(284127, 27)"
      ]
     },
     "execution_count": 250,
     "metadata": {},
     "output_type": "execute_result"
    }
   ],
   "source": [
    "together.shape"
   ]
  },
  {
   "cell_type": "code",
   "execution_count": 251,
   "metadata": {
    "collapsed": true
   },
   "outputs": [],
   "source": [
    "together.fillna(-1,inplace=True)"
   ]
  },
  {
   "cell_type": "code",
   "execution_count": 254,
   "metadata": {
    "collapsed": true
   },
   "outputs": [],
   "source": [
    "together.drop('dom_pattern_train_y',axis=1,inplace=True)"
   ]
  },
  {
   "cell_type": "markdown",
   "metadata": {},
   "source": [
    "## another round of xgb test"
   ]
  },
  {
   "cell_type": "code",
   "execution_count": 255,
   "metadata": {},
   "outputs": [
    {
     "name": "stdout",
     "output_type": "stream",
     "text": [
      "0.1 0.497461333333\n",
      "0.15 0.480895333333\n",
      "0.2 0.480688\n"
     ]
    }
   ],
   "source": [
    "train_data = together[train_id]\n",
    "dtrain = xgb.DMatrix(train_data.drop(['id','visitors','air_store_id','visit_date'],axis=1),train_data.visitors.apply(np.log1p))\n",
    "for i in np.arange(0.1,0.25,0.05):\n",
    "    param = {\n",
    "        'eta':i,'max_depth':16,'subsample':0.94,'colsample_bytree':0.73,'lamdba':0.3,'alpha':0.8,\\\n",
    "        'min_child_weight':29,'num_boost_round':100,'objective':'reg:linear','booster':'gbtree',\\\n",
    "        'tree_method':'hist','max_bin':150\n",
    "    }\n",
    "    hist = xgb.cv(param,dtrain,30,metrics='rmse')\n",
    "    print(i,hist['test-rmse-mean'].iloc[-1])"
   ]
  },
  {
   "cell_type": "markdown",
   "metadata": {},
   "source": [
    "## day of year visit"
   ]
  },
  {
   "cell_type": "code",
   "execution_count": 256,
   "metadata": {
    "collapsed": true
   },
   "outputs": [],
   "source": [
    "tmp = together[together.year==0].groupby(['store','doy'],as_index=False\n",
    "                                        )['visitors'].sum().rename(columns={'visitors':'doy_visits'})"
   ]
  },
  {
   "cell_type": "code",
   "execution_count": 257,
   "metadata": {
    "collapsed": true
   },
   "outputs": [],
   "source": [
    "tmp0 = together[together.year==0].groupby(['store'],as_index=False\n",
    "                                         )['visitors'].sum().rename(columns={'visitors':'store_visits'})"
   ]
  },
  {
   "cell_type": "code",
   "execution_count": 258,
   "metadata": {},
   "outputs": [
    {
     "data": {
      "text/plain": [
       "(174535, 3)"
      ]
     },
     "execution_count": 258,
     "metadata": {},
     "output_type": "execute_result"
    }
   ],
   "source": [
    "tmp.shape"
   ]
  },
  {
   "cell_type": "code",
   "execution_count": 259,
   "metadata": {},
   "outputs": [
    {
     "data": {
      "text/plain": [
       "(819, 2)"
      ]
     },
     "execution_count": 259,
     "metadata": {},
     "output_type": "execute_result"
    }
   ],
   "source": [
    "tmp0.shape"
   ]
  },
  {
   "cell_type": "code",
   "execution_count": 260,
   "metadata": {
    "collapsed": true
   },
   "outputs": [],
   "source": [
    "tmp = pd.merge(tmp,tmp0,how='inner',on='store')"
   ]
  },
  {
   "cell_type": "code",
   "execution_count": 261,
   "metadata": {},
   "outputs": [
    {
     "data": {
      "text/plain": [
       "(174535, 4)"
      ]
     },
     "execution_count": 261,
     "metadata": {},
     "output_type": "execute_result"
    }
   ],
   "source": [
    "tmp.shape"
   ]
  },
  {
   "cell_type": "code",
   "execution_count": 262,
   "metadata": {},
   "outputs": [
    {
     "data": {
      "text/html": [
       "<div>\n",
       "<style>\n",
       "    .dataframe thead tr:only-child th {\n",
       "        text-align: right;\n",
       "    }\n",
       "\n",
       "    .dataframe thead th {\n",
       "        text-align: left;\n",
       "    }\n",
       "\n",
       "    .dataframe tbody tr th {\n",
       "        vertical-align: top;\n",
       "    }\n",
       "</style>\n",
       "<table border=\"1\" class=\"dataframe\">\n",
       "  <thead>\n",
       "    <tr style=\"text-align: right;\">\n",
       "      <th></th>\n",
       "      <th>store</th>\n",
       "      <th>doy</th>\n",
       "      <th>doy_visits</th>\n",
       "      <th>store_visits</th>\n",
       "    </tr>\n",
       "  </thead>\n",
       "  <tbody>\n",
       "    <tr>\n",
       "      <th>0</th>\n",
       "      <td>0</td>\n",
       "      <td>182</td>\n",
       "      <td>14</td>\n",
       "      <td>3122</td>\n",
       "    </tr>\n",
       "    <tr>\n",
       "      <th>1</th>\n",
       "      <td>0</td>\n",
       "      <td>183</td>\n",
       "      <td>19</td>\n",
       "      <td>3122</td>\n",
       "    </tr>\n",
       "    <tr>\n",
       "      <th>2</th>\n",
       "      <td>0</td>\n",
       "      <td>184</td>\n",
       "      <td>17</td>\n",
       "      <td>3122</td>\n",
       "    </tr>\n",
       "    <tr>\n",
       "      <th>3</th>\n",
       "      <td>0</td>\n",
       "      <td>186</td>\n",
       "      <td>15</td>\n",
       "      <td>3122</td>\n",
       "    </tr>\n",
       "    <tr>\n",
       "      <th>4</th>\n",
       "      <td>0</td>\n",
       "      <td>187</td>\n",
       "      <td>15</td>\n",
       "      <td>3122</td>\n",
       "    </tr>\n",
       "  </tbody>\n",
       "</table>\n",
       "</div>"
      ],
      "text/plain": [
       "   store  doy  doy_visits  store_visits\n",
       "0      0  182          14          3122\n",
       "1      0  183          19          3122\n",
       "2      0  184          17          3122\n",
       "3      0  186          15          3122\n",
       "4      0  187          15          3122"
      ]
     },
     "execution_count": 262,
     "metadata": {},
     "output_type": "execute_result"
    }
   ],
   "source": [
    "tmp.head()"
   ]
  },
  {
   "cell_type": "code",
   "execution_count": 263,
   "metadata": {
    "collapsed": true
   },
   "outputs": [],
   "source": [
    "def get_doy_visit(data):\n",
    "    if data.store_visits==0:\n",
    "        return 0\n",
    "    else:\n",
    "        return data.doy_visits/data.store_visits"
   ]
  },
  {
   "cell_type": "code",
   "execution_count": 266,
   "metadata": {
    "collapsed": true
   },
   "outputs": [],
   "source": [
    "tmp['doy_pattern_2016'] = tmp.apply(get_doy_visit,axis=1)"
   ]
  },
  {
   "cell_type": "code",
   "execution_count": 267,
   "metadata": {},
   "outputs": [
    {
     "data": {
      "text/html": [
       "<div>\n",
       "<style>\n",
       "    .dataframe thead tr:only-child th {\n",
       "        text-align: right;\n",
       "    }\n",
       "\n",
       "    .dataframe thead th {\n",
       "        text-align: left;\n",
       "    }\n",
       "\n",
       "    .dataframe tbody tr th {\n",
       "        vertical-align: top;\n",
       "    }\n",
       "</style>\n",
       "<table border=\"1\" class=\"dataframe\">\n",
       "  <thead>\n",
       "    <tr style=\"text-align: right;\">\n",
       "      <th></th>\n",
       "      <th>store</th>\n",
       "      <th>doy</th>\n",
       "      <th>doy_visits</th>\n",
       "      <th>store_visits</th>\n",
       "      <th>dom_pattern_2016</th>\n",
       "      <th>doy_pattern_2016</th>\n",
       "    </tr>\n",
       "  </thead>\n",
       "  <tbody>\n",
       "    <tr>\n",
       "      <th>0</th>\n",
       "      <td>0</td>\n",
       "      <td>182</td>\n",
       "      <td>14</td>\n",
       "      <td>3122</td>\n",
       "      <td>0.004484</td>\n",
       "      <td>0.004484</td>\n",
       "    </tr>\n",
       "    <tr>\n",
       "      <th>1</th>\n",
       "      <td>0</td>\n",
       "      <td>183</td>\n",
       "      <td>19</td>\n",
       "      <td>3122</td>\n",
       "      <td>0.006086</td>\n",
       "      <td>0.006086</td>\n",
       "    </tr>\n",
       "    <tr>\n",
       "      <th>2</th>\n",
       "      <td>0</td>\n",
       "      <td>184</td>\n",
       "      <td>17</td>\n",
       "      <td>3122</td>\n",
       "      <td>0.005445</td>\n",
       "      <td>0.005445</td>\n",
       "    </tr>\n",
       "    <tr>\n",
       "      <th>3</th>\n",
       "      <td>0</td>\n",
       "      <td>186</td>\n",
       "      <td>15</td>\n",
       "      <td>3122</td>\n",
       "      <td>0.004805</td>\n",
       "      <td>0.004805</td>\n",
       "    </tr>\n",
       "    <tr>\n",
       "      <th>4</th>\n",
       "      <td>0</td>\n",
       "      <td>187</td>\n",
       "      <td>15</td>\n",
       "      <td>3122</td>\n",
       "      <td>0.004805</td>\n",
       "      <td>0.004805</td>\n",
       "    </tr>\n",
       "  </tbody>\n",
       "</table>\n",
       "</div>"
      ],
      "text/plain": [
       "   store  doy  doy_visits  store_visits  dom_pattern_2016  doy_pattern_2016\n",
       "0      0  182          14          3122          0.004484          0.004484\n",
       "1      0  183          19          3122          0.006086          0.006086\n",
       "2      0  184          17          3122          0.005445          0.005445\n",
       "3      0  186          15          3122          0.004805          0.004805\n",
       "4      0  187          15          3122          0.004805          0.004805"
      ]
     },
     "execution_count": 267,
     "metadata": {},
     "output_type": "execute_result"
    }
   ],
   "source": [
    "tmp.head()"
   ]
  },
  {
   "cell_type": "code",
   "execution_count": 268,
   "metadata": {
    "collapsed": true
   },
   "outputs": [],
   "source": [
    "together = pd.merge(together,tmp[['store','doy','doy_pattern_2016']],how='left',on=['store','doy'])"
   ]
  },
  {
   "cell_type": "code",
   "execution_count": 269,
   "metadata": {},
   "outputs": [
    {
     "data": {
      "text/plain": [
       "(284127, 27)"
      ]
     },
     "execution_count": 269,
     "metadata": {},
     "output_type": "execute_result"
    }
   ],
   "source": [
    "together.shape"
   ]
  },
  {
   "cell_type": "code",
   "execution_count": 270,
   "metadata": {
    "collapsed": true
   },
   "outputs": [],
   "source": [
    "together.fillna(-1,inplace=True)"
   ]
  },
  {
   "cell_type": "markdown",
   "metadata": {},
   "source": [
    "## another round of xgb test"
   ]
  },
  {
   "cell_type": "code",
   "execution_count": 273,
   "metadata": {},
   "outputs": [
    {
     "name": "stdout",
     "output_type": "stream",
     "text": [
      "0.1 0.318103\n",
      "0.15 0.285632333333\n",
      "0.2 0.281223333333\n",
      "0.25 0.283435666667\n",
      "0.3 0.287309\n",
      "0.35 0.290908\n",
      "0.4 0.295191666667\n",
      "0.45 0.301708\n"
     ]
    }
   ],
   "source": [
    "train_data = together[train_id]\n",
    "dtrain = xgb.DMatrix(train_data.drop(['id','visitors','air_store_id','visit_date'],axis=1),train_data.visitors.apply(np.log1p))\n",
    "for i in np.arange(0.1,0.5,0.05):\n",
    "    param = {\n",
    "        'eta':i,'max_depth':16,'subsample':0.94,'colsample_bytree':0.73,'lamdba':0.3,'alpha':0.8,\\\n",
    "        'min_child_weight':29,'num_boost_round':100,'objective':'reg:linear','booster':'gbtree',\\\n",
    "        'tree_method':'hist','max_bin':150\n",
    "    }\n",
    "    hist = xgb.cv(param,dtrain,30,metrics='rmse')\n",
    "    print(i,hist['test-rmse-mean'].iloc[-1])"
   ]
  },
  {
   "cell_type": "code",
   "execution_count": 275,
   "metadata": {},
   "outputs": [
    {
     "name": "stdout",
     "output_type": "stream",
     "text": [
      "50 0.277734333333\n",
      "100 0.279605666667\n",
      "150 0.282549333333\n",
      "200 0.284724\n",
      "250 0.286304333333\n",
      "300 0.287366333333\n",
      "350 0.288110333333\n",
      "400 0.288643\n",
      "450 0.289021\n"
     ]
    }
   ],
   "source": [
    "for i in np.arange(50,500,50):\n",
    "    param = {\n",
    "        'eta':0.2,'max_depth':16,'subsample':0.94,'colsample_bytree':0.73,'lamdba':0.3,'alpha':0.8,\\\n",
    "        'min_child_weight':29,'num_boost_round':100,'objective':'reg:linear','booster':'gbtree',\\\n",
    "        'tree_method':'hist','max_bin':150\n",
    "    }\n",
    "    hist = xgb.cv(param,dtrain,i,metrics='rmse')\n",
    "    print(i,hist['test-rmse-mean'].iloc[-1])"
   ]
  },
  {
   "cell_type": "markdown",
   "metadata": {},
   "source": [
    "## train "
   ]
  },
  {
   "cell_type": "code",
   "execution_count": 277,
   "metadata": {
    "collapsed": true
   },
   "outputs": [],
   "source": [
    "test_id = together.id.apply(lambda x:True if x!=1.0 else False)"
   ]
  },
  {
   "cell_type": "code",
   "execution_count": 278,
   "metadata": {
    "collapsed": true
   },
   "outputs": [],
   "source": [
    "test_data = together[test_id]"
   ]
  },
  {
   "cell_type": "code",
   "execution_count": 279,
   "metadata": {},
   "outputs": [
    {
     "data": {
      "text/plain": [
       "(32019, 27)"
      ]
     },
     "execution_count": 279,
     "metadata": {},
     "output_type": "execute_result"
    }
   ],
   "source": [
    "test_data.shape"
   ]
  },
  {
   "cell_type": "code",
   "execution_count": 280,
   "metadata": {
    "collapsed": true
   },
   "outputs": [],
   "source": [
    "dtest = xgb.DMatrix(test_data.drop(['id','visitors','air_store_id','visit_date'],axis=1))"
   ]
  },
  {
   "cell_type": "code",
   "execution_count": 300,
   "metadata": {
    "collapsed": true
   },
   "outputs": [],
   "source": [
    "dtrain = xgb.DMatrix(train_data.drop(['id','visitors','air_store_id','visit_date'],axis=1),train_data.visitors)"
   ]
  },
  {
   "cell_type": "code",
   "execution_count": 301,
   "metadata": {
    "collapsed": true
   },
   "outputs": [],
   "source": [
    "param = {\n",
    "        'eta':0.2,'max_depth':16,'subsample':0.94,'colsample_bytree':0.73,'lamdba':0.3,'alpha':0.8,\\\n",
    "        'min_child_weight':29,'num_boost_round':50,'objective':'reg:linear','booster':'gbtree',\\\n",
    "        'tree_method':'hist','max_bin':150\n",
    "    }\n",
    "model = xgb.train(param,dtrain)"
   ]
  },
  {
   "cell_type": "code",
   "execution_count": 302,
   "metadata": {
    "collapsed": true
   },
   "outputs": [],
   "source": [
    "preds = model.predict(dtest)"
   ]
  },
  {
   "cell_type": "code",
   "execution_count": 292,
   "metadata": {
    "collapsed": true
   },
   "outputs": [],
   "source": [
    "def retrive_y(data):\n",
    "    return np.exp(data)-1"
   ]
  },
  {
   "cell_type": "code",
   "execution_count": 284,
   "metadata": {},
   "outputs": [
    {
     "data": {
      "text/html": [
       "<div>\n",
       "<style>\n",
       "    .dataframe thead tr:only-child th {\n",
       "        text-align: right;\n",
       "    }\n",
       "\n",
       "    .dataframe thead th {\n",
       "        text-align: left;\n",
       "    }\n",
       "\n",
       "    .dataframe tbody tr th {\n",
       "        vertical-align: top;\n",
       "    }\n",
       "</style>\n",
       "<table border=\"1\" class=\"dataframe\">\n",
       "  <thead>\n",
       "    <tr style=\"text-align: right;\">\n",
       "      <th></th>\n",
       "      <th>air_store_id</th>\n",
       "      <th>area</th>\n",
       "      <th>dom</th>\n",
       "      <th>doq</th>\n",
       "      <th>dow</th>\n",
       "      <th>doy</th>\n",
       "      <th>gen</th>\n",
       "      <th>holi</th>\n",
       "      <th>id</th>\n",
       "      <th>month</th>\n",
       "      <th>...</th>\n",
       "      <th>store_pop</th>\n",
       "      <th>store_genre_pop</th>\n",
       "      <th>genre_pop</th>\n",
       "      <th>store_pop_monthly</th>\n",
       "      <th>last_genre_pop</th>\n",
       "      <th>last_month_comp</th>\n",
       "      <th>last_quarter_comp</th>\n",
       "      <th>dow_pattern_2016</th>\n",
       "      <th>dom_pattern_train_x</th>\n",
       "      <th>doy_pattern_2016</th>\n",
       "    </tr>\n",
       "  </thead>\n",
       "  <tbody>\n",
       "    <tr>\n",
       "      <th>2371</th>\n",
       "      <td>air_ba937bf13d40fb24</td>\n",
       "      <td>33</td>\n",
       "      <td>22</td>\n",
       "      <td>22</td>\n",
       "      <td>6</td>\n",
       "      <td>112</td>\n",
       "      <td>13</td>\n",
       "      <td>0</td>\n",
       "      <td>air_ba937bf13d40fb24_2017-04-23</td>\n",
       "      <td>3</td>\n",
       "      <td>...</td>\n",
       "      <td>0.030911</td>\n",
       "      <td>0.176627</td>\n",
       "      <td>0.175009</td>\n",
       "      <td>0.018037</td>\n",
       "      <td>0.168671</td>\n",
       "      <td>0.106936</td>\n",
       "      <td>0.113203</td>\n",
       "      <td>0.004939</td>\n",
       "      <td>0.032555</td>\n",
       "      <td>0.005604</td>\n",
       "    </tr>\n",
       "    <tr>\n",
       "      <th>2372</th>\n",
       "      <td>air_ba937bf13d40fb24</td>\n",
       "      <td>33</td>\n",
       "      <td>23</td>\n",
       "      <td>23</td>\n",
       "      <td>0</td>\n",
       "      <td>113</td>\n",
       "      <td>13</td>\n",
       "      <td>0</td>\n",
       "      <td>air_ba937bf13d40fb24_2017-04-24</td>\n",
       "      <td>3</td>\n",
       "      <td>...</td>\n",
       "      <td>0.030911</td>\n",
       "      <td>0.176627</td>\n",
       "      <td>0.175009</td>\n",
       "      <td>0.018037</td>\n",
       "      <td>0.168671</td>\n",
       "      <td>0.106936</td>\n",
       "      <td>0.113203</td>\n",
       "      <td>0.088011</td>\n",
       "      <td>0.031881</td>\n",
       "      <td>0.003923</td>\n",
       "    </tr>\n",
       "    <tr>\n",
       "      <th>2373</th>\n",
       "      <td>air_ba937bf13d40fb24</td>\n",
       "      <td>33</td>\n",
       "      <td>24</td>\n",
       "      <td>24</td>\n",
       "      <td>1</td>\n",
       "      <td>114</td>\n",
       "      <td>13</td>\n",
       "      <td>0</td>\n",
       "      <td>air_ba937bf13d40fb24_2017-04-25</td>\n",
       "      <td>3</td>\n",
       "      <td>...</td>\n",
       "      <td>0.030911</td>\n",
       "      <td>0.176627</td>\n",
       "      <td>0.175009</td>\n",
       "      <td>0.018037</td>\n",
       "      <td>0.168671</td>\n",
       "      <td>0.106936</td>\n",
       "      <td>0.113203</td>\n",
       "      <td>0.129322</td>\n",
       "      <td>0.037270</td>\n",
       "      <td>-1.000000</td>\n",
       "    </tr>\n",
       "    <tr>\n",
       "      <th>2374</th>\n",
       "      <td>air_ba937bf13d40fb24</td>\n",
       "      <td>33</td>\n",
       "      <td>25</td>\n",
       "      <td>25</td>\n",
       "      <td>2</td>\n",
       "      <td>115</td>\n",
       "      <td>13</td>\n",
       "      <td>0</td>\n",
       "      <td>air_ba937bf13d40fb24_2017-04-26</td>\n",
       "      <td>3</td>\n",
       "      <td>...</td>\n",
       "      <td>0.030911</td>\n",
       "      <td>0.176627</td>\n",
       "      <td>0.175009</td>\n",
       "      <td>0.018037</td>\n",
       "      <td>0.168671</td>\n",
       "      <td>0.106936</td>\n",
       "      <td>0.113203</td>\n",
       "      <td>0.171307</td>\n",
       "      <td>0.031881</td>\n",
       "      <td>0.004063</td>\n",
       "    </tr>\n",
       "    <tr>\n",
       "      <th>2375</th>\n",
       "      <td>air_ba937bf13d40fb24</td>\n",
       "      <td>33</td>\n",
       "      <td>26</td>\n",
       "      <td>26</td>\n",
       "      <td>3</td>\n",
       "      <td>116</td>\n",
       "      <td>13</td>\n",
       "      <td>0</td>\n",
       "      <td>air_ba937bf13d40fb24_2017-04-27</td>\n",
       "      <td>3</td>\n",
       "      <td>...</td>\n",
       "      <td>0.030911</td>\n",
       "      <td>0.176627</td>\n",
       "      <td>0.175009</td>\n",
       "      <td>0.018037</td>\n",
       "      <td>0.168671</td>\n",
       "      <td>0.106936</td>\n",
       "      <td>0.113203</td>\n",
       "      <td>0.148069</td>\n",
       "      <td>0.032443</td>\n",
       "      <td>0.002662</td>\n",
       "    </tr>\n",
       "  </tbody>\n",
       "</table>\n",
       "<p>5 rows × 27 columns</p>\n",
       "</div>"
      ],
      "text/plain": [
       "              air_store_id  area  dom  doq  dow  doy  gen  holi  \\\n",
       "2371  air_ba937bf13d40fb24    33   22   22    6  112   13     0   \n",
       "2372  air_ba937bf13d40fb24    33   23   23    0  113   13     0   \n",
       "2373  air_ba937bf13d40fb24    33   24   24    1  114   13     0   \n",
       "2374  air_ba937bf13d40fb24    33   25   25    2  115   13     0   \n",
       "2375  air_ba937bf13d40fb24    33   26   26    3  116   13     0   \n",
       "\n",
       "                                   id  month        ...         store_pop  \\\n",
       "2371  air_ba937bf13d40fb24_2017-04-23      3        ...          0.030911   \n",
       "2372  air_ba937bf13d40fb24_2017-04-24      3        ...          0.030911   \n",
       "2373  air_ba937bf13d40fb24_2017-04-25      3        ...          0.030911   \n",
       "2374  air_ba937bf13d40fb24_2017-04-26      3        ...          0.030911   \n",
       "2375  air_ba937bf13d40fb24_2017-04-27      3        ...          0.030911   \n",
       "\n",
       "      store_genre_pop genre_pop  store_pop_monthly  last_genre_pop  \\\n",
       "2371         0.176627  0.175009           0.018037        0.168671   \n",
       "2372         0.176627  0.175009           0.018037        0.168671   \n",
       "2373         0.176627  0.175009           0.018037        0.168671   \n",
       "2374         0.176627  0.175009           0.018037        0.168671   \n",
       "2375         0.176627  0.175009           0.018037        0.168671   \n",
       "\n",
       "      last_month_comp  last_quarter_comp  dow_pattern_2016  \\\n",
       "2371         0.106936           0.113203          0.004939   \n",
       "2372         0.106936           0.113203          0.088011   \n",
       "2373         0.106936           0.113203          0.129322   \n",
       "2374         0.106936           0.113203          0.171307   \n",
       "2375         0.106936           0.113203          0.148069   \n",
       "\n",
       "      dom_pattern_train_x  doy_pattern_2016  \n",
       "2371             0.032555          0.005604  \n",
       "2372             0.031881          0.003923  \n",
       "2373             0.037270         -1.000000  \n",
       "2374             0.031881          0.004063  \n",
       "2375             0.032443          0.002662  \n",
       "\n",
       "[5 rows x 27 columns]"
      ]
     },
     "execution_count": 284,
     "metadata": {},
     "output_type": "execute_result"
    }
   ],
   "source": [
    "test_data.head()"
   ]
  },
  {
   "cell_type": "code",
   "execution_count": 303,
   "metadata": {
    "collapsed": true
   },
   "outputs": [],
   "source": [
    "result = pd.concat([test_data[['id']].reset_index(drop=True),pd.Series(preds,name='visitors')],axis=1)"
   ]
  },
  {
   "cell_type": "code",
   "execution_count": 304,
   "metadata": {},
   "outputs": [
    {
     "data": {
      "text/html": [
       "<div>\n",
       "<style>\n",
       "    .dataframe thead tr:only-child th {\n",
       "        text-align: right;\n",
       "    }\n",
       "\n",
       "    .dataframe thead th {\n",
       "        text-align: left;\n",
       "    }\n",
       "\n",
       "    .dataframe tbody tr th {\n",
       "        vertical-align: top;\n",
       "    }\n",
       "</style>\n",
       "<table border=\"1\" class=\"dataframe\">\n",
       "  <thead>\n",
       "    <tr style=\"text-align: right;\">\n",
       "      <th></th>\n",
       "      <th>id</th>\n",
       "      <th>visitors</th>\n",
       "    </tr>\n",
       "  </thead>\n",
       "  <tbody>\n",
       "    <tr>\n",
       "      <th>0</th>\n",
       "      <td>air_ba937bf13d40fb24_2017-04-23</td>\n",
       "      <td>-0.461857</td>\n",
       "    </tr>\n",
       "    <tr>\n",
       "      <th>1</th>\n",
       "      <td>air_ba937bf13d40fb24_2017-04-24</td>\n",
       "      <td>0.618590</td>\n",
       "    </tr>\n",
       "    <tr>\n",
       "      <th>2</th>\n",
       "      <td>air_ba937bf13d40fb24_2017-04-25</td>\n",
       "      <td>3.138249</td>\n",
       "    </tr>\n",
       "    <tr>\n",
       "      <th>3</th>\n",
       "      <td>air_ba937bf13d40fb24_2017-04-26</td>\n",
       "      <td>5.638799</td>\n",
       "    </tr>\n",
       "    <tr>\n",
       "      <th>4</th>\n",
       "      <td>air_ba937bf13d40fb24_2017-04-27</td>\n",
       "      <td>3.311872</td>\n",
       "    </tr>\n",
       "  </tbody>\n",
       "</table>\n",
       "</div>"
      ],
      "text/plain": [
       "                                id  visitors\n",
       "0  air_ba937bf13d40fb24_2017-04-23 -0.461857\n",
       "1  air_ba937bf13d40fb24_2017-04-24  0.618590\n",
       "2  air_ba937bf13d40fb24_2017-04-25  3.138249\n",
       "3  air_ba937bf13d40fb24_2017-04-26  5.638799\n",
       "4  air_ba937bf13d40fb24_2017-04-27  3.311872"
      ]
     },
     "execution_count": 304,
     "metadata": {},
     "output_type": "execute_result"
    }
   ],
   "source": [
    "result.head()"
   ]
  },
  {
   "cell_type": "code",
   "execution_count": 307,
   "metadata": {
    "collapsed": true
   },
   "outputs": [],
   "source": [
    "def no_negative(data):\n",
    "    if data.visitors<0:\n",
    "        return 0\n",
    "    else:\n",
    "        return data.visitors"
   ]
  },
  {
   "cell_type": "code",
   "execution_count": 308,
   "metadata": {
    "collapsed": true
   },
   "outputs": [],
   "source": [
    "result['visitors'] = result.apply(no_negative,axis=1)"
   ]
  },
  {
   "cell_type": "code",
   "execution_count": 309,
   "metadata": {},
   "outputs": [
    {
     "data": {
      "text/html": [
       "<div>\n",
       "<style>\n",
       "    .dataframe thead tr:only-child th {\n",
       "        text-align: right;\n",
       "    }\n",
       "\n",
       "    .dataframe thead th {\n",
       "        text-align: left;\n",
       "    }\n",
       "\n",
       "    .dataframe tbody tr th {\n",
       "        vertical-align: top;\n",
       "    }\n",
       "</style>\n",
       "<table border=\"1\" class=\"dataframe\">\n",
       "  <thead>\n",
       "    <tr style=\"text-align: right;\">\n",
       "      <th></th>\n",
       "      <th>id</th>\n",
       "      <th>visitors</th>\n",
       "    </tr>\n",
       "  </thead>\n",
       "  <tbody>\n",
       "    <tr>\n",
       "      <th>0</th>\n",
       "      <td>air_ba937bf13d40fb24_2017-04-23</td>\n",
       "      <td>0.000000</td>\n",
       "    </tr>\n",
       "    <tr>\n",
       "      <th>1</th>\n",
       "      <td>air_ba937bf13d40fb24_2017-04-24</td>\n",
       "      <td>0.618590</td>\n",
       "    </tr>\n",
       "    <tr>\n",
       "      <th>2</th>\n",
       "      <td>air_ba937bf13d40fb24_2017-04-25</td>\n",
       "      <td>3.138249</td>\n",
       "    </tr>\n",
       "    <tr>\n",
       "      <th>3</th>\n",
       "      <td>air_ba937bf13d40fb24_2017-04-26</td>\n",
       "      <td>5.638799</td>\n",
       "    </tr>\n",
       "    <tr>\n",
       "      <th>4</th>\n",
       "      <td>air_ba937bf13d40fb24_2017-04-27</td>\n",
       "      <td>3.311872</td>\n",
       "    </tr>\n",
       "  </tbody>\n",
       "</table>\n",
       "</div>"
      ],
      "text/plain": [
       "                                id  visitors\n",
       "0  air_ba937bf13d40fb24_2017-04-23  0.000000\n",
       "1  air_ba937bf13d40fb24_2017-04-24  0.618590\n",
       "2  air_ba937bf13d40fb24_2017-04-25  3.138249\n",
       "3  air_ba937bf13d40fb24_2017-04-26  5.638799\n",
       "4  air_ba937bf13d40fb24_2017-04-27  3.311872"
      ]
     },
     "execution_count": 309,
     "metadata": {},
     "output_type": "execute_result"
    }
   ],
   "source": [
    "result.head()"
   ]
  },
  {
   "cell_type": "code",
   "execution_count": 305,
   "metadata": {},
   "outputs": [
    {
     "data": {
      "text/plain": [
       "37.614086"
      ]
     },
     "execution_count": 305,
     "metadata": {},
     "output_type": "execute_result"
    }
   ],
   "source": [
    "result.visitors.max()"
   ]
  },
  {
   "cell_type": "code",
   "execution_count": 291,
   "metadata": {},
   "outputs": [
    {
     "data": {
      "text/plain": [
       "1.968386173248291"
      ]
     },
     "execution_count": 291,
     "metadata": {},
     "output_type": "execute_result"
    }
   ],
   "source": [
    "np.exp(max(preds))-1"
   ]
  },
  {
   "cell_type": "code",
   "execution_count": 296,
   "metadata": {},
   "outputs": [
    {
     "data": {
      "text/plain": [
       "1.9683862"
      ]
     },
     "execution_count": 296,
     "metadata": {},
     "output_type": "execute_result"
    }
   ],
   "source": [
    "result.visitors.max()"
   ]
  },
  {
   "cell_type": "code",
   "execution_count": 297,
   "metadata": {
    "collapsed": true
   },
   "outputs": [],
   "source": [
    "just_see = model.predict(dtrain)"
   ]
  },
  {
   "cell_type": "code",
   "execution_count": 299,
   "metadata": {},
   "outputs": [
    {
     "data": {
      "text/plain": [
       "76.793754577636719"
      ]
     },
     "execution_count": 299,
     "metadata": {},
     "output_type": "execute_result"
    }
   ],
   "source": [
    "np.exp(just_see.max())-1"
   ]
  },
  {
   "cell_type": "code",
   "execution_count": 310,
   "metadata": {
    "collapsed": true
   },
   "outputs": [],
   "source": [
    "result.to_csv('sub2.csv',index=False)"
   ]
  },
  {
   "cell_type": "markdown",
   "metadata": {},
   "source": [
    "## back to digging"
   ]
  },
  {
   "cell_type": "code",
   "execution_count": 311,
   "metadata": {},
   "outputs": [
    {
     "data": {
      "text/plain": [
       "Index(['air_store_id', 'area', 'dom', 'doq', 'dow', 'doy', 'gen', 'holi', 'id',\n",
       "       'month', 'quarter', 'store', 'visit_date', 'visitors', 'year',\n",
       "       'last_quarter_gen_pop', 'last_quarter_s_pop', 'store_pop',\n",
       "       'store_genre_pop', 'genre_pop', 'store_pop_monthly', 'last_genre_pop',\n",
       "       'last_month_comp', 'last_quarter_comp', 'dow_pattern_2016',\n",
       "       'dom_pattern_train_x', 'doy_pattern_2016'],\n",
       "      dtype='object')"
      ]
     },
     "execution_count": 311,
     "metadata": {},
     "output_type": "execute_result"
    }
   ],
   "source": [
    "together.columns"
   ]
  },
  {
   "cell_type": "code",
   "execution_count": 313,
   "metadata": {},
   "outputs": [
    {
     "name": "stdout",
     "output_type": "stream",
     "text": [
      "0.1 0.497461333333\n",
      "0.15 0.480895333333\n",
      "0.2 0.480688\n",
      "0.25 0.482984666667\n",
      "0.3 0.487492666667\n",
      "0.35 0.492163666667\n",
      "0.4 0.497231\n",
      "0.45 0.503901666667\n"
     ]
    }
   ],
   "source": [
    "train_data = together[train_id]\n",
    "dtrain = xgb.DMatrix(train_data.drop(['id','visitors','air_store_id','visit_date','doy_pattern_2016',\n",
    "                                     ],axis=1),train_data.visitors.apply(np.log1p))\n",
    "for i in np.arange(0.1,0.5,0.05):\n",
    "    param = {\n",
    "        'eta':i,'max_depth':16,'subsample':0.94,'colsample_bytree':0.73,'lamdba':0.3,'alpha':0.8,\\\n",
    "        'min_child_weight':29,'num_boost_round':100,'objective':'reg:linear','booster':'gbtree',\\\n",
    "        'tree_method':'hist','max_bin':150\n",
    "    }\n",
    "    hist = xgb.cv(param,dtrain,30,metrics='rmse')\n",
    "    print(i,hist['test-rmse-mean'].iloc[-1])"
   ]
  },
  {
   "cell_type": "code",
   "execution_count": 316,
   "metadata": {},
   "outputs": [
    {
     "data": {
      "text/plain": [
       "Index(['air_store_id', 'area', 'dom', 'doq', 'dow', 'doy', 'gen', 'holi', 'id',\n",
       "       'month', 'quarter', 'store', 'visit_date', 'visitors', 'year',\n",
       "       'last_quarter_gen_pop', 'last_quarter_s_pop', 'store_pop',\n",
       "       'store_genre_pop', 'genre_pop', 'store_pop_monthly', 'last_genre_pop',\n",
       "       'last_month_comp', 'last_quarter_comp', 'dow_pattern_2016',\n",
       "       'dom_pattern_train_x', 'doy_pattern_2016'],\n",
       "      dtype='object')"
      ]
     },
     "execution_count": 316,
     "metadata": {},
     "output_type": "execute_result"
    }
   ],
   "source": [
    "together.columns"
   ]
  },
  {
   "cell_type": "code",
   "execution_count": 329,
   "metadata": {
    "collapsed": true
   },
   "outputs": [],
   "source": [
    "dtest = xgb.DMatrix(test_data.drop(['id','visitors','air_store_id','visit_date','doy_pattern_2016',\n",
    "                                   'dom_pattern_train_x','dow_pattern_2016',\n",
    "                                   'store_genre_pop', 'genre_pop', 'store_pop_monthly',\n",
    "                                   'last_genre_pop',\n",
    "       'last_month_comp', 'last_quarter_comp'],axis=1))\n",
    "dtrain = xgb.DMatrix(train_data.drop(['id','visitors','air_store_id','visit_date','doy_pattern_2016',\n",
    "                                     'dom_pattern_train_x','dow_pattern_2016',\n",
    "                                     'store_genre_pop', 'genre_pop', \n",
    "                                      'store_pop_monthly',\n",
    "                                     'last_genre_pop',\n",
    "       'last_month_comp', 'last_quarter_comp'],axis=1),train_data.visitors)"
   ]
  },
  {
   "cell_type": "code",
   "execution_count": 330,
   "metadata": {},
   "outputs": [
    {
     "data": {
      "text/html": [
       "<div>\n",
       "<style>\n",
       "    .dataframe thead tr:only-child th {\n",
       "        text-align: right;\n",
       "    }\n",
       "\n",
       "    .dataframe thead th {\n",
       "        text-align: left;\n",
       "    }\n",
       "\n",
       "    .dataframe tbody tr th {\n",
       "        vertical-align: top;\n",
       "    }\n",
       "</style>\n",
       "<table border=\"1\" class=\"dataframe\">\n",
       "  <thead>\n",
       "    <tr style=\"text-align: right;\">\n",
       "      <th></th>\n",
       "      <th>id</th>\n",
       "      <th>visitors</th>\n",
       "    </tr>\n",
       "  </thead>\n",
       "  <tbody>\n",
       "    <tr>\n",
       "      <th>0</th>\n",
       "      <td>air_ba937bf13d40fb24_2017-04-23</td>\n",
       "      <td>-1.118583</td>\n",
       "    </tr>\n",
       "    <tr>\n",
       "      <th>1</th>\n",
       "      <td>air_ba937bf13d40fb24_2017-04-24</td>\n",
       "      <td>-0.073194</td>\n",
       "    </tr>\n",
       "    <tr>\n",
       "      <th>2</th>\n",
       "      <td>air_ba937bf13d40fb24_2017-04-25</td>\n",
       "      <td>-0.069514</td>\n",
       "    </tr>\n",
       "    <tr>\n",
       "      <th>3</th>\n",
       "      <td>air_ba937bf13d40fb24_2017-04-26</td>\n",
       "      <td>-0.103742</td>\n",
       "    </tr>\n",
       "    <tr>\n",
       "      <th>4</th>\n",
       "      <td>air_ba937bf13d40fb24_2017-04-27</td>\n",
       "      <td>-0.109151</td>\n",
       "    </tr>\n",
       "  </tbody>\n",
       "</table>\n",
       "</div>"
      ],
      "text/plain": [
       "                                id  visitors\n",
       "0  air_ba937bf13d40fb24_2017-04-23 -1.118583\n",
       "1  air_ba937bf13d40fb24_2017-04-24 -0.073194\n",
       "2  air_ba937bf13d40fb24_2017-04-25 -0.069514\n",
       "3  air_ba937bf13d40fb24_2017-04-26 -0.103742\n",
       "4  air_ba937bf13d40fb24_2017-04-27 -0.109151"
      ]
     },
     "execution_count": 330,
     "metadata": {},
     "output_type": "execute_result"
    }
   ],
   "source": [
    "param = {\n",
    "        'eta':0.2,'max_depth':16,'subsample':0.94,'colsample_bytree':0.73,'lamdba':0.3,'alpha':0.8,\\\n",
    "        'min_child_weight':29,'num_boost_round':50,'objective':'reg:linear','booster':'gbtree',\\\n",
    "        'tree_method':'hist','max_bin':150\n",
    "    }\n",
    "model = xgb.train(param,dtrain)\n",
    "preds = model.predict(dtest)\n",
    "result = pd.concat([test_data[['id']].reset_index(drop=True),pd.Series(preds,name='visitors')],axis=1)\n",
    "result.head()"
   ]
  },
  {
   "cell_type": "code",
   "execution_count": 331,
   "metadata": {},
   "outputs": [
    {
     "data": {
      "text/html": [
       "<div>\n",
       "<style>\n",
       "    .dataframe thead tr:only-child th {\n",
       "        text-align: right;\n",
       "    }\n",
       "\n",
       "    .dataframe thead th {\n",
       "        text-align: left;\n",
       "    }\n",
       "\n",
       "    .dataframe tbody tr th {\n",
       "        vertical-align: top;\n",
       "    }\n",
       "</style>\n",
       "<table border=\"1\" class=\"dataframe\">\n",
       "  <thead>\n",
       "    <tr style=\"text-align: right;\">\n",
       "      <th></th>\n",
       "      <th>id</th>\n",
       "      <th>visitors</th>\n",
       "    </tr>\n",
       "  </thead>\n",
       "  <tbody>\n",
       "    <tr>\n",
       "      <th>4524</th>\n",
       "      <td>air_00a91d42b08b08d9_2017-04-23</td>\n",
       "      <td>0.334315</td>\n",
       "    </tr>\n",
       "  </tbody>\n",
       "</table>\n",
       "</div>"
      ],
      "text/plain": [
       "                                   id  visitors\n",
       "4524  air_00a91d42b08b08d9_2017-04-23  0.334315"
      ]
     },
     "execution_count": 331,
     "metadata": {},
     "output_type": "execute_result"
    }
   ],
   "source": [
    "result[result.id=='air_00a91d42b08b08d9_2017-04-23']"
   ]
  },
  {
   "cell_type": "markdown",
   "metadata": {},
   "source": [
    "## merge with kernel data"
   ]
  },
  {
   "cell_type": "code",
   "execution_count": 332,
   "metadata": {
    "collapsed": true
   },
   "outputs": [],
   "source": [
    "kernel_train = pd.read_csv('kernel_train.csv')\n",
    "kernel_test = pd.read_csv('kernel_test.csv')"
   ]
  },
  {
   "cell_type": "code",
   "execution_count": 333,
   "metadata": {},
   "outputs": [
    {
     "data": {
      "text/html": [
       "<div>\n",
       "<style>\n",
       "    .dataframe thead tr:only-child th {\n",
       "        text-align: right;\n",
       "    }\n",
       "\n",
       "    .dataframe thead th {\n",
       "        text-align: left;\n",
       "    }\n",
       "\n",
       "    .dataframe tbody tr th {\n",
       "        vertical-align: top;\n",
       "    }\n",
       "</style>\n",
       "<table border=\"1\" class=\"dataframe\">\n",
       "  <thead>\n",
       "    <tr style=\"text-align: right;\">\n",
       "      <th></th>\n",
       "      <th>air_store_id</th>\n",
       "      <th>visit_date</th>\n",
       "      <th>visitors</th>\n",
       "      <th>dow</th>\n",
       "      <th>year</th>\n",
       "      <th>month</th>\n",
       "      <th>day_of_week</th>\n",
       "      <th>holiday_flg</th>\n",
       "      <th>min_visitors</th>\n",
       "      <th>mean_visitors</th>\n",
       "      <th>...</th>\n",
       "      <th>rv2_y</th>\n",
       "      <th>id</th>\n",
       "      <th>total_reserv_sum</th>\n",
       "      <th>total_reserv_mean</th>\n",
       "      <th>total_reserv_dt_diff_mean</th>\n",
       "      <th>date_int</th>\n",
       "      <th>var_max_lat</th>\n",
       "      <th>var_max_long</th>\n",
       "      <th>lon_plus_lat</th>\n",
       "      <th>air_store_id2</th>\n",
       "    </tr>\n",
       "  </thead>\n",
       "  <tbody>\n",
       "    <tr>\n",
       "      <th>0</th>\n",
       "      <td>air_ba937bf13d40fb24</td>\n",
       "      <td>2016-01-13</td>\n",
       "      <td>25</td>\n",
       "      <td>2</td>\n",
       "      <td>2016</td>\n",
       "      <td>1</td>\n",
       "      <td>6</td>\n",
       "      <td>0</td>\n",
       "      <td>7.0</td>\n",
       "      <td>23.84375</td>\n",
       "      <td>...</td>\n",
       "      <td>-1.0</td>\n",
       "      <td>air_ba937bf13d40fb24_2016-01-13</td>\n",
       "      <td>-1.0</td>\n",
       "      <td>-1.0</td>\n",
       "      <td>-1.0</td>\n",
       "      <td>20160113</td>\n",
       "      <td>8.362564</td>\n",
       "      <td>4.521799</td>\n",
       "      <td>175.409667</td>\n",
       "      <td>599</td>\n",
       "    </tr>\n",
       "    <tr>\n",
       "      <th>1</th>\n",
       "      <td>air_ba937bf13d40fb24</td>\n",
       "      <td>2016-01-20</td>\n",
       "      <td>31</td>\n",
       "      <td>2</td>\n",
       "      <td>2016</td>\n",
       "      <td>1</td>\n",
       "      <td>6</td>\n",
       "      <td>0</td>\n",
       "      <td>7.0</td>\n",
       "      <td>23.84375</td>\n",
       "      <td>...</td>\n",
       "      <td>-1.0</td>\n",
       "      <td>air_ba937bf13d40fb24_2016-01-20</td>\n",
       "      <td>-1.0</td>\n",
       "      <td>-1.0</td>\n",
       "      <td>-1.0</td>\n",
       "      <td>20160120</td>\n",
       "      <td>8.362564</td>\n",
       "      <td>4.521799</td>\n",
       "      <td>175.409667</td>\n",
       "      <td>599</td>\n",
       "    </tr>\n",
       "    <tr>\n",
       "      <th>2</th>\n",
       "      <td>air_ba937bf13d40fb24</td>\n",
       "      <td>2016-01-27</td>\n",
       "      <td>24</td>\n",
       "      <td>2</td>\n",
       "      <td>2016</td>\n",
       "      <td>1</td>\n",
       "      <td>6</td>\n",
       "      <td>0</td>\n",
       "      <td>7.0</td>\n",
       "      <td>23.84375</td>\n",
       "      <td>...</td>\n",
       "      <td>-1.0</td>\n",
       "      <td>air_ba937bf13d40fb24_2016-01-27</td>\n",
       "      <td>-1.0</td>\n",
       "      <td>-1.0</td>\n",
       "      <td>-1.0</td>\n",
       "      <td>20160127</td>\n",
       "      <td>8.362564</td>\n",
       "      <td>4.521799</td>\n",
       "      <td>175.409667</td>\n",
       "      <td>599</td>\n",
       "    </tr>\n",
       "    <tr>\n",
       "      <th>3</th>\n",
       "      <td>air_ba937bf13d40fb24</td>\n",
       "      <td>2016-02-03</td>\n",
       "      <td>18</td>\n",
       "      <td>2</td>\n",
       "      <td>2016</td>\n",
       "      <td>2</td>\n",
       "      <td>6</td>\n",
       "      <td>0</td>\n",
       "      <td>7.0</td>\n",
       "      <td>23.84375</td>\n",
       "      <td>...</td>\n",
       "      <td>-1.0</td>\n",
       "      <td>air_ba937bf13d40fb24_2016-02-03</td>\n",
       "      <td>-1.0</td>\n",
       "      <td>-1.0</td>\n",
       "      <td>-1.0</td>\n",
       "      <td>20160203</td>\n",
       "      <td>8.362564</td>\n",
       "      <td>4.521799</td>\n",
       "      <td>175.409667</td>\n",
       "      <td>599</td>\n",
       "    </tr>\n",
       "    <tr>\n",
       "      <th>4</th>\n",
       "      <td>air_ba937bf13d40fb24</td>\n",
       "      <td>2016-02-10</td>\n",
       "      <td>32</td>\n",
       "      <td>2</td>\n",
       "      <td>2016</td>\n",
       "      <td>2</td>\n",
       "      <td>6</td>\n",
       "      <td>0</td>\n",
       "      <td>7.0</td>\n",
       "      <td>23.84375</td>\n",
       "      <td>...</td>\n",
       "      <td>-1.0</td>\n",
       "      <td>air_ba937bf13d40fb24_2016-02-10</td>\n",
       "      <td>-1.0</td>\n",
       "      <td>-1.0</td>\n",
       "      <td>-1.0</td>\n",
       "      <td>20160210</td>\n",
       "      <td>8.362564</td>\n",
       "      <td>4.521799</td>\n",
       "      <td>175.409667</td>\n",
       "      <td>599</td>\n",
       "    </tr>\n",
       "  </tbody>\n",
       "</table>\n",
       "<p>5 rows × 54 columns</p>\n",
       "</div>"
      ],
      "text/plain": [
       "           air_store_id  visit_date  visitors  dow  year  month  day_of_week  \\\n",
       "0  air_ba937bf13d40fb24  2016-01-13        25    2  2016      1            6   \n",
       "1  air_ba937bf13d40fb24  2016-01-20        31    2  2016      1            6   \n",
       "2  air_ba937bf13d40fb24  2016-01-27        24    2  2016      1            6   \n",
       "3  air_ba937bf13d40fb24  2016-02-03        18    2  2016      2            6   \n",
       "4  air_ba937bf13d40fb24  2016-02-10        32    2  2016      2            6   \n",
       "\n",
       "   holiday_flg  min_visitors  mean_visitors      ...        rv2_y  \\\n",
       "0            0           7.0       23.84375      ...         -1.0   \n",
       "1            0           7.0       23.84375      ...         -1.0   \n",
       "2            0           7.0       23.84375      ...         -1.0   \n",
       "3            0           7.0       23.84375      ...         -1.0   \n",
       "4            0           7.0       23.84375      ...         -1.0   \n",
       "\n",
       "                                id  total_reserv_sum  total_reserv_mean  \\\n",
       "0  air_ba937bf13d40fb24_2016-01-13              -1.0               -1.0   \n",
       "1  air_ba937bf13d40fb24_2016-01-20              -1.0               -1.0   \n",
       "2  air_ba937bf13d40fb24_2016-01-27              -1.0               -1.0   \n",
       "3  air_ba937bf13d40fb24_2016-02-03              -1.0               -1.0   \n",
       "4  air_ba937bf13d40fb24_2016-02-10              -1.0               -1.0   \n",
       "\n",
       "   total_reserv_dt_diff_mean  date_int  var_max_lat  var_max_long  \\\n",
       "0                       -1.0  20160113     8.362564      4.521799   \n",
       "1                       -1.0  20160120     8.362564      4.521799   \n",
       "2                       -1.0  20160127     8.362564      4.521799   \n",
       "3                       -1.0  20160203     8.362564      4.521799   \n",
       "4                       -1.0  20160210     8.362564      4.521799   \n",
       "\n",
       "   lon_plus_lat  air_store_id2  \n",
       "0    175.409667            599  \n",
       "1    175.409667            599  \n",
       "2    175.409667            599  \n",
       "3    175.409667            599  \n",
       "4    175.409667            599  \n",
       "\n",
       "[5 rows x 54 columns]"
      ]
     },
     "execution_count": 333,
     "metadata": {},
     "output_type": "execute_result"
    }
   ],
   "source": [
    "kernel_train.head()"
   ]
  },
  {
   "cell_type": "code",
   "execution_count": 334,
   "metadata": {},
   "outputs": [
    {
     "data": {
      "text/plain": [
       "Index(['air_store_id', 'visit_date', 'visitors', 'dow', 'year', 'month',\n",
       "       'day_of_week', 'holiday_flg', 'min_visitors', 'mean_visitors',\n",
       "       'median_visitors', 'max_visitors', 'count_observations',\n",
       "       'air_genre_name', 'air_area_name', 'latitude', 'longitude',\n",
       "       'air_genre_name0', 'air_area_name0', 'air_genre_name1',\n",
       "       'air_area_name1', 'air_genre_name2', 'air_area_name2',\n",
       "       'air_genre_name3', 'air_area_name3', 'air_genre_name4',\n",
       "       'air_area_name4', 'air_genre_name5', 'air_area_name5',\n",
       "       'air_genre_name6', 'air_area_name6', 'air_genre_name7',\n",
       "       'air_area_name7', 'air_genre_name8', 'air_area_name8',\n",
       "       'air_genre_name9', 'air_area_name9', 'rs1_x', 'rv1_x', 'rs2_x', 'rv2_x',\n",
       "       'rs1_y', 'rv1_y', 'rs2_y', 'rv2_y', 'id', 'total_reserv_sum',\n",
       "       'total_reserv_mean', 'total_reserv_dt_diff_mean', 'date_int',\n",
       "       'var_max_lat', 'var_max_long', 'lon_plus_lat', 'air_store_id2'],\n",
       "      dtype='object')"
      ]
     },
     "execution_count": 334,
     "metadata": {},
     "output_type": "execute_result"
    }
   ],
   "source": [
    "kernel_train.columns"
   ]
  },
  {
   "cell_type": "code",
   "execution_count": 335,
   "metadata": {
    "collapsed": true
   },
   "outputs": [],
   "source": [
    "col_to_drop = ['air_genre_name', 'air_area_name', 'latitude', 'longitude',\n",
    "       'air_genre_name0', 'air_area_name0', 'air_genre_name1',\n",
    "       'air_area_name1', 'air_genre_name2', 'air_area_name2',\n",
    "       'air_genre_name3', 'air_area_name3', 'air_genre_name4',\n",
    "       'air_area_name4', 'air_genre_name5', 'air_area_name5',\n",
    "       'air_genre_name6', 'air_area_name6', 'air_genre_name7',\n",
    "       'air_area_name7', 'air_genre_name8', 'air_area_name8',\n",
    "       'air_genre_name9', 'air_area_name9', 'dow', 'year', 'month',\n",
    "       'day_of_week', 'holiday_flg', 'air_store_id2']"
   ]
  },
  {
   "cell_type": "code",
   "execution_count": 336,
   "metadata": {
    "collapsed": true
   },
   "outputs": [],
   "source": [
    "kernel_train.drop(col_to_drop,axis=1,inplace=True)\n",
    "kernel_test.drop(col_to_drop,axis=1,inplace=True)"
   ]
  },
  {
   "cell_type": "code",
   "execution_count": 337,
   "metadata": {},
   "outputs": [
    {
     "data": {
      "text/plain": [
       "(250468, 24)"
      ]
     },
     "execution_count": 337,
     "metadata": {},
     "output_type": "execute_result"
    }
   ],
   "source": [
    "kernel_train.shape"
   ]
  },
  {
   "cell_type": "code",
   "execution_count": 338,
   "metadata": {},
   "outputs": [
    {
     "data": {
      "text/plain": [
       "Index(['air_store_id', 'visit_date', 'visitors', 'min_visitors',\n",
       "       'mean_visitors', 'median_visitors', 'max_visitors',\n",
       "       'count_observations', 'rs1_x', 'rv1_x', 'rs2_x', 'rv2_x', 'rs1_y',\n",
       "       'rv1_y', 'rs2_y', 'rv2_y', 'id', 'total_reserv_sum',\n",
       "       'total_reserv_mean', 'total_reserv_dt_diff_mean', 'date_int',\n",
       "       'var_max_lat', 'var_max_long', 'lon_plus_lat'],\n",
       "      dtype='object')"
      ]
     },
     "execution_count": 338,
     "metadata": {},
     "output_type": "execute_result"
    }
   ],
   "source": [
    "kernel_train.columns"
   ]
  },
  {
   "cell_type": "code",
   "execution_count": 339,
   "metadata": {},
   "outputs": [
    {
     "data": {
      "text/plain": [
       "Index(['air_store_id', 'area', 'dom', 'doq', 'dow', 'doy', 'gen', 'holi', 'id',\n",
       "       'month', 'quarter', 'store', 'visit_date', 'visitors', 'year',\n",
       "       'last_quarter_gen_pop', 'last_quarter_s_pop', 'store_pop',\n",
       "       'store_genre_pop', 'genre_pop', 'store_pop_monthly', 'last_genre_pop',\n",
       "       'last_month_comp', 'last_quarter_comp', 'dow_pattern_2016',\n",
       "       'dom_pattern_train_x', 'doy_pattern_2016'],\n",
       "      dtype='object')"
      ]
     },
     "execution_count": 339,
     "metadata": {},
     "output_type": "execute_result"
    }
   ],
   "source": [
    "together.columns"
   ]
  },
  {
   "cell_type": "code",
   "execution_count": 341,
   "metadata": {
    "collapsed": true
   },
   "outputs": [],
   "source": [
    "final_train = pd.merge(kernel_train,together.drop('id',axis=1),how='left',on=['air_store_id','visit_date'])"
   ]
  },
  {
   "cell_type": "code",
   "execution_count": 342,
   "metadata": {
    "collapsed": true
   },
   "outputs": [],
   "source": [
    "final_test = pd.merge(kernel_test,together.drop('id',axis=1),how='left',on=['air_store_id','visit_date'])"
   ]
  },
  {
   "cell_type": "code",
   "execution_count": 2,
   "metadata": {},
   "outputs": [
    {
     "ename": "NameError",
     "evalue": "name 'final_train' is not defined",
     "output_type": "error",
     "traceback": [
      "\u001b[1;31m---------------------------------------------------------------------------\u001b[0m",
      "\u001b[1;31mNameError\u001b[0m                                 Traceback (most recent call last)",
      "\u001b[1;32m<ipython-input-2-4848c03cfa3a>\u001b[0m in \u001b[0;36m<module>\u001b[1;34m()\u001b[0m\n\u001b[1;32m----> 1\u001b[1;33m \u001b[0mfinal_train\u001b[0m\u001b[1;33m.\u001b[0m\u001b[0mto_csv\u001b[0m\u001b[1;33m(\u001b[0m\u001b[1;34m'last_train.csv'\u001b[0m\u001b[1;33m,\u001b[0m\u001b[0mindex\u001b[0m\u001b[1;33m=\u001b[0m\u001b[1;32mFalse\u001b[0m\u001b[1;33m)\u001b[0m\u001b[1;33m\u001b[0m\u001b[0m\n\u001b[0m\u001b[0;32m      2\u001b[0m \u001b[0mfinal_test\u001b[0m\u001b[1;33m.\u001b[0m\u001b[0mto_csv\u001b[0m\u001b[1;33m(\u001b[0m\u001b[1;34m'last_test.csv'\u001b[0m\u001b[1;33m,\u001b[0m\u001b[0mindex\u001b[0m\u001b[1;33m=\u001b[0m\u001b[1;32mFalse\u001b[0m\u001b[1;33m)\u001b[0m\u001b[1;33m\u001b[0m\u001b[0m\n",
      "\u001b[1;31mNameError\u001b[0m: name 'final_train' is not defined"
     ]
    }
   ],
   "source": [
    "final_train.to_csv('last_train.csv',index=False)\n",
    "final_test.to_csv('last_test.csv',index=False)"
   ]
  },
  {
   "cell_type": "code",
   "execution_count": 344,
   "metadata": {},
   "outputs": [
    {
     "data": {
      "text/plain": [
       "(250468, 48)"
      ]
     },
     "execution_count": 344,
     "metadata": {},
     "output_type": "execute_result"
    }
   ],
   "source": [
    "final_train.shape"
   ]
  },
  {
   "cell_type": "code",
   "execution_count": 345,
   "metadata": {},
   "outputs": [
    {
     "data": {
      "text/plain": [
       "(250468, 24)"
      ]
     },
     "execution_count": 345,
     "metadata": {},
     "output_type": "execute_result"
    }
   ],
   "source": [
    "kernel_train.shape"
   ]
  },
  {
   "cell_type": "code",
   "execution_count": null,
   "metadata": {
    "collapsed": true
   },
   "outputs": [],
   "source": []
  }
 ],
 "metadata": {
  "kernelspec": {
   "display_name": "Python 3",
   "language": "python",
   "name": "python3"
  },
  "language_info": {
   "codemirror_mode": {
    "name": "ipython",
    "version": 3
   },
   "file_extension": ".py",
   "mimetype": "text/x-python",
   "name": "python",
   "nbconvert_exporter": "python",
   "pygments_lexer": "ipython3",
   "version": "3.6.3"
  }
 },
 "nbformat": 4,
 "nbformat_minor": 2
}
