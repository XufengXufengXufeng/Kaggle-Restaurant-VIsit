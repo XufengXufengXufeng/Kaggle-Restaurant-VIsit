{
 "cells": [
  {
   "cell_type": "code",
   "execution_count": 96,
   "metadata": {},
   "outputs": [],
   "source": [
    "import numpy as np\n",
    "import pandas as pd\n",
    "import xgboost as xgb\n",
    "from sklearn.preprocessing import OneHotEncoder\n",
    "import lightgbm as lgb\n",
    "from catboost import CatBoostRegressor\n",
    "import catboost\n",
    "%matplotlib inline"
   ]
  },
  {
   "cell_type": "code",
   "execution_count": 16,
   "metadata": {
    "collapsed": true
   },
   "outputs": [],
   "source": [
    "train = pd.read_csv('last_train.csv')\n",
    "test = pd.read_csv('last_test.csv')"
   ]
  },
  {
   "cell_type": "code",
   "execution_count": 17,
   "metadata": {},
   "outputs": [
    {
     "data": {
      "text/html": [
       "<div>\n",
       "<style>\n",
       "    .dataframe thead tr:only-child th {\n",
       "        text-align: right;\n",
       "    }\n",
       "\n",
       "    .dataframe thead th {\n",
       "        text-align: left;\n",
       "    }\n",
       "\n",
       "    .dataframe tbody tr th {\n",
       "        vertical-align: top;\n",
       "    }\n",
       "</style>\n",
       "<table border=\"1\" class=\"dataframe\">\n",
       "  <thead>\n",
       "    <tr style=\"text-align: right;\">\n",
       "      <th></th>\n",
       "      <th>air_store_id</th>\n",
       "      <th>visit_date</th>\n",
       "      <th>visitors_x</th>\n",
       "      <th>min_visitors</th>\n",
       "      <th>mean_visitors</th>\n",
       "      <th>median_visitors</th>\n",
       "      <th>max_visitors</th>\n",
       "      <th>count_observations</th>\n",
       "      <th>rs1_x</th>\n",
       "      <th>rv1_x</th>\n",
       "      <th>...</th>\n",
       "      <th>store_pop</th>\n",
       "      <th>store_genre_pop</th>\n",
       "      <th>genre_pop</th>\n",
       "      <th>store_pop_monthly</th>\n",
       "      <th>last_genre_pop</th>\n",
       "      <th>last_month_comp</th>\n",
       "      <th>last_quarter_comp</th>\n",
       "      <th>dow_pattern_2016</th>\n",
       "      <th>dom_pattern_train_x</th>\n",
       "      <th>doy_pattern_2016</th>\n",
       "    </tr>\n",
       "  </thead>\n",
       "  <tbody>\n",
       "    <tr>\n",
       "      <th>0</th>\n",
       "      <td>air_ba937bf13d40fb24</td>\n",
       "      <td>2016-01-13</td>\n",
       "      <td>25</td>\n",
       "      <td>7.0</td>\n",
       "      <td>23.84375</td>\n",
       "      <td>25.0</td>\n",
       "      <td>57.0</td>\n",
       "      <td>64.0</td>\n",
       "      <td>-1.0</td>\n",
       "      <td>-1.0</td>\n",
       "      <td>...</td>\n",
       "      <td>0.030911</td>\n",
       "      <td>0.176627</td>\n",
       "      <td>0.175009</td>\n",
       "      <td>-1.000000</td>\n",
       "      <td>0.000000</td>\n",
       "      <td>-1.000000</td>\n",
       "      <td>-1.0</td>\n",
       "      <td>0.171307</td>\n",
       "      <td>0.035361</td>\n",
       "      <td>0.003502</td>\n",
       "    </tr>\n",
       "    <tr>\n",
       "      <th>1</th>\n",
       "      <td>air_ba937bf13d40fb24</td>\n",
       "      <td>2016-01-20</td>\n",
       "      <td>31</td>\n",
       "      <td>7.0</td>\n",
       "      <td>23.84375</td>\n",
       "      <td>25.0</td>\n",
       "      <td>57.0</td>\n",
       "      <td>64.0</td>\n",
       "      <td>-1.0</td>\n",
       "      <td>-1.0</td>\n",
       "      <td>...</td>\n",
       "      <td>0.030911</td>\n",
       "      <td>0.176627</td>\n",
       "      <td>0.175009</td>\n",
       "      <td>-1.000000</td>\n",
       "      <td>0.000000</td>\n",
       "      <td>-1.000000</td>\n",
       "      <td>-1.0</td>\n",
       "      <td>0.171307</td>\n",
       "      <td>0.035811</td>\n",
       "      <td>0.004343</td>\n",
       "    </tr>\n",
       "    <tr>\n",
       "      <th>2</th>\n",
       "      <td>air_ba937bf13d40fb24</td>\n",
       "      <td>2016-01-27</td>\n",
       "      <td>24</td>\n",
       "      <td>7.0</td>\n",
       "      <td>23.84375</td>\n",
       "      <td>25.0</td>\n",
       "      <td>57.0</td>\n",
       "      <td>64.0</td>\n",
       "      <td>-1.0</td>\n",
       "      <td>-1.0</td>\n",
       "      <td>...</td>\n",
       "      <td>0.030911</td>\n",
       "      <td>0.176627</td>\n",
       "      <td>0.175009</td>\n",
       "      <td>-1.000000</td>\n",
       "      <td>0.000000</td>\n",
       "      <td>-1.000000</td>\n",
       "      <td>-1.0</td>\n",
       "      <td>0.171307</td>\n",
       "      <td>0.032443</td>\n",
       "      <td>0.003362</td>\n",
       "    </tr>\n",
       "    <tr>\n",
       "      <th>3</th>\n",
       "      <td>air_ba937bf13d40fb24</td>\n",
       "      <td>2016-02-03</td>\n",
       "      <td>18</td>\n",
       "      <td>7.0</td>\n",
       "      <td>23.84375</td>\n",
       "      <td>25.0</td>\n",
       "      <td>57.0</td>\n",
       "      <td>64.0</td>\n",
       "      <td>-1.0</td>\n",
       "      <td>-1.0</td>\n",
       "      <td>...</td>\n",
       "      <td>0.030911</td>\n",
       "      <td>0.176627</td>\n",
       "      <td>0.175009</td>\n",
       "      <td>0.046837</td>\n",
       "      <td>0.121377</td>\n",
       "      <td>0.385882</td>\n",
       "      <td>-1.0</td>\n",
       "      <td>0.171307</td>\n",
       "      <td>0.033004</td>\n",
       "      <td>0.002522</td>\n",
       "    </tr>\n",
       "    <tr>\n",
       "      <th>4</th>\n",
       "      <td>air_ba937bf13d40fb24</td>\n",
       "      <td>2016-02-10</td>\n",
       "      <td>32</td>\n",
       "      <td>7.0</td>\n",
       "      <td>23.84375</td>\n",
       "      <td>25.0</td>\n",
       "      <td>57.0</td>\n",
       "      <td>64.0</td>\n",
       "      <td>-1.0</td>\n",
       "      <td>-1.0</td>\n",
       "      <td>...</td>\n",
       "      <td>0.030911</td>\n",
       "      <td>0.176627</td>\n",
       "      <td>0.175009</td>\n",
       "      <td>0.046837</td>\n",
       "      <td>0.121377</td>\n",
       "      <td>0.385882</td>\n",
       "      <td>-1.0</td>\n",
       "      <td>0.171307</td>\n",
       "      <td>0.035923</td>\n",
       "      <td>0.004483</td>\n",
       "    </tr>\n",
       "  </tbody>\n",
       "</table>\n",
       "<p>5 rows × 48 columns</p>\n",
       "</div>"
      ],
      "text/plain": [
       "           air_store_id  visit_date  visitors_x  min_visitors  mean_visitors  \\\n",
       "0  air_ba937bf13d40fb24  2016-01-13          25           7.0       23.84375   \n",
       "1  air_ba937bf13d40fb24  2016-01-20          31           7.0       23.84375   \n",
       "2  air_ba937bf13d40fb24  2016-01-27          24           7.0       23.84375   \n",
       "3  air_ba937bf13d40fb24  2016-02-03          18           7.0       23.84375   \n",
       "4  air_ba937bf13d40fb24  2016-02-10          32           7.0       23.84375   \n",
       "\n",
       "   median_visitors  max_visitors  count_observations  rs1_x  rv1_x  \\\n",
       "0             25.0          57.0                64.0   -1.0   -1.0   \n",
       "1             25.0          57.0                64.0   -1.0   -1.0   \n",
       "2             25.0          57.0                64.0   -1.0   -1.0   \n",
       "3             25.0          57.0                64.0   -1.0   -1.0   \n",
       "4             25.0          57.0                64.0   -1.0   -1.0   \n",
       "\n",
       "         ...         store_pop  store_genre_pop  genre_pop  store_pop_monthly  \\\n",
       "0        ...          0.030911         0.176627   0.175009          -1.000000   \n",
       "1        ...          0.030911         0.176627   0.175009          -1.000000   \n",
       "2        ...          0.030911         0.176627   0.175009          -1.000000   \n",
       "3        ...          0.030911         0.176627   0.175009           0.046837   \n",
       "4        ...          0.030911         0.176627   0.175009           0.046837   \n",
       "\n",
       "   last_genre_pop  last_month_comp last_quarter_comp  dow_pattern_2016  \\\n",
       "0        0.000000        -1.000000              -1.0          0.171307   \n",
       "1        0.000000        -1.000000              -1.0          0.171307   \n",
       "2        0.000000        -1.000000              -1.0          0.171307   \n",
       "3        0.121377         0.385882              -1.0          0.171307   \n",
       "4        0.121377         0.385882              -1.0          0.171307   \n",
       "\n",
       "   dom_pattern_train_x  doy_pattern_2016  \n",
       "0             0.035361          0.003502  \n",
       "1             0.035811          0.004343  \n",
       "2             0.032443          0.003362  \n",
       "3             0.033004          0.002522  \n",
       "4             0.035923          0.004483  \n",
       "\n",
       "[5 rows x 48 columns]"
      ]
     },
     "execution_count": 17,
     "metadata": {},
     "output_type": "execute_result"
    }
   ],
   "source": [
    "train.head()"
   ]
  },
  {
   "cell_type": "code",
   "execution_count": 18,
   "metadata": {
    "collapsed": true
   },
   "outputs": [],
   "source": [
    "train.drop('visitors_x',axis=1,inplace=True)\n",
    "train.rename(columns={'visitors_y':'visitors'},inplace=True)\n",
    "test.drop('visitors_x',axis=1,inplace=True)\n",
    "test.rename(columns={'visitors_y':'visitors'},inplace=True)"
   ]
  },
  {
   "cell_type": "code",
   "execution_count": 19,
   "metadata": {},
   "outputs": [
    {
     "data": {
      "text/plain": [
       "OneHotEncoder(categorical_features='all', dtype=<class 'numpy.float64'>,\n",
       "       handle_unknown='error', n_values='auto', sparse=True)"
      ]
     },
     "execution_count": 19,
     "metadata": {},
     "output_type": "execute_result"
    }
   ],
   "source": [
    "gen_e = OneHotEncoder()\n",
    "gen_e.fit(np.array(list(set(train.gen))).reshape(-1,1))\n",
    "area_e = OneHotEncoder()\n",
    "area_e.fit(np.array(list(set(train.area))).reshape(-1,1))"
   ]
  },
  {
   "cell_type": "code",
   "execution_count": 20,
   "metadata": {
    "collapsed": true
   },
   "outputs": [],
   "source": [
    "train_gen_df = pd.DataFrame(gen_e.transform(train.gen.values.reshape(-1,1)).toarray())\n",
    "test_gen_df = pd.DataFrame(gen_e.transform(test.gen.values.reshape(-1,1)).toarray())\n",
    "train_area_df = pd.DataFrame(area_e.transform(train.area.values.reshape(-1,1)).toarray())\n",
    "test_area_df = pd.DataFrame(area_e.transform(test.area.values.reshape(-1,1)).toarray())"
   ]
  },
  {
   "cell_type": "code",
   "execution_count": 21,
   "metadata": {},
   "outputs": [
    {
     "data": {
      "text/plain": [
       "(RangeIndex(start=0, stop=14, step=1),\n",
       " RangeIndex(start=0, stop=14, step=1),\n",
       " RangeIndex(start=0, stop=103, step=1),\n",
       " RangeIndex(start=0, stop=103, step=1))"
      ]
     },
     "execution_count": 21,
     "metadata": {},
     "output_type": "execute_result"
    }
   ],
   "source": [
    "train_gen_df.columns,test_gen_df.columns,train_area_df.columns,test_area_df.columns"
   ]
  },
  {
   "cell_type": "code",
   "execution_count": 22,
   "metadata": {
    "collapsed": true
   },
   "outputs": [],
   "source": [
    "train_gen_df.columns = ['gen'+str(x) for x in train_gen_df.columns]\n",
    "test_gen_df.columns = ['gen'+str(x) for x in test_gen_df.columns]\n",
    "train_area_df.columns = ['area'+str(x) for x in train_area_df.columns]\n",
    "test_area_df.columns = ['area'+str(x) for x in test_area_df.columns]"
   ]
  },
  {
   "cell_type": "code",
   "execution_count": 23,
   "metadata": {
    "collapsed": true
   },
   "outputs": [],
   "source": [
    "train = pd.concat([train.drop(['area','gen'],axis=1),train_gen_df,train_area_df],axis=1)\n",
    "test = pd.concat([test.drop(['area','gen'],axis=1),test_gen_df,test_area_df],axis=1)"
   ]
  },
  {
   "cell_type": "code",
   "execution_count": 24,
   "metadata": {
    "collapsed": true
   },
   "outputs": [],
   "source": [
    "len(set(train.date_int))\n",
    "val_key = train.date_int.apply(lambda x: True if x >= 20170321 else False)\n",
    "train_key = train.date_int.apply(lambda x:True if x < 20170321 else False)"
   ]
  },
  {
   "cell_type": "code",
   "execution_count": 25,
   "metadata": {
    "collapsed": true
   },
   "outputs": [],
   "source": [
    "vtrain = train[train_key]\n",
    "vval = train[val_key]"
   ]
  },
  {
   "cell_type": "code",
   "execution_count": 26,
   "metadata": {},
   "outputs": [
    {
     "data": {
      "text/plain": [
       "((226722, 162), (23746, 162))"
      ]
     },
     "execution_count": 26,
     "metadata": {},
     "output_type": "execute_result"
    }
   ],
   "source": [
    "vtrain.shape,vval.shape"
   ]
  },
  {
   "cell_type": "markdown",
   "metadata": {},
   "source": [
    "## start xgb"
   ]
  },
  {
   "cell_type": "code",
   "execution_count": 27,
   "metadata": {
    "collapsed": true
   },
   "outputs": [],
   "source": [
    "dtest = xgb.DMatrix(test.drop(['id','visitors','air_store_id','visit_date'\n",
    "                                     ],axis=1))\n",
    "dvval = xgb.DMatrix(vval.drop(['id','visitors','air_store_id','visit_date'\n",
    "                                     ],axis=1))\n",
    "dvtrain = xgb.DMatrix(vtrain.drop(['id','visitors','air_store_id','visit_date'\n",
    "                                     ],axis=1),vtrain.visitors.apply(np.log1p))\n",
    "dtrain = xgb.DMatrix(train.drop(['id','visitors','air_store_id','visit_date'\n",
    "                                     ],axis=1),train.visitors.apply(np.log1p))"
   ]
  },
  {
   "cell_type": "markdown",
   "metadata": {},
   "source": [
    "## skip from here"
   ]
  },
  {
   "cell_type": "code",
   "execution_count": 54,
   "metadata": {
    "scrolled": true
   },
   "outputs": [
    {
     "name": "stdout",
     "output_type": "stream",
     "text": [
      "0.1 0.307145333333\n",
      "0.15 0.277604\n"
     ]
    },
    {
     "ename": "KeyboardInterrupt",
     "evalue": "",
     "output_type": "error",
     "traceback": [
      "\u001b[1;31m---------------------------------------------------------------------------\u001b[0m",
      "\u001b[1;31mKeyboardInterrupt\u001b[0m                         Traceback (most recent call last)",
      "\u001b[1;32m<ipython-input-54-cc8f207da0e5>\u001b[0m in \u001b[0;36m<module>\u001b[1;34m()\u001b[0m\n\u001b[0;32m      7\u001b[0m         \u001b[1;34m'tree_method'\u001b[0m\u001b[1;33m:\u001b[0m\u001b[1;34m'hist'\u001b[0m\u001b[1;33m,\u001b[0m\u001b[1;34m'max_bin'\u001b[0m\u001b[1;33m:\u001b[0m\u001b[1;36m150\u001b[0m\u001b[1;33m\u001b[0m\u001b[0m\n\u001b[0;32m      8\u001b[0m     }\n\u001b[1;32m----> 9\u001b[1;33m     \u001b[0mhist\u001b[0m \u001b[1;33m=\u001b[0m \u001b[0mxgb\u001b[0m\u001b[1;33m.\u001b[0m\u001b[0mcv\u001b[0m\u001b[1;33m(\u001b[0m\u001b[0mparam\u001b[0m\u001b[1;33m,\u001b[0m\u001b[0mdtrain\u001b[0m\u001b[1;33m,\u001b[0m\u001b[1;36m30\u001b[0m\u001b[1;33m,\u001b[0m\u001b[0mmetrics\u001b[0m\u001b[1;33m=\u001b[0m\u001b[1;34m'rmse'\u001b[0m\u001b[1;33m)\u001b[0m\u001b[1;33m\u001b[0m\u001b[0m\n\u001b[0m\u001b[0;32m     10\u001b[0m     \u001b[0mprint\u001b[0m\u001b[1;33m(\u001b[0m\u001b[0mi\u001b[0m\u001b[1;33m,\u001b[0m\u001b[0mhist\u001b[0m\u001b[1;33m[\u001b[0m\u001b[1;34m'test-rmse-mean'\u001b[0m\u001b[1;33m]\u001b[0m\u001b[1;33m.\u001b[0m\u001b[0miloc\u001b[0m\u001b[1;33m[\u001b[0m\u001b[1;33m-\u001b[0m\u001b[1;36m1\u001b[0m\u001b[1;33m]\u001b[0m\u001b[1;33m)\u001b[0m\u001b[1;33m\u001b[0m\u001b[0m\n",
      "\u001b[1;32m~\\Anaconda3\\lib\\site-packages\\xgboost\\training.py\u001b[0m in \u001b[0;36mcv\u001b[1;34m(params, dtrain, num_boost_round, nfold, stratified, folds, metrics, obj, feval, maximize, early_stopping_rounds, fpreproc, as_pandas, verbose_eval, show_stdv, seed, callbacks, shuffle)\u001b[0m\n\u001b[0;32m    404\u001b[0m                            evaluation_result_list=None))\n\u001b[0;32m    405\u001b[0m         \u001b[1;32mfor\u001b[0m \u001b[0mfold\u001b[0m \u001b[1;32min\u001b[0m \u001b[0mcvfolds\u001b[0m\u001b[1;33m:\u001b[0m\u001b[1;33m\u001b[0m\u001b[0m\n\u001b[1;32m--> 406\u001b[1;33m             \u001b[0mfold\u001b[0m\u001b[1;33m.\u001b[0m\u001b[0mupdate\u001b[0m\u001b[1;33m(\u001b[0m\u001b[0mi\u001b[0m\u001b[1;33m,\u001b[0m \u001b[0mobj\u001b[0m\u001b[1;33m)\u001b[0m\u001b[1;33m\u001b[0m\u001b[0m\n\u001b[0m\u001b[0;32m    407\u001b[0m         \u001b[0mres\u001b[0m \u001b[1;33m=\u001b[0m \u001b[0maggcv\u001b[0m\u001b[1;33m(\u001b[0m\u001b[1;33m[\u001b[0m\u001b[0mf\u001b[0m\u001b[1;33m.\u001b[0m\u001b[0meval\u001b[0m\u001b[1;33m(\u001b[0m\u001b[0mi\u001b[0m\u001b[1;33m,\u001b[0m \u001b[0mfeval\u001b[0m\u001b[1;33m)\u001b[0m \u001b[1;32mfor\u001b[0m \u001b[0mf\u001b[0m \u001b[1;32min\u001b[0m \u001b[0mcvfolds\u001b[0m\u001b[1;33m]\u001b[0m\u001b[1;33m)\u001b[0m\u001b[1;33m\u001b[0m\u001b[0m\n\u001b[0;32m    408\u001b[0m \u001b[1;33m\u001b[0m\u001b[0m\n",
      "\u001b[1;32m~\\Anaconda3\\lib\\site-packages\\xgboost\\training.py\u001b[0m in \u001b[0;36mupdate\u001b[1;34m(self, iteration, fobj)\u001b[0m\n\u001b[0;32m    216\u001b[0m     \u001b[1;32mdef\u001b[0m \u001b[0mupdate\u001b[0m\u001b[1;33m(\u001b[0m\u001b[0mself\u001b[0m\u001b[1;33m,\u001b[0m \u001b[0miteration\u001b[0m\u001b[1;33m,\u001b[0m \u001b[0mfobj\u001b[0m\u001b[1;33m)\u001b[0m\u001b[1;33m:\u001b[0m\u001b[1;33m\u001b[0m\u001b[0m\n\u001b[0;32m    217\u001b[0m         \u001b[1;34m\"\"\"\"Update the boosters for one iteration\"\"\"\u001b[0m\u001b[1;33m\u001b[0m\u001b[0m\n\u001b[1;32m--> 218\u001b[1;33m         \u001b[0mself\u001b[0m\u001b[1;33m.\u001b[0m\u001b[0mbst\u001b[0m\u001b[1;33m.\u001b[0m\u001b[0mupdate\u001b[0m\u001b[1;33m(\u001b[0m\u001b[0mself\u001b[0m\u001b[1;33m.\u001b[0m\u001b[0mdtrain\u001b[0m\u001b[1;33m,\u001b[0m \u001b[0miteration\u001b[0m\u001b[1;33m,\u001b[0m \u001b[0mfobj\u001b[0m\u001b[1;33m)\u001b[0m\u001b[1;33m\u001b[0m\u001b[0m\n\u001b[0m\u001b[0;32m    219\u001b[0m \u001b[1;33m\u001b[0m\u001b[0m\n\u001b[0;32m    220\u001b[0m     \u001b[1;32mdef\u001b[0m \u001b[0meval\u001b[0m\u001b[1;33m(\u001b[0m\u001b[0mself\u001b[0m\u001b[1;33m,\u001b[0m \u001b[0miteration\u001b[0m\u001b[1;33m,\u001b[0m \u001b[0mfeval\u001b[0m\u001b[1;33m)\u001b[0m\u001b[1;33m:\u001b[0m\u001b[1;33m\u001b[0m\u001b[0m\n",
      "\u001b[1;32m~\\Anaconda3\\lib\\site-packages\\xgboost\\core.py\u001b[0m in \u001b[0;36mupdate\u001b[1;34m(self, dtrain, iteration, fobj)\u001b[0m\n\u001b[0;32m    896\u001b[0m         \u001b[1;32mif\u001b[0m \u001b[0mfobj\u001b[0m \u001b[1;32mis\u001b[0m \u001b[1;32mNone\u001b[0m\u001b[1;33m:\u001b[0m\u001b[1;33m\u001b[0m\u001b[0m\n\u001b[0;32m    897\u001b[0m             _check_call(_LIB.XGBoosterUpdateOneIter(self.handle, ctypes.c_int(iteration),\n\u001b[1;32m--> 898\u001b[1;33m                                                     dtrain.handle))\n\u001b[0m\u001b[0;32m    899\u001b[0m         \u001b[1;32melse\u001b[0m\u001b[1;33m:\u001b[0m\u001b[1;33m\u001b[0m\u001b[0m\n\u001b[0;32m    900\u001b[0m             \u001b[0mpred\u001b[0m \u001b[1;33m=\u001b[0m \u001b[0mself\u001b[0m\u001b[1;33m.\u001b[0m\u001b[0mpredict\u001b[0m\u001b[1;33m(\u001b[0m\u001b[0mdtrain\u001b[0m\u001b[1;33m)\u001b[0m\u001b[1;33m\u001b[0m\u001b[0m\n",
      "\u001b[1;31mKeyboardInterrupt\u001b[0m: "
     ]
    }
   ],
   "source": [
    "dtrain = xgb.DMatrix(train.drop(['id','visitors','air_store_id','visit_date'\n",
    "                                     ],axis=1),train.visitors.apply(np.log1p))\n",
    "for i in np.arange(0.1,0.5,0.05):\n",
    "    param = {\n",
    "        'eta':i,'max_depth':16,'subsample':0.94,'colsample_bytree':0.73,'lamdba':0.3,'alpha':0.8,\\\n",
    "        'min_child_weight':29,'num_boost_round':100,'objective':'reg:linear','booster':'gbtree',\\\n",
    "        'tree_method':'hist','max_bin':150\n",
    "    }\n",
    "    hist = xgb.cv(param,dtrain,30,metrics='rmse')\n",
    "    print(i,hist['test-rmse-mean'].iloc[-1])"
   ]
  },
  {
   "cell_type": "markdown",
   "metadata": {},
   "source": [
    "## tunning "
   ]
  },
  {
   "cell_type": "code",
   "execution_count": 18,
   "metadata": {},
   "outputs": [
    {
     "name": "stdout",
     "output_type": "stream",
     "text": [
      "0.16 0.485935666667\n",
      "0.17 0.485417333333\n",
      "0.18 0.485294333333\n",
      "0.19 0.485689333333\n",
      "0.2 0.485862666667\n",
      "0.21 0.486237\n"
     ]
    }
   ],
   "source": [
    "# eta\n",
    "for i in np.arange(0.16,0.22,0.01):\n",
    "    param = {\n",
    "        'eta':i,'max_depth':16,'subsample':0.94,'colsample_bytree':0.73,'lamdba':0.3,'alpha':0.8,\\\n",
    "        'min_child_weight':29,'num_boost_round':100,'objective':'reg:linear','booster':'gbtree',\\\n",
    "        'tree_method':'hist','max_bin':150\n",
    "    }\n",
    "    hist = xgb.cv(param,dtrain,30,metrics='rmse')\n",
    "    print(i,hist['test-rmse-mean'].iloc[-1])"
   ]
  },
  {
   "cell_type": "code",
   "execution_count": 19,
   "metadata": {},
   "outputs": [
    {
     "name": "stdout",
     "output_type": "stream",
     "text": [
      "25 0.485397\n",
      "26 0.485315666667\n",
      "27 0.485564\n",
      "28 0.485627\n",
      "29 0.485294333333\n",
      "30 0.485654666667\n",
      "31 0.485214\n",
      "32 0.485096333333\n",
      "33 0.485287\n",
      "34 0.484988\n"
     ]
    }
   ],
   "source": [
    "# min child weight\n",
    "for i in np.arange(25,35,1):\n",
    "    param = {\n",
    "        'eta':0.18,'max_depth':16,'subsample':0.94,'colsample_bytree':0.73,'lamdba':0.3,'alpha':0.8,\\\n",
    "        'min_child_weight':i,'num_boost_round':100,'objective':'reg:linear','booster':'gbtree',\\\n",
    "        'tree_method':'hist','max_bin':150\n",
    "    }\n",
    "    hist = xgb.cv(param,dtrain,30,metrics='rmse')\n",
    "    print(i,hist['test-rmse-mean'].iloc[-1])"
   ]
  },
  {
   "cell_type": "code",
   "execution_count": 20,
   "metadata": {},
   "outputs": [
    {
     "name": "stdout",
     "output_type": "stream",
     "text": [
      "35 0.484850666667\n",
      "36 0.485177666667\n",
      "37 0.484614333333\n"
     ]
    }
   ],
   "source": [
    "for i in np.arange(35,38,1):\n",
    "    param = {\n",
    "        'eta':0.18,'max_depth':16,'subsample':0.94,'colsample_bytree':0.73,'lamdba':0.3,'alpha':0.8,\\\n",
    "        'min_child_weight':i,'num_boost_round':100,'objective':'reg:linear','booster':'gbtree',\\\n",
    "        'tree_method':'hist','max_bin':150\n",
    "    }\n",
    "    hist = xgb.cv(param,dtrain,30,metrics='rmse')\n",
    "    print(i,hist['test-rmse-mean'].iloc[-1])"
   ]
  },
  {
   "cell_type": "code",
   "execution_count": 21,
   "metadata": {},
   "outputs": [
    {
     "name": "stdout",
     "output_type": "stream",
     "text": [
      "39 0.484933\n",
      "40 0.484920666667\n",
      "41 0.485232333333\n"
     ]
    }
   ],
   "source": [
    "for i in np.arange(39,42,1):\n",
    "    param = {\n",
    "        'eta':0.18,'max_depth':16,'subsample':0.94,'colsample_bytree':0.73,'lamdba':0.3,'alpha':0.8,\\\n",
    "        'min_child_weight':i,'num_boost_round':100,'objective':'reg:linear','booster':'gbtree',\\\n",
    "        'tree_method':'hist','max_bin':150\n",
    "    }\n",
    "    hist = xgb.cv(param,dtrain,30,metrics='rmse')\n",
    "    print(i,hist['test-rmse-mean'].iloc[-1])"
   ]
  },
  {
   "cell_type": "code",
   "execution_count": 24,
   "metadata": {},
   "outputs": [
    {
     "name": "stdout",
     "output_type": "stream",
     "text": [
      "80 0.484967333333\n",
      "90 0.485327\n",
      "100 0.485211\n",
      "110 0.485059\n",
      "120 0.48507\n",
      "130 0.485340333333\n",
      "140 0.485403\n",
      "150 0.484614333333\n",
      "160 0.485362333333\n",
      "170 0.485246\n",
      "180 0.485148333333\n",
      "190 0.485207333333\n"
     ]
    }
   ],
   "source": [
    "for i in np.arange(80,200,10):\n",
    "    param = {\n",
    "        'eta':0.18,'max_depth':16,'subsample':0.94,'colsample_bytree':0.73,'lamdba':0.3,'alpha':0.8,\\\n",
    "        'min_child_weight':37,'num_boost_round':100,'objective':'reg:linear','booster':'gbtree',\\\n",
    "        'tree_method':'hist','max_bin':i\n",
    "    }\n",
    "    hist = xgb.cv(param,dtrain,30,metrics='rmse')\n",
    "    print(i,hist['test-rmse-mean'].iloc[-1])"
   ]
  },
  {
   "cell_type": "code",
   "execution_count": 25,
   "metadata": {},
   "outputs": [
    {
     "name": "stdout",
     "output_type": "stream",
     "text": [
      "141 0.485011\n",
      "142 0.484914333333\n",
      "143 0.485591\n",
      "144 0.485305333333\n",
      "145 0.485095\n",
      "146 0.485213333333\n",
      "147 0.485293\n",
      "148 0.484877\n",
      "149 0.485296\n",
      "150 0.484614333333\n",
      "151 0.484926\n"
     ]
    }
   ],
   "source": [
    "for i in np.arange(141,152,1):\n",
    "    param = {\n",
    "        'eta':0.18,'max_depth':16,'subsample':0.94,'colsample_bytree':0.73,'lamdba':0.3,'alpha':0.8,\\\n",
    "        'min_child_weight':37,'num_boost_round':100,'objective':'reg:linear','booster':'gbtree',\\\n",
    "        'tree_method':'hist','max_bin':i\n",
    "    }\n",
    "    hist = xgb.cv(param,dtrain,30,metrics='rmse')\n",
    "    print(i,hist['test-rmse-mean'].iloc[-1])"
   ]
  },
  {
   "cell_type": "code",
   "execution_count": 26,
   "metadata": {},
   "outputs": [
    {
     "name": "stdout",
     "output_type": "stream",
     "text": [
      "0.7 0.7 0.486201333333\n",
      "0.7 0.75 0.486024333333\n",
      "0.7 0.8 0.486316\n",
      "0.7 0.85 0.486374\n",
      "0.7 0.9 0.485943333333\n",
      "0.7 0.95 0.486025333333\n",
      "0.7 1.0 0.485818666667\n",
      "0.75 0.7 0.486210333333\n",
      "0.75 0.75 0.485908333333\n",
      "0.75 0.8 0.486296\n",
      "0.75 0.85 0.486074\n",
      "0.75 0.9 0.486158666667\n",
      "0.75 0.95 0.485779\n",
      "0.75 1.0 0.485745333333\n",
      "0.8 0.7 0.486064666667\n",
      "0.8 0.75 0.48583\n",
      "0.8 0.8 0.485734333333\n",
      "0.8 0.85 0.485532333333\n",
      "0.8 0.9 0.485664333333\n",
      "0.8 0.95 0.485473666667\n",
      "0.8 1.0 0.485992333333\n",
      "0.85 0.7 0.485864666667\n",
      "0.85 0.75 0.485765333333\n",
      "0.85 0.8 0.485901\n",
      "0.85 0.85 0.485109666667\n",
      "0.85 0.9 0.485195\n",
      "0.85 0.95 0.485277\n",
      "0.85 1.0 0.485122666667\n",
      "0.9 0.7 0.485344666667\n",
      "0.9 0.75 0.485296666667\n",
      "0.9 0.8 0.485528666667\n",
      "0.9 0.85 0.485494\n",
      "0.9 0.9 0.484926666667\n",
      "0.9 0.95 0.485077333333\n",
      "0.9 1.0 0.485125333333\n",
      "0.95 0.7 0.485293666667\n",
      "0.95 0.75 0.485143666667\n",
      "0.95 0.8 0.485034666667\n",
      "0.95 0.85 0.485011\n",
      "0.95 0.9 0.484867333333\n",
      "0.95 0.95 0.484746\n",
      "0.95 1.0 0.485259\n",
      "1.0 0.7 0.485438666667\n",
      "1.0 0.75 0.485214666667\n",
      "1.0 0.8 0.485312333333\n",
      "1.0 0.85 0.484837\n",
      "1.0 0.9 0.484743\n",
      "1.0 0.95 0.484517333333\n",
      "1.0 1.0 0.485257333333\n"
     ]
    }
   ],
   "source": [
    "for i in np.arange(0.7,1,0.05):\n",
    "    for j in np.arange(0.7,1,0.05):\n",
    "        param = {\n",
    "            'eta':0.18,'max_depth':16,'subsample':i,'colsample_bytree':j,'lamdba':0.3,'alpha':0.8,\\\n",
    "            'min_child_weight':37,'num_boost_round':100,'objective':'reg:linear','booster':'gbtree',\\\n",
    "            'tree_method':'hist','max_bin':150\n",
    "        }\n",
    "        hist = xgb.cv(param,dtrain,30,metrics='rmse')\n",
    "        print(i,j,hist['test-rmse-mean'].iloc[-1])"
   ]
  },
  {
   "cell_type": "code",
   "execution_count": 27,
   "metadata": {},
   "outputs": [
    {
     "name": "stdout",
     "output_type": "stream",
     "text": [
      "0.9 0.7 0.485344666667\n",
      "0.9 0.73 0.485239\n",
      "0.9 0.76 0.485503333333\n",
      "0.9 0.79 0.485447666667\n",
      "0.9 0.82 0.48592\n",
      "0.9 0.85 0.485494\n",
      "0.9 0.88 0.485302333333\n",
      "0.9 0.91 0.484979333333\n",
      "0.9 0.94 0.484912333333\n",
      "0.9 0.97 0.484983\n",
      "0.9 1.0 0.485125333333\n",
      "0.91 0.7 0.485313666667\n",
      "0.91 0.73 0.484976666667\n",
      "0.91 0.76 0.485063666667\n",
      "0.91 0.79 0.485553333333\n",
      "0.91 0.82 0.485225666667\n",
      "0.91 0.85 0.485148666667\n",
      "0.91 0.88 0.484789666667\n",
      "0.91 0.91 0.484848666667\n",
      "0.91 0.94 0.484924666667\n",
      "0.91 0.97 0.485783666667\n",
      "0.91 1.0 0.484651333333\n",
      "0.92 0.7 0.485342333333\n",
      "0.92 0.73 0.485165\n",
      "0.92 0.76 0.485655333333\n",
      "0.92 0.79 0.485350333333\n",
      "0.92 0.82 0.484730666667\n",
      "0.92 0.85 0.485456333333\n",
      "0.92 0.88 0.485019666667\n",
      "0.92 0.91 0.485436333333\n",
      "0.92 0.94 0.48528\n",
      "0.92 0.97 0.484995\n",
      "0.92 1.0 0.484800333333\n",
      "0.93 0.7 0.485350666667\n",
      "0.93 0.73 0.485439\n",
      "0.93 0.76 0.485379333333\n",
      "0.93 0.79 0.485197666667\n",
      "0.93 0.82 0.484941\n",
      "0.93 0.85 0.485518333333\n",
      "0.93 0.88 0.485166666667\n",
      "0.93 0.91 0.484866666667\n",
      "0.93 0.94 0.485050666667\n",
      "0.93 0.97 0.484759\n",
      "0.93 1.0 0.484952333333\n",
      "0.94 0.7 0.484974\n",
      "0.94 0.73 0.484614333333\n",
      "0.94 0.76 0.485743333333\n",
      "0.94 0.79 0.485434\n",
      "0.94 0.82 0.485119333333\n",
      "0.94 0.85 0.485599666667\n",
      "0.94 0.88 0.485158666667\n",
      "0.94 0.91 0.484928\n",
      "0.94 0.94 0.484727\n",
      "0.94 0.97 0.484874\n",
      "0.94 1.0 0.484983\n",
      "0.95 0.7 0.485293666667\n",
      "0.95 0.73 0.484974666667\n",
      "0.95 0.76 0.485547\n",
      "0.95 0.79 0.485226333333\n",
      "0.95 0.82 0.484665333333\n",
      "0.95 0.85 0.485011\n",
      "0.95 0.88 0.484817333333\n",
      "0.95 0.91 0.485282666667\n",
      "0.95 0.94 0.484997666667\n",
      "0.95 0.97 0.485317\n",
      "0.95 1.0 0.485259\n",
      "0.96 0.7 0.485093\n",
      "0.96 0.73 0.484647\n",
      "0.96 0.76 0.485474\n",
      "0.96 0.79 0.485140333333\n",
      "0.96 0.82 0.484972\n",
      "0.96 0.85 0.484832\n",
      "0.96 0.88 0.484546333333\n",
      "0.96 0.91 0.484754\n",
      "0.96 0.94 0.485113\n",
      "0.96 0.97 0.485073666667\n",
      "0.96 1.0 0.484601666667\n",
      "0.97 0.7 0.484948666667\n",
      "0.97 0.73 0.485260666667\n",
      "0.97 0.76 0.485412333333\n",
      "0.97 0.79 0.485003666667\n",
      "0.97 0.82 0.485070333333\n",
      "0.97 0.85 0.484866333333\n",
      "0.97 0.88 0.484971666667\n",
      "0.97 0.91 0.484755333333\n",
      "0.97 0.94 0.484899666667\n",
      "0.97 0.97 0.484568666667\n",
      "0.97 1.0 0.484554666667\n",
      "0.98 0.7 0.485196\n",
      "0.98 0.73 0.485092\n",
      "0.98 0.76 0.485369666667\n",
      "0.98 0.79 0.484878\n",
      "0.98 0.82 0.485315\n",
      "0.98 0.85 0.484817\n",
      "0.98 0.88 0.484496333333\n",
      "0.98 0.91 0.484726333333\n",
      "0.98 0.94 0.484412333333\n",
      "0.98 0.97 0.485119666667\n",
      "0.98 1.0 0.485394333333\n",
      "0.99 0.7 0.485317666667\n",
      "0.99 0.73 0.485497333333\n",
      "0.99 0.76 0.485432333333\n",
      "0.99 0.79 0.485313333333\n",
      "0.99 0.82 0.485551333333\n",
      "0.99 0.85 0.485368\n",
      "0.99 0.88 0.484681\n",
      "0.99 0.91 0.484691333333\n",
      "0.99 0.94 0.484926666667\n",
      "0.99 0.97 0.484917\n",
      "0.99 1.0 0.484618333333\n"
     ]
    }
   ],
   "source": [
    "for i in np.arange(0.9,1,0.01):\n",
    "    for j in np.arange(0.7,1,0.03):\n",
    "        param = {\n",
    "            'eta':0.18,'max_depth':16,'subsample':i,'colsample_bytree':j,'lamdba':0.3,'alpha':0.8,\\\n",
    "            'min_child_weight':37,'num_boost_round':100,'objective':'reg:linear','booster':'gbtree',\\\n",
    "            'tree_method':'hist','max_bin':150\n",
    "        }\n",
    "        hist = xgb.cv(param,dtrain,30,metrics='rmse')\n",
    "        print(i,j,hist['test-rmse-mean'].iloc[-1])"
   ]
  },
  {
   "cell_type": "code",
   "execution_count": 28,
   "metadata": {},
   "outputs": [
    {
     "name": "stdout",
     "output_type": "stream",
     "text": [
      "0.98 0.81 0.485118\n",
      "0.98 0.82 0.485315\n",
      "0.98 0.84 0.485382\n",
      "0.98 0.93 0.48485\n",
      "0.98 0.95 0.484915666667\n",
      "0.98 0.92 0.484672\n",
      "0.95 0.81 0.485296666667\n",
      "0.95 0.82 0.484665333333\n",
      "0.95 0.84 0.484998333333\n",
      "0.95 0.93 0.484794333333\n",
      "0.95 0.95 0.484746\n",
      "0.95 0.92 0.484392666667\n",
      "0.94 0.81 0.485542333333\n",
      "0.94 0.82 0.485119333333\n",
      "0.94 0.84 0.485367666667\n",
      "0.94 0.93 0.484912666667\n",
      "0.94 0.95 0.484831333333\n",
      "0.94 0.92 0.484865\n"
     ]
    }
   ],
   "source": [
    "for i in [0.98,0.95,0.94]:\n",
    "    for j in [0.81,0.82,0.84,0.93,0.95,0.92]:\n",
    "        param = {\n",
    "            'eta':0.18,'max_depth':16,'subsample':i,'colsample_bytree':j,'lamdba':0.3,'alpha':0.8,\\\n",
    "            'min_child_weight':37,'num_boost_round':100,'objective':'reg:linear','booster':'gbtree',\\\n",
    "            'tree_method':'hist','max_bin':150\n",
    "        }\n",
    "        hist = xgb.cv(param,dtrain,30,metrics='rmse')\n",
    "        print(i,j,hist['test-rmse-mean'].iloc[-1])"
   ]
  },
  {
   "cell_type": "code",
   "execution_count": 31,
   "metadata": {},
   "outputs": [
    {
     "name": "stdout",
     "output_type": "stream",
     "text": [
      "0.85 0.485139\n",
      "0.86 0.484587\n",
      "0.87 0.484552\n",
      "0.88 0.484733\n",
      "0.89 0.484572\n",
      "0.9 0.484040333333\n",
      "0.91 0.48485\n",
      "0.92 0.484506\n",
      "0.93 0.484225\n",
      "0.94 0.484413333333\n"
     ]
    }
   ],
   "source": [
    "for j in np.arange(0.85,0.95,0.01):\n",
    "    param = {\n",
    "            'eta':0.18,'max_depth':16,'subsample':0.98,'colsample_bytree':0.94,'lamdba':0.3,'alpha':j,\\\n",
    "            'min_child_weight':37,'num_boost_round':100,'objective':'reg:linear','booster':'gbtree',\\\n",
    "            'tree_method':'hist','max_bin':150\n",
    "    }\n",
    "    hist = xgb.cv(param,dtrain,30,metrics='rmse')\n",
    "    print(j,hist['test-rmse-mean'].iloc[-1])"
   ]
  },
  {
   "cell_type": "code",
   "execution_count": 58,
   "metadata": {
    "scrolled": true
   },
   "outputs": [
    {
     "name": "stdout",
     "output_type": "stream",
     "text": [
      "3 0.302710333333\n",
      "4 0.288521666667\n",
      "5 0.279879666667\n",
      "6 0.275520333333\n",
      "7 0.272027666667\n",
      "8 0.26981\n",
      "9 0.268912\n",
      "10 0.268429333333\n",
      "11 0.268654333333\n",
      "12 0.269368333333\n",
      "13 0.269845\n",
      "14 0.271134\n"
     ]
    },
    {
     "ename": "KeyboardInterrupt",
     "evalue": "",
     "output_type": "error",
     "traceback": [
      "\u001b[1;31m---------------------------------------------------------------------------\u001b[0m",
      "\u001b[1;31mKeyboardInterrupt\u001b[0m                         Traceback (most recent call last)",
      "\u001b[1;32m<ipython-input-58-39e14e32bb7d>\u001b[0m in \u001b[0;36m<module>\u001b[1;34m()\u001b[0m\n\u001b[0;32m      5\u001b[0m             \u001b[1;34m'tree_method'\u001b[0m\u001b[1;33m:\u001b[0m\u001b[1;34m'hist'\u001b[0m\u001b[1;33m,\u001b[0m\u001b[1;34m'max_bin'\u001b[0m\u001b[1;33m:\u001b[0m\u001b[1;36m150\u001b[0m\u001b[1;33m\u001b[0m\u001b[0m\n\u001b[0;32m      6\u001b[0m     }\n\u001b[1;32m----> 7\u001b[1;33m     \u001b[0mhist\u001b[0m \u001b[1;33m=\u001b[0m \u001b[0mxgb\u001b[0m\u001b[1;33m.\u001b[0m\u001b[0mcv\u001b[0m\u001b[1;33m(\u001b[0m\u001b[0mparam\u001b[0m\u001b[1;33m,\u001b[0m\u001b[0mdtrain\u001b[0m\u001b[1;33m,\u001b[0m\u001b[1;36m100\u001b[0m\u001b[1;33m,\u001b[0m\u001b[0mmetrics\u001b[0m\u001b[1;33m=\u001b[0m\u001b[1;34m'rmse'\u001b[0m\u001b[1;33m)\u001b[0m\u001b[1;33m\u001b[0m\u001b[0m\n\u001b[0m\u001b[0;32m      8\u001b[0m     \u001b[0mprint\u001b[0m\u001b[1;33m(\u001b[0m\u001b[0mj\u001b[0m\u001b[1;33m,\u001b[0m\u001b[0mhist\u001b[0m\u001b[1;33m[\u001b[0m\u001b[1;34m'test-rmse-mean'\u001b[0m\u001b[1;33m]\u001b[0m\u001b[1;33m.\u001b[0m\u001b[0miloc\u001b[0m\u001b[1;33m[\u001b[0m\u001b[1;33m-\u001b[0m\u001b[1;36m1\u001b[0m\u001b[1;33m]\u001b[0m\u001b[1;33m)\u001b[0m\u001b[1;33m\u001b[0m\u001b[0m\n",
      "\u001b[1;32m~\\Anaconda3\\lib\\site-packages\\xgboost\\training.py\u001b[0m in \u001b[0;36mcv\u001b[1;34m(params, dtrain, num_boost_round, nfold, stratified, folds, metrics, obj, feval, maximize, early_stopping_rounds, fpreproc, as_pandas, verbose_eval, show_stdv, seed, callbacks, shuffle)\u001b[0m\n\u001b[0;32m    404\u001b[0m                            evaluation_result_list=None))\n\u001b[0;32m    405\u001b[0m         \u001b[1;32mfor\u001b[0m \u001b[0mfold\u001b[0m \u001b[1;32min\u001b[0m \u001b[0mcvfolds\u001b[0m\u001b[1;33m:\u001b[0m\u001b[1;33m\u001b[0m\u001b[0m\n\u001b[1;32m--> 406\u001b[1;33m             \u001b[0mfold\u001b[0m\u001b[1;33m.\u001b[0m\u001b[0mupdate\u001b[0m\u001b[1;33m(\u001b[0m\u001b[0mi\u001b[0m\u001b[1;33m,\u001b[0m \u001b[0mobj\u001b[0m\u001b[1;33m)\u001b[0m\u001b[1;33m\u001b[0m\u001b[0m\n\u001b[0m\u001b[0;32m    407\u001b[0m         \u001b[0mres\u001b[0m \u001b[1;33m=\u001b[0m \u001b[0maggcv\u001b[0m\u001b[1;33m(\u001b[0m\u001b[1;33m[\u001b[0m\u001b[0mf\u001b[0m\u001b[1;33m.\u001b[0m\u001b[0meval\u001b[0m\u001b[1;33m(\u001b[0m\u001b[0mi\u001b[0m\u001b[1;33m,\u001b[0m \u001b[0mfeval\u001b[0m\u001b[1;33m)\u001b[0m \u001b[1;32mfor\u001b[0m \u001b[0mf\u001b[0m \u001b[1;32min\u001b[0m \u001b[0mcvfolds\u001b[0m\u001b[1;33m]\u001b[0m\u001b[1;33m)\u001b[0m\u001b[1;33m\u001b[0m\u001b[0m\n\u001b[0;32m    408\u001b[0m \u001b[1;33m\u001b[0m\u001b[0m\n",
      "\u001b[1;32m~\\Anaconda3\\lib\\site-packages\\xgboost\\training.py\u001b[0m in \u001b[0;36mupdate\u001b[1;34m(self, iteration, fobj)\u001b[0m\n\u001b[0;32m    216\u001b[0m     \u001b[1;32mdef\u001b[0m \u001b[0mupdate\u001b[0m\u001b[1;33m(\u001b[0m\u001b[0mself\u001b[0m\u001b[1;33m,\u001b[0m \u001b[0miteration\u001b[0m\u001b[1;33m,\u001b[0m \u001b[0mfobj\u001b[0m\u001b[1;33m)\u001b[0m\u001b[1;33m:\u001b[0m\u001b[1;33m\u001b[0m\u001b[0m\n\u001b[0;32m    217\u001b[0m         \u001b[1;34m\"\"\"\"Update the boosters for one iteration\"\"\"\u001b[0m\u001b[1;33m\u001b[0m\u001b[0m\n\u001b[1;32m--> 218\u001b[1;33m         \u001b[0mself\u001b[0m\u001b[1;33m.\u001b[0m\u001b[0mbst\u001b[0m\u001b[1;33m.\u001b[0m\u001b[0mupdate\u001b[0m\u001b[1;33m(\u001b[0m\u001b[0mself\u001b[0m\u001b[1;33m.\u001b[0m\u001b[0mdtrain\u001b[0m\u001b[1;33m,\u001b[0m \u001b[0miteration\u001b[0m\u001b[1;33m,\u001b[0m \u001b[0mfobj\u001b[0m\u001b[1;33m)\u001b[0m\u001b[1;33m\u001b[0m\u001b[0m\n\u001b[0m\u001b[0;32m    219\u001b[0m \u001b[1;33m\u001b[0m\u001b[0m\n\u001b[0;32m    220\u001b[0m     \u001b[1;32mdef\u001b[0m \u001b[0meval\u001b[0m\u001b[1;33m(\u001b[0m\u001b[0mself\u001b[0m\u001b[1;33m,\u001b[0m \u001b[0miteration\u001b[0m\u001b[1;33m,\u001b[0m \u001b[0mfeval\u001b[0m\u001b[1;33m)\u001b[0m\u001b[1;33m:\u001b[0m\u001b[1;33m\u001b[0m\u001b[0m\n",
      "\u001b[1;32m~\\Anaconda3\\lib\\site-packages\\xgboost\\core.py\u001b[0m in \u001b[0;36mupdate\u001b[1;34m(self, dtrain, iteration, fobj)\u001b[0m\n\u001b[0;32m    896\u001b[0m         \u001b[1;32mif\u001b[0m \u001b[0mfobj\u001b[0m \u001b[1;32mis\u001b[0m \u001b[1;32mNone\u001b[0m\u001b[1;33m:\u001b[0m\u001b[1;33m\u001b[0m\u001b[0m\n\u001b[0;32m    897\u001b[0m             _check_call(_LIB.XGBoosterUpdateOneIter(self.handle, ctypes.c_int(iteration),\n\u001b[1;32m--> 898\u001b[1;33m                                                     dtrain.handle))\n\u001b[0m\u001b[0;32m    899\u001b[0m         \u001b[1;32melse\u001b[0m\u001b[1;33m:\u001b[0m\u001b[1;33m\u001b[0m\u001b[0m\n\u001b[0;32m    900\u001b[0m             \u001b[0mpred\u001b[0m \u001b[1;33m=\u001b[0m \u001b[0mself\u001b[0m\u001b[1;33m.\u001b[0m\u001b[0mpredict\u001b[0m\u001b[1;33m(\u001b[0m\u001b[0mdtrain\u001b[0m\u001b[1;33m)\u001b[0m\u001b[1;33m\u001b[0m\u001b[0m\n",
      "\u001b[1;31mKeyboardInterrupt\u001b[0m: "
     ]
    }
   ],
   "source": [
    "for j in np.arange(3,20,1):\n",
    "    param = {\n",
    "            'eta':0.18,'max_depth':j,'subsample':0.98,'colsample_bytree':0.94,'lamdba':0.3,'alpha':0.9,\\\n",
    "            'min_child_weight':37,'num_boost_round':100,'objective':'reg:linear','booster':'gbtree',\\\n",
    "            'tree_method':'hist','max_bin':150\n",
    "    }\n",
    "    hist = xgb.cv(param,dtrain,100,metrics='rmse')\n",
    "    print(j,hist['test-rmse-mean'].iloc[-1])"
   ]
  },
  {
   "cell_type": "code",
   "execution_count": 94,
   "metadata": {},
   "outputs": [
    {
     "ename": "KeyboardInterrupt",
     "evalue": "",
     "output_type": "error",
     "traceback": [
      "\u001b[1;31m---------------------------------------------------------------------------\u001b[0m",
      "\u001b[1;31mKeyboardInterrupt\u001b[0m                         Traceback (most recent call last)",
      "\u001b[1;32m<ipython-input-94-13ae953bdb03>\u001b[0m in \u001b[0;36m<module>\u001b[1;34m()\u001b[0m\n\u001b[0;32m      5\u001b[0m             \u001b[1;34m'tree_method'\u001b[0m\u001b[1;33m:\u001b[0m\u001b[1;34m'hist'\u001b[0m\u001b[1;33m,\u001b[0m\u001b[1;34m'max_bin'\u001b[0m\u001b[1;33m:\u001b[0m\u001b[1;36m150\u001b[0m\u001b[1;33m\u001b[0m\u001b[0m\n\u001b[0;32m      6\u001b[0m     }\n\u001b[1;32m----> 7\u001b[1;33m     \u001b[0mhist\u001b[0m \u001b[1;33m=\u001b[0m \u001b[0mxgb\u001b[0m\u001b[1;33m.\u001b[0m\u001b[0mcv\u001b[0m\u001b[1;33m(\u001b[0m\u001b[0mparam\u001b[0m\u001b[1;33m,\u001b[0m\u001b[0mdtrain\u001b[0m\u001b[1;33m,\u001b[0m\u001b[1;36m2000\u001b[0m\u001b[1;33m,\u001b[0m\u001b[0mmetrics\u001b[0m\u001b[1;33m=\u001b[0m\u001b[1;34m'rmse'\u001b[0m\u001b[1;33m)\u001b[0m\u001b[1;33m\u001b[0m\u001b[0m\n\u001b[0m\u001b[0;32m      8\u001b[0m     \u001b[0mprint\u001b[0m\u001b[1;33m(\u001b[0m\u001b[0mj\u001b[0m\u001b[1;33m,\u001b[0m\u001b[0mhist\u001b[0m\u001b[1;33m[\u001b[0m\u001b[1;34m'test-rmse-mean'\u001b[0m\u001b[1;33m]\u001b[0m\u001b[1;33m.\u001b[0m\u001b[0miloc\u001b[0m\u001b[1;33m[\u001b[0m\u001b[1;33m-\u001b[0m\u001b[1;36m1\u001b[0m\u001b[1;33m]\u001b[0m\u001b[1;33m)\u001b[0m\u001b[1;33m\u001b[0m\u001b[0m\n",
      "\u001b[1;32m~\\Anaconda3\\lib\\site-packages\\xgboost\\training.py\u001b[0m in \u001b[0;36mcv\u001b[1;34m(params, dtrain, num_boost_round, nfold, stratified, folds, metrics, obj, feval, maximize, early_stopping_rounds, fpreproc, as_pandas, verbose_eval, show_stdv, seed, callbacks, shuffle)\u001b[0m\n\u001b[0;32m    404\u001b[0m                            evaluation_result_list=None))\n\u001b[0;32m    405\u001b[0m         \u001b[1;32mfor\u001b[0m \u001b[0mfold\u001b[0m \u001b[1;32min\u001b[0m \u001b[0mcvfolds\u001b[0m\u001b[1;33m:\u001b[0m\u001b[1;33m\u001b[0m\u001b[0m\n\u001b[1;32m--> 406\u001b[1;33m             \u001b[0mfold\u001b[0m\u001b[1;33m.\u001b[0m\u001b[0mupdate\u001b[0m\u001b[1;33m(\u001b[0m\u001b[0mi\u001b[0m\u001b[1;33m,\u001b[0m \u001b[0mobj\u001b[0m\u001b[1;33m)\u001b[0m\u001b[1;33m\u001b[0m\u001b[0m\n\u001b[0m\u001b[0;32m    407\u001b[0m         \u001b[0mres\u001b[0m \u001b[1;33m=\u001b[0m \u001b[0maggcv\u001b[0m\u001b[1;33m(\u001b[0m\u001b[1;33m[\u001b[0m\u001b[0mf\u001b[0m\u001b[1;33m.\u001b[0m\u001b[0meval\u001b[0m\u001b[1;33m(\u001b[0m\u001b[0mi\u001b[0m\u001b[1;33m,\u001b[0m \u001b[0mfeval\u001b[0m\u001b[1;33m)\u001b[0m \u001b[1;32mfor\u001b[0m \u001b[0mf\u001b[0m \u001b[1;32min\u001b[0m \u001b[0mcvfolds\u001b[0m\u001b[1;33m]\u001b[0m\u001b[1;33m)\u001b[0m\u001b[1;33m\u001b[0m\u001b[0m\n\u001b[0;32m    408\u001b[0m \u001b[1;33m\u001b[0m\u001b[0m\n",
      "\u001b[1;32m~\\Anaconda3\\lib\\site-packages\\xgboost\\training.py\u001b[0m in \u001b[0;36mupdate\u001b[1;34m(self, iteration, fobj)\u001b[0m\n\u001b[0;32m    216\u001b[0m     \u001b[1;32mdef\u001b[0m \u001b[0mupdate\u001b[0m\u001b[1;33m(\u001b[0m\u001b[0mself\u001b[0m\u001b[1;33m,\u001b[0m \u001b[0miteration\u001b[0m\u001b[1;33m,\u001b[0m \u001b[0mfobj\u001b[0m\u001b[1;33m)\u001b[0m\u001b[1;33m:\u001b[0m\u001b[1;33m\u001b[0m\u001b[0m\n\u001b[0;32m    217\u001b[0m         \u001b[1;34m\"\"\"\"Update the boosters for one iteration\"\"\"\u001b[0m\u001b[1;33m\u001b[0m\u001b[0m\n\u001b[1;32m--> 218\u001b[1;33m         \u001b[0mself\u001b[0m\u001b[1;33m.\u001b[0m\u001b[0mbst\u001b[0m\u001b[1;33m.\u001b[0m\u001b[0mupdate\u001b[0m\u001b[1;33m(\u001b[0m\u001b[0mself\u001b[0m\u001b[1;33m.\u001b[0m\u001b[0mdtrain\u001b[0m\u001b[1;33m,\u001b[0m \u001b[0miteration\u001b[0m\u001b[1;33m,\u001b[0m \u001b[0mfobj\u001b[0m\u001b[1;33m)\u001b[0m\u001b[1;33m\u001b[0m\u001b[0m\n\u001b[0m\u001b[0;32m    219\u001b[0m \u001b[1;33m\u001b[0m\u001b[0m\n\u001b[0;32m    220\u001b[0m     \u001b[1;32mdef\u001b[0m \u001b[0meval\u001b[0m\u001b[1;33m(\u001b[0m\u001b[0mself\u001b[0m\u001b[1;33m,\u001b[0m \u001b[0miteration\u001b[0m\u001b[1;33m,\u001b[0m \u001b[0mfeval\u001b[0m\u001b[1;33m)\u001b[0m\u001b[1;33m:\u001b[0m\u001b[1;33m\u001b[0m\u001b[0m\n",
      "\u001b[1;32m~\\Anaconda3\\lib\\site-packages\\xgboost\\core.py\u001b[0m in \u001b[0;36mupdate\u001b[1;34m(self, dtrain, iteration, fobj)\u001b[0m\n\u001b[0;32m    896\u001b[0m         \u001b[1;32mif\u001b[0m \u001b[0mfobj\u001b[0m \u001b[1;32mis\u001b[0m \u001b[1;32mNone\u001b[0m\u001b[1;33m:\u001b[0m\u001b[1;33m\u001b[0m\u001b[0m\n\u001b[0;32m    897\u001b[0m             _check_call(_LIB.XGBoosterUpdateOneIter(self.handle, ctypes.c_int(iteration),\n\u001b[1;32m--> 898\u001b[1;33m                                                     dtrain.handle))\n\u001b[0m\u001b[0;32m    899\u001b[0m         \u001b[1;32melse\u001b[0m\u001b[1;33m:\u001b[0m\u001b[1;33m\u001b[0m\u001b[0m\n\u001b[0;32m    900\u001b[0m             \u001b[0mpred\u001b[0m \u001b[1;33m=\u001b[0m \u001b[0mself\u001b[0m\u001b[1;33m.\u001b[0m\u001b[0mpredict\u001b[0m\u001b[1;33m(\u001b[0m\u001b[0mdtrain\u001b[0m\u001b[1;33m)\u001b[0m\u001b[1;33m\u001b[0m\u001b[0m\n",
      "\u001b[1;31mKeyboardInterrupt\u001b[0m: "
     ]
    }
   ],
   "source": [
    "for j in np.arange(0.01,0.04,0.01):\n",
    "    param = {\n",
    "            'eta':j,'max_depth':10,'subsample':0.98,'colsample_bytree':0.94,'lamdba':0.3,'alpha':0.9,\\\n",
    "            'min_child_weight':37,'num_boost_round':100,'objective':'reg:linear','booster':'gbtree',\\\n",
    "            'tree_method':'hist','max_bin':150\n",
    "    }\n",
    "    hist = xgb.cv(param,dtrain,2000,metrics='rmse')\n",
    "    print(j,hist['test-rmse-mean'].iloc[-1])"
   ]
  },
  {
   "cell_type": "markdown",
   "metadata": {},
   "source": [
    "## start from here"
   ]
  },
  {
   "cell_type": "code",
   "execution_count": 28,
   "metadata": {
    "collapsed": true
   },
   "outputs": [],
   "source": [
    "features3 = pd.read_csv('3features.csv')"
   ]
  },
  {
   "cell_type": "code",
   "execution_count": 29,
   "metadata": {
    "collapsed": true
   },
   "outputs": [],
   "source": [
    "train = pd.merge(train,features3,how='left',on='id')\n",
    "test = pd.merge(test,features3,how='left',on='id')\n",
    "vtrain = pd.merge(vtrain,features3,how='left',on='id')\n",
    "vval = pd.merge(vval,features3,how='left',on='id')"
   ]
  },
  {
   "cell_type": "code",
   "execution_count": 30,
   "metadata": {
    "collapsed": true
   },
   "outputs": [],
   "source": [
    "def new_holi(data):\n",
    "    if data.holi==1 or data.dow==5 or data.dow==6:\n",
    "        return 1\n",
    "    else:\n",
    "        return 0"
   ]
  },
  {
   "cell_type": "code",
   "execution_count": 31,
   "metadata": {
    "collapsed": true
   },
   "outputs": [],
   "source": [
    "train['new_holi'] = train.apply(new_holi,axis=1)\n",
    "test['new_holi'] = test.apply(new_holi,axis=1)\n",
    "vtrain['new_holi'] = vtrain.apply(new_holi,axis=1)\n",
    "vval['new_holi'] = vval.apply(new_holi,axis=1)"
   ]
  },
  {
   "cell_type": "code",
   "execution_count": 32,
   "metadata": {
    "scrolled": true
   },
   "outputs": [
    {
     "data": {
      "text/plain": [
       "Index(['air_store_id', 'visit_date', 'min_visitors', 'mean_visitors',\n",
       "       'median_visitors', 'max_visitors', 'count_observations', 'rs1_x',\n",
       "       'rv1_x', 'rs2_x', 'rv2_x', 'rs1_y', 'rv1_y', 'rs2_y', 'rv2_y', 'id',\n",
       "       'total_reserv_sum', 'total_reserv_mean', 'total_reserv_dt_diff_mean',\n",
       "       'date_int', 'var_max_lat', 'var_max_long', 'lon_plus_lat', 'dom', 'doq',\n",
       "       'dow', 'doy', 'holi', 'month', 'quarter', 'store', 'visitors', 'year',\n",
       "       'last_quarter_gen_pop', 'last_quarter_s_pop', 'store_pop',\n",
       "       'store_genre_pop', 'genre_pop', 'store_pop_monthly', 'last_genre_pop',\n",
       "       'last_month_comp', 'last_quarter_comp', 'dow_pattern_2016',\n",
       "       'dom_pattern_train_x', 'doy_pattern_2016', 'gen0', 'gen1', 'gen2',\n",
       "       'gen3', 'gen4'],\n",
       "      dtype='object')"
      ]
     },
     "execution_count": 32,
     "metadata": {},
     "output_type": "execute_result"
    }
   ],
   "source": [
    "train.columns[:50]"
   ]
  },
  {
   "cell_type": "code",
   "execution_count": 33,
   "metadata": {
    "collapsed": true
   },
   "outputs": [],
   "source": [
    "drop_col = ['id','visitors','air_store_id','visit_date',\n",
    "            'store_pop','store_genre_pop', 'genre_pop',\n",
    "            'holi_mean', 'nonholi_mean',\n",
    "           'dow_pattern_2016','dom_pattern_train_x', 'doy_pattern_2016']"
   ]
  },
  {
   "cell_type": "code",
   "execution_count": 34,
   "metadata": {
    "collapsed": true
   },
   "outputs": [],
   "source": [
    "dtrain = xgb.DMatrix(train.drop(drop_col,axis=1),train.visitors.apply(np.log1p))\n",
    "dtest = xgb.DMatrix(test.drop(drop_col,axis=1))\n",
    "dvval = xgb.DMatrix(vval.drop(drop_col,axis=1))\n",
    "dvtrain = xgb.DMatrix(vtrain.drop(drop_col,axis=1),vtrain.visitors.apply(np.log1p))"
   ]
  },
  {
   "cell_type": "code",
   "execution_count": 35,
   "metadata": {},
   "outputs": [
    {
     "name": "stdout",
     "output_type": "stream",
     "text": [
      "0.1 0.507782\n",
      "0.15 0.495538333333\n"
     ]
    }
   ],
   "source": [
    "for i in np.arange(0.1,0.2,0.05):\n",
    "    param = {\n",
    "        'eta':i,'max_depth':16,'subsample':0.94,'colsample_bytree':0.73,'lamdba':0.3,'alpha':0.8,\\\n",
    "        'min_child_weight':29,'num_boost_round':100,'objective':'reg:linear','booster':'gbtree',\\\n",
    "        'tree_method':'hist','max_bin':150\n",
    "    }\n",
    "    hist = xgb.cv(param,dvtrain,30,metrics='rmse')\n",
    "    print(i,hist['test-rmse-mean'].iloc[-1])"
   ]
  },
  {
   "cell_type": "code",
   "execution_count": null,
   "metadata": {
    "collapsed": true
   },
   "outputs": [],
   "source": []
  },
  {
   "cell_type": "code",
   "execution_count": null,
   "metadata": {
    "collapsed": true
   },
   "outputs": [],
   "source": []
  },
  {
   "cell_type": "code",
   "execution_count": null,
   "metadata": {
    "collapsed": true
   },
   "outputs": [],
   "source": []
  },
  {
   "cell_type": "code",
   "execution_count": null,
   "metadata": {
    "collapsed": true
   },
   "outputs": [],
   "source": []
  },
  {
   "cell_type": "code",
   "execution_count": null,
   "metadata": {
    "collapsed": true
   },
   "outputs": [],
   "source": []
  },
  {
   "cell_type": "code",
   "execution_count": null,
   "metadata": {
    "collapsed": true
   },
   "outputs": [],
   "source": []
  },
  {
   "cell_type": "code",
   "execution_count": null,
   "metadata": {
    "collapsed": true
   },
   "outputs": [],
   "source": []
  },
  {
   "cell_type": "code",
   "execution_count": null,
   "metadata": {
    "collapsed": true
   },
   "outputs": [],
   "source": []
  },
  {
   "cell_type": "code",
   "execution_count": null,
   "metadata": {
    "collapsed": true
   },
   "outputs": [],
   "source": []
  },
  {
   "cell_type": "code",
   "execution_count": null,
   "metadata": {
    "collapsed": true
   },
   "outputs": [],
   "source": []
  },
  {
   "cell_type": "code",
   "execution_count": null,
   "metadata": {
    "collapsed": true
   },
   "outputs": [],
   "source": []
  },
  {
   "cell_type": "code",
   "execution_count": null,
   "metadata": {
    "collapsed": true
   },
   "outputs": [],
   "source": []
  },
  {
   "cell_type": "code",
   "execution_count": null,
   "metadata": {
    "collapsed": true
   },
   "outputs": [],
   "source": []
  },
  {
   "cell_type": "code",
   "execution_count": null,
   "metadata": {
    "collapsed": true
   },
   "outputs": [],
   "source": []
  },
  {
   "cell_type": "code",
   "execution_count": null,
   "metadata": {
    "collapsed": true
   },
   "outputs": [],
   "source": []
  },
  {
   "cell_type": "code",
   "execution_count": null,
   "metadata": {
    "collapsed": true
   },
   "outputs": [],
   "source": []
  },
  {
   "cell_type": "code",
   "execution_count": null,
   "metadata": {
    "collapsed": true
   },
   "outputs": [],
   "source": []
  },
  {
   "cell_type": "code",
   "execution_count": 112,
   "metadata": {},
   "outputs": [
    {
     "data": {
      "text/plain": [
       "Index(['air_store_id', 'visit_date', 'min_visitors', 'mean_visitors',\n",
       "       'median_visitors', 'max_visitors', 'count_observations', 'rs1_x',\n",
       "       'rv1_x', 'rs2_x', 'rv2_x', 'rs1_y', 'rv1_y', 'rs2_y', 'rv2_y', 'id',\n",
       "       'total_reserv_sum', 'total_reserv_mean', 'total_reserv_dt_diff_mean',\n",
       "       'date_int', 'var_max_lat', 'var_max_long', 'lon_plus_lat', 'dom', 'doq',\n",
       "       'dow', 'doy', 'holi', 'month', 'quarter', 'store', 'visitors', 'year',\n",
       "       'last_quarter_gen_pop', 'last_quarter_s_pop', 'store_pop',\n",
       "       'store_genre_pop', 'genre_pop', 'store_pop_monthly', 'last_genre_pop',\n",
       "       'last_month_comp', 'last_quarter_comp', 'dow_pattern_2016',\n",
       "       'dom_pattern_train_x', 'doy_pattern_2016', 'gen0', 'gen1', 'gen2',\n",
       "       'gen3', 'gen4'],\n",
       "      dtype='object')"
      ]
     },
     "execution_count": 112,
     "metadata": {},
     "output_type": "execute_result"
    }
   ],
   "source": [
    "train.columns[:50]"
   ]
  },
  {
   "cell_type": "code",
   "execution_count": 130,
   "metadata": {
    "collapsed": true
   },
   "outputs": [],
   "source": [
    "#'last_quarter_gen_pop', 'last_quarter_s_pop','last_month_comp', 'last_quarter_comp','store_pop_monthly','store_pop',\n",
    "dvval = xgb.DMatrix(vval.drop(['id','visitors','air_store_id','visit_date'\n",
    "                              ,'holi_mean', 'nonholi_mean',\n",
    "                              'dow_pattern_2016',\n",
    "                              'dom_pattern_train_x', 'doy_pattern_2016' \n",
    "                              ],axis=1))\n",
    "dvtrain = xgb.DMatrix(vtrain.drop(['id','visitors','air_store_id','visit_date'\n",
    "                                   ,'holi_mean', 'nonholi_mean',\n",
    "                                  'dow_pattern_2016',\n",
    "                                  'dom_pattern_train_x', 'doy_pattern_2016'\n",
    "                                  ],axis=1),vtrain.visitors.apply(np.log1p))"
   ]
  },
  {
   "cell_type": "code",
   "execution_count": 40,
   "metadata": {
    "collapsed": true
   },
   "outputs": [],
   "source": [
    "def rmsle(y,preds):\n",
    "    return np.sqrt(np.mean(np.power((y-preds),2)))"
   ]
  },
  {
   "cell_type": "code",
   "execution_count": 41,
   "metadata": {},
   "outputs": [
    {
     "name": "stdout",
     "output_type": "stream",
     "text": [
      "0.506680630714\n"
     ]
    }
   ],
   "source": [
    "param = {\n",
    "            'eta':0.01,'max_depth':10,'subsample':0.85,'colsample_bytree':0.75,'lamdba':0.3,'alpha':0.9,\\\n",
    "            'min_child_weight':22,'num_boost_round':300,'objective':'reg:linear','booster':'gbtree',\\\n",
    "            'tree_method':'hist','max_bin':180\n",
    "    }\n",
    "bst = xgb.train(param,dvtrain,300)\n",
    "preds = bst.predict(dvval)\n",
    "print(rmsle(vval.visitors.apply(np.log1p),preds))"
   ]
  },
  {
   "cell_type": "code",
   "execution_count": null,
   "metadata": {
    "collapsed": true
   },
   "outputs": [],
   "source": []
  },
  {
   "cell_type": "code",
   "execution_count": 48,
   "metadata": {},
   "outputs": [
    {
     "name": "stdout",
     "output_type": "stream",
     "text": [
      "0.03 0.490273333333\n",
      "0.04 0.489056\n",
      "0.05 0.488359333333\n",
      "0.06 0.488029666667\n",
      "0.07 0.488181666667\n",
      "0.08 0.488254333333\n",
      "0.09 0.489037666667\n",
      "0.1 0.489214\n",
      "=====\n",
      "0.06 0.488029666667\n"
     ]
    }
   ],
   "source": [
    "bst_eta = 0.03\n",
    "rs = 0.9\n",
    "for i in np.arange(0.03,0.1,0.01):\n",
    "    param = {\n",
    "        'eta':i,'max_depth':10,'subsample':0.98,'colsample_bytree':0.94,'lamdba':0.3,'alpha':0.9,\\\n",
    "        'min_child_weight':37,'num_boost_round':300,'objective':'reg:linear','booster':'gbtree',\\\n",
    "        'tree_method':'hist','max_bin':150\n",
    "    }\n",
    "    hist = xgb.cv(param,dvtrain,300,metrics='rmse')['test-rmse-mean'].iloc[-1]\n",
    "    print(i,hist)\n",
    "    if hist<rs:\n",
    "        bst_eta = i\n",
    "        rs = hist\n",
    "rs_eta = rs\n",
    "print('=====')\n",
    "print(bst_eta,rs_eta)"
   ]
  },
  {
   "cell_type": "code",
   "execution_count": 49,
   "metadata": {},
   "outputs": [
    {
     "name": "stdout",
     "output_type": "stream",
     "text": [
      "20 0.487928333333\n",
      "21 0.488024333333\n",
      "22 0.488072333333\n",
      "23 0.487992666667\n",
      "24 0.487982\n",
      "25 0.488077666667\n",
      "26 0.488001666667\n",
      "27 0.487972333333\n",
      "28 0.488232333333\n",
      "29 0.488173\n",
      "30 0.488090666667\n",
      "31 0.488198333333\n",
      "32 0.488092666667\n",
      "33 0.488201333333\n",
      "34 0.487908\n",
      "35 0.488019666667\n",
      "36 0.487957666667\n",
      "37 0.488029666667\n",
      "38 0.488132666667\n",
      "39 0.488354333333\n",
      "=====\n",
      "34 0.487908\n"
     ]
    }
   ],
   "source": [
    "bst_child = 37\n",
    "rs = rs_eta\n",
    "for i in np.arange(20,40,1):\n",
    "    param = {\n",
    "        'eta':bst_eta,'max_depth':10,'subsample':0.98,'colsample_bytree':0.94,'lamdba':0.3,'alpha':0.9,\\\n",
    "        'min_child_weight':i,'num_boost_round':300,'objective':'reg:linear','booster':'gbtree',\\\n",
    "        'tree_method':'hist','max_bin':150\n",
    "    }\n",
    "    hist = xgb.cv(param,dvtrain,300,metrics='rmse')['test-rmse-mean'].iloc[-1]\n",
    "    print(i,hist)\n",
    "    if hist<rs:\n",
    "        bst_child=i\n",
    "        rs = hist\n",
    "rs_child = rs\n",
    "print('=====')\n",
    "print(bst_child,rs_child)"
   ]
  },
  {
   "cell_type": "code",
   "execution_count": 51,
   "metadata": {},
   "outputs": [
    {
     "name": "stdout",
     "output_type": "stream",
     "text": [
      "80 0.488260666667\n",
      "100 0.488222333333\n",
      "120 0.487990666667\n",
      "140 0.488113666667\n",
      "160 0.488091333333\n",
      "180 0.488117333333\n",
      "=====\n",
      "150 0.487908\n"
     ]
    }
   ],
   "source": [
    "bst_bin = 150\n",
    "rs = rs_child\n",
    "for i in np.arange(80,200,20):\n",
    "    param = {\n",
    "        'eta':bst_eta,'max_depth':10,'subsample':0.98,'colsample_bytree':0.94,'lamdba':0.3,'alpha':0.9,\\\n",
    "        'min_child_weight':bst_child,'num_boost_round':300,'objective':'reg:linear','booster':'gbtree',\\\n",
    "        'tree_method':'hist','max_bin':i\n",
    "    }\n",
    "    hist = xgb.cv(param,dvtrain,300,metrics='rmse')['test-rmse-mean'].iloc[-1]\n",
    "    print(i,hist)\n",
    "    if hist<rs:\n",
    "        bst_bin=i\n",
    "        rs = hist\n",
    "rs_bin = rs\n",
    "print('=====')\n",
    "print(bst_bin,rs_bin)"
   ]
  },
  {
   "cell_type": "code",
   "execution_count": 58,
   "metadata": {},
   "outputs": [
    {
     "name": "stdout",
     "output_type": "stream",
     "text": [
      "0.75 0.75 0.488006\n",
      "0.75 0.77 0.487971\n",
      "0.75 0.79 0.487966666667\n",
      "0.75 0.81 0.488034333333\n",
      "0.75 0.83 0.487984333333\n",
      "0.75 0.85 0.487988666667\n",
      "0.75 0.87 0.487983666667\n",
      "0.75 0.89 0.488226666667\n",
      "0.75 0.91 0.488030666667\n",
      "0.75 0.93 0.488020666667\n",
      "0.77 0.75 0.487956333333\n",
      "0.77 0.77 0.488072333333\n",
      "0.77 0.79 0.487906\n",
      "0.77 0.81 0.487894333333\n",
      "0.77 0.83 0.487974\n",
      "0.77 0.85 0.487918333333\n",
      "0.77 0.87 0.488146666667\n",
      "0.77 0.89 0.488120333333\n",
      "0.77 0.91 0.487973\n",
      "0.77 0.93 0.488048333333\n",
      "0.79 0.75 0.487959333333\n",
      "0.79 0.77 0.487927333333\n",
      "0.79 0.79 0.488073\n",
      "0.79 0.81 0.487863333333\n",
      "0.79 0.83 0.487906\n",
      "0.79 0.85 0.487973\n",
      "0.79 0.87 0.487893666667\n",
      "0.79 0.89 0.487877333333\n",
      "0.79 0.91 0.488010333333\n",
      "0.79 0.93 0.487926666667\n",
      "0.81 0.75 0.487874333333\n",
      "0.81 0.77 0.487850666667\n",
      "0.81 0.79 0.487944666667\n",
      "0.81 0.81 0.488012\n",
      "0.81 0.83 0.487929666667\n",
      "0.81 0.85 0.487966\n",
      "0.81 0.87 0.487717\n",
      "0.81 0.89 0.487981\n",
      "0.81 0.91 0.487934333333\n",
      "0.81 0.93 0.487965666667\n",
      "0.83 0.75 0.487870666667\n",
      "0.83 0.77 0.487874333333\n",
      "0.83 0.79 0.487786333333\n",
      "0.83 0.81 0.487661666667\n",
      "0.83 0.83 0.487662333333\n",
      "0.83 0.85 0.487813\n",
      "0.83 0.87 0.487856\n",
      "0.83 0.89 0.487798333333\n",
      "0.83 0.91 0.487809\n",
      "0.83 0.93 0.487776666667\n",
      "0.85 0.75 0.487816666667\n",
      "0.85 0.77 0.487821333333\n",
      "0.85 0.79 0.487783333333\n",
      "0.85 0.81 0.487698333333\n",
      "0.85 0.83 0.487682333333\n",
      "0.85 0.85 0.487553333333\n",
      "0.85 0.87 0.48773\n",
      "0.85 0.89 0.487795\n",
      "0.85 0.91 0.487758666667\n",
      "0.85 0.93 0.487795333333\n",
      "0.87 0.75 0.487722\n",
      "0.87 0.77 0.487648666667\n",
      "0.87 0.79 0.487906333333\n",
      "0.87 0.81 0.487851666667\n",
      "0.87 0.83 0.487702\n",
      "0.87 0.85 0.487821333333\n",
      "0.87 0.87 0.487718333333\n",
      "0.87 0.89 0.487791333333\n",
      "0.87 0.91 0.487790666667\n",
      "0.87 0.93 0.488003666667\n",
      "0.89 0.75 0.487813333333\n",
      "0.89 0.77 0.487855\n",
      "0.89 0.79 0.487901666667\n",
      "0.89 0.81 0.487622\n",
      "0.89 0.83 0.487691333333\n",
      "0.89 0.85 0.487982666667\n",
      "0.89 0.87 0.487832\n",
      "0.89 0.89 0.487767\n",
      "0.89 0.91 0.487857333333\n",
      "0.89 0.93 0.487921\n",
      "0.91 0.75 0.487734\n",
      "0.91 0.77 0.487526\n",
      "0.91 0.79 0.487883333333\n",
      "0.91 0.81 0.487791\n",
      "0.91 0.83 0.487815333333\n",
      "0.91 0.85 0.487676333333\n",
      "0.91 0.87 0.487852\n",
      "0.91 0.89 0.487806\n",
      "0.91 0.91 0.487994666667\n",
      "0.91 0.93 0.48783\n",
      "0.93 0.75 0.487552\n",
      "0.93 0.77 0.487777\n",
      "0.93 0.79 0.487750666667\n",
      "0.93 0.81 0.487933666667\n",
      "0.93 0.83 0.487529333333\n",
      "0.93 0.85 0.487578666667\n",
      "0.93 0.87 0.487751333333\n",
      "0.93 0.89 0.487834\n",
      "0.93 0.91 0.487873333333\n",
      "0.93 0.93 0.487907666667\n",
      "=====\n",
      "0.91 0.77 0.487526\n"
     ]
    }
   ],
   "source": [
    "bst_ss = 0.98\n",
    "bst_cs = 0.94\n",
    "rs = rs_bin\n",
    "for i in np.arange(0.75,0.95,0.02):\n",
    "    for j in np.arange(0.75,0.95,0.02):\n",
    "        param = {\n",
    "            'eta':bst_eta,'max_depth':10,'subsample':i,'colsample_bytree':j,'lamdba':0.3,'alpha':0.9,\\\n",
    "            'min_child_weight':bst_child,'num_boost_round':300,'objective':'reg:linear','booster':'gbtree',\\\n",
    "            'tree_method':'hist','max_bin':bst_bin\n",
    "        }\n",
    "        hist = xgb.cv(param,dvtrain,300,metrics='rmse')['test-rmse-mean'].iloc[-1]\n",
    "        print(i,j,hist)\n",
    "        if hist<rs:\n",
    "            bst_ss = i\n",
    "            bst_cs = j\n",
    "            rs = hist\n",
    "rs_sscs = rs\n",
    "print('=====')\n",
    "print(bst_ss,bst_cs,rs_sscs)"
   ]
  },
  {
   "cell_type": "code",
   "execution_count": 53,
   "metadata": {},
   "outputs": [
    {
     "name": "stdout",
     "output_type": "stream",
     "text": [
      "6 0.492977333333\n",
      "7 0.490644333333\n",
      "8 0.48896\n",
      "9 0.487891666667\n",
      "10 0.487553333333\n",
      "11 0.488194\n",
      "12 0.488769333333\n",
      "13 0.490009333333\n",
      "14 0.491033666667\n",
      "15 0.492576333333\n",
      "16 0.494379666667\n",
      "17 0.495993\n",
      "18 0.497625666667\n",
      "19 0.498671\n",
      "=====\n",
      "10 0.487553333333\n"
     ]
    }
   ],
   "source": [
    "bst_depth = 10\n",
    "rs = rs_sscs\n",
    "for i in np.arange(6,20,1):\n",
    "    param = {\n",
    "            'eta':bst_eta,'max_depth':i,'subsample':bst_ss,'colsample_bytree':bst_cs,'lamdba':0.3,'alpha':0.9,\\\n",
    "            'min_child_weight':bst_child,'num_boost_round':300,'objective':'reg:linear','booster':'gbtree',\\\n",
    "            'tree_method':'hist','max_bin':bst_bin\n",
    "        }\n",
    "    hist = xgb.cv(param,dvtrain,300,metrics='rmse')['test-rmse-mean'].iloc[-1]\n",
    "    print(i,hist)\n",
    "    if hist<rs:\n",
    "        bst_depth = i\n",
    "        rs = hist\n",
    "rs_depth = rs\n",
    "print('=====')\n",
    "print(bst_depth,rs_depth)"
   ]
  },
  {
   "cell_type": "code",
   "execution_count": 59,
   "metadata": {},
   "outputs": [
    {
     "name": "stdout",
     "output_type": "stream",
     "text": [
      "0.494181712551\n"
     ]
    }
   ],
   "source": [
    "param = {\n",
    "            'eta':bst_eta,'max_depth':bst_depth,'subsample':bst_ss,'colsample_bytree':bst_cs,'lamdba':0.3,'alpha':0.9,\\\n",
    "            'min_child_weight':bst_child,'num_boost_round':300,'objective':'reg:linear','booster':'gbtree',\\\n",
    "            'tree_method':'hist','max_bin':bst_bin\n",
    "    }\n",
    "bst = xgb.train(param,dvtrain,300)\n",
    "preds = bst.predict(dvval)\n",
    "print(rmsle(vval.visitors.apply(np.log1p),preds))"
   ]
  },
  {
   "cell_type": "code",
   "execution_count": null,
   "metadata": {
    "collapsed": true
   },
   "outputs": [],
   "source": []
  },
  {
   "cell_type": "code",
   "execution_count": null,
   "metadata": {
    "collapsed": true
   },
   "outputs": [],
   "source": []
  },
  {
   "cell_type": "code",
   "execution_count": null,
   "metadata": {
    "collapsed": true
   },
   "outputs": [],
   "source": []
  },
  {
   "cell_type": "code",
   "execution_count": null,
   "metadata": {
    "collapsed": true
   },
   "outputs": [],
   "source": []
  },
  {
   "cell_type": "code",
   "execution_count": null,
   "metadata": {
    "collapsed": true
   },
   "outputs": [],
   "source": []
  },
  {
   "cell_type": "code",
   "execution_count": 60,
   "metadata": {
    "collapsed": true
   },
   "outputs": [],
   "source": [
    "param = {\n",
    "        'eta':bst_eta,'max_depth':bst_depth,'subsample':bst_ss,'colsample_bytree':bst_cs,'lamdba':0.3,'alpha':0.9,\\\n",
    "        'min_child_weight':bst_child,'num_boost_round':300,'objective':'reg:linear','booster':'gbtree',\\\n",
    "        'tree_method':'hist','max_bin':bst_bin\n",
    "    }\n",
    "bst = xgb.train(param,dtrain,300)\n",
    "preds = bst.predict(dtest)\n",
    "result = pd.concat([test[['id']].reset_index(drop=True),pd.Series(np.expm1(preds),name='visitors')],axis=1)"
   ]
  },
  {
   "cell_type": "code",
   "execution_count": 61,
   "metadata": {},
   "outputs": [
    {
     "data": {
      "text/html": [
       "<div>\n",
       "<style>\n",
       "    .dataframe thead tr:only-child th {\n",
       "        text-align: right;\n",
       "    }\n",
       "\n",
       "    .dataframe thead th {\n",
       "        text-align: left;\n",
       "    }\n",
       "\n",
       "    .dataframe tbody tr th {\n",
       "        vertical-align: top;\n",
       "    }\n",
       "</style>\n",
       "<table border=\"1\" class=\"dataframe\">\n",
       "  <thead>\n",
       "    <tr style=\"text-align: right;\">\n",
       "      <th></th>\n",
       "      <th>id</th>\n",
       "      <th>visitors</th>\n",
       "    </tr>\n",
       "  </thead>\n",
       "  <tbody>\n",
       "    <tr>\n",
       "      <th>0</th>\n",
       "      <td>air_00a91d42b08b08d9_2017-04-23</td>\n",
       "      <td>2.223294</td>\n",
       "    </tr>\n",
       "    <tr>\n",
       "      <th>1</th>\n",
       "      <td>air_00a91d42b08b08d9_2017-04-24</td>\n",
       "      <td>18.816980</td>\n",
       "    </tr>\n",
       "    <tr>\n",
       "      <th>2</th>\n",
       "      <td>air_00a91d42b08b08d9_2017-04-25</td>\n",
       "      <td>23.970587</td>\n",
       "    </tr>\n",
       "    <tr>\n",
       "      <th>3</th>\n",
       "      <td>air_00a91d42b08b08d9_2017-04-26</td>\n",
       "      <td>29.230278</td>\n",
       "    </tr>\n",
       "    <tr>\n",
       "      <th>4</th>\n",
       "      <td>air_00a91d42b08b08d9_2017-04-27</td>\n",
       "      <td>31.785595</td>\n",
       "    </tr>\n",
       "  </tbody>\n",
       "</table>\n",
       "</div>"
      ],
      "text/plain": [
       "                                id   visitors\n",
       "0  air_00a91d42b08b08d9_2017-04-23   2.223294\n",
       "1  air_00a91d42b08b08d9_2017-04-24  18.816980\n",
       "2  air_00a91d42b08b08d9_2017-04-25  23.970587\n",
       "3  air_00a91d42b08b08d9_2017-04-26  29.230278\n",
       "4  air_00a91d42b08b08d9_2017-04-27  31.785595"
      ]
     },
     "execution_count": 61,
     "metadata": {},
     "output_type": "execute_result"
    }
   ],
   "source": [
    "result.head()"
   ]
  },
  {
   "cell_type": "code",
   "execution_count": 62,
   "metadata": {
    "collapsed": true
   },
   "outputs": [],
   "source": [
    "result.to_csv('./subs/sub300r.csv',index=False)"
   ]
  },
  {
   "cell_type": "markdown",
   "metadata": {
    "collapsed": true
   },
   "source": [
    "## catboost"
   ]
  },
  {
   "cell_type": "code",
   "execution_count": 74,
   "metadata": {
    "collapsed": true
   },
   "outputs": [],
   "source": [
    "pool = catboost.Pool(vtrain.drop(['id','visitors','air_store_id','visit_date'\n",
    "                                   ,'holi_mean', 'nonholi_mean',\n",
    "                                  'dow_pattern_2016',\n",
    "                                  'dom_pattern_train_x', 'doy_pattern_2016'\n",
    "                                  ],axis=1),vtrain.visitors.apply(np.log1p))\n",
    "train_pool = catboost.Pool(train.drop(drop_col,axis=1),train.visitors.apply(np.log1p))\n",
    "test_pool = catboost.Pool(test.drop(drop_col,axis=1))"
   ]
  },
  {
   "cell_type": "code",
   "execution_count": 52,
   "metadata": {},
   "outputs": [
    {
     "name": "stdout",
     "output_type": "stream",
     "text": [
      "0.05 0.49940249849972335\n",
      "0.1 0.4946393970882652\n",
      "0.15 0.49247099034700414\n",
      "0.2 0.491381681592384\n",
      "0.25 0.4906182252386251\n",
      "0.3 0.49100669062455865\n",
      "0.35 0.4908675030704283\n",
      "0.4 0.4915717068554502\n",
      "0.45 0.49277033049957364\n",
      "0.5 0.4932182986791955\n",
      "0.55 0.494161747948939\n"
     ]
    }
   ],
   "source": [
    "for i in np.arange(0.05,0.6,0.05):\n",
    "    param_cat = {'iterations': 300, 'depth': 8, 'loss_function': 'RMSE','logging_level': 'Silent',\n",
    "             'learning_rate':i}\n",
    "    print(i,catboost.cv(params=param_cat,pool=pool)['RMSE_test_avg'][-1])"
   ]
  },
  {
   "cell_type": "code",
   "execution_count": 71,
   "metadata": {},
   "outputs": [
    {
     "name": "stdout",
     "output_type": "stream",
     "text": [
      "6 0.49337523204953193\n",
      "7 0.49196130374369\n",
      "8 0.49094420224646124\n",
      "9 0.49004943989390554\n",
      "10 0.48963997804781617\n",
      "11 0.4895608587001807\n",
      "12 0.48939564377409045\n",
      "13 0.4895885011545849\n",
      "14 0.48956469805133923\n",
      "15 0.4899796161383367\n"
     ]
    }
   ],
   "source": [
    "for i in np.arange(6,16,1).tolist():\n",
    "    param_cat = {'iterations': 300, 'depth': i, 'loss_function': 'RMSE','logging_level': 'Silent',\n",
    "             'learning_rate':0.25}\n",
    "    print(i,catboost.cv(params=param_cat,pool=pool)['RMSE_test_avg'][-1])"
   ]
  },
  {
   "cell_type": "code",
   "execution_count": 78,
   "metadata": {
    "collapsed": true
   },
   "outputs": [],
   "source": [
    "catboost.train?"
   ]
  },
  {
   "cell_type": "code",
   "execution_count": 79,
   "metadata": {},
   "outputs": [],
   "source": [
    "cat_param = {'iterations': 300, 'depth': 12, 'loss_function': 'RMSE','logging_level': 'Silent',\n",
    "             'learning_rate':0.25}\n",
    "cat = catboost.train(pool=train_pool,params=cat_param,iterations=300)"
   ]
  },
  {
   "cell_type": "code",
   "execution_count": 85,
   "metadata": {
    "collapsed": true
   },
   "outputs": [],
   "source": [
    "preds = cat.predict(test_pool)\n",
    "result_cat = pd.concat([test[['id']].reset_index(drop=True),pd.Series(np.expm1(preds),name='visitors_cat')],axis=1)"
   ]
  },
  {
   "cell_type": "code",
   "execution_count": 86,
   "metadata": {},
   "outputs": [
    {
     "data": {
      "text/html": [
       "<div>\n",
       "<style>\n",
       "    .dataframe thead tr:only-child th {\n",
       "        text-align: right;\n",
       "    }\n",
       "\n",
       "    .dataframe thead th {\n",
       "        text-align: left;\n",
       "    }\n",
       "\n",
       "    .dataframe tbody tr th {\n",
       "        vertical-align: top;\n",
       "    }\n",
       "</style>\n",
       "<table border=\"1\" class=\"dataframe\">\n",
       "  <thead>\n",
       "    <tr style=\"text-align: right;\">\n",
       "      <th></th>\n",
       "      <th>id</th>\n",
       "      <th>visitors_cat</th>\n",
       "    </tr>\n",
       "  </thead>\n",
       "  <tbody>\n",
       "    <tr>\n",
       "      <th>0</th>\n",
       "      <td>air_00a91d42b08b08d9_2017-04-23</td>\n",
       "      <td>3.721075</td>\n",
       "    </tr>\n",
       "    <tr>\n",
       "      <th>1</th>\n",
       "      <td>air_00a91d42b08b08d9_2017-04-24</td>\n",
       "      <td>19.788363</td>\n",
       "    </tr>\n",
       "    <tr>\n",
       "      <th>2</th>\n",
       "      <td>air_00a91d42b08b08d9_2017-04-25</td>\n",
       "      <td>20.599477</td>\n",
       "    </tr>\n",
       "    <tr>\n",
       "      <th>3</th>\n",
       "      <td>air_00a91d42b08b08d9_2017-04-26</td>\n",
       "      <td>29.202041</td>\n",
       "    </tr>\n",
       "    <tr>\n",
       "      <th>4</th>\n",
       "      <td>air_00a91d42b08b08d9_2017-04-27</td>\n",
       "      <td>32.146994</td>\n",
       "    </tr>\n",
       "  </tbody>\n",
       "</table>\n",
       "</div>"
      ],
      "text/plain": [
       "                                id  visitors_cat\n",
       "0  air_00a91d42b08b08d9_2017-04-23      3.721075\n",
       "1  air_00a91d42b08b08d9_2017-04-24     19.788363\n",
       "2  air_00a91d42b08b08d9_2017-04-25     20.599477\n",
       "3  air_00a91d42b08b08d9_2017-04-26     29.202041\n",
       "4  air_00a91d42b08b08d9_2017-04-27     32.146994"
      ]
     },
     "execution_count": 86,
     "metadata": {},
     "output_type": "execute_result"
    }
   ],
   "source": [
    "result_cat.head()"
   ]
  },
  {
   "cell_type": "code",
   "execution_count": 82,
   "metadata": {
    "collapsed": true
   },
   "outputs": [],
   "source": [
    "result.to_csv('./subs/sub300r.csv',index=False)"
   ]
  },
  {
   "cell_type": "markdown",
   "metadata": {},
   "source": [
    "## ensemble cat and xgb"
   ]
  },
  {
   "cell_type": "code",
   "execution_count": 84,
   "metadata": {
    "collapsed": true
   },
   "outputs": [],
   "source": [
    "param = {\n",
    "        'eta':0.06,'max_depth':10,'subsample':0.91,'colsample_bytree':0.77,'lamdba':0.3,'alpha':0.9,\\\n",
    "        'min_child_weight':34,'num_boost_round':300,'objective':'reg:linear','booster':'gbtree',\\\n",
    "        'tree_method':'hist','max_bin':150\n",
    "    }\n",
    "bst = xgb.train(param,dtrain,300)\n",
    "preds_xgb = bst.predict(dtest)\n",
    "result_xgb = pd.concat([test[['id']].reset_index(drop=True),pd.Series(np.expm1(preds_xgb),name='visitors_xgb')],axis=1)"
   ]
  },
  {
   "cell_type": "code",
   "execution_count": 87,
   "metadata": {},
   "outputs": [
    {
     "data": {
      "text/html": [
       "<div>\n",
       "<style>\n",
       "    .dataframe thead tr:only-child th {\n",
       "        text-align: right;\n",
       "    }\n",
       "\n",
       "    .dataframe thead th {\n",
       "        text-align: left;\n",
       "    }\n",
       "\n",
       "    .dataframe tbody tr th {\n",
       "        vertical-align: top;\n",
       "    }\n",
       "</style>\n",
       "<table border=\"1\" class=\"dataframe\">\n",
       "  <thead>\n",
       "    <tr style=\"text-align: right;\">\n",
       "      <th></th>\n",
       "      <th>id</th>\n",
       "      <th>visitors_xgb</th>\n",
       "    </tr>\n",
       "  </thead>\n",
       "  <tbody>\n",
       "    <tr>\n",
       "      <th>0</th>\n",
       "      <td>air_00a91d42b08b08d9_2017-04-23</td>\n",
       "      <td>2.223294</td>\n",
       "    </tr>\n",
       "    <tr>\n",
       "      <th>1</th>\n",
       "      <td>air_00a91d42b08b08d9_2017-04-24</td>\n",
       "      <td>18.816980</td>\n",
       "    </tr>\n",
       "    <tr>\n",
       "      <th>2</th>\n",
       "      <td>air_00a91d42b08b08d9_2017-04-25</td>\n",
       "      <td>23.970587</td>\n",
       "    </tr>\n",
       "    <tr>\n",
       "      <th>3</th>\n",
       "      <td>air_00a91d42b08b08d9_2017-04-26</td>\n",
       "      <td>29.230278</td>\n",
       "    </tr>\n",
       "    <tr>\n",
       "      <th>4</th>\n",
       "      <td>air_00a91d42b08b08d9_2017-04-27</td>\n",
       "      <td>31.785595</td>\n",
       "    </tr>\n",
       "  </tbody>\n",
       "</table>\n",
       "</div>"
      ],
      "text/plain": [
       "                                id  visitors_xgb\n",
       "0  air_00a91d42b08b08d9_2017-04-23      2.223294\n",
       "1  air_00a91d42b08b08d9_2017-04-24     18.816980\n",
       "2  air_00a91d42b08b08d9_2017-04-25     23.970587\n",
       "3  air_00a91d42b08b08d9_2017-04-26     29.230278\n",
       "4  air_00a91d42b08b08d9_2017-04-27     31.785595"
      ]
     },
     "execution_count": 87,
     "metadata": {},
     "output_type": "execute_result"
    }
   ],
   "source": [
    "result_xgb.head()"
   ]
  },
  {
   "cell_type": "code",
   "execution_count": 88,
   "metadata": {
    "collapsed": true
   },
   "outputs": [],
   "source": [
    "result = pd.merge(result_xgb,result_cat,how='inner',on='id')"
   ]
  },
  {
   "cell_type": "code",
   "execution_count": 92,
   "metadata": {},
   "outputs": [],
   "source": [
    "result['visitors'] = result['visitors_xgb']*0.6 + result['visitors_cat']*0.4"
   ]
  },
  {
   "cell_type": "code",
   "execution_count": 93,
   "metadata": {},
   "outputs": [
    {
     "data": {
      "text/html": [
       "<div>\n",
       "<style>\n",
       "    .dataframe thead tr:only-child th {\n",
       "        text-align: right;\n",
       "    }\n",
       "\n",
       "    .dataframe thead th {\n",
       "        text-align: left;\n",
       "    }\n",
       "\n",
       "    .dataframe tbody tr th {\n",
       "        vertical-align: top;\n",
       "    }\n",
       "</style>\n",
       "<table border=\"1\" class=\"dataframe\">\n",
       "  <thead>\n",
       "    <tr style=\"text-align: right;\">\n",
       "      <th></th>\n",
       "      <th>id</th>\n",
       "      <th>visitors_xgb</th>\n",
       "      <th>visitors_cat</th>\n",
       "      <th>visitors</th>\n",
       "    </tr>\n",
       "  </thead>\n",
       "  <tbody>\n",
       "    <tr>\n",
       "      <th>0</th>\n",
       "      <td>air_00a91d42b08b08d9_2017-04-23</td>\n",
       "      <td>2.223294</td>\n",
       "      <td>3.721075</td>\n",
       "      <td>2.822406</td>\n",
       "    </tr>\n",
       "    <tr>\n",
       "      <th>1</th>\n",
       "      <td>air_00a91d42b08b08d9_2017-04-24</td>\n",
       "      <td>18.816980</td>\n",
       "      <td>19.788363</td>\n",
       "      <td>19.205533</td>\n",
       "    </tr>\n",
       "    <tr>\n",
       "      <th>2</th>\n",
       "      <td>air_00a91d42b08b08d9_2017-04-25</td>\n",
       "      <td>23.970587</td>\n",
       "      <td>20.599477</td>\n",
       "      <td>22.622143</td>\n",
       "    </tr>\n",
       "    <tr>\n",
       "      <th>3</th>\n",
       "      <td>air_00a91d42b08b08d9_2017-04-26</td>\n",
       "      <td>29.230278</td>\n",
       "      <td>29.202041</td>\n",
       "      <td>29.218983</td>\n",
       "    </tr>\n",
       "    <tr>\n",
       "      <th>4</th>\n",
       "      <td>air_00a91d42b08b08d9_2017-04-27</td>\n",
       "      <td>31.785595</td>\n",
       "      <td>32.146994</td>\n",
       "      <td>31.930154</td>\n",
       "    </tr>\n",
       "  </tbody>\n",
       "</table>\n",
       "</div>"
      ],
      "text/plain": [
       "                                id  visitors_xgb  visitors_cat   visitors\n",
       "0  air_00a91d42b08b08d9_2017-04-23      2.223294      3.721075   2.822406\n",
       "1  air_00a91d42b08b08d9_2017-04-24     18.816980     19.788363  19.205533\n",
       "2  air_00a91d42b08b08d9_2017-04-25     23.970587     20.599477  22.622143\n",
       "3  air_00a91d42b08b08d9_2017-04-26     29.230278     29.202041  29.218983\n",
       "4  air_00a91d42b08b08d9_2017-04-27     31.785595     32.146994  31.930154"
      ]
     },
     "execution_count": 93,
     "metadata": {},
     "output_type": "execute_result"
    }
   ],
   "source": [
    "result.head()"
   ]
  },
  {
   "cell_type": "code",
   "execution_count": 94,
   "metadata": {
    "collapsed": true
   },
   "outputs": [],
   "source": [
    "result[['id','visitors']].to_csv('cat_xgb.csv',index=False)"
   ]
  },
  {
   "cell_type": "code",
   "execution_count": 101,
   "metadata": {},
   "outputs": [
    {
     "data": {
      "image/png": "[encoded data removed]",
      "text/plain": [
       "<matplotlib.figure.Figure at 0x17e227c7ef0>"
      ]
     },
     "metadata": {},
     "output_type": "display_data"
    }
   ],
   "source": [
    "result.iloc[4000:4100].visitors.plot();\n",
    "result.iloc[4000:4100].visitors_cat.plot();\n",
    "result.iloc[4000:4100].visitors_xgb.plot();"
   ]
  },
  {
   "cell_type": "markdown",
   "metadata": {},
   "source": [
    "# lightgbm"
   ]
  },
  {
   "cell_type": "code",
   "execution_count": 131,
   "metadata": {
    "collapsed": true
   },
   "outputs": [],
   "source": [
    "param_lgb = {\n",
    "    'learning_rate': 0.02,\n",
    "    'boosting_type': 'gbdt',\n",
    "    'objective': 'regression',\n",
    "    'metric': 'rmse',\n",
    "    'sub_feature': 0.7,\n",
    "    'num_leaves': 60,\n",
    "    'min_data': 100,\n",
    "    'min_hessian': 1,\n",
    "}\n",
    "vtrain_lgb = lgb.Dataset(vtrain.drop(['id','visitors','air_store_id','visit_date'\n",
    "                                   ,'holi_mean', 'nonholi_mean',\n",
    "                                  'dow_pattern_2016',\n",
    "                                  'dom_pattern_train_x', 'doy_pattern_2016'\n",
    "                                  ],axis=1),vtrain.visitors.apply(np.log1p))"
   ]
  },
  {
   "cell_type": "code",
   "execution_count": 134,
   "metadata": {},
   "outputs": [
    {
     "data": {
      "text/plain": [
       "{}"
      ]
     },
     "execution_count": 134,
     "metadata": {},
     "output_type": "execute_result"
    }
   ],
   "source": [
    "lgb.cv(params=param_lgb,train_set=vtrain_lgb,shuffle=False,num_boost_round=300,\n",
    "       metrics='rsme',stratified=False)"
   ]
  },
  {
   "cell_type": "code",
   "execution_count": 129,
   "metadata": {},
   "outputs": [
    {
     "data": {
      "text/plain": [
       "array([ 1.2732476 ,  2.7678591 ,  2.93612149, ...,  1.68900961,\n",
       "        1.71955372,  1.71955372])"
      ]
     },
     "execution_count": 129,
     "metadata": {},
     "output_type": "execute_result"
    }
   ],
   "source": [
    "lgb_model = lgb.train(params=param_lgb,train_set=vtrain_lgb)\n",
    "lgb_model.predict(test.drop(drop_col,axis=1))"
   ]
  },
  {
   "cell_type": "code",
   "execution_count": 130,
   "metadata": {
    "collapsed": true
   },
   "outputs": [],
   "source": [
    "lgb.cv?"
   ]
  },
  {
   "cell_type": "code",
   "execution_count": null,
   "metadata": {
    "collapsed": true
   },
   "outputs": [],
   "source": []
  }
 ],
 "metadata": {
  "kernelspec": {
   "display_name": "Python 3",
   "language": "python",
   "name": "python3"
  },
  "language_info": {
   "codemirror_mode": {
    "name": "ipython",
    "version": 3
   },
   "file_extension": ".py",
   "mimetype": "text/x-python",
   "name": "python",
   "nbconvert_exporter": "python",
   "pygments_lexer": "ipython3",
   "version": "3.6.3"
  }
 },
 "nbformat": 4,
 "nbformat_minor": 2
}
